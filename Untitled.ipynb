{
 "cells": [
  {
   "cell_type": "code",
   "execution_count": 1,
   "id": "2963ddfc",
   "metadata": {},
   "outputs": [],
   "source": [
    "import numpy as np\n",
    "import pandas as pd"
   ]
  },
  {
   "cell_type": "code",
   "execution_count": 2,
   "id": "313f8c65",
   "metadata": {},
   "outputs": [],
   "source": [
    "df = pd.read_csv('data_for_stance_prediction.csv', index_col=0)"
   ]
  },
  {
   "cell_type": "code",
   "execution_count": 3,
   "id": "62e552a0",
   "metadata": {},
   "outputs": [
    {
     "data": {
      "text/html": [
       "<div>\n",
       "<style scoped>\n",
       "    .dataframe tbody tr th:only-of-type {\n",
       "        vertical-align: middle;\n",
       "    }\n",
       "\n",
       "    .dataframe tbody tr th {\n",
       "        vertical-align: top;\n",
       "    }\n",
       "\n",
       "    .dataframe thead th {\n",
       "        text-align: right;\n",
       "    }\n",
       "</style>\n",
       "<table border=\"1\" class=\"dataframe\">\n",
       "  <thead>\n",
       "    <tr style=\"text-align: right;\">\n",
       "      <th></th>\n",
       "      <th>tweetId</th>\n",
       "      <th>renderedContent</th>\n",
       "      <th>split_tweet</th>\n",
       "    </tr>\n",
       "  </thead>\n",
       "  <tbody>\n",
       "    <tr>\n",
       "      <th>1</th>\n",
       "      <td>1.376739e+18</td>\n",
       "      <td>Supporting farmers means supporting our countr...</td>\n",
       "      <td>['Supporting', 'farmers', 'means', 'supporting...</td>\n",
       "    </tr>\n",
       "    <tr>\n",
       "      <th>2</th>\n",
       "      <td>1.376739e+18</td>\n",
       "      <td>Support farmers if you are related to food #St...</td>\n",
       "      <td>['Support', 'farmers', 'if', 'you', 'are', 're...</td>\n",
       "    </tr>\n",
       "    <tr>\n",
       "      <th>3</th>\n",
       "      <td>1.376739e+18</td>\n",
       "      <td>#StopHateAgainstFarmers support #FarmersProtes...</td>\n",
       "      <td>['#StopHateAgainstFarmers', 'support', '#Farme...</td>\n",
       "    </tr>\n",
       "    <tr>\n",
       "      <th>4</th>\n",
       "      <td>1.376739e+18</td>\n",
       "      <td>You hate farmers I hate you,  if you love them...</td>\n",
       "      <td>['You', 'hate', 'farmers', 'I', 'hate', 'you,'...</td>\n",
       "    </tr>\n",
       "    <tr>\n",
       "      <th>5</th>\n",
       "      <td>1.376738e+18</td>\n",
       "      <td>They can't be farmers. Looks like Gundas are h...</td>\n",
       "      <td>['They', \"can't\", 'be', 'farmers.', 'Looks', '...</td>\n",
       "    </tr>\n",
       "  </tbody>\n",
       "</table>\n",
       "</div>"
      ],
      "text/plain": [
       "        tweetId                                    renderedContent  \\\n",
       "1  1.376739e+18  Supporting farmers means supporting our countr...   \n",
       "2  1.376739e+18  Support farmers if you are related to food #St...   \n",
       "3  1.376739e+18  #StopHateAgainstFarmers support #FarmersProtes...   \n",
       "4  1.376739e+18  You hate farmers I hate you,  if you love them...   \n",
       "5  1.376738e+18  They can't be farmers. Looks like Gundas are h...   \n",
       "\n",
       "                                         split_tweet  \n",
       "1  ['Supporting', 'farmers', 'means', 'supporting...  \n",
       "2  ['Support', 'farmers', 'if', 'you', 'are', 're...  \n",
       "3  ['#StopHateAgainstFarmers', 'support', '#Farme...  \n",
       "4  ['You', 'hate', 'farmers', 'I', 'hate', 'you,'...  \n",
       "5  ['They', \"can't\", 'be', 'farmers.', 'Looks', '...  "
      ]
     },
     "execution_count": 3,
     "metadata": {},
     "output_type": "execute_result"
    }
   ],
   "source": [
    "df.head()"
   ]
  },
  {
   "cell_type": "code",
   "execution_count": 4,
   "id": "8a79b772",
   "metadata": {},
   "outputs": [],
   "source": [
    "df.drop(['split_tweet'], inplace=True, axis=1)"
   ]
  },
  {
   "cell_type": "code",
   "execution_count": 5,
   "id": "c14d2ee6",
   "metadata": {},
   "outputs": [
    {
     "data": {
      "text/html": [
       "<div>\n",
       "<style scoped>\n",
       "    .dataframe tbody tr th:only-of-type {\n",
       "        vertical-align: middle;\n",
       "    }\n",
       "\n",
       "    .dataframe tbody tr th {\n",
       "        vertical-align: top;\n",
       "    }\n",
       "\n",
       "    .dataframe thead th {\n",
       "        text-align: right;\n",
       "    }\n",
       "</style>\n",
       "<table border=\"1\" class=\"dataframe\">\n",
       "  <thead>\n",
       "    <tr style=\"text-align: right;\">\n",
       "      <th></th>\n",
       "      <th>tweetId</th>\n",
       "      <th>renderedContent</th>\n",
       "    </tr>\n",
       "  </thead>\n",
       "  <tbody>\n",
       "    <tr>\n",
       "      <th>1</th>\n",
       "      <td>1.376739e+18</td>\n",
       "      <td>Supporting farmers means supporting our countr...</td>\n",
       "    </tr>\n",
       "    <tr>\n",
       "      <th>2</th>\n",
       "      <td>1.376739e+18</td>\n",
       "      <td>Support farmers if you are related to food #St...</td>\n",
       "    </tr>\n",
       "    <tr>\n",
       "      <th>3</th>\n",
       "      <td>1.376739e+18</td>\n",
       "      <td>#StopHateAgainstFarmers support #FarmersProtes...</td>\n",
       "    </tr>\n",
       "    <tr>\n",
       "      <th>4</th>\n",
       "      <td>1.376739e+18</td>\n",
       "      <td>You hate farmers I hate you,  if you love them...</td>\n",
       "    </tr>\n",
       "    <tr>\n",
       "      <th>5</th>\n",
       "      <td>1.376738e+18</td>\n",
       "      <td>They can't be farmers. Looks like Gundas are h...</td>\n",
       "    </tr>\n",
       "  </tbody>\n",
       "</table>\n",
       "</div>"
      ],
      "text/plain": [
       "        tweetId                                    renderedContent\n",
       "1  1.376739e+18  Supporting farmers means supporting our countr...\n",
       "2  1.376739e+18  Support farmers if you are related to food #St...\n",
       "3  1.376739e+18  #StopHateAgainstFarmers support #FarmersProtes...\n",
       "4  1.376739e+18  You hate farmers I hate you,  if you love them...\n",
       "5  1.376738e+18  They can't be farmers. Looks like Gundas are h..."
      ]
     },
     "execution_count": 5,
     "metadata": {},
     "output_type": "execute_result"
    }
   ],
   "source": [
    "df.head()"
   ]
  },
  {
   "cell_type": "code",
   "execution_count": 209,
   "id": "19289353",
   "metadata": {},
   "outputs": [],
   "source": [
    "sample_1 = df.sample(n=2000, random_state=1)\n",
    "sample_2 = df.sample(n=2000, random_state = 49)\n",
    "sample_3 = df.sample(n=2000, random_state = 99)\n",
    "sample_4 = df.sample(n=2000, random_state = 35)\n",
    "sample_5 = df.sample(n=2000, random_state = 64)\n",
    "sample_6 = df.sample(n=2000, random_state = 85)"
   ]
  },
  {
   "cell_type": "code",
   "execution_count": 210,
   "id": "95cb4150",
   "metadata": {},
   "outputs": [],
   "source": [
    "sample_1['stance'] = ['NONE' for _ in sample_1.renderedContent]\n",
    "sample_2['stance'] = ['NONE' for _ in sample_2.renderedContent]\n",
    "sample_3['stance'] = ['NONE' for _ in sample_3.renderedContent]\n",
    "sample_4['stance'] = ['NONE' for _ in sample_4.renderedContent]\n",
    "sample_5['stance'] = ['NONE' for _ in sample_5.renderedContent]\n",
    "sample_6['stance'] = ['NONE' for _ in sample_6.renderedContent]"
   ]
  },
  {
   "cell_type": "code",
   "execution_count": 211,
   "id": "b81f4ec5",
   "metadata": {},
   "outputs": [
    {
     "data": {
      "text/html": [
       "<div>\n",
       "<style scoped>\n",
       "    .dataframe tbody tr th:only-of-type {\n",
       "        vertical-align: middle;\n",
       "    }\n",
       "\n",
       "    .dataframe tbody tr th {\n",
       "        vertical-align: top;\n",
       "    }\n",
       "\n",
       "    .dataframe thead th {\n",
       "        text-align: right;\n",
       "    }\n",
       "</style>\n",
       "<table border=\"1\" class=\"dataframe\">\n",
       "  <thead>\n",
       "    <tr style=\"text-align: right;\">\n",
       "      <th></th>\n",
       "      <th>tweetId</th>\n",
       "      <th>renderedContent</th>\n",
       "      <th>stance</th>\n",
       "    </tr>\n",
       "  </thead>\n",
       "  <tbody>\n",
       "    <tr>\n",
       "      <th>459629</th>\n",
       "      <td>1.353580e+18</td>\n",
       "      <td>LoL this tactic should have been tried much be...</td>\n",
       "      <td>NONE</td>\n",
       "    </tr>\n",
       "    <tr>\n",
       "      <th>532013</th>\n",
       "      <td>1.340690e+18</td>\n",
       "      <td>Farmers Protest in Delhi | Giant Panther #Farm...</td>\n",
       "      <td>NONE</td>\n",
       "    </tr>\n",
       "    <tr>\n",
       "      <th>124246</th>\n",
       "      <td>1.361543e+18</td>\n",
       "      <td>We stand with farmers  #RememberSirChhotuRamIn...</td>\n",
       "      <td>NONE</td>\n",
       "    </tr>\n",
       "    <tr>\n",
       "      <th>652596</th>\n",
       "      <td>1.331990e+18</td>\n",
       "      <td>today is indian constitution day and farmers...</td>\n",
       "      <td>NONE</td>\n",
       "    </tr>\n",
       "    <tr>\n",
       "      <th>437977</th>\n",
       "      <td>1.354480e+18</td>\n",
       "      <td>Kuch yaad aya?  Ravi Nair () Tweeted: Yeh inq...</td>\n",
       "      <td>NONE</td>\n",
       "    </tr>\n",
       "  </tbody>\n",
       "</table>\n",
       "</div>"
      ],
      "text/plain": [
       "             tweetId                                    renderedContent stance\n",
       "459629  1.353580e+18  LoL this tactic should have been tried much be...   NONE\n",
       "532013  1.340690e+18  Farmers Protest in Delhi | Giant Panther #Farm...   NONE\n",
       "124246  1.361543e+18  We stand with farmers  #RememberSirChhotuRamIn...   NONE\n",
       "652596  1.331990e+18    today is indian constitution day and farmers...   NONE\n",
       "437977  1.354480e+18   Kuch yaad aya?  Ravi Nair () Tweeted: Yeh inq...   NONE"
      ]
     },
     "execution_count": 211,
     "metadata": {},
     "output_type": "execute_result"
    }
   ],
   "source": [
    "ss_df = pd.concat([sample_1, sample_2, sample_3, sample_4, sample_5, sample_6])\n",
    "ss_df.head()"
   ]
  },
  {
   "cell_type": "code",
   "execution_count": 212,
   "id": "b64f15ad",
   "metadata": {},
   "outputs": [],
   "source": [
    "ss_df.drop_duplicates(subset='renderedContent', inplace = True)"
   ]
  },
  {
   "cell_type": "code",
   "execution_count": 213,
   "id": "2ed4194f",
   "metadata": {},
   "outputs": [
    {
     "data": {
      "text/plain": [
       "11864"
      ]
     },
     "execution_count": 213,
     "metadata": {},
     "output_type": "execute_result"
    }
   ],
   "source": [
    "len(ss_df)"
   ]
  },
  {
   "cell_type": "code",
   "execution_count": 214,
   "id": "1b43972d",
   "metadata": {},
   "outputs": [],
   "source": [
    "sample_1.to_csv('sample_1.csv', encoding='utf-8-sig')\n",
    "sample_2.to_csv('sample_2.csv', encoding='utf-8-sig')\n",
    "sample_3.to_csv('sample_3.csv', encoding='utf-8-sig')\n",
    "sample_4.to_csv('sample_4.csv', encoding='utf-8-sig')\n",
    "sample_5.to_csv('sample_5.csv', encoding='utf-8-sig')\n",
    "sample_6.to_csv('sample_6.csv', encoding='utf-8-sig')"
   ]
  },
  {
   "cell_type": "code",
   "execution_count": null,
   "id": "b1beb8c4",
   "metadata": {},
   "outputs": [],
   "source": []
  }
 ],
 "metadata": {
  "kernelspec": {
   "display_name": "Python 3 (ipykernel)",
   "language": "python",
   "name": "python3"
  },
  "language_info": {
   "codemirror_mode": {
    "name": "ipython",
    "version": 3
   },
   "file_extension": ".py",
   "mimetype": "text/x-python",
   "name": "python",
   "nbconvert_exporter": "python",
   "pygments_lexer": "ipython3",
   "version": "3.9.7"
  }
 },
 "nbformat": 4,
 "nbformat_minor": 5
}
