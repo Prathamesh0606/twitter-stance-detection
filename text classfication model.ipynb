{
 "cells": [
  {
   "cell_type": "code",
   "execution_count": 1,
   "id": "0de0151d",
   "metadata": {},
   "outputs": [],
   "source": [
    "from fastai import *\n",
    "import fastai\n",
    "from fastai.text.all import *\n",
    "# from fastai.text import *\n",
    "# from fastai.test_utils import *\n",
    "from pathlib import Path\n",
    "import pandas as pd\n",
    "import numpy as np\n",
    "import re"
   ]
  },
  {
   "cell_type": "code",
   "execution_count": 2,
   "id": "8a625438",
   "metadata": {},
   "outputs": [
    {
     "data": {
      "text/plain": [
       "True"
      ]
     },
     "execution_count": 2,
     "metadata": {},
     "output_type": "execute_result"
    }
   ],
   "source": [
    "import torch\n",
    "torch.cuda.is_available()"
   ]
  },
  {
   "cell_type": "code",
   "execution_count": 3,
   "id": "70e60120",
   "metadata": {},
   "outputs": [],
   "source": [
    "path = Path('./data')\n",
    "path_lang_model = Path('./data/lang_model_data')\n",
    "\n",
    "# sample2 = pd.read_csv(path/'sampl.csv')\n",
    "# sample3 = pd.read_csv(path/'sample_3.csv')"
   ]
  },
  {
   "cell_type": "code",
   "execution_count": 4,
   "id": "b409540b",
   "metadata": {},
   "outputs": [],
   "source": [
    "sample1 = pd.read_csv(path/'sample_1.csv')"
   ]
  },
  {
   "cell_type": "code",
   "execution_count": 5,
   "id": "7eb35e7a",
   "metadata": {},
   "outputs": [
    {
     "name": "stderr",
     "output_type": "stream",
     "text": [
      "/tmp/ipykernel_11143/327552301.py:1: SettingWithCopyWarning: \n",
      "A value is trying to be set on a copy of a slice from a DataFrame\n",
      "\n",
      "See the caveats in the documentation: https://pandas.pydata.org/pandas-docs/stable/user_guide/indexing.html#returning-a-view-versus-a-copy\n",
      "  sample1['stance'][0] = 'A'\n"
     ]
    }
   ],
   "source": [
    "sample1['stance'][0] = 'A'\n",
    "sample1['stance'].fillna('N', inplace=True)\n",
    "sample1=sample1.iloc[:, 1:]"
   ]
  },
  {
   "cell_type": "code",
   "execution_count": 6,
   "id": "7baf290b",
   "metadata": {},
   "outputs": [
    {
     "data": {
      "text/plain": [
       "0"
      ]
     },
     "execution_count": 6,
     "metadata": {},
     "output_type": "execute_result"
    }
   ],
   "source": [
    "sample1['stance'].isnull().sum()"
   ]
  },
  {
   "cell_type": "code",
   "execution_count": 7,
   "id": "8c66efa4",
   "metadata": {},
   "outputs": [],
   "source": [
    "sample2 = pd.read_csv(path/'sample_2_-_sample_2.csv', encoding='utf-8')\n",
    "sample2 = sample2.iloc[:, 1:]\n",
    "sample2.columns = ['tweetId','renderedContent','stance']"
   ]
  },
  {
   "cell_type": "code",
   "execution_count": 8,
   "id": "0f3bb0ae",
   "metadata": {},
   "outputs": [],
   "source": [
    "sample3 = pd.read_csv(path/'sample_3final.csv', encoding='utf-8')\n",
    "sample3 = sample3.iloc[:, 1:]"
   ]
  },
  {
   "cell_type": "code",
   "execution_count": 9,
   "id": "5d65086b",
   "metadata": {},
   "outputs": [
    {
     "data": {
      "text/html": [
       "<div>\n",
       "<style scoped>\n",
       "    .dataframe tbody tr th:only-of-type {\n",
       "        vertical-align: middle;\n",
       "    }\n",
       "\n",
       "    .dataframe tbody tr th {\n",
       "        vertical-align: top;\n",
       "    }\n",
       "\n",
       "    .dataframe thead th {\n",
       "        text-align: right;\n",
       "    }\n",
       "</style>\n",
       "<table border=\"1\" class=\"dataframe\">\n",
       "  <thead>\n",
       "    <tr style=\"text-align: right;\">\n",
       "      <th></th>\n",
       "      <th>tweetId</th>\n",
       "      <th>renderedContent</th>\n",
       "      <th>stance</th>\n",
       "    </tr>\n",
       "  </thead>\n",
       "  <tbody>\n",
       "    <tr>\n",
       "      <th>0</th>\n",
       "      <td>1.360000e+18</td>\n",
       "      <td>I wonder those who brought day 3/4/5 tickets, are they going to be reimbursed or is Modi going to take that money and invest it in more barricades against the farmers 🤔 #FarmersProtest #INDvsENG #NarendraModiStadium #ModiTerrorist</td>\n",
       "      <td>F</td>\n",
       "    </tr>\n",
       "    <tr>\n",
       "      <th>1</th>\n",
       "      <td>1.330000e+18</td>\n",
       "      <td>I really want to get into independent journalism pained at seeing the distorted coverage by the paid so-called mainstream news outlets😢  Will their sleeping conscience ever wake up?  #SaveDemocracy #GodiMedia #FarmersProtest</td>\n",
       "      <td>F</td>\n",
       "    </tr>\n",
       "    <tr>\n",
       "      <th>2</th>\n",
       "      <td>1.340000e+18</td>\n",
       "      <td>It's for everyone's good  #WeUnitedForFarmers #FarmersProtest    Repeal black farm laws …</td>\n",
       "      <td>F</td>\n",
       "    </tr>\n",
       "    <tr>\n",
       "      <th>3</th>\n",
       "      <td>1.410000e+18</td>\n",
       "      <td>No farmers , no food ! #मोदी_ही_डकैत_है #FarmersProtest …</td>\n",
       "      <td>F</td>\n",
       "    </tr>\n",
       "    <tr>\n",
       "      <th>4</th>\n",
       "      <td>1.350000e+18</td>\n",
       "      <td>The farmer unions are likely to announce the cancellation of the march to #Parliament on February 1 | #FarmersProtest   …</td>\n",
       "      <td>N</td>\n",
       "    </tr>\n",
       "  </tbody>\n",
       "</table>\n",
       "</div>"
      ],
      "text/plain": [
       "        tweetId  \\\n",
       "0  1.360000e+18   \n",
       "1  1.330000e+18   \n",
       "2  1.340000e+18   \n",
       "3  1.410000e+18   \n",
       "4  1.350000e+18   \n",
       "\n",
       "                                                                                                                                                                                                                          renderedContent  \\\n",
       "0  I wonder those who brought day 3/4/5 tickets, are they going to be reimbursed or is Modi going to take that money and invest it in more barricades against the farmers 🤔 #FarmersProtest #INDvsENG #NarendraModiStadium #ModiTerrorist   \n",
       "1        I really want to get into independent journalism pained at seeing the distorted coverage by the paid so-called mainstream news outlets😢  Will their sleeping conscience ever wake up?  #SaveDemocracy #GodiMedia #FarmersProtest   \n",
       "2                                                                                                                                               It's for everyone's good  #WeUnitedForFarmers #FarmersProtest    Repeal black farm laws …   \n",
       "3                                                                                                                                                                               No farmers , no food ! #मोदी_ही_डकैत_है #FarmersProtest …   \n",
       "4                                                                                                               The farmer unions are likely to announce the cancellation of the march to #Parliament on February 1 | #FarmersProtest   …   \n",
       "\n",
       "  stance  \n",
       "0      F  \n",
       "1      F  \n",
       "2      F  \n",
       "3      F  \n",
       "4      N  "
      ]
     },
     "execution_count": 9,
     "metadata": {},
     "output_type": "execute_result"
    }
   ],
   "source": [
    "sample3.head()"
   ]
  },
  {
   "cell_type": "code",
   "execution_count": 10,
   "id": "c0ca8aac",
   "metadata": {},
   "outputs": [
    {
     "data": {
      "text/html": [
       "<div>\n",
       "<style scoped>\n",
       "    .dataframe tbody tr th:only-of-type {\n",
       "        vertical-align: middle;\n",
       "    }\n",
       "\n",
       "    .dataframe tbody tr th {\n",
       "        vertical-align: top;\n",
       "    }\n",
       "\n",
       "    .dataframe thead th {\n",
       "        text-align: right;\n",
       "    }\n",
       "</style>\n",
       "<table border=\"1\" class=\"dataframe\">\n",
       "  <thead>\n",
       "    <tr style=\"text-align: right;\">\n",
       "      <th></th>\n",
       "      <th>tweetId</th>\n",
       "      <th>renderedContent</th>\n",
       "      <th>stance</th>\n",
       "    </tr>\n",
       "  </thead>\n",
       "  <tbody>\n",
       "    <tr>\n",
       "      <th>0</th>\n",
       "      <td>1.41E+18</td>\n",
       "      <td>India needs a govt of law not of a man   repeal the bills  #FarmersProtest_AtParliament #FarmersProtest</td>\n",
       "      <td>F</td>\n",
       "    </tr>\n",
       "    <tr>\n",
       "      <th>1</th>\n",
       "      <td>1.38E+18</td>\n",
       "      <td>That's how corporates and govt. together looting the farmers  #FarmersProtest  #Modi_Sold_Farmers  #Modi_MSP_DO …</td>\n",
       "      <td>F</td>\n",
       "    </tr>\n",
       "    <tr>\n",
       "      <th>2</th>\n",
       "      <td>1.42E+18</td>\n",
       "      <td>Every tweet  Every rt Every post matters  Please keep supporting farmers   #FarmersProtest</td>\n",
       "      <td>F</td>\n",
       "    </tr>\n",
       "    <tr>\n",
       "      <th>3</th>\n",
       "      <td>1.36E+18</td>\n",
       "      <td>Millions and Millions of lives Don’t matter , Farmers lives are less important to BJP They just want to Sell us OUT                #RepealOnlyWayAhead #FarmersProtest #RepealOnlyWayAhead</td>\n",
       "      <td>F</td>\n",
       "    </tr>\n",
       "    <tr>\n",
       "      <th>4</th>\n",
       "      <td>1.36E+18</td>\n",
       "      <td>Repeal black farm laws  #FencingLikeChinaPak #FarmersProtest …</td>\n",
       "      <td>F</td>\n",
       "    </tr>\n",
       "  </tbody>\n",
       "</table>\n",
       "</div>"
      ],
      "text/plain": [
       "    tweetId  \\\n",
       "0  1.41E+18   \n",
       "1  1.38E+18   \n",
       "2  1.42E+18   \n",
       "3  1.36E+18   \n",
       "4  1.36E+18   \n",
       "\n",
       "                                                                                                                                                                               renderedContent  \\\n",
       "0                                                                                      India needs a govt of law not of a man   repeal the bills  #FarmersProtest_AtParliament #FarmersProtest   \n",
       "1                                                                            That's how corporates and govt. together looting the farmers  #FarmersProtest  #Modi_Sold_Farmers  #Modi_MSP_DO …   \n",
       "2                                                                                                   Every tweet  Every rt Every post matters  Please keep supporting farmers   #FarmersProtest   \n",
       "3  Millions and Millions of lives Don’t matter , Farmers lives are less important to BJP They just want to Sell us OUT                #RepealOnlyWayAhead #FarmersProtest #RepealOnlyWayAhead    \n",
       "4                                                                                                                               Repeal black farm laws  #FencingLikeChinaPak #FarmersProtest …   \n",
       "\n",
       "  stance  \n",
       "0      F  \n",
       "1      F  \n",
       "2      F  \n",
       "3      F  \n",
       "4      F  "
      ]
     },
     "execution_count": 10,
     "metadata": {},
     "output_type": "execute_result"
    }
   ],
   "source": [
    "sample2.head()"
   ]
  },
  {
   "cell_type": "code",
   "execution_count": 11,
   "id": "9ff50905",
   "metadata": {},
   "outputs": [
    {
     "data": {
      "text/html": [
       "<div>\n",
       "<style scoped>\n",
       "    .dataframe tbody tr th:only-of-type {\n",
       "        vertical-align: middle;\n",
       "    }\n",
       "\n",
       "    .dataframe tbody tr th {\n",
       "        vertical-align: top;\n",
       "    }\n",
       "\n",
       "    .dataframe thead th {\n",
       "        text-align: right;\n",
       "    }\n",
       "</style>\n",
       "<table border=\"1\" class=\"dataframe\">\n",
       "  <thead>\n",
       "    <tr style=\"text-align: right;\">\n",
       "      <th></th>\n",
       "      <th>tweetId</th>\n",
       "      <th>renderedContent</th>\n",
       "      <th>stance</th>\n",
       "    </tr>\n",
       "  </thead>\n",
       "  <tbody>\n",
       "    <tr>\n",
       "      <th>0</th>\n",
       "      <td>1.350000e+18</td>\n",
       "      <td>LoL this tactic should have been tried much before, the 'kisan' committies are not united as they seem. Fake #FarmersProtest …</td>\n",
       "      <td>A</td>\n",
       "    </tr>\n",
       "    <tr>\n",
       "      <th>1</th>\n",
       "      <td>1.340000e+18</td>\n",
       "      <td>Farmers Protest in Delhi | Giant Panther #FarmersProtest #Agriculture #VivasayigalPorattam #AgricultureBill2020 #AgricultureOrdinance #FarmerProtestDelhi #GiantPanther #AnjaneyaProductions 1otWgWA</td>\n",
       "      <td>A</td>\n",
       "    </tr>\n",
       "    <tr>\n",
       "      <th>2</th>\n",
       "      <td>1.360000e+18</td>\n",
       "      <td>We stand with farmers  #RememberSirChhotuRamInModiEra #FarmersProtest</td>\n",
       "      <td>N</td>\n",
       "    </tr>\n",
       "    <tr>\n",
       "      <th>3</th>\n",
       "      <td>1.330000e+18</td>\n",
       "      <td>today is indian constitution day and farmers doing protest. i support farmers. #FarmersProtest</td>\n",
       "      <td>F</td>\n",
       "    </tr>\n",
       "    <tr>\n",
       "      <th>4</th>\n",
       "      <td>1.350000e+18</td>\n",
       "      <td>Kuch yaad aya?  Ravi Nair () Tweeted: Yeh inquilab hai sir. This is a revolution...👇 #FarmersProtest    (…)</td>\n",
       "      <td>F</td>\n",
       "    </tr>\n",
       "  </tbody>\n",
       "</table>\n",
       "</div>"
      ],
      "text/plain": [
       "        tweetId  \\\n",
       "0  1.350000e+18   \n",
       "1  1.340000e+18   \n",
       "2  1.360000e+18   \n",
       "3  1.330000e+18   \n",
       "4  1.350000e+18   \n",
       "\n",
       "                                                                                                                                                                                        renderedContent  \\\n",
       "0                                                                        LoL this tactic should have been tried much before, the 'kisan' committies are not united as they seem. Fake #FarmersProtest …   \n",
       "1  Farmers Protest in Delhi | Giant Panther #FarmersProtest #Agriculture #VivasayigalPorattam #AgricultureBill2020 #AgricultureOrdinance #FarmerProtestDelhi #GiantPanther #AnjaneyaProductions 1otWgWA   \n",
       "2                                                                                                                                We stand with farmers  #RememberSirChhotuRamInModiEra #FarmersProtest    \n",
       "3                                                                                                        today is indian constitution day and farmers doing protest. i support farmers. #FarmersProtest   \n",
       "4                                                                                           Kuch yaad aya?  Ravi Nair () Tweeted: Yeh inquilab hai sir. This is a revolution...👇 #FarmersProtest    (…)   \n",
       "\n",
       "  stance  \n",
       "0      A  \n",
       "1      A  \n",
       "2      N  \n",
       "3      F  \n",
       "4      F  "
      ]
     },
     "execution_count": 11,
     "metadata": {},
     "output_type": "execute_result"
    }
   ],
   "source": [
    "sample1.head()"
   ]
  },
  {
   "cell_type": "code",
   "execution_count": 12,
   "id": "2bde16f4",
   "metadata": {},
   "outputs": [
    {
     "data": {
      "text/plain": [
       "F    1315\n",
       "N     512\n",
       "A     164\n",
       "S       3\n",
       "T       2\n",
       "y       1\n",
       "P       1\n",
       "t       1\n",
       "s       1\n",
       "Name: stance, dtype: int64"
      ]
     },
     "execution_count": 12,
     "metadata": {},
     "output_type": "execute_result"
    }
   ],
   "source": [
    "sample1['stance'].value_counts()"
   ]
  },
  {
   "cell_type": "code",
   "execution_count": 13,
   "id": "a13151c9",
   "metadata": {},
   "outputs": [],
   "source": [
    "def rename_stance(stance):\n",
    "    if stance == 'F':\n",
    "        return 'F'\n",
    "    elif stance == 'A':\n",
    "        return 'A'\n",
    "    else:\n",
    "        return 'N'"
   ]
  },
  {
   "cell_type": "code",
   "execution_count": 14,
   "id": "3495a848",
   "metadata": {},
   "outputs": [
    {
     "data": {
      "text/plain": [
       "F    1315\n",
       "N     521\n",
       "A     164\n",
       "Name: stance, dtype: int64"
      ]
     },
     "execution_count": 14,
     "metadata": {},
     "output_type": "execute_result"
    }
   ],
   "source": [
    "sample1['stance'] = sample1['stance'].apply(rename_stance)\n",
    "sample1['stance'].value_counts()"
   ]
  },
  {
   "cell_type": "code",
   "execution_count": 15,
   "id": "41745bce",
   "metadata": {},
   "outputs": [
    {
     "data": {
      "text/plain": [
       "F    1595\n",
       "N     292\n",
       "A     113\n",
       "Name: stance, dtype: int64"
      ]
     },
     "execution_count": 15,
     "metadata": {},
     "output_type": "execute_result"
    }
   ],
   "source": [
    "\n",
    "sample2['stance'] = sample2['stance'].apply(rename_stance)\n",
    "sample2['stance'].value_counts()"
   ]
  },
  {
   "cell_type": "code",
   "execution_count": 16,
   "id": "87728ba6",
   "metadata": {},
   "outputs": [
    {
     "data": {
      "text/plain": [
       "F    1395\n",
       "N     547\n",
       "A      58\n",
       "Name: stance, dtype: int64"
      ]
     },
     "execution_count": 16,
     "metadata": {},
     "output_type": "execute_result"
    }
   ],
   "source": [
    "sample3['stance'] = sample3['stance'].apply(rename_stance)\n",
    "sample3['stance'].value_counts()"
   ]
  },
  {
   "cell_type": "code",
   "execution_count": null,
   "id": "a89523c3",
   "metadata": {},
   "outputs": [],
   "source": []
  },
  {
   "cell_type": "code",
   "execution_count": null,
   "id": "d4e5b371",
   "metadata": {},
   "outputs": [],
   "source": []
  },
  {
   "cell_type": "code",
   "execution_count": null,
   "id": "9eb682f6",
   "metadata": {},
   "outputs": [],
   "source": []
  },
  {
   "cell_type": "code",
   "execution_count": 17,
   "id": "b66e0635",
   "metadata": {},
   "outputs": [],
   "source": [
    "df = pd.concat([sample1, sample2, sample3])\n",
    "\n",
    "df = df.sample(frac = 1).reset_index(drop=True)"
   ]
  },
  {
   "cell_type": "code",
   "execution_count": 18,
   "id": "8548b983",
   "metadata": {
    "scrolled": true
   },
   "outputs": [
    {
     "data": {
      "text/html": [
       "<div>\n",
       "<style scoped>\n",
       "    .dataframe tbody tr th:only-of-type {\n",
       "        vertical-align: middle;\n",
       "    }\n",
       "\n",
       "    .dataframe tbody tr th {\n",
       "        vertical-align: top;\n",
       "    }\n",
       "\n",
       "    .dataframe thead th {\n",
       "        text-align: right;\n",
       "    }\n",
       "</style>\n",
       "<table border=\"1\" class=\"dataframe\">\n",
       "  <thead>\n",
       "    <tr style=\"text-align: right;\">\n",
       "      <th></th>\n",
       "      <th>tweetId</th>\n",
       "      <th>renderedContent</th>\n",
       "      <th>stance</th>\n",
       "    </tr>\n",
       "  </thead>\n",
       "  <tbody>\n",
       "    <tr>\n",
       "      <th>0</th>\n",
       "      <td>1370000000000000000.0</td>\n",
       "      <td>#FarmersProtest Is India A Democracy dont think so. …</td>\n",
       "      <td>F</td>\n",
       "    </tr>\n",
       "    <tr>\n",
       "      <th>1</th>\n",
       "      <td>1370000000000000000.0</td>\n",
       "      <td>God Bless each and every person supporting us  #PunishAntiFarmerBJP #FarmersProtest 8T2Vjh0CRuuRIL…</td>\n",
       "      <td>F</td>\n",
       "    </tr>\n",
       "    <tr>\n",
       "      <th>2</th>\n",
       "      <td>1.38E+18</td>\n",
       "      <td>A story by  for .  Canada India Foundation, the organization which outrightly denies the Sikh genocide &amp; openly campaigns for Modi’s Hindutva govt has started a petition to stop Canadian schools from talking about #FarmersProtest.  …</td>\n",
       "      <td>N</td>\n",
       "    </tr>\n",
       "    <tr>\n",
       "      <th>3</th>\n",
       "      <td>1430000000000000000.0</td>\n",
       "      <td>Latest twitter trends in #India:  1. #भगवदगीता_के_गूढ़_रहस्य 2. #LIVCHE 3. #किसान_विरोधी_खट्टर 4. #INDvsEND 5. #FarmersProtest 6. Nehru 7. Anthony Taylor 8. Ronaldo 9. Arsenal 10. SSRians Roar At CBI HQ</td>\n",
       "      <td>N</td>\n",
       "    </tr>\n",
       "    <tr>\n",
       "      <th>4</th>\n",
       "      <td>1.39E+18</td>\n",
       "      <td>#COVID19India  #NoMoreModi  Rab kher kare  Sleeping are awake   #OcygenShortage #VaccineShortage #KisanCovidHelp #LangarOxygen #farmlaws_nextpandemic #TakeBack_FarmLaws  #FarmersProtest</td>\n",
       "      <td>N</td>\n",
       "    </tr>\n",
       "  </tbody>\n",
       "</table>\n",
       "</div>"
      ],
      "text/plain": [
       "                 tweetId  \\\n",
       "0  1370000000000000000.0   \n",
       "1  1370000000000000000.0   \n",
       "2               1.38E+18   \n",
       "3  1430000000000000000.0   \n",
       "4               1.39E+18   \n",
       "\n",
       "                                                                                                                                                                                                                             renderedContent  \\\n",
       "0                                                                                                                                                                                     #FarmersProtest Is India A Democracy dont think so. …    \n",
       "1                                                                                                                                        God Bless each and every person supporting us  #PunishAntiFarmerBJP #FarmersProtest 8T2Vjh0CRuuRIL…   \n",
       "2  A story by  for .  Canada India Foundation, the organization which outrightly denies the Sikh genocide & openly campaigns for Modi’s Hindutva govt has started a petition to stop Canadian schools from talking about #FarmersProtest.  …   \n",
       "3                                 Latest twitter trends in #India:  1. #भगवदगीता_के_गूढ़_रहस्य 2. #LIVCHE 3. #किसान_विरोधी_खट्टर 4. #INDvsEND 5. #FarmersProtest 6. Nehru 7. Anthony Taylor 8. Ronaldo 9. Arsenal 10. SSRians Roar At CBI HQ   \n",
       "4                                                  #COVID19India  #NoMoreModi  Rab kher kare  Sleeping are awake   #OcygenShortage #VaccineShortage #KisanCovidHelp #LangarOxygen #farmlaws_nextpandemic #TakeBack_FarmLaws  #FarmersProtest   \n",
       "\n",
       "  stance  \n",
       "0      F  \n",
       "1      F  \n",
       "2      N  \n",
       "3      N  \n",
       "4      N  "
      ]
     },
     "execution_count": 18,
     "metadata": {},
     "output_type": "execute_result"
    }
   ],
   "source": [
    "df.head()"
   ]
  },
  {
   "cell_type": "code",
   "execution_count": 19,
   "id": "e2b55fca",
   "metadata": {},
   "outputs": [],
   "source": [
    "df.drop_duplicates(subset='renderedContent', inplace=True, keep='first')"
   ]
  },
  {
   "cell_type": "code",
   "execution_count": null,
   "id": "e4c46f3e",
   "metadata": {},
   "outputs": [],
   "source": []
  },
  {
   "cell_type": "code",
   "execution_count": 20,
   "id": "f95d3b3d",
   "metadata": {},
   "outputs": [
    {
     "data": {
      "text/plain": [
       "5965"
      ]
     },
     "execution_count": 20,
     "metadata": {},
     "output_type": "execute_result"
    }
   ],
   "source": [
    "len(df)"
   ]
  },
  {
   "cell_type": "code",
   "execution_count": 21,
   "id": "65a26c64",
   "metadata": {},
   "outputs": [],
   "source": [
    "df = df[['renderedContent', 'stance']]\n",
    "# df.columns = ['text', 'category']"
   ]
  },
  {
   "cell_type": "markdown",
   "id": "d15a79dc",
   "metadata": {},
   "source": [
    "##### df['stance'].value_counts()\n"
   ]
  },
  {
   "cell_type": "code",
   "execution_count": 22,
   "id": "8651f1da",
   "metadata": {},
   "outputs": [
    {
     "data": {
      "text/html": [
       "<div>\n",
       "<style scoped>\n",
       "    .dataframe tbody tr th:only-of-type {\n",
       "        vertical-align: middle;\n",
       "    }\n",
       "\n",
       "    .dataframe tbody tr th {\n",
       "        vertical-align: top;\n",
       "    }\n",
       "\n",
       "    .dataframe thead th {\n",
       "        text-align: right;\n",
       "    }\n",
       "</style>\n",
       "<table border=\"1\" class=\"dataframe\">\n",
       "  <thead>\n",
       "    <tr style=\"text-align: right;\">\n",
       "      <th></th>\n",
       "      <th>renderedContent</th>\n",
       "      <th>stance</th>\n",
       "      <th>is_valid</th>\n",
       "    </tr>\n",
       "  </thead>\n",
       "  <tbody>\n",
       "    <tr>\n",
       "      <th>0</th>\n",
       "      <td>#FarmersProtest Is India A Democracy dont think so. …</td>\n",
       "      <td>F</td>\n",
       "      <td>False</td>\n",
       "    </tr>\n",
       "    <tr>\n",
       "      <th>1</th>\n",
       "      <td>God Bless each and every person supporting us  #PunishAntiFarmerBJP #FarmersProtest 8T2Vjh0CRuuRIL…</td>\n",
       "      <td>F</td>\n",
       "      <td>False</td>\n",
       "    </tr>\n",
       "    <tr>\n",
       "      <th>2</th>\n",
       "      <td>A story by  for .  Canada India Foundation, the organization which outrightly denies the Sikh genocide &amp; openly campaigns for Modi’s Hindutva govt has started a petition to stop Canadian schools from talking about #FarmersProtest.  …</td>\n",
       "      <td>N</td>\n",
       "      <td>True</td>\n",
       "    </tr>\n",
       "    <tr>\n",
       "      <th>3</th>\n",
       "      <td>Latest twitter trends in #India:  1. #भगवदगीता_के_गूढ़_रहस्य 2. #LIVCHE 3. #किसान_विरोधी_खट्टर 4. #INDvsEND 5. #FarmersProtest 6. Nehru 7. Anthony Taylor 8. Ronaldo 9. Arsenal 10. SSRians Roar At CBI HQ</td>\n",
       "      <td>N</td>\n",
       "      <td>False</td>\n",
       "    </tr>\n",
       "    <tr>\n",
       "      <th>4</th>\n",
       "      <td>#COVID19India  #NoMoreModi  Rab kher kare  Sleeping are awake   #OcygenShortage #VaccineShortage #KisanCovidHelp #LangarOxygen #farmlaws_nextpandemic #TakeBack_FarmLaws  #FarmersProtest</td>\n",
       "      <td>N</td>\n",
       "      <td>False</td>\n",
       "    </tr>\n",
       "  </tbody>\n",
       "</table>\n",
       "</div>"
      ],
      "text/plain": [
       "                                                                                                                                                                                                                             renderedContent  \\\n",
       "0                                                                                                                                                                                     #FarmersProtest Is India A Democracy dont think so. …    \n",
       "1                                                                                                                                        God Bless each and every person supporting us  #PunishAntiFarmerBJP #FarmersProtest 8T2Vjh0CRuuRIL…   \n",
       "2  A story by  for .  Canada India Foundation, the organization which outrightly denies the Sikh genocide & openly campaigns for Modi’s Hindutva govt has started a petition to stop Canadian schools from talking about #FarmersProtest.  …   \n",
       "3                                 Latest twitter trends in #India:  1. #भगवदगीता_के_गूढ़_रहस्य 2. #LIVCHE 3. #किसान_विरोधी_खट्टर 4. #INDvsEND 5. #FarmersProtest 6. Nehru 7. Anthony Taylor 8. Ronaldo 9. Arsenal 10. SSRians Roar At CBI HQ   \n",
       "4                                                  #COVID19India  #NoMoreModi  Rab kher kare  Sleeping are awake   #OcygenShortage #VaccineShortage #KisanCovidHelp #LangarOxygen #farmlaws_nextpandemic #TakeBack_FarmLaws  #FarmersProtest   \n",
       "\n",
       "  stance  is_valid  \n",
       "0      F     False  \n",
       "1      F     False  \n",
       "2      N      True  \n",
       "3      N     False  \n",
       "4      N     False  "
      ]
     },
     "execution_count": 22,
     "metadata": {},
     "output_type": "execute_result"
    }
   ],
   "source": [
    "valid = np.random.choice([False,True], len(df['renderedContent']), p= [0.9, 0.1])\n",
    "df['is_valid'] = valid\n",
    "df.head()"
   ]
  },
  {
   "cell_type": "code",
   "execution_count": 162,
   "id": "b510f233",
   "metadata": {},
   "outputs": [],
   "source": [
    "df_pos = df[df['stance'] == 'F']\n",
    "df_neg = df[df['stance'] == 'A']\n",
    "df_neutral = df[df['stance'] == 'N']"
   ]
  },
  {
   "cell_type": "code",
   "execution_count": 163,
   "id": "087f15d3",
   "metadata": {},
   "outputs": [],
   "source": [
    "df_pos = df_pos[:1000]\n",
    "\n",
    "df_neutral = df_neutral[:1000]\n",
    "\n",
    "df_test = pd.concat([df_pos, df_neutral, df_neg])\n",
    "df_test = df_test.sample(frac = 1).reset_index(drop=True)"
   ]
  },
  {
   "cell_type": "code",
   "execution_count": 25,
   "id": "853853d7",
   "metadata": {},
   "outputs": [],
   "source": [
    "from sklearn.model_selection import train_test_split\n",
    "train, test = train_test_split(df, test_size=0.2, random_state=42, shuffle=True)\n",
    "train_path = Path(path_lang_model, 'train.csv')\n",
    "test_path = Path(path_lang_model, 'test.csv')\n",
    "\n",
    "# save the train and test file\n",
    "# again using the '\\t' separator to create tab-separated-values files\n",
    "train.to_csv(train_path)\n",
    "test.to_csv(test_path)"
   ]
  },
  {
   "cell_type": "code",
   "execution_count": 26,
   "id": "fc75d164",
   "metadata": {},
   "outputs": [
    {
     "data": {
      "text/plain": [
       "4772"
      ]
     },
     "execution_count": 26,
     "metadata": {},
     "output_type": "execute_result"
    }
   ],
   "source": [
    "len(train)"
   ]
  },
  {
   "cell_type": "code",
   "execution_count": 27,
   "id": "a3b9aa23",
   "metadata": {},
   "outputs": [
    {
     "data": {
      "text/plain": [
       "1193"
      ]
     },
     "execution_count": 27,
     "metadata": {},
     "output_type": "execute_result"
    }
   ],
   "source": [
    "len(test)"
   ]
  },
  {
   "cell_type": "code",
   "execution_count": null,
   "id": "c851a6d3",
   "metadata": {},
   "outputs": [],
   "source": []
  },
  {
   "cell_type": "code",
   "execution_count": 28,
   "id": "b9957bd8",
   "metadata": {},
   "outputs": [
    {
     "data": {
      "text/html": [
       "<div>\n",
       "<style scoped>\n",
       "    .dataframe tbody tr th:only-of-type {\n",
       "        vertical-align: middle;\n",
       "    }\n",
       "\n",
       "    .dataframe tbody tr th {\n",
       "        vertical-align: top;\n",
       "    }\n",
       "\n",
       "    .dataframe thead th {\n",
       "        text-align: right;\n",
       "    }\n",
       "</style>\n",
       "<table border=\"1\" class=\"dataframe\">\n",
       "  <thead>\n",
       "    <tr style=\"text-align: right;\">\n",
       "      <th></th>\n",
       "      <th>text</th>\n",
       "    </tr>\n",
       "  </thead>\n",
       "  <tbody>\n",
       "    <tr>\n",
       "      <th>0</th>\n",
       "      <td>Supporting farmers means supporting our country #StopHateAgainstFarmers #FarmersProtest</td>\n",
       "    </tr>\n",
       "    <tr>\n",
       "      <th>1</th>\n",
       "      <td>Support farmers if you are related to food #StopHateAgainstFarmers #FarmersProtest</td>\n",
       "    </tr>\n",
       "    <tr>\n",
       "      <th>2</th>\n",
       "      <td>#StopHateAgainstFarmers support #FarmersProtest by pressurising got. to accept farmer's genuine demand.</td>\n",
       "    </tr>\n",
       "    <tr>\n",
       "      <th>3</th>\n",
       "      <td>You hate farmers I hate you,  if you love them I love you! ;)   #StopHateAgainstFarmers  #FarmersProtest</td>\n",
       "    </tr>\n",
       "    <tr>\n",
       "      <th>4</th>\n",
       "      <td>They can't be farmers. Looks like Gundas are having good time. They seem to be violence thirsty goons. #FarmersProtest …</td>\n",
       "    </tr>\n",
       "  </tbody>\n",
       "</table>\n",
       "</div>"
      ],
      "text/plain": [
       "                                                                                                                       text\n",
       "0                                  Supporting farmers means supporting our country #StopHateAgainstFarmers #FarmersProtest \n",
       "1                                       Support farmers if you are related to food #StopHateAgainstFarmers #FarmersProtest \n",
       "2                   #StopHateAgainstFarmers support #FarmersProtest by pressurising got. to accept farmer's genuine demand.\n",
       "3                  You hate farmers I hate you,  if you love them I love you! ;)   #StopHateAgainstFarmers  #FarmersProtest\n",
       "4  They can't be farmers. Looks like Gundas are having good time. They seem to be violence thirsty goons. #FarmersProtest …"
      ]
     },
     "execution_count": 28,
     "metadata": {},
     "output_type": "execute_result"
    }
   ],
   "source": [
    "lang_df = pd.read_csv(path/'final_cleaned_data.csv')\n",
    "bs = 20\n",
    "lang_df=lang_df.iloc[:, 1:]\n",
    "lang_df.head()"
   ]
  },
  {
   "cell_type": "code",
   "execution_count": 29,
   "id": "88609365",
   "metadata": {},
   "outputs": [
    {
     "data": {
      "text/html": [
       "<div>\n",
       "<style scoped>\n",
       "    .dataframe tbody tr th:only-of-type {\n",
       "        vertical-align: middle;\n",
       "    }\n",
       "\n",
       "    .dataframe tbody tr th {\n",
       "        vertical-align: top;\n",
       "    }\n",
       "\n",
       "    .dataframe thead th {\n",
       "        text-align: right;\n",
       "    }\n",
       "</style>\n",
       "<table border=\"1\" class=\"dataframe\">\n",
       "  <thead>\n",
       "    <tr style=\"text-align: right;\">\n",
       "      <th></th>\n",
       "      <th>text</th>\n",
       "      <th>is_valid</th>\n",
       "    </tr>\n",
       "  </thead>\n",
       "  <tbody>\n",
       "    <tr>\n",
       "      <th>0</th>\n",
       "      <td>Supporting farmers means supporting our country #StopHateAgainstFarmers #FarmersProtest</td>\n",
       "      <td>False</td>\n",
       "    </tr>\n",
       "    <tr>\n",
       "      <th>1</th>\n",
       "      <td>Support farmers if you are related to food #StopHateAgainstFarmers #FarmersProtest</td>\n",
       "      <td>False</td>\n",
       "    </tr>\n",
       "    <tr>\n",
       "      <th>2</th>\n",
       "      <td>#StopHateAgainstFarmers support #FarmersProtest by pressurising got. to accept farmer's genuine demand.</td>\n",
       "      <td>False</td>\n",
       "    </tr>\n",
       "    <tr>\n",
       "      <th>3</th>\n",
       "      <td>You hate farmers I hate you,  if you love them I love you! ;)   #StopHateAgainstFarmers  #FarmersProtest</td>\n",
       "      <td>True</td>\n",
       "    </tr>\n",
       "    <tr>\n",
       "      <th>4</th>\n",
       "      <td>They can't be farmers. Looks like Gundas are having good time. They seem to be violence thirsty goons. #FarmersProtest …</td>\n",
       "      <td>False</td>\n",
       "    </tr>\n",
       "  </tbody>\n",
       "</table>\n",
       "</div>"
      ],
      "text/plain": [
       "                                                                                                                       text  \\\n",
       "0                                  Supporting farmers means supporting our country #StopHateAgainstFarmers #FarmersProtest    \n",
       "1                                       Support farmers if you are related to food #StopHateAgainstFarmers #FarmersProtest    \n",
       "2                   #StopHateAgainstFarmers support #FarmersProtest by pressurising got. to accept farmer's genuine demand.   \n",
       "3                  You hate farmers I hate you,  if you love them I love you! ;)   #StopHateAgainstFarmers  #FarmersProtest   \n",
       "4  They can't be farmers. Looks like Gundas are having good time. They seem to be violence thirsty goons. #FarmersProtest …   \n",
       "\n",
       "   is_valid  \n",
       "0     False  \n",
       "1     False  \n",
       "2     False  \n",
       "3      True  \n",
       "4     False  "
      ]
     },
     "execution_count": 29,
     "metadata": {},
     "output_type": "execute_result"
    }
   ],
   "source": [
    "valid = np.random.choice([False,True], len(lang_df['text']), p= [0.9, 0.1])\n",
    "lang_df['is_valid'] = valid\n",
    "lang_df.head()"
   ]
  },
  {
   "cell_type": "code",
   "execution_count": 30,
   "id": "14835beb",
   "metadata": {},
   "outputs": [
    {
     "data": {
      "text/html": [],
      "text/plain": [
       "<IPython.core.display.HTML object>"
      ]
     },
     "metadata": {},
     "output_type": "display_data"
    },
    {
     "data": {
      "text/html": [
       "<table border=\"1\" class=\"dataframe\">\n",
       "  <thead>\n",
       "    <tr style=\"text-align: right;\">\n",
       "      <th></th>\n",
       "      <th>text</th>\n",
       "      <th>text_</th>\n",
       "    </tr>\n",
       "  </thead>\n",
       "  <tbody>\n",
       "    <tr>\n",
       "      <th>0</th>\n",
       "      <td>xxbos xxmaj stop embarrassing xxmaj india , farmers want bills repealed , to protect livelihoods . xxmaj modi mafia is using undemocratic , dangerous tactis . xxmaj world is watching . # farmersprotest # justicefornavreet xxbos xxmaj no farmer xxmaj no xxunk # farmersprotest … xxbos never saw any punjabi female from xxmaj canada tweeting on # farmersprotest . xxmaj but you are xxup first . xxmaj keep it xxmaj up .</td>\n",
       "      <td>xxmaj stop embarrassing xxmaj india , farmers want bills repealed , to protect livelihoods . xxmaj modi mafia is using undemocratic , dangerous tactis . xxmaj world is watching . # farmersprotest # justicefornavreet xxbos xxmaj no farmer xxmaj no xxunk # farmersprotest … xxbos never saw any punjabi female from xxmaj canada tweeting on # farmersprotest . xxmaj but you are xxup first . xxmaj keep it xxmaj up . xxbos</td>\n",
       "    </tr>\n",
       "    <tr>\n",
       "      <th>1</th>\n",
       "      <td>जीतेगा_तो_किसान_ही when # चौकीदार_ही_चोर_है # farmersprotest is also against the misuse of xxmaj constitutional power taken by our mandate on buff &amp; xxmaj hoax . # indiabeingsilenced by xxmaj police xxbos xxmaj they are just asking for their right to survive . # farmersprotestdays # farmersprotest … xxbos 🎶 \" work \" 🎶 # farmersprotest # rihannasupportsindianfarmers # rihannasoldout xxbos xxup msp will serve several purposes 👇 🏼 # farmersshineinolympics # farmersprotest</td>\n",
       "      <td>when # चौकीदार_ही_चोर_है # farmersprotest is also against the misuse of xxmaj constitutional power taken by our mandate on buff &amp; xxmaj hoax . # indiabeingsilenced by xxmaj police xxbos xxmaj they are just asking for their right to survive . # farmersprotestdays # farmersprotest … xxbos 🎶 \" work \" 🎶 # farmersprotest # rihannasupportsindianfarmers # rihannasoldout xxbos xxup msp will serve several purposes 👇 🏼 # farmersshineinolympics # farmersprotest /</td>\n",
       "    </tr>\n",
       "    <tr>\n",
       "      <th>2</th>\n",
       "      <td>आज का hashtag retweet everyone # shaheedbhagatsingh # farmersprotest xxbos # farmersprotest # bhagodamodi # farmersbill # merryxmas # मनुस्मृति_दहन_दिवस # जोकर_नहीं_देशभक्त_बनो # किसानों_का_दर्द_समझो # किसान_एकता_जिंदाबाद xxmaj follow 👉 💯 % follow back xxbos # farmersprotest # xxmaj twitter xxmaj indian govt want xxmaj twitter to remove tweets / accounts which substantially supports xxmaj protest . i really needed to use aggressive words but aware of twitter violence … shame on your</td>\n",
       "      <td>का hashtag retweet everyone # shaheedbhagatsingh # farmersprotest xxbos # farmersprotest # bhagodamodi # farmersbill # merryxmas # मनुस्मृति_दहन_दिवस # जोकर_नहीं_देशभक्त_बनो # किसानों_का_दर्द_समझो # किसान_एकता_जिंदाबाद xxmaj follow 👉 💯 % follow back xxbos # farmersprotest # xxmaj twitter xxmaj indian govt want xxmaj twitter to remove tweets / accounts which substantially supports xxmaj protest . i really needed to use aggressive words but aware of twitter violence … shame on your xxmaj</td>\n",
       "    </tr>\n",
       "    <tr>\n",
       "      <th>3</th>\n",
       "      <td>a root from them . xxmaj morcha is incomplete without the participation of our xxmaj women xxmaj farmers . xxmaj standing shoulder to shoulder in fight against tyranny . # farmersprotest # farmersprotest_standsstrong xxbos @ xxunk @ rahulgandhi xxmaj xxunk admi ko rafale ki sahi kimat nahi pata . xxmaj jo admi desh ki sena pe sawal uthata ho a … / / t . co / xxunk xxbos xxmaj people of</td>\n",
       "      <td>root from them . xxmaj morcha is incomplete without the participation of our xxmaj women xxmaj farmers . xxmaj standing shoulder to shoulder in fight against tyranny . # farmersprotest # farmersprotest_standsstrong xxbos @ xxunk @ rahulgandhi xxmaj xxunk admi ko rafale ki sahi kimat nahi pata . xxmaj jo admi desh ki sena pe sawal uthata ho a … / / t . co / xxunk xxbos xxmaj people of india</td>\n",
       "    </tr>\n",
       "    <tr>\n",
       "      <th>4</th>\n",
       "      <td>modidontsellfarmers xxbos xxmaj this done so divert the attention from real issues . # farmersprotest # farmersfightfascistmodi # farmlaws_threattoindians … xxbos you also forgot about your roots that you are from punjab . xxmaj shame on you . xxmaj having more than m followers you could have speak up in the support of farmers in xxmaj india but you did n’t ! # rihannasupportsindianfarmers # farmersprotest xxbos xxmaj our xxmaj farmers are</td>\n",
       "      <td>xxbos xxmaj this done so divert the attention from real issues . # farmersprotest # farmersfightfascistmodi # farmlaws_threattoindians … xxbos you also forgot about your roots that you are from punjab . xxmaj shame on you . xxmaj having more than m followers you could have speak up in the support of farmers in xxmaj india but you did n’t ! # rihannasupportsindianfarmers # farmersprotest xxbos xxmaj our xxmaj farmers are demanding</td>\n",
       "    </tr>\n",
       "    <tr>\n",
       "      <th>5</th>\n",
       "      <td># threefarmlaws # modiwherearemissingfarmers … xxbos xxmaj this government has not only lost its ethics but mind too # farmersprotest xxbos xxmaj thank you so much for your support . xxmaj govt . is trying surpress farmer ’s voices by violence . xxmaj this cruelty towards farmers needs to stop . xxmaj this whole system ( police , xxmaj supreme court , nia ) has been xxunk on xxmaj modi xxmaj govt</td>\n",
       "      <td>threefarmlaws # modiwherearemissingfarmers … xxbos xxmaj this government has not only lost its ethics but mind too # farmersprotest xxbos xxmaj thank you so much for your support . xxmaj govt . is trying surpress farmer ’s voices by violence . xxmaj this cruelty towards farmers needs to stop . xxmaj this whole system ( police , xxmaj supreme court , nia ) has been xxunk on xxmaj modi xxmaj govt .</td>\n",
       "    </tr>\n",
       "  </tbody>\n",
       "</table>"
      ],
      "text/plain": [
       "<IPython.core.display.HTML object>"
      ]
     },
     "metadata": {},
     "output_type": "display_data"
    }
   ],
   "source": [
    "data_lm = DataBlock(blocks=TextBlock.from_df('text', is_lm=True),\n",
    "                    get_x=ColReader('text'),\n",
    "                    splitter=ColSplitter())\n",
    "dls = data_lm.dataloaders(lang_df, bs=bs, seq_len=72)\n",
    "dls.show_batch(max_n=6)"
   ]
  },
  {
   "cell_type": "code",
   "execution_count": 31,
   "id": "5b02e11b",
   "metadata": {},
   "outputs": [],
   "source": [
    "# dls.vocab"
   ]
  },
  {
   "cell_type": "code",
   "execution_count": 32,
   "id": "61a5dc47",
   "metadata": {},
   "outputs": [],
   "source": [
    "learn = language_model_learner(dls, AWD_LSTM, metrics=accuracy,drop_mult=0.3)"
   ]
  },
  {
   "cell_type": "code",
   "execution_count": 33,
   "id": "5f2517ff",
   "metadata": {},
   "outputs": [
    {
     "data": {
      "text/plain": [
       "<fastai.text.learner.LMLearner at 0x7f6566542be0>"
      ]
     },
     "execution_count": 33,
     "metadata": {},
     "output_type": "execute_result"
    }
   ],
   "source": [
    "learn.load('fine_tuned')"
   ]
  },
  {
   "cell_type": "code",
   "execution_count": 34,
   "id": "885cd833",
   "metadata": {},
   "outputs": [],
   "source": [
    "learn.save_encoder('finetuned')"
   ]
  },
  {
   "cell_type": "code",
   "execution_count": null,
   "id": "b22699bd",
   "metadata": {},
   "outputs": [],
   "source": []
  },
  {
   "cell_type": "code",
   "execution_count": 215,
   "id": "ee75b1a8",
   "metadata": {},
   "outputs": [
    {
     "data": {
      "text/html": [],
      "text/plain": [
       "<IPython.core.display.HTML object>"
      ]
     },
     "metadata": {},
     "output_type": "display_data"
    }
   ],
   "source": [
    "dls_clas = TextDataLoaders.from_df(df=df, path=path,text_vocab=dls.vocab)"
   ]
  },
  {
   "cell_type": "markdown",
   "id": "64d50d60",
   "metadata": {},
   "source": [
    "<h2> To calculate weights for F1 score</h2>\n",
    "wj=n_samples / (n_classes * n_samplesj)"
   ]
  },
  {
   "cell_type": "code",
   "execution_count": 216,
   "id": "d6f4c014",
   "metadata": {},
   "outputs": [
    {
     "data": {
      "text/plain": [
       "F    4279\n",
       "N    1354\n",
       "A     332\n",
       "Name: stance, dtype: int64"
      ]
     },
     "execution_count": 216,
     "metadata": {},
     "output_type": "execute_result"
    }
   ],
   "source": [
    "df['stance'].value_counts()"
   ]
  },
  {
   "cell_type": "code",
   "execution_count": 217,
   "id": "7758054f",
   "metadata": {},
   "outputs": [
    {
     "data": {
      "text/plain": [
       "F    1000\n",
       "N    1000\n",
       "A     332\n",
       "Name: stance, dtype: int64"
      ]
     },
     "execution_count": 217,
     "metadata": {},
     "output_type": "execute_result"
    }
   ],
   "source": [
    "df_test['stance'].value_counts()"
   ]
  },
  {
   "cell_type": "code",
   "execution_count": 176,
   "id": "d274e6e0",
   "metadata": {},
   "outputs": [],
   "source": [
    "F_w = 2332/(3 * 1000)\n",
    "N_w = 2332/(3 * 1000)\n",
    "A_w = 2332/(3 * 332)\n",
    "weights_tensor = torch.Tensor(np.array([A_w, F_w, N_w]))"
   ]
  },
  {
   "cell_type": "code",
   "execution_count": 218,
   "id": "54e8604c",
   "metadata": {},
   "outputs": [],
   "source": [
    "F_w = 5965/(3 * 4279)\n",
    "N_w = 5965/(3 * 1354)\n",
    "A_w = 5965/(3 * 332)\n",
    "weights_tensor = torch.Tensor(np.array([A_w, F_w, N_w]))"
   ]
  },
  {
   "cell_type": "code",
   "execution_count": 259,
   "id": "bfb21a9c",
   "metadata": {},
   "outputs": [],
   "source": [
    "from sklearn.utils import class_weight\n"
   ]
  },
  {
   "cell_type": "code",
   "execution_count": 262,
   "id": "26840bb1",
   "metadata": {},
   "outputs": [],
   "source": [
    "class_weights = class_weight.compute_class_weight('balanced',classes=np.unique(df['stance']),y=df['stance'])"
   ]
  },
  {
   "cell_type": "code",
   "execution_count": 264,
   "id": "b25bbacd",
   "metadata": {},
   "outputs": [],
   "source": [
    "learn = text_classifier_learner(dls_clas, AWD_LSTM, loss_func=CrossEntropyLossFlat(weight=torch.Tensor(np.array(class_weights))),\n",
    "                                drop_mult=0.5, \n",
    "                                metrics=[accuracy, F1Score(average='weighted')])\n",
    "# learn = text_classifier_learner(dls_clas, AWD_LSTM, drop_mult=0.5, metrics=[accuracy, F1Score(average='weighted')])"
   ]
  },
  {
   "cell_type": "code",
   "execution_count": 265,
   "id": "a0eac838",
   "metadata": {},
   "outputs": [],
   "source": [
    "learn = learn.load_encoder('finetuned')"
   ]
  },
  {
   "cell_type": "code",
   "execution_count": 266,
   "id": "02d93660",
   "metadata": {},
   "outputs": [
    {
     "data": {
      "text/html": [
       "<table border=\"1\" class=\"dataframe\">\n",
       "  <thead>\n",
       "    <tr style=\"text-align: left;\">\n",
       "      <th>epoch</th>\n",
       "      <th>train_loss</th>\n",
       "      <th>valid_loss</th>\n",
       "      <th>accuracy</th>\n",
       "      <th>f1_score</th>\n",
       "      <th>time</th>\n",
       "    </tr>\n",
       "  </thead>\n",
       "  <tbody>\n",
       "    <tr>\n",
       "      <td>0</td>\n",
       "      <td>1.128125</td>\n",
       "      <td>1.081096</td>\n",
       "      <td>0.413244</td>\n",
       "      <td>0.484764</td>\n",
       "      <td>00:08</td>\n",
       "    </tr>\n",
       "  </tbody>\n",
       "</table>"
      ],
      "text/plain": [
       "<IPython.core.display.HTML object>"
      ]
     },
     "metadata": {},
     "output_type": "display_data"
    }
   ],
   "source": [
    "learn.fit_one_cycle(1, 2e-2,cbs=[EarlyStoppingCallback(monitor='f1_score', min_delta=0.01, patience=3)])"
   ]
  },
  {
   "cell_type": "code",
   "execution_count": 267,
   "id": "0d041ff3",
   "metadata": {},
   "outputs": [
    {
     "data": {
      "text/html": [
       "<table border=\"1\" class=\"dataframe\">\n",
       "  <thead>\n",
       "    <tr style=\"text-align: left;\">\n",
       "      <th>epoch</th>\n",
       "      <th>train_loss</th>\n",
       "      <th>valid_loss</th>\n",
       "      <th>accuracy</th>\n",
       "      <th>f1_score</th>\n",
       "      <th>time</th>\n",
       "    </tr>\n",
       "  </thead>\n",
       "  <tbody>\n",
       "    <tr>\n",
       "      <td>0</td>\n",
       "      <td>1.089820</td>\n",
       "      <td>1.070740</td>\n",
       "      <td>0.553227</td>\n",
       "      <td>0.586018</td>\n",
       "      <td>00:09</td>\n",
       "    </tr>\n",
       "  </tbody>\n",
       "</table>"
      ],
      "text/plain": [
       "<IPython.core.display.HTML object>"
      ]
     },
     "metadata": {},
     "output_type": "display_data"
    }
   ],
   "source": [
    "learn.freeze_to(-2)\n",
    "learn.fit_one_cycle(1, slice(1e-2/(2.6**4),1e-2),cbs=[EarlyStoppingCallback(monitor='f1_score', min_delta=0.01, patience=3)])"
   ]
  },
  {
   "cell_type": "code",
   "execution_count": 268,
   "id": "92919bbf",
   "metadata": {
    "scrolled": true
   },
   "outputs": [
    {
     "data": {
      "text/html": [
       "<table border=\"1\" class=\"dataframe\">\n",
       "  <thead>\n",
       "    <tr style=\"text-align: left;\">\n",
       "      <th>epoch</th>\n",
       "      <th>train_loss</th>\n",
       "      <th>valid_loss</th>\n",
       "      <th>accuracy</th>\n",
       "      <th>f1_score</th>\n",
       "      <th>time</th>\n",
       "    </tr>\n",
       "  </thead>\n",
       "  <tbody>\n",
       "    <tr>\n",
       "      <td>0</td>\n",
       "      <td>1.074760</td>\n",
       "      <td>1.103842</td>\n",
       "      <td>0.450126</td>\n",
       "      <td>0.508974</td>\n",
       "      <td>00:13</td>\n",
       "    </tr>\n",
       "  </tbody>\n",
       "</table>"
      ],
      "text/plain": [
       "<IPython.core.display.HTML object>"
      ]
     },
     "metadata": {},
     "output_type": "display_data"
    }
   ],
   "source": [
    "learn.freeze_to(-3)\n",
    "learn.fit_one_cycle(1, slice(5e-3/(2.6**4),5e-3),cbs=[EarlyStoppingCallback(monitor='f1_score', min_delta=0.01, patience=3)])"
   ]
  },
  {
   "cell_type": "code",
   "execution_count": 269,
   "id": "25b34a0e",
   "metadata": {},
   "outputs": [],
   "source": [
    "import gc\n",
    "# del variables\n",
    "gc.collect()\n",
    "torch.cuda.empty_cache()"
   ]
  },
  {
   "cell_type": "code",
   "execution_count": 270,
   "id": "bc6ffe7d",
   "metadata": {},
   "outputs": [
    {
     "data": {
      "text/html": [
       "<table border=\"1\" class=\"dataframe\">\n",
       "  <thead>\n",
       "    <tr style=\"text-align: left;\">\n",
       "      <th>epoch</th>\n",
       "      <th>train_loss</th>\n",
       "      <th>valid_loss</th>\n",
       "      <th>accuracy</th>\n",
       "      <th>f1_score</th>\n",
       "      <th>time</th>\n",
       "    </tr>\n",
       "  </thead>\n",
       "  <tbody>\n",
       "    <tr>\n",
       "      <td>0</td>\n",
       "      <td>1.018587</td>\n",
       "      <td>1.085986</td>\n",
       "      <td>0.483655</td>\n",
       "      <td>0.535607</td>\n",
       "      <td>00:19</td>\n",
       "    </tr>\n",
       "    <tr>\n",
       "      <td>1</td>\n",
       "      <td>1.006403</td>\n",
       "      <td>1.076599</td>\n",
       "      <td>0.523051</td>\n",
       "      <td>0.566123</td>\n",
       "      <td>00:19</td>\n",
       "    </tr>\n",
       "    <tr>\n",
       "      <td>2</td>\n",
       "      <td>0.986502</td>\n",
       "      <td>1.075906</td>\n",
       "      <td>0.472758</td>\n",
       "      <td>0.520259</td>\n",
       "      <td>00:19</td>\n",
       "    </tr>\n",
       "    <tr>\n",
       "      <td>3</td>\n",
       "      <td>0.934457</td>\n",
       "      <td>1.091653</td>\n",
       "      <td>0.504610</td>\n",
       "      <td>0.553359</td>\n",
       "      <td>00:19</td>\n",
       "    </tr>\n",
       "    <tr>\n",
       "      <td>4</td>\n",
       "      <td>0.870521</td>\n",
       "      <td>1.121152</td>\n",
       "      <td>0.507963</td>\n",
       "      <td>0.558572</td>\n",
       "      <td>00:19</td>\n",
       "    </tr>\n",
       "  </tbody>\n",
       "</table>"
      ],
      "text/plain": [
       "<IPython.core.display.HTML object>"
      ]
     },
     "metadata": {},
     "output_type": "display_data"
    },
    {
     "name": "stdout",
     "output_type": "stream",
     "text": [
      "No improvement since epoch 1: early stopping\n"
     ]
    }
   ],
   "source": [
    "learn.unfreeze()\n",
    "learn.fit_one_cycle(10, slice(1e-3/(2.6**4),1e-3),cbs=[EarlyStoppingCallback(monitor='f1_score', min_delta=0.01, patience=3)])"
   ]
  },
  {
   "cell_type": "code",
   "execution_count": 271,
   "id": "10fb0e54",
   "metadata": {},
   "outputs": [
    {
     "data": {
      "text/html": [],
      "text/plain": [
       "<IPython.core.display.HTML object>"
      ]
     },
     "metadata": {},
     "output_type": "display_data"
    },
    {
     "data": {
      "text/plain": [
       "('F', TensorText(1), TensorText([0.1183, 0.5028, 0.3789]))"
      ]
     },
     "execution_count": 271,
     "metadata": {},
     "output_type": "execute_result"
    }
   ],
   "source": [
    "learn.predict('A #Hindu MLA was stripped naked and beaten brutally in #Congress ruled #Punjab by so called farmers of #FarmersProtest.  Imagine the same, if had happened to a Sikh Or Muslim MLA or individual in a #BJP ruled state.  I know, you cant even imagine that...  Desh jal gaya hota')"
   ]
  },
  {
   "cell_type": "code",
   "execution_count": 272,
   "id": "64e82a7a",
   "metadata": {},
   "outputs": [
    {
     "data": {
      "text/html": [],
      "text/plain": [
       "<IPython.core.display.HTML object>"
      ]
     },
     "metadata": {},
     "output_type": "display_data"
    },
    {
     "data": {
      "text/plain": [
       "('F', TensorText(1), TensorText([0.3733, 0.3756, 0.2511]))"
      ]
     },
     "execution_count": 272,
     "metadata": {},
     "output_type": "execute_result"
    }
   ],
   "source": [
    "learn.predict('Breaking Mobile tower = \\'Modi\\' s Public Development\\'. 😂🤣Jio Bad boy, truth is slipping out of your tongue! 😝  Roads blocked & red fort indent, by the govt.   Trains- Rights of protest.   Opposition support-Democracy (only bit left)   #MonthsOfDelhiProtest  #FarmersProtest')"
   ]
  },
  {
   "cell_type": "code",
   "execution_count": 273,
   "id": "11bb23d4",
   "metadata": {},
   "outputs": [
    {
     "data": {
      "text/html": [],
      "text/plain": [
       "<IPython.core.display.HTML object>"
      ]
     },
     "metadata": {},
     "output_type": "display_data"
    },
    {
     "data": {
      "text/plain": [
       "('F', TensorText(1), TensorText([0.4028, 0.4256, 0.1716]))"
      ]
     },
     "execution_count": 273,
     "metadata": {},
     "output_type": "execute_result"
    }
   ],
   "source": [
    "learn.predict('It\\'s very hard to commute from Delhi to Ghaziabad daily due to roads blocked by farmers..   Till when common ppl will bear this ?? #Farmersprotest #Borderkhalikaro')"
   ]
  },
  {
   "cell_type": "code",
   "execution_count": 274,
   "id": "f3f64d3b",
   "metadata": {},
   "outputs": [
    {
     "data": {
      "text/html": [],
      "text/plain": [
       "<IPython.core.display.HTML object>"
      ]
     },
     "metadata": {},
     "output_type": "display_data"
    },
    {
     "data": {
      "text/plain": [
       "('F', TensorText(1), TensorText([0.1513, 0.6704, 0.1783]))"
      ]
     },
     "execution_count": 274,
     "metadata": {},
     "output_type": "execute_result"
    }
   ],
   "source": [
    "learn.predict('An elderly farmer beaten by police in Rohtak. This protest has seen too much blood & tears of innocent protestors and yet they remain resilient  #FarmersProtest  🚜🌾 ')"
   ]
  },
  {
   "cell_type": "code",
   "execution_count": 275,
   "id": "4aa01ae1",
   "metadata": {},
   "outputs": [
    {
     "data": {
      "text/html": [],
      "text/plain": [
       "<IPython.core.display.HTML object>"
      ]
     },
     "metadata": {},
     "output_type": "display_data"
    },
    {
     "data": {
      "text/plain": [
       "('A', TensorText(0), TensorText([0.5176, 0.3318, 0.1506]))"
      ]
     },
     "execution_count": 275,
     "metadata": {},
     "output_type": "execute_result"
    }
   ],
   "source": [
    "learn.predict('Shame on that bloody government that it is not listening the voice of poor farmers of this country  #FarmersProtest')"
   ]
  },
  {
   "cell_type": "code",
   "execution_count": 276,
   "id": "8b1e3728",
   "metadata": {},
   "outputs": [
    {
     "data": {
      "text/html": [],
      "text/plain": [
       "<IPython.core.display.HTML object>"
      ]
     },
     "metadata": {},
     "output_type": "display_data"
    },
    {
     "data": {
      "text/plain": [
       "('F', TensorText(1), TensorText([0.3036, 0.5083, 0.1881]))"
      ]
     },
     "execution_count": 276,
     "metadata": {},
     "output_type": "execute_result"
    }
   ],
   "source": [
    "learn.predict('It\\'s easy to feel helpless-like you can\\'t fight the tide. But remember: small actions can have a huge impact,one person like u can inspire others to action #FarmersProtest   ::')"
   ]
  },
  {
   "cell_type": "code",
   "execution_count": 277,
   "id": "cade4130",
   "metadata": {},
   "outputs": [
    {
     "data": {
      "text/html": [],
      "text/plain": [
       "<IPython.core.display.HTML object>"
      ]
     },
     "metadata": {},
     "output_type": "display_data"
    },
    {
     "data": {
      "text/plain": [
       "('F', TensorText(1), TensorText([0.2632, 0.5374, 0.1995]))"
      ]
     },
     "execution_count": 277,
     "metadata": {},
     "output_type": "execute_result"
    }
   ],
   "source": [
    "learn.predict('It\\'s third time I\\'ve felt such pain in this #FarmersProtest but it\\'s part of the revolution. We\\'ve to be strong and have to support each other like family. Maybe, youth and intellectual people should come forward. Please, don\\'t waste your time, think what we can? #Lashkar_e_RSS ')"
   ]
  },
  {
   "cell_type": "code",
   "execution_count": 283,
   "id": "657d7577",
   "metadata": {},
   "outputs": [
    {
     "data": {
      "text/html": [],
      "text/plain": [
       "<IPython.core.display.HTML object>"
      ]
     },
     "metadata": {},
     "output_type": "display_data"
    },
    {
     "data": {
      "text/plain": [
       "('N', TensorText(2), TensorText([0.2801, 0.2842, 0.4357]))"
      ]
     },
     "execution_count": 283,
     "metadata": {},
     "output_type": "execute_result"
    }
   ],
   "source": [
    "learn.predict('support the farmers.')"
   ]
  },
  {
   "cell_type": "code",
   "execution_count": 286,
   "id": "f463bb11",
   "metadata": {},
   "outputs": [
    {
     "data": {
      "text/html": [],
      "text/plain": [
       "<IPython.core.display.HTML object>"
      ]
     },
     "metadata": {},
     "output_type": "display_data"
    },
    {
     "data": {
      "text/plain": [
       "('F', TensorText(1), TensorText([0.2877, 0.4196, 0.2927]))"
      ]
     },
     "execution_count": 286,
     "metadata": {},
     "output_type": "execute_result"
    }
   ],
   "source": [
    "learn.predict('I stand with farmers!!!!')"
   ]
  },
  {
   "cell_type": "code",
   "execution_count": 280,
   "id": "a227b06d",
   "metadata": {},
   "outputs": [
    {
     "data": {
      "text/html": [],
      "text/plain": [
       "<IPython.core.display.HTML object>"
      ]
     },
     "metadata": {},
     "output_type": "display_data"
    },
    {
     "data": {
      "text/plain": [
       "('A', TensorText(0), TensorText([0.7380, 0.1453, 0.1168]))"
      ]
     },
     "execution_count": 280,
     "metadata": {},
     "output_type": "execute_result"
    }
   ],
   "source": [
    "learn.predict('Few antisocial & anti national elements already #FarmersProtestHijacked  They demand #Khalistan show involvement of #ISI & #PFI as well  We don\\'t let them to make another #ShaheenBagh   Block #Delhi #BharatBandhOnDecember This is not #FarmersProtest  #SayNoToAnarchy ')"
   ]
  },
  {
   "cell_type": "code",
   "execution_count": 281,
   "id": "968ccac6",
   "metadata": {},
   "outputs": [
    {
     "data": {
      "text/html": [],
      "text/plain": [
       "<IPython.core.display.HTML object>"
      ]
     },
     "metadata": {},
     "output_type": "display_data"
    },
    {
     "data": {
      "text/plain": [
       "('F', TensorText(1), TensorText([0.1860, 0.6669, 0.1470]))"
      ]
     },
     "execution_count": 281,
     "metadata": {},
     "output_type": "execute_result"
    }
   ],
   "source": [
    "learn.predict('#FarmersProtest is going global as  extends support to farmers.  Don\\'t be surprised if  writes an article against  …')"
   ]
  },
  {
   "cell_type": "code",
   "execution_count": null,
   "id": "cf03362f",
   "metadata": {},
   "outputs": [],
   "source": []
  },
  {
   "cell_type": "code",
   "execution_count": 282,
   "id": "bf76002e",
   "metadata": {},
   "outputs": [
    {
     "data": {
      "text/html": [],
      "text/plain": [
       "<IPython.core.display.HTML object>"
      ]
     },
     "metadata": {},
     "output_type": "display_data"
    },
    {
     "data": {
      "text/plain": [
       "('F', TensorText(1), TensorText([0.2211, 0.7116, 0.0673]))"
      ]
     },
     "execution_count": 282,
     "metadata": {},
     "output_type": "execute_result"
    }
   ],
   "source": [
    "learn.predict('Bank unions lend support to farmers\\' agitation against new farm laws  #FarmersProtest  #FarmLaws   YSXrNQ')"
   ]
  },
  {
   "cell_type": "code",
   "execution_count": null,
   "id": "f302df11",
   "metadata": {},
   "outputs": [],
   "source": []
  }
 ],
 "metadata": {
  "kernelspec": {
   "display_name": "Python 3 (ipykernel)",
   "language": "python",
   "name": "python3"
  },
  "language_info": {
   "codemirror_mode": {
    "name": "ipython",
    "version": 3
   },
   "file_extension": ".py",
   "mimetype": "text/x-python",
   "name": "python",
   "nbconvert_exporter": "python",
   "pygments_lexer": "ipython3",
   "version": "3.9.7"
  }
 },
 "nbformat": 4,
 "nbformat_minor": 5
}
