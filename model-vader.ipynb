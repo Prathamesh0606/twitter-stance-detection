{
 "cells": [
  {
   "cell_type": "code",
   "execution_count": 7,
   "id": "4ceb8d76",
   "metadata": {},
   "outputs": [],
   "source": [
    "import numpy as np\n",
    "import pandas as pd\n",
    "from pathlib import Path"
   ]
  },
  {
   "cell_type": "code",
   "execution_count": 8,
   "id": "8c898044",
   "metadata": {},
   "outputs": [],
   "source": [
    "path = Path('./data')"
   ]
  },
  {
   "cell_type": "code",
   "execution_count": 9,
   "id": "5818fec1",
   "metadata": {},
   "outputs": [
    {
     "data": {
      "text/html": [
       "<div>\n",
       "<style scoped>\n",
       "    .dataframe tbody tr th:only-of-type {\n",
       "        vertical-align: middle;\n",
       "    }\n",
       "\n",
       "    .dataframe tbody tr th {\n",
       "        vertical-align: top;\n",
       "    }\n",
       "\n",
       "    .dataframe thead th {\n",
       "        text-align: right;\n",
       "    }\n",
       "</style>\n",
       "<table border=\"1\" class=\"dataframe\">\n",
       "  <thead>\n",
       "    <tr style=\"text-align: right;\">\n",
       "      <th></th>\n",
       "      <th>tweetUrl</th>\n",
       "      <th>date</th>\n",
       "      <th>renderedContent</th>\n",
       "      <th>tweetId</th>\n",
       "      <th>userId</th>\n",
       "      <th>replyCount</th>\n",
       "      <th>retweetCount</th>\n",
       "      <th>likeCount</th>\n",
       "      <th>quoteCount</th>\n",
       "      <th>source</th>\n",
       "      <th>media</th>\n",
       "      <th>retweetedTweet</th>\n",
       "      <th>quotedTweet</th>\n",
       "      <th>mentionedUsers</th>\n",
       "    </tr>\n",
       "  </thead>\n",
       "  <tbody>\n",
       "    <tr>\n",
       "      <th>0</th>\n",
       "      <td>https://twitter.com/ShashiRajbhar6/status/1376...</td>\n",
       "      <td>2021-03-30 03:33:46+00:00</td>\n",
       "      <td>Support 👇\\n\\n#FarmersProtest</td>\n",
       "      <td>1.376739e+18</td>\n",
       "      <td>1.015970e+18</td>\n",
       "      <td>0</td>\n",
       "      <td>0</td>\n",
       "      <td>0</td>\n",
       "      <td>0</td>\n",
       "      <td>&lt;a href=\"http://twitter.com/download/android\" ...</td>\n",
       "      <td>NaN</td>\n",
       "      <td>NaN</td>\n",
       "      <td>NaN</td>\n",
       "      <td>NaN</td>\n",
       "    </tr>\n",
       "    <tr>\n",
       "      <th>1</th>\n",
       "      <td>https://twitter.com/kaursuk06272818/status/137...</td>\n",
       "      <td>2021-03-30 03:33:23+00:00</td>\n",
       "      <td>Supporting farmers means supporting our countr...</td>\n",
       "      <td>1.376739e+18</td>\n",
       "      <td>1.332937e+18</td>\n",
       "      <td>0</td>\n",
       "      <td>0</td>\n",
       "      <td>0</td>\n",
       "      <td>0</td>\n",
       "      <td>&lt;a href=\"http://twitter.com/download/android\" ...</td>\n",
       "      <td>[{'previewUrl': 'https://pbs.twimg.com/media/E...</td>\n",
       "      <td>NaN</td>\n",
       "      <td>NaN</td>\n",
       "      <td>NaN</td>\n",
       "    </tr>\n",
       "    <tr>\n",
       "      <th>2</th>\n",
       "      <td>https://twitter.com/kaursuk06272818/status/137...</td>\n",
       "      <td>2021-03-30 03:31:00+00:00</td>\n",
       "      <td>Support farmers if you are related to food #St...</td>\n",
       "      <td>1.376739e+18</td>\n",
       "      <td>1.332937e+18</td>\n",
       "      <td>0</td>\n",
       "      <td>0</td>\n",
       "      <td>0</td>\n",
       "      <td>0</td>\n",
       "      <td>&lt;a href=\"http://twitter.com/download/android\" ...</td>\n",
       "      <td>[{'previewUrl': 'https://pbs.twimg.com/media/E...</td>\n",
       "      <td>NaN</td>\n",
       "      <td>NaN</td>\n",
       "      <td>NaN</td>\n",
       "    </tr>\n",
       "    <tr>\n",
       "      <th>3</th>\n",
       "      <td>https://twitter.com/SukhdevSingh_/status/13767...</td>\n",
       "      <td>2021-03-30 03:30:45+00:00</td>\n",
       "      <td>#StopHateAgainstFarmers support #FarmersProtes...</td>\n",
       "      <td>1.376739e+18</td>\n",
       "      <td>1.308357e+18</td>\n",
       "      <td>0</td>\n",
       "      <td>1</td>\n",
       "      <td>3</td>\n",
       "      <td>0</td>\n",
       "      <td>&lt;a href=\"http://twitter.com/download/android\" ...</td>\n",
       "      <td>NaN</td>\n",
       "      <td>NaN</td>\n",
       "      <td>NaN</td>\n",
       "      <td>NaN</td>\n",
       "    </tr>\n",
       "    <tr>\n",
       "      <th>4</th>\n",
       "      <td>https://twitter.com/Davidmu66668113/status/137...</td>\n",
       "      <td>2021-03-30 03:30:30+00:00</td>\n",
       "      <td>You hate farmers I hate you, \\nif you love the...</td>\n",
       "      <td>1.376739e+18</td>\n",
       "      <td>1.357312e+18</td>\n",
       "      <td>0</td>\n",
       "      <td>0</td>\n",
       "      <td>1</td>\n",
       "      <td>0</td>\n",
       "      <td>&lt;a href=\"http://twitter.com/download/android\" ...</td>\n",
       "      <td>NaN</td>\n",
       "      <td>NaN</td>\n",
       "      <td>NaN</td>\n",
       "      <td>NaN</td>\n",
       "    </tr>\n",
       "  </tbody>\n",
       "</table>\n",
       "</div>"
      ],
      "text/plain": [
       "                                            tweetUrl  \\\n",
       "0  https://twitter.com/ShashiRajbhar6/status/1376...   \n",
       "1  https://twitter.com/kaursuk06272818/status/137...   \n",
       "2  https://twitter.com/kaursuk06272818/status/137...   \n",
       "3  https://twitter.com/SukhdevSingh_/status/13767...   \n",
       "4  https://twitter.com/Davidmu66668113/status/137...   \n",
       "\n",
       "                        date  \\\n",
       "0  2021-03-30 03:33:46+00:00   \n",
       "1  2021-03-30 03:33:23+00:00   \n",
       "2  2021-03-30 03:31:00+00:00   \n",
       "3  2021-03-30 03:30:45+00:00   \n",
       "4  2021-03-30 03:30:30+00:00   \n",
       "\n",
       "                                     renderedContent       tweetId  \\\n",
       "0                       Support 👇\\n\\n#FarmersProtest  1.376739e+18   \n",
       "1  Supporting farmers means supporting our countr...  1.376739e+18   \n",
       "2  Support farmers if you are related to food #St...  1.376739e+18   \n",
       "3  #StopHateAgainstFarmers support #FarmersProtes...  1.376739e+18   \n",
       "4  You hate farmers I hate you, \\nif you love the...  1.376739e+18   \n",
       "\n",
       "         userId  replyCount  retweetCount  likeCount  quoteCount  \\\n",
       "0  1.015970e+18           0             0          0           0   \n",
       "1  1.332937e+18           0             0          0           0   \n",
       "2  1.332937e+18           0             0          0           0   \n",
       "3  1.308357e+18           0             1          3           0   \n",
       "4  1.357312e+18           0             0          1           0   \n",
       "\n",
       "                                              source  \\\n",
       "0  <a href=\"http://twitter.com/download/android\" ...   \n",
       "1  <a href=\"http://twitter.com/download/android\" ...   \n",
       "2  <a href=\"http://twitter.com/download/android\" ...   \n",
       "3  <a href=\"http://twitter.com/download/android\" ...   \n",
       "4  <a href=\"http://twitter.com/download/android\" ...   \n",
       "\n",
       "                                               media  retweetedTweet  \\\n",
       "0                                                NaN             NaN   \n",
       "1  [{'previewUrl': 'https://pbs.twimg.com/media/E...             NaN   \n",
       "2  [{'previewUrl': 'https://pbs.twimg.com/media/E...             NaN   \n",
       "3                                                NaN             NaN   \n",
       "4                                                NaN             NaN   \n",
       "\n",
       "  quotedTweet mentionedUsers  \n",
       "0         NaN            NaN  \n",
       "1         NaN            NaN  \n",
       "2         NaN            NaN  \n",
       "3         NaN            NaN  \n",
       "4         NaN            NaN  "
      ]
     },
     "execution_count": 9,
     "metadata": {},
     "output_type": "execute_result"
    }
   ],
   "source": [
    "tweets = pd.read_csv(path/'tweets.csv', encoding = 'utf-8')\n",
    "pd.set_option('display.max_columns', None)\n",
    "pd.set_option('display.max_rows', None)\n",
    "df = tweets\n",
    "df.head(5)"
   ]
  },
  {
   "cell_type": "code",
   "execution_count": 10,
   "id": "8c54720c",
   "metadata": {},
   "outputs": [],
   "source": [
    "df = df[['tweetId', 'renderedContent']]"
   ]
  },
  {
   "cell_type": "code",
   "execution_count": 11,
   "id": "d40e7db2",
   "metadata": {},
   "outputs": [
    {
     "data": {
      "text/plain": [
       "(1015570, 2)"
      ]
     },
     "execution_count": 11,
     "metadata": {},
     "output_type": "execute_result"
    }
   ],
   "source": [
    "df.shape"
   ]
  },
  {
   "cell_type": "code",
   "execution_count": 12,
   "id": "89de0a33",
   "metadata": {},
   "outputs": [],
   "source": [
    "df = df.drop_duplicates(subset='renderedContent')"
   ]
  },
  {
   "cell_type": "code",
   "execution_count": 13,
   "id": "ffb16a47",
   "metadata": {},
   "outputs": [
    {
     "data": {
      "text/plain": [
       "(918639, 2)"
      ]
     },
     "execution_count": 13,
     "metadata": {},
     "output_type": "execute_result"
    }
   ],
   "source": [
    "df.shape"
   ]
  },
  {
   "cell_type": "code",
   "execution_count": 14,
   "id": "5aba1ef2",
   "metadata": {},
   "outputs": [],
   "source": [
    "import re\n",
    "import demoji\n",
    "import emoji\n",
    "import operator\n",
    "import functools  \n",
    "from bs4 import BeautifulSoup\n",
    "from itertools import chain\n",
    "from autocorrect import spell\n",
    "from textblob import TextBlob\n",
    "from gensim.parsing.preprocessing import remove_stopwords\n",
    "import string\n",
    "combining_marks = '[\\u0300-\\u036F\\u0483-\\u0489\\u0591-\\u05BD\\u05BF\\u05C1\\u05C2\\u05C4\\u05C5\\u05C7\\u0610-\\u061A\\u064B-\\u065F\\u0670\\u06D6-\\u06DC\\u06DF-\\u06E4\\u06E7\\u06E8\\u06EA-\\u06ED\\u0711\\u0730-\\u074A\\u07A6-\\u07B0\\u07EB-\\u07F3\\u07FD\\u0816-\\u0819\\u081B-\\u0823\\u0825-\\u0827\\u0829-\\u082D\\u0859-\\u085B\\u08D3-\\u08E1\\u08E3-\\u0903\\u093A-\\u093C\\u093E-\\u094F\\u0951-\\u0957\\u0962\\u0963\\u0981-\\u0983\\u09BC\\u09BE-\\u09C4\\u09C7\\u09C8\\u09CB-\\u09CD\\u09D7\\u09E2\\u09E3\\u09FE\\u0A01-\\u0A03\\u0A3C\\u0A3E-\\u0A42\\u0A47\\u0A48\\u0A4B-\\u0A4D\\u0A51\\u0A70\\u0A71\\u0A75\\u0A81-\\u0A83\\u0ABC\\u0ABE-\\u0AC5\\u0AC7-\\u0AC9\\u0ACB-\\u0ACD\\u0AE2\\u0AE3\\u0AFA-\\u0AFF\\u0B01-\\u0B03\\u0B3C\\u0B3E-\\u0B44\\u0B47\\u0B48\\u0B4B-\\u0B4D\\u0B56\\u0B57\\u0B62\\u0B63\\u0B82\\u0BBE-\\u0BC2\\u0BC6-\\u0BC8\\u0BCA-\\u0BCD\\u0BD7\\u0C00-\\u0C04\\u0C3E-\\u0C44\\u0C46-\\u0C48\\u0C4A-\\u0C4D\\u0C55\\u0C56\\u0C62\\u0C63\\u0C81-\\u0C83\\u0CBC\\u0CBE-\\u0CC4\\u0CC6-\\u0CC8\\u0CCA-\\u0CCD\\u0CD5\\u0CD6\\u0CE2\\u0CE3\\u0D00-\\u0D03\\u0D3B\\u0D3C\\u0D3E-\\u0D44\\u0D46-\\u0D48\\u0D4A-\\u0D4D\\u0D57\\u0D62\\u0D63\\u0D82\\u0D83\\u0DCA\\u0DCF-\\u0DD4\\u0DD6\\u0DD8-\\u0DDF\\u0DF2\\u0DF3\\u0E31\\u0E34-\\u0E3A\\u0E47-\\u0E4E\\u0EB1\\u0EB4-\\u0EBC\\u0EC8-\\u0ECD\\u0F18\\u0F19\\u0F35\\u0F37\\u0F39\\u0F3E\\u0F3F\\u0F71-\\u0F84\\u0F86\\u0F87\\u0F8D-\\u0F97\\u0F99-\\u0FBC\\u0FC6\\u102B-\\u103E\\u1056-\\u1059\\u105E-\\u1060\\u1062-\\u1064\\u1067-\\u106D\\u1071-\\u1074\\u1082-\\u108D\\u108F\\u109A-\\u109D\\u135D-\\u135F\\u1712-\\u1714\\u1732-\\u1734\\u1752\\u1753\\u1772\\u1773\\u17B4-\\u17D3\\u17DD\\u180B-\\u180D\\u1885\\u1886\\u18A9\\u1920-\\u192B\\u1930-\\u193B\\u1A17-\\u1A1B\\u1A55-\\u1A5E\\u1A60-\\u1A7C\\u1A7F\\u1AB0-\\u1ABE\\u1B00-\\u1B04\\u1B34-\\u1B44\\u1B6B-\\u1B73\\u1B80-\\u1B82\\u1BA1-\\u1BAD\\u1BE6-\\u1BF3\\u1C24-\\u1C37\\u1CD0-\\u1CD2\\u1CD4-\\u1CE8\\u1CED\\u1CF4\\u1CF7-\\u1CF9\\u1DC0-\\u1DF9\\u1DFB-\\u1DFF\\u20D0-\\u20F0\\u2CEF-\\u2CF1\\u2D7F\\u2DE0-\\u2DFF\\u302A-\\u302F\\u3099\\u309A\\uA66F-\\uA672\\uA674-\\uA67D\\uA69E\\uA69F\\uA6F0\\uA6F1\\uA802\\uA806\\uA80B\\uA823-\\uA827\\uA880\\uA881\\uA8B4-\\uA8C5\\uA8E0-\\uA8F1\\uA8FF\\uA926-\\uA92D\\uA947-\\uA953\\uA980-\\uA983\\uA9B3-\\uA9C0\\uA9E5\\uAA29-\\uAA36\\uAA43\\uAA4C\\uAA4D\\uAA7B-\\uAA7D\\uAAB0\\uAAB2-\\uAAB4\\uAAB7\\uAAB8\\uAABE\\uAABF\\uAAC1\\uAAEB-\\uAAEF\\uAAF5\\uAAF6\\uABE3-\\uABEA\\uABEC\\uABED\\uFB1E\\uFE00-\\uFE0F\\uFE20-\\uFE2F\\U000101FD\\U000102E0\\U00010376-\\U0001037A\\U00010A01-\\U00010A03\\U00010A05\\U00010A06\\U00010A0C-\\U00010A0F\\U00010A38-\\U00010A3A\\U00010A3F\\U00010AE5\\U00010AE6\\U00010D24-\\U00010D27\\U00010F46-\\U00010F50\\U00011000-\\U00011002\\U00011038-\\U00011046\\U0001107F-\\U00011082\\U000110B0-\\U000110BA\\U00011100-\\U00011102\\U00011127-\\U00011134\\U00011145\\U00011146\\U00011173\\U00011180-\\U00011182\\U000111B3-\\U000111C0\\U000111C9-\\U000111CC\\U0001122C-\\U00011237\\U0001123E\\U000112DF-\\U000112EA\\U00011300-\\U00011303\\U0001133B\\U0001133C\\U0001133E-\\U00011344\\U00011347\\U00011348\\U0001134B-\\U0001134D\\U00011357\\U00011362\\U00011363\\U00011366-\\U0001136C\\U00011370-\\U00011374\\U00011435-\\U00011446\\U0001145E\\U000114B0-\\U000114C3\\U000115AF-\\U000115B5\\U000115B8-\\U000115C0\\U000115DC\\U000115DD\\U00011630-\\U00011640\\U000116AB-\\U000116B7\\U0001171D-\\U0001172B\\U0001182C-\\U0001183A\\U000119D1-\\U000119D7\\U000119DA-\\U000119E0\\U000119E4\\U00011A01-\\U00011A0A\\U00011A33-\\U00011A39\\U00011A3B-\\U00011A3E\\U00011A47\\U00011A51-\\U00011A5B\\U00011A8A-\\U00011A99\\U00011C2F-\\U00011C36\\U00011C38-\\U00011C3F\\U00011C92-\\U00011CA7\\U00011CA9-\\U00011CB6\\U00011D31-\\U00011D36\\U00011D3A\\U00011D3C\\U00011D3D\\U00011D3F-\\U00011D45\\U00011D47\\U00011D8A-\\U00011D8E\\U00011D90\\U00011D91\\U00011D93-\\U00011D97\\U00011EF3-\\U00011EF6\\U00016AF0-\\U00016AF4\\U00016B30-\\U00016B36\\U00016F4F\\U00016F51-\\U00016F87\\U00016F8F-\\U00016F92\\U0001BC9D\\U0001BC9E\\U0001D165-\\U0001D169\\U0001D16D-\\U0001D172\\U0001D17B-\\U0001D182\\U0001D185-\\U0001D18B\\U0001D1AA-\\U0001D1AD\\U0001D242-\\U0001D244\\U0001DA00-\\U0001DA36\\U0001DA3B-\\U0001DA6C\\U0001DA75\\U0001DA84\\U0001DA9B-\\U0001DA9F\\U0001DAA1-\\U0001DAAF\\U0001E000-\\U0001E006\\U0001E008-\\U0001E018\\U0001E01B-\\U0001E021\\U0001E023\\U0001E024\\U0001E026-\\U0001E02A\\U0001E130-\\U0001E136\\U0001E2EC-\\U0001E2EF\\U0001E8D0-\\U0001E8D6\\U0001E944-\\U0001E94A\\U000E0100-\\U000E01EF]'\n",
    "\n",
    "def cleanString(text):\n",
    "    \n",
    "    soup = BeautifulSoup(text, features=\"html.parser\")\n",
    "    text = str(soup.get_text())\n",
    "    # to remove links that start with HTTP/HTTPS in the tweet\n",
    "    text = re.sub(r'https?:\\/\\/(www\\.)?[-a-zA-Z0–9@:%._\\+~#=]{2,256}\\.[a-z]{2,6}\\b([-a-zA-Z0–9@:%_\\+.~#?&//=]*)', '', text, flags=re.MULTILINE) \n",
    "    text = re.sub('http[^\\s]+','',text)\n",
    "    # to remove other url links\n",
    "    text = re.sub(r'[-a-zA-Z0–9@:%._\\+~#=]{2,256}\\.[a-z]{2,6}\\b([-a-zA-Z0–9@:%_\\+.~#?&//=]*)', '', text, flags=re.MULTILINE) \n",
    "\n",
    "    \n",
    "    text = re.sub(r'https?:\\/\\/\\S*', '', text, flags=re.MULTILINE) #removing links\n",
    "    text = re.sub(r'twitter?\\.\\S*', '', text, flags=re.MULTILINE)  #removing links\n",
    "    text = re.sub(r'youtu?\\.\\S*', '', text, flags=re.MULTILINE)   #removing links\n",
    "    \n",
    "    #splitting hastags in words\n",
    "#     text = re.sub(\n",
    "#         r'#[a-zA-Z]\\S*',lambda m: ' '.join(re.findall('[A-Z][^A-Z]*|[a-z][^A-Z]*', m.group().lstrip('#'))),\n",
    "#         text,)\n",
    "    \n",
    "    text = re.sub(\"@[A-Za-z0-9_]+[:]*\",\"\", text)  #user mentions\n",
    "#     text = re.sub(\"#(?:(?![A-Za-z])[\\w]{}*)+\".format(combining_marks),\"\", text)  #dropping hastags starting with non english characters\n",
    "\n",
    "#     text = \" \".join([spell(w) for w in text.split()])\n",
    "\n",
    "    #replacing '\\n' with space\n",
    "    text = text.replace('\\n', ' ')  \n",
    "    \n",
    "    #remove numbers\n",
    "#     text = re.sub(r\"\\d\", \"\", text)\n",
    "    \n",
    "    #removing punctuations\n",
    "#     text = text.translate(str.maketrans('', '', string.punctuation))\n",
    "    \n",
    "    #converting emojis to plain text according to thier meanings\n",
    "#     dic = demoji.findall(text)\n",
    "#     em_split_emoji = emoji.get_emoji_regexp().split(text)\n",
    "#     em_split_whitespace = [substr.split() for substr in em_split_emoji]\n",
    "#     em_split = functools.reduce(operator.concat, em_split_whitespace)\n",
    "#     reformed = [dic[word] if word in dic else word for word in em_split]\n",
    "#     text = \" \".join(reformed)\n",
    "#     text = re.sub(r\"_\", \" \", text)\n",
    "    \n",
    "    #removing stopwords\n",
    "#     text = remove_stopwords(text)\n",
    "#     text = text.lower()  #converting to all lower case \n",
    "    return text\n",
    "df['renderedContent'] = df['renderedContent'].apply(cleanString)"
   ]
  },
  {
   "cell_type": "code",
   "execution_count": 15,
   "id": "aefefefd",
   "metadata": {},
   "outputs": [
    {
     "data": {
      "text/html": [
       "<div>\n",
       "<style scoped>\n",
       "    .dataframe tbody tr th:only-of-type {\n",
       "        vertical-align: middle;\n",
       "    }\n",
       "\n",
       "    .dataframe tbody tr th {\n",
       "        vertical-align: top;\n",
       "    }\n",
       "\n",
       "    .dataframe thead th {\n",
       "        text-align: right;\n",
       "    }\n",
       "</style>\n",
       "<table border=\"1\" class=\"dataframe\">\n",
       "  <thead>\n",
       "    <tr style=\"text-align: right;\">\n",
       "      <th></th>\n",
       "      <th>tweetId</th>\n",
       "      <th>renderedContent</th>\n",
       "    </tr>\n",
       "  </thead>\n",
       "  <tbody>\n",
       "    <tr>\n",
       "      <th>0</th>\n",
       "      <td>1.376739e+18</td>\n",
       "      <td>Support 👇  #FarmersProtest</td>\n",
       "    </tr>\n",
       "    <tr>\n",
       "      <th>1</th>\n",
       "      <td>1.376739e+18</td>\n",
       "      <td>Supporting farmers means supporting our countr...</td>\n",
       "    </tr>\n",
       "    <tr>\n",
       "      <th>2</th>\n",
       "      <td>1.376739e+18</td>\n",
       "      <td>Support farmers if you are related to food #St...</td>\n",
       "    </tr>\n",
       "    <tr>\n",
       "      <th>3</th>\n",
       "      <td>1.376739e+18</td>\n",
       "      <td>#StopHateAgainstFarmers support #FarmersProtes...</td>\n",
       "    </tr>\n",
       "    <tr>\n",
       "      <th>4</th>\n",
       "      <td>1.376739e+18</td>\n",
       "      <td>You hate farmers I hate you,  if you love them...</td>\n",
       "    </tr>\n",
       "  </tbody>\n",
       "</table>\n",
       "</div>"
      ],
      "text/plain": [
       "        tweetId                                    renderedContent\n",
       "0  1.376739e+18                         Support 👇  #FarmersProtest\n",
       "1  1.376739e+18  Supporting farmers means supporting our countr...\n",
       "2  1.376739e+18  Support farmers if you are related to food #St...\n",
       "3  1.376739e+18  #StopHateAgainstFarmers support #FarmersProtes...\n",
       "4  1.376739e+18  You hate farmers I hate you,  if you love them..."
      ]
     },
     "execution_count": 15,
     "metadata": {},
     "output_type": "execute_result"
    }
   ],
   "source": [
    "df.head()"
   ]
  },
  {
   "cell_type": "code",
   "execution_count": 16,
   "id": "82be86c0",
   "metadata": {},
   "outputs": [],
   "source": [
    "df['split_tweet'] = [w.split() for w in df['renderedContent']]"
   ]
  },
  {
   "cell_type": "code",
   "execution_count": 17,
   "id": "1d999646",
   "metadata": {},
   "outputs": [],
   "source": [
    "df_greater_than_5 = df[df['split_tweet'].str.len()>5]"
   ]
  },
  {
   "cell_type": "code",
   "execution_count": 18,
   "id": "34d10c2b",
   "metadata": {},
   "outputs": [
    {
     "data": {
      "text/plain": [
       "(839378, 3)"
      ]
     },
     "execution_count": 18,
     "metadata": {},
     "output_type": "execute_result"
    }
   ],
   "source": [
    "df_greater_than_5.shape"
   ]
  },
  {
   "cell_type": "code",
   "execution_count": 19,
   "id": "7c829790",
   "metadata": {},
   "outputs": [
    {
     "data": {
      "text/plain": [
       "(918639, 3)"
      ]
     },
     "execution_count": 19,
     "metadata": {},
     "output_type": "execute_result"
    }
   ],
   "source": [
    "df.shape"
   ]
  },
  {
   "cell_type": "code",
   "execution_count": 20,
   "id": "4ff04144",
   "metadata": {},
   "outputs": [],
   "source": [
    "df_greater_than_5.to_csv('data_for_stance_prediction.csv')"
   ]
  },
  {
   "cell_type": "code",
   "execution_count": 9,
   "id": "d6d0ba42",
   "metadata": {},
   "outputs": [],
   "source": [
    "from gensim.models.phrases import Phrases, Phraser\n",
    "from gensim.models import Word2Vec\n",
    "from gensim.test.utils import get_tmpfile\n",
    "from gensim.models import KeyedVectors\n",
    "from time import time \n",
    "from collections import defaultdict\n",
    "\n",
    "import logging  # Setting up the loggings to monitor gensim\n",
    "logging.basicConfig(format=\"%(levelname)s - %(asctime)s: %(message)s\", datefmt= '%H:%M:%S', level=logging.INFO)"
   ]
  },
  {
   "cell_type": "code",
   "execution_count": 10,
   "id": "f08bf046",
   "metadata": {},
   "outputs": [],
   "source": [
    "import multiprocessing"
   ]
  },
  {
   "cell_type": "code",
   "execution_count": 6,
   "id": "d58a84d3",
   "metadata": {},
   "outputs": [],
   "source": [
    "# df = df.reset_index(drop=True)"
   ]
  },
  {
   "cell_type": "code",
   "execution_count": 7,
   "id": "41d7fe5f",
   "metadata": {},
   "outputs": [],
   "source": [
    "# df = df[['tweetId', 'renderedContent']]"
   ]
  },
  {
   "cell_type": "code",
   "execution_count": 11,
   "id": "3df2e783",
   "metadata": {},
   "outputs": [
    {
     "data": {
      "text/plain": [
       "(918639, 2)"
      ]
     },
     "execution_count": 11,
     "metadata": {},
     "output_type": "execute_result"
    }
   ],
   "source": [
    "df.shape"
   ]
  },
  {
   "cell_type": "code",
   "execution_count": 12,
   "id": "59f56def",
   "metadata": {},
   "outputs": [
    {
     "data": {
      "text/html": [
       "<div>\n",
       "<style scoped>\n",
       "    .dataframe tbody tr th:only-of-type {\n",
       "        vertical-align: middle;\n",
       "    }\n",
       "\n",
       "    .dataframe tbody tr th {\n",
       "        vertical-align: top;\n",
       "    }\n",
       "\n",
       "    .dataframe thead th {\n",
       "        text-align: right;\n",
       "    }\n",
       "</style>\n",
       "<table border=\"1\" class=\"dataframe\">\n",
       "  <thead>\n",
       "    <tr style=\"text-align: right;\">\n",
       "      <th></th>\n",
       "      <th>tweetId</th>\n",
       "      <th>renderedContent</th>\n",
       "    </tr>\n",
       "  </thead>\n",
       "  <tbody>\n",
       "    <tr>\n",
       "      <th>0</th>\n",
       "      <td>1.376739e+18</td>\n",
       "      <td>Support 👇  Farmers Protest</td>\n",
       "    </tr>\n",
       "    <tr>\n",
       "      <th>1</th>\n",
       "      <td>1.376739e+18</td>\n",
       "      <td>Supporting farmers means supporting our countr...</td>\n",
       "    </tr>\n",
       "    <tr>\n",
       "      <th>2</th>\n",
       "      <td>1.376739e+18</td>\n",
       "      <td>Support farmers if you are related to food Sto...</td>\n",
       "    </tr>\n",
       "    <tr>\n",
       "      <th>3</th>\n",
       "      <td>1.376739e+18</td>\n",
       "      <td>Stop Hate Against Farmers support Farmers Prot...</td>\n",
       "    </tr>\n",
       "    <tr>\n",
       "      <th>4</th>\n",
       "      <td>1.376739e+18</td>\n",
       "      <td>You hate farmers I hate you,  if you love them...</td>\n",
       "    </tr>\n",
       "  </tbody>\n",
       "</table>\n",
       "</div>"
      ],
      "text/plain": [
       "        tweetId                                    renderedContent\n",
       "0  1.376739e+18                         Support 👇  Farmers Protest\n",
       "1  1.376739e+18  Supporting farmers means supporting our countr...\n",
       "2  1.376739e+18  Support farmers if you are related to food Sto...\n",
       "3  1.376739e+18  Stop Hate Against Farmers support Farmers Prot...\n",
       "4  1.376739e+18  You hate farmers I hate you,  if you love them..."
      ]
     },
     "execution_count": 12,
     "metadata": {},
     "output_type": "execute_result"
    }
   ],
   "source": [
    "df.head()"
   ]
  },
  {
   "cell_type": "code",
   "execution_count": 91,
   "id": "662620b9",
   "metadata": {},
   "outputs": [],
   "source": [
    "\n",
    "# python -m spacy download en_core_web_sm"
   ]
  },
  {
   "cell_type": "code",
   "execution_count": null,
   "id": "a48f980a",
   "metadata": {},
   "outputs": [],
   "source": []
  },
  {
   "cell_type": "code",
   "execution_count": 10,
   "id": "041a6ee3",
   "metadata": {},
   "outputs": [],
   "source": [
    "# import re\n",
    "# def text_to_word_list(text):\n",
    "#     text = str(text)\n",
    "#     text = text.lower()\n",
    "\n",
    "# #     # Clean the text\n",
    "#     text = re.sub(r\"[^A-Za-z0-9^,!?.\\/'+]\", \" \", text)\n",
    "#     text = re.sub(r\"\\+\", \" plus \", text)\n",
    "#     text = re.sub(r\",\", \" \", text)\n",
    "#     text = re.sub(r\"_\", \" \", text)\n",
    "#     text = re.sub(r\"\\.\", \" \", text)\n",
    "#     text = re.sub(r\"!\", \" ! \", text)\n",
    "#     text = re.sub(r\"\\?\", \" ? \", text)\n",
    "#     text = re.sub(r\"'\", \"\", text)\n",
    "#     text = re.sub(r\":\", \" \", text)\n",
    "#     text = re.sub(r\"\\s{2,}\", \" \", text)\n",
    "# #     doc = nlp(text)\n",
    "# #     text = \" \".join([token.lemma_ for token in doc])\n",
    "# #     text = text.lower()\n",
    "# #     text = text.split()\n",
    "#     return text "
   ]
  },
  {
   "cell_type": "code",
   "execution_count": 11,
   "id": "49194c84",
   "metadata": {},
   "outputs": [],
   "source": [
    "# df.renderedContent = df.renderedContent.apply(text_to_word_list)"
   ]
  },
  {
   "cell_type": "code",
   "execution_count": 12,
   "id": "978a75e4",
   "metadata": {},
   "outputs": [],
   "source": [
    "# df = df[df['renderedContent'].str.len()>4]"
   ]
  },
  {
   "cell_type": "code",
   "execution_count": null,
   "id": "3fe02808",
   "metadata": {
    "scrolled": true
   },
   "outputs": [],
   "source": []
  },
  {
   "cell_type": "code",
   "execution_count": null,
   "id": "ab6ab2cb",
   "metadata": {},
   "outputs": [],
   "source": [
    "# from googletrans import Translator\n",
    "# translator = Translator()\n",
    "# def translate(text):\n",
    "#     try:\n",
    "#         return Translator().translate(text)\n",
    "#     except:\n",
    "#         return text\n",
    "\n",
    "# df.transalated_renderedContent = df.renderedContent.apply(translate)"
   ]
  },
  {
   "cell_type": "code",
   "execution_count": null,
   "id": "30116590",
   "metadata": {},
   "outputs": [],
   "source": [
    "# df.head()"
   ]
  },
  {
   "cell_type": "code",
   "execution_count": 14,
   "id": "2f41f3b2",
   "metadata": {},
   "outputs": [],
   "source": [
    "from vaderSentiment.vaderSentiment import SentimentIntensityAnalyzer\n",
    "sid_obj = SentimentIntensityAnalyzer()\n",
    "def get_vader_score(sent):\n",
    "    # This polarity score is between -1 to 1\n",
    "    sentiment_dict = sid_obj.polarity_scores(sent)\n",
    "    return sentiment_dict['compound']\n",
    "polarity = [get_vader_score(text) for text in df.renderedContent]"
   ]
  },
  {
   "cell_type": "code",
   "execution_count": null,
   "id": "938182e1",
   "metadata": {},
   "outputs": [],
   "source": []
  },
  {
   "cell_type": "code",
   "execution_count": 15,
   "id": "60fee57a",
   "metadata": {},
   "outputs": [],
   "source": [
    "# polarity"
   ]
  },
  {
   "cell_type": "code",
   "execution_count": 16,
   "id": "166bf9ce",
   "metadata": {},
   "outputs": [],
   "source": [
    "df['sentiment_polarity'] = polarity"
   ]
  },
  {
   "cell_type": "code",
   "execution_count": 17,
   "id": "5fd7f7ea",
   "metadata": {},
   "outputs": [
    {
     "data": {
      "text/html": [
       "<div>\n",
       "<style scoped>\n",
       "    .dataframe tbody tr th:only-of-type {\n",
       "        vertical-align: middle;\n",
       "    }\n",
       "\n",
       "    .dataframe tbody tr th {\n",
       "        vertical-align: top;\n",
       "    }\n",
       "\n",
       "    .dataframe thead th {\n",
       "        text-align: right;\n",
       "    }\n",
       "</style>\n",
       "<table border=\"1\" class=\"dataframe\">\n",
       "  <thead>\n",
       "    <tr style=\"text-align: right;\">\n",
       "      <th></th>\n",
       "      <th>tweetId</th>\n",
       "      <th>renderedContent</th>\n",
       "      <th>sentiment_polarity</th>\n",
       "    </tr>\n",
       "  </thead>\n",
       "  <tbody>\n",
       "    <tr>\n",
       "      <th>0</th>\n",
       "      <td>1.376739e+18</td>\n",
       "      <td>Support 👇  Farmers Protest</td>\n",
       "      <td>0.1779</td>\n",
       "    </tr>\n",
       "    <tr>\n",
       "      <th>1</th>\n",
       "      <td>1.376739e+18</td>\n",
       "      <td>Supporting farmers means supporting our countr...</td>\n",
       "      <td>-0.2732</td>\n",
       "    </tr>\n",
       "    <tr>\n",
       "      <th>2</th>\n",
       "      <td>1.376739e+18</td>\n",
       "      <td>Support farmers if you are related to food Sto...</td>\n",
       "      <td>-0.6369</td>\n",
       "    </tr>\n",
       "    <tr>\n",
       "      <th>3</th>\n",
       "      <td>1.376739e+18</td>\n",
       "      <td>Stop Hate Against Farmers support Farmers Prot...</td>\n",
       "      <td>-0.5719</td>\n",
       "    </tr>\n",
       "    <tr>\n",
       "      <th>4</th>\n",
       "      <td>1.376739e+18</td>\n",
       "      <td>You hate farmers I hate you,  if you love them...</td>\n",
       "      <td>-0.6476</td>\n",
       "    </tr>\n",
       "  </tbody>\n",
       "</table>\n",
       "</div>"
      ],
      "text/plain": [
       "        tweetId                                    renderedContent  \\\n",
       "0  1.376739e+18                         Support 👇  Farmers Protest   \n",
       "1  1.376739e+18  Supporting farmers means supporting our countr...   \n",
       "2  1.376739e+18  Support farmers if you are related to food Sto...   \n",
       "3  1.376739e+18  Stop Hate Against Farmers support Farmers Prot...   \n",
       "4  1.376739e+18  You hate farmers I hate you,  if you love them...   \n",
       "\n",
       "   sentiment_polarity  \n",
       "0              0.1779  \n",
       "1             -0.2732  \n",
       "2             -0.6369  \n",
       "3             -0.5719  \n",
       "4             -0.6476  "
      ]
     },
     "execution_count": 17,
     "metadata": {},
     "output_type": "execute_result"
    }
   ],
   "source": [
    "df.head()"
   ]
  },
  {
   "cell_type": "code",
   "execution_count": 24,
   "id": "b11e804e",
   "metadata": {},
   "outputs": [],
   "source": [
    "df['sentiment'] = [-1 if x <=-0.05 else 1 if x >= 0.05 else 0 for x in df.sentiment_polarity]"
   ]
  },
  {
   "cell_type": "code",
   "execution_count": 25,
   "id": "9f7b2f54",
   "metadata": {},
   "outputs": [
    {
     "data": {
      "text/html": [
       "<div>\n",
       "<style scoped>\n",
       "    .dataframe tbody tr th:only-of-type {\n",
       "        vertical-align: middle;\n",
       "    }\n",
       "\n",
       "    .dataframe tbody tr th {\n",
       "        vertical-align: top;\n",
       "    }\n",
       "\n",
       "    .dataframe thead th {\n",
       "        text-align: right;\n",
       "    }\n",
       "</style>\n",
       "<table border=\"1\" class=\"dataframe\">\n",
       "  <thead>\n",
       "    <tr style=\"text-align: right;\">\n",
       "      <th></th>\n",
       "      <th>tweetId</th>\n",
       "      <th>renderedContent</th>\n",
       "      <th>sentiment_polarity</th>\n",
       "      <th>sentiment</th>\n",
       "    </tr>\n",
       "  </thead>\n",
       "  <tbody>\n",
       "    <tr>\n",
       "      <th>0</th>\n",
       "      <td>1.376739e+18</td>\n",
       "      <td>Support 👇  Farmers Protest</td>\n",
       "      <td>0.1779</td>\n",
       "      <td>1</td>\n",
       "    </tr>\n",
       "    <tr>\n",
       "      <th>1</th>\n",
       "      <td>1.376739e+18</td>\n",
       "      <td>Supporting farmers means supporting our countr...</td>\n",
       "      <td>-0.2732</td>\n",
       "      <td>-1</td>\n",
       "    </tr>\n",
       "    <tr>\n",
       "      <th>2</th>\n",
       "      <td>1.376739e+18</td>\n",
       "      <td>Support farmers if you are related to food Sto...</td>\n",
       "      <td>-0.6369</td>\n",
       "      <td>-1</td>\n",
       "    </tr>\n",
       "    <tr>\n",
       "      <th>3</th>\n",
       "      <td>1.376739e+18</td>\n",
       "      <td>Stop Hate Against Farmers support Farmers Prot...</td>\n",
       "      <td>-0.5719</td>\n",
       "      <td>-1</td>\n",
       "    </tr>\n",
       "    <tr>\n",
       "      <th>4</th>\n",
       "      <td>1.376739e+18</td>\n",
       "      <td>You hate farmers I hate you,  if you love them...</td>\n",
       "      <td>-0.6476</td>\n",
       "      <td>-1</td>\n",
       "    </tr>\n",
       "  </tbody>\n",
       "</table>\n",
       "</div>"
      ],
      "text/plain": [
       "        tweetId                                    renderedContent  \\\n",
       "0  1.376739e+18                         Support 👇  Farmers Protest   \n",
       "1  1.376739e+18  Supporting farmers means supporting our countr...   \n",
       "2  1.376739e+18  Support farmers if you are related to food Sto...   \n",
       "3  1.376739e+18  Stop Hate Against Farmers support Farmers Prot...   \n",
       "4  1.376739e+18  You hate farmers I hate you,  if you love them...   \n",
       "\n",
       "   sentiment_polarity  sentiment  \n",
       "0              0.1779          1  \n",
       "1             -0.2732         -1  \n",
       "2             -0.6369         -1  \n",
       "3             -0.5719         -1  \n",
       "4             -0.6476         -1  "
      ]
     },
     "execution_count": 25,
     "metadata": {},
     "output_type": "execute_result"
    }
   ],
   "source": [
    "df.head()"
   ]
  },
  {
   "cell_type": "code",
   "execution_count": 26,
   "id": "c908d5c5",
   "metadata": {},
   "outputs": [],
   "source": [
    "textblob_supporting = df[df['sentiment'] == 1]\n",
    "textblob_opposing = df[df['sentiment'] == -1]\n",
    "textblob_neutral = df[df['sentiment'] == 0]\n",
    "\n",
    "textblob_supporting['renderedContent'].to_csv('vader_supporting.txt', sep='\\n')\n",
    "textblob_opposing['renderedContent'].to_csv('vader_opposing.txt', sep='\\n')\n",
    "textblob_neutral['renderedContent'].to_csv('vader_neutral.txt', sep='\\n')"
   ]
  },
  {
   "cell_type": "code",
   "execution_count": 16,
   "id": "726e0166",
   "metadata": {},
   "outputs": [
    {
     "data": {
      "text/plain": [
       "(176462, 4)"
      ]
     },
     "execution_count": 16,
     "metadata": {},
     "output_type": "execute_result"
    }
   ],
   "source": [
    "textblob_opposing.shape"
   ]
  },
  {
   "cell_type": "code",
   "execution_count": 27,
   "id": "db3f2106",
   "metadata": {},
   "outputs": [
    {
     "data": {
      "text/plain": [
       "(550109, 4)"
      ]
     },
     "execution_count": 27,
     "metadata": {},
     "output_type": "execute_result"
    }
   ],
   "source": [
    "textblob_opposing.shape"
   ]
  },
  {
   "cell_type": "code",
   "execution_count": 17,
   "id": "70c52309",
   "metadata": {},
   "outputs": [
    {
     "data": {
      "text/plain": [
       "(347743, 4)"
      ]
     },
     "execution_count": 17,
     "metadata": {},
     "output_type": "execute_result"
    }
   ],
   "source": [
    "textblob_supporting.shape"
   ]
  },
  {
   "cell_type": "code",
   "execution_count": 28,
   "id": "a0ce5121",
   "metadata": {},
   "outputs": [
    {
     "data": {
      "text/plain": [
       "(341411, 4)"
      ]
     },
     "execution_count": 28,
     "metadata": {},
     "output_type": "execute_result"
    }
   ],
   "source": [
    "textblob_supporting.shape"
   ]
  },
  {
   "cell_type": "code",
   "execution_count": 18,
   "id": "17b5b45a",
   "metadata": {
    "scrolled": true
   },
   "outputs": [
    {
     "data": {
      "text/plain": [
       "(394434, 4)"
      ]
     },
     "execution_count": 18,
     "metadata": {},
     "output_type": "execute_result"
    }
   ],
   "source": [
    "textblob_neutral.shape"
   ]
  },
  {
   "cell_type": "code",
   "execution_count": 29,
   "id": "265d5fca",
   "metadata": {},
   "outputs": [
    {
     "data": {
      "text/plain": [
       "(27119, 4)"
      ]
     },
     "execution_count": 29,
     "metadata": {},
     "output_type": "execute_result"
    }
   ],
   "source": [
    "textblob_neutral.shape"
   ]
  },
  {
   "cell_type": "code",
   "execution_count": null,
   "id": "38a68255",
   "metadata": {},
   "outputs": [],
   "source": []
  }
 ],
 "metadata": {
  "kernelspec": {
   "display_name": "Python 3 (ipykernel)",
   "language": "python",
   "name": "python3"
  },
  "language_info": {
   "codemirror_mode": {
    "name": "ipython",
    "version": 3
   },
   "file_extension": ".py",
   "mimetype": "text/x-python",
   "name": "python",
   "nbconvert_exporter": "python",
   "pygments_lexer": "ipython3",
   "version": "3.9.7"
  }
 },
 "nbformat": 4,
 "nbformat_minor": 5
}
