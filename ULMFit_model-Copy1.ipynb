{
 "cells": [
  {
   "cell_type": "code",
   "execution_count": 7,
   "id": "2dbb6a41",
   "metadata": {},
   "outputs": [
    {
     "name": "stdout",
     "output_type": "stream",
     "text": [
      "Collecting package metadata (current_repodata.json): done\n",
      "Solving environment: done\n",
      "\n",
      "# All requested packages already installed.\n",
      "\n",
      "\n",
      "Note: you may need to restart the kernel to use updated packages.\n"
     ]
    }
   ],
   "source": [
    "# conda install fastai\n"
   ]
  },
  {
   "cell_type": "code",
   "execution_count": 9,
   "id": "f5cac855",
   "metadata": {},
   "outputs": [],
   "source": [
    "from fastai import *\n",
    "import fastai\n",
    "from fastai.text.all import *\n",
    "from fastai.text import *\n",
    "from pathlib import Path\n",
    "import pandas as pd\n",
    "import numpy as np\n",
    "import re"
   ]
  },
  {
   "cell_type": "code",
   "execution_count": 4,
   "id": "e1fd1ef5",
   "metadata": {},
   "outputs": [
    {
     "data": {
      "text/plain": [
       "'2.5.3'"
      ]
     },
     "execution_count": 4,
     "metadata": {},
     "output_type": "execute_result"
    }
   ],
   "source": [
    "import torch\n",
    "torch.cuda.is_available()\n",
    "# fastai.__version__"
   ]
  },
  {
   "cell_type": "code",
   "execution_count": 12,
   "id": "1265afc5",
   "metadata": {},
   "outputs": [],
   "source": [
    "path = Path('./data')\n",
    "bs = 25\n",
    "df = pd.read_csv(path/'final_cleaned_data.csv')"
   ]
  },
  {
   "cell_type": "code",
   "execution_count": 13,
   "id": "63f0c18e",
   "metadata": {},
   "outputs": [
    {
     "data": {
      "text/html": [
       "<div>\n",
       "<style scoped>\n",
       "    .dataframe tbody tr th:only-of-type {\n",
       "        vertical-align: middle;\n",
       "    }\n",
       "\n",
       "    .dataframe tbody tr th {\n",
       "        vertical-align: top;\n",
       "    }\n",
       "\n",
       "    .dataframe thead th {\n",
       "        text-align: right;\n",
       "    }\n",
       "</style>\n",
       "<table border=\"1\" class=\"dataframe\">\n",
       "  <thead>\n",
       "    <tr style=\"text-align: right;\">\n",
       "      <th></th>\n",
       "      <th>Unnamed: 0</th>\n",
       "      <th>text</th>\n",
       "    </tr>\n",
       "  </thead>\n",
       "  <tbody>\n",
       "    <tr>\n",
       "      <th>0</th>\n",
       "      <td>0</td>\n",
       "      <td>Supporting farmers means supporting our country #StopHateAgainstFarmers #FarmersProtest</td>\n",
       "    </tr>\n",
       "    <tr>\n",
       "      <th>1</th>\n",
       "      <td>1</td>\n",
       "      <td>Support farmers if you are related to food #StopHateAgainstFarmers #FarmersProtest</td>\n",
       "    </tr>\n",
       "    <tr>\n",
       "      <th>2</th>\n",
       "      <td>2</td>\n",
       "      <td>#StopHateAgainstFarmers support #FarmersProtest by pressurising got. to accept farmer's genuine demand.</td>\n",
       "    </tr>\n",
       "    <tr>\n",
       "      <th>3</th>\n",
       "      <td>3</td>\n",
       "      <td>You hate farmers I hate you,  if you love them I love you! ;)   #StopHateAgainstFarmers  #FarmersProtest</td>\n",
       "    </tr>\n",
       "    <tr>\n",
       "      <th>4</th>\n",
       "      <td>4</td>\n",
       "      <td>They can't be farmers. Looks like Gundas are having good time. They seem to be violence thirsty goons. #FarmersProtest …</td>\n",
       "    </tr>\n",
       "  </tbody>\n",
       "</table>\n",
       "</div>"
      ],
      "text/plain": [
       "   Unnamed: 0  \\\n",
       "0           0   \n",
       "1           1   \n",
       "2           2   \n",
       "3           3   \n",
       "4           4   \n",
       "\n",
       "                                                                                                                       text  \n",
       "0                                  Supporting farmers means supporting our country #StopHateAgainstFarmers #FarmersProtest   \n",
       "1                                       Support farmers if you are related to food #StopHateAgainstFarmers #FarmersProtest   \n",
       "2                   #StopHateAgainstFarmers support #FarmersProtest by pressurising got. to accept farmer's genuine demand.  \n",
       "3                  You hate farmers I hate you,  if you love them I love you! ;)   #StopHateAgainstFarmers  #FarmersProtest  \n",
       "4  They can't be farmers. Looks like Gundas are having good time. They seem to be violence thirsty goons. #FarmersProtest …  "
      ]
     },
     "execution_count": 13,
     "metadata": {},
     "output_type": "execute_result"
    }
   ],
   "source": [
    "df.head()"
   ]
  },
  {
   "cell_type": "code",
   "execution_count": 14,
   "id": "f6e1c2c8",
   "metadata": {},
   "outputs": [],
   "source": [
    "df=df.iloc[:, 1:]"
   ]
  },
  {
   "cell_type": "code",
   "execution_count": 15,
   "id": "a98ab07d",
   "metadata": {
    "scrolled": true
   },
   "outputs": [
    {
     "data": {
      "text/html": [
       "<div>\n",
       "<style scoped>\n",
       "    .dataframe tbody tr th:only-of-type {\n",
       "        vertical-align: middle;\n",
       "    }\n",
       "\n",
       "    .dataframe tbody tr th {\n",
       "        vertical-align: top;\n",
       "    }\n",
       "\n",
       "    .dataframe thead th {\n",
       "        text-align: right;\n",
       "    }\n",
       "</style>\n",
       "<table border=\"1\" class=\"dataframe\">\n",
       "  <thead>\n",
       "    <tr style=\"text-align: right;\">\n",
       "      <th></th>\n",
       "      <th>text</th>\n",
       "    </tr>\n",
       "  </thead>\n",
       "  <tbody>\n",
       "    <tr>\n",
       "      <th>0</th>\n",
       "      <td>Supporting farmers means supporting our country #StopHateAgainstFarmers #FarmersProtest</td>\n",
       "    </tr>\n",
       "    <tr>\n",
       "      <th>1</th>\n",
       "      <td>Support farmers if you are related to food #StopHateAgainstFarmers #FarmersProtest</td>\n",
       "    </tr>\n",
       "    <tr>\n",
       "      <th>2</th>\n",
       "      <td>#StopHateAgainstFarmers support #FarmersProtest by pressurising got. to accept farmer's genuine demand.</td>\n",
       "    </tr>\n",
       "    <tr>\n",
       "      <th>3</th>\n",
       "      <td>You hate farmers I hate you,  if you love them I love you! ;)   #StopHateAgainstFarmers  #FarmersProtest</td>\n",
       "    </tr>\n",
       "    <tr>\n",
       "      <th>4</th>\n",
       "      <td>They can't be farmers. Looks like Gundas are having good time. They seem to be violence thirsty goons. #FarmersProtest …</td>\n",
       "    </tr>\n",
       "  </tbody>\n",
       "</table>\n",
       "</div>"
      ],
      "text/plain": [
       "                                                                                                                       text\n",
       "0                                  Supporting farmers means supporting our country #StopHateAgainstFarmers #FarmersProtest \n",
       "1                                       Support farmers if you are related to food #StopHateAgainstFarmers #FarmersProtest \n",
       "2                   #StopHateAgainstFarmers support #FarmersProtest by pressurising got. to accept farmer's genuine demand.\n",
       "3                  You hate farmers I hate you,  if you love them I love you! ;)   #StopHateAgainstFarmers  #FarmersProtest\n",
       "4  They can't be farmers. Looks like Gundas are having good time. They seem to be violence thirsty goons. #FarmersProtest …"
      ]
     },
     "execution_count": 15,
     "metadata": {},
     "output_type": "execute_result"
    }
   ],
   "source": [
    "df.head()"
   ]
  },
  {
   "cell_type": "code",
   "execution_count": 16,
   "id": "3a870048",
   "metadata": {},
   "outputs": [],
   "source": [
    "# df = df.sample(n=200000, random_state=30)"
   ]
  },
  {
   "cell_type": "code",
   "execution_count": 17,
   "id": "8649e0dd",
   "metadata": {},
   "outputs": [],
   "source": [
    "# !conda install --file requirements.txt\n"
   ]
  },
  {
   "cell_type": "code",
   "execution_count": 18,
   "id": "156fa21e",
   "metadata": {},
   "outputs": [
    {
     "name": "stdout",
     "output_type": "stream",
     "text": [
      "2.5.3\n"
     ]
    }
   ],
   "source": [
    "print(fastai.__version__)"
   ]
  },
  {
   "cell_type": "code",
   "execution_count": 26,
   "id": "5726b3f0",
   "metadata": {},
   "outputs": [
    {
     "data": {
      "text/html": [
       "<div>\n",
       "<style scoped>\n",
       "    .dataframe tbody tr th:only-of-type {\n",
       "        vertical-align: middle;\n",
       "    }\n",
       "\n",
       "    .dataframe tbody tr th {\n",
       "        vertical-align: top;\n",
       "    }\n",
       "\n",
       "    .dataframe thead th {\n",
       "        text-align: right;\n",
       "    }\n",
       "</style>\n",
       "<table border=\"1\" class=\"dataframe\">\n",
       "  <thead>\n",
       "    <tr style=\"text-align: right;\">\n",
       "      <th></th>\n",
       "      <th>text</th>\n",
       "      <th>is_valid</th>\n",
       "    </tr>\n",
       "  </thead>\n",
       "  <tbody>\n",
       "    <tr>\n",
       "      <th>0</th>\n",
       "      <td>Supporting farmers means supporting our country #StopHateAgainstFarmers #FarmersProtest</td>\n",
       "      <td>False</td>\n",
       "    </tr>\n",
       "    <tr>\n",
       "      <th>1</th>\n",
       "      <td>Support farmers if you are related to food #StopHateAgainstFarmers #FarmersProtest</td>\n",
       "      <td>False</td>\n",
       "    </tr>\n",
       "    <tr>\n",
       "      <th>2</th>\n",
       "      <td>#StopHateAgainstFarmers support #FarmersProtest by pressurising got. to accept farmer's genuine demand.</td>\n",
       "      <td>True</td>\n",
       "    </tr>\n",
       "    <tr>\n",
       "      <th>3</th>\n",
       "      <td>You hate farmers I hate you,  if you love them I love you! ;)   #StopHateAgainstFarmers  #FarmersProtest</td>\n",
       "      <td>True</td>\n",
       "    </tr>\n",
       "    <tr>\n",
       "      <th>4</th>\n",
       "      <td>They can't be farmers. Looks like Gundas are having good time. They seem to be violence thirsty goons. #FarmersProtest …</td>\n",
       "      <td>False</td>\n",
       "    </tr>\n",
       "  </tbody>\n",
       "</table>\n",
       "</div>"
      ],
      "text/plain": [
       "                                                                                                                       text  \\\n",
       "0                                  Supporting farmers means supporting our country #StopHateAgainstFarmers #FarmersProtest    \n",
       "1                                       Support farmers if you are related to food #StopHateAgainstFarmers #FarmersProtest    \n",
       "2                   #StopHateAgainstFarmers support #FarmersProtest by pressurising got. to accept farmer's genuine demand.   \n",
       "3                  You hate farmers I hate you,  if you love them I love you! ;)   #StopHateAgainstFarmers  #FarmersProtest   \n",
       "4  They can't be farmers. Looks like Gundas are having good time. They seem to be violence thirsty goons. #FarmersProtest …   \n",
       "\n",
       "   is_valid  \n",
       "0     False  \n",
       "1     False  \n",
       "2      True  \n",
       "3      True  \n",
       "4     False  "
      ]
     },
     "execution_count": 26,
     "metadata": {},
     "output_type": "execute_result"
    }
   ],
   "source": [
    "valid = np.random.choice([False,True], len(df['text']), p= [0.9, 0.1])\n",
    "df['is_valid'] = valid\n",
    "df.head()"
   ]
  },
  {
   "cell_type": "code",
   "execution_count": 27,
   "id": "d6b0155f",
   "metadata": {},
   "outputs": [
    {
     "data": {
      "text/html": [],
      "text/plain": [
       "<IPython.core.display.HTML object>"
      ]
     },
     "metadata": {},
     "output_type": "display_data"
    },
    {
     "data": {
      "text/html": [
       "<table border=\"1\" class=\"dataframe\">\n",
       "  <thead>\n",
       "    <tr style=\"text-align: right;\">\n",
       "      <th></th>\n",
       "      <th>text</th>\n",
       "      <th>text_</th>\n",
       "    </tr>\n",
       "  </thead>\n",
       "  <tbody>\n",
       "    <tr>\n",
       "      <th>0</th>\n",
       "      <td>xxbos xxmaj su xxrep 3 p ort of farmers # rihannasupportsindianfarmers # gretathunberg # supportfarmers # farmersprotest xxbos xxmaj farmer protest # xxmaj isportfarmers # farmersprotest # bharatbandh # xxup istandwithfarmer xxbos xxmaj hollywood and xxmaj international xxmaj players xxmaj standing with # xxmaj farmers # farmersprotest # farmersprotest # farmersprotest # farmersprotest # farmersprotest # farmersprotest xxbos xxmaj on xxmaj saturday xxmaj home xxmaj minister xxmaj amit xxmaj shah , xxup</td>\n",
       "      <td>xxmaj su xxrep 3 p ort of farmers # rihannasupportsindianfarmers # gretathunberg # supportfarmers # farmersprotest xxbos xxmaj farmer protest # xxmaj isportfarmers # farmersprotest # bharatbandh # xxup istandwithfarmer xxbos xxmaj hollywood and xxmaj international xxmaj players xxmaj standing with # xxmaj farmers # farmersprotest # farmersprotest # farmersprotest # farmersprotest # farmersprotest # farmersprotest xxbos xxmaj on xxmaj saturday xxmaj home xxmaj minister xxmaj amit xxmaj shah , xxup ncp</td>\n",
       "    </tr>\n",
       "    <tr>\n",
       "      <th>1</th>\n",
       "      <td># resign_primeminister # farmersprotest … xxbos xxmaj the farmer is the only man in our economy who buys everything at retail , sells everything at wholesale , and pays the freight both ways . # farmerssupporttraders # farmersprotest xxbos xxmaj shame on you xxmaj delhi police # farmersprotest # shameonyoubollywood # justicefornavreet … xxbos xxmaj am with my farmers # xxmaj farmersprotest / st … xxbos xxmaj just remember whatever happens .</td>\n",
       "      <td>resign_primeminister # farmersprotest … xxbos xxmaj the farmer is the only man in our economy who buys everything at retail , sells everything at wholesale , and pays the freight both ways . # farmerssupporttraders # farmersprotest xxbos xxmaj shame on you xxmaj delhi police # farmersprotest # shameonyoubollywood # justicefornavreet … xxbos xxmaj am with my farmers # xxmaj farmersprotest / st … xxbos xxmaj just remember whatever happens . ਸਦਾ</td>\n",
       "    </tr>\n",
       "    <tr>\n",
       "      <th>2</th>\n",
       "      <td>revokefarmacts … xxbos # farmersprotest # xxmaj sikh xxmaj they ca n’t say what ’s right for farmers if the gov’t is illegally protecting the interests of , xxmaj ambani , others . xxmaj they ’re known for leaving resourceful communities in trouble by outsourcing / monopolizing . xxmaj now modi gives them the nation ’s market ? xxbos xxmaj truth is stronger than lies . xxmaj truth will prevail . xxmaj</td>\n",
       "      <td>… xxbos # farmersprotest # xxmaj sikh xxmaj they ca n’t say what ’s right for farmers if the gov’t is illegally protecting the interests of , xxmaj ambani , others . xxmaj they ’re known for leaving resourceful communities in trouble by outsourcing / monopolizing . xxmaj now modi gives them the nation ’s market ? xxbos xxmaj truth is stronger than lies . xxmaj truth will prevail . xxmaj god</td>\n",
       "    </tr>\n",
       "    <tr>\n",
       "      <th>3</th>\n",
       "      <td>. # farmersprotest # monthsoffarmersprotest xxbos 🌾 🌾 # nationaljumladay xxmaj put an end to slogans ! xxmaj get to task , that is what the people elect their leaders for ! xxmaj put the nation ahead of yourself ! xxmaj listen to the farmers xxmaj rollback the farm bills xxmaj indian farmers are justified in seeking their due rights # farmersprotest cheema / sta … xxbos farmers from xxmaj odisha ,</td>\n",
       "      <td># farmersprotest # monthsoffarmersprotest xxbos 🌾 🌾 # nationaljumladay xxmaj put an end to slogans ! xxmaj get to task , that is what the people elect their leaders for ! xxmaj put the nation ahead of yourself ! xxmaj listen to the farmers xxmaj rollback the farm bills xxmaj indian farmers are justified in seeking their due rights # farmersprotest cheema / sta … xxbos farmers from xxmaj odisha , xxmaj</td>\n",
       "    </tr>\n",
       "    <tr>\n",
       "      <th>4</th>\n",
       "      <td>exploitation for farmers … xxbos xxmaj stay shut up , the same you are doing from the past days of protests . # farmersprotest # rihanasupportfarmers xxbos @ cmohry @ xxunk xxmaj naib tehsildar xxmaj ka paper leak ho gaya . xxmaj hajaro mehnati students ki mehnat par pani fer diya .. yahi hai insaaf apka xxbos xxmaj milk tan xxunk a je xxunk a xxmaj xxunk fer dairy wich pa deo</td>\n",
       "      <td>for farmers … xxbos xxmaj stay shut up , the same you are doing from the past days of protests . # farmersprotest # rihanasupportfarmers xxbos @ cmohry @ xxunk xxmaj naib tehsildar xxmaj ka paper leak ho gaya . xxmaj hajaro mehnati students ki mehnat par pani fer diya .. yahi hai insaaf apka xxbos xxmaj milk tan xxunk a je xxunk a xxmaj xxunk fer dairy wich pa deo ja</td>\n",
       "    </tr>\n",
       "    <tr>\n",
       "      <th>5</th>\n",
       "      <td>your roots . # nofarmernofood # farmersprotest … xxbos # farmersprotest xxmaj modi and modi bhagats still lying that bills will be xxunk to farmers . xxmaj bhai xxunk benefit nahi chaiye . xxmaj tum zabardasti benefit xxunk chahte ho . xxmaj apne paas rakho apna benefit . # xxunk # xxunk / stat … xxbos xxmaj have courage and pick the right side people . # bjpgovtdictatingtwitter # farmersprotest xxbos #</td>\n",
       "      <td>roots . # nofarmernofood # farmersprotest … xxbos # farmersprotest xxmaj modi and modi bhagats still lying that bills will be xxunk to farmers . xxmaj bhai xxunk benefit nahi chaiye . xxmaj tum zabardasti benefit xxunk chahte ho . xxmaj apne paas rakho apna benefit . # xxunk # xxunk / stat … xxbos xxmaj have courage and pick the right side people . # bjpgovtdictatingtwitter # farmersprotest xxbos # farmersprotest</td>\n",
       "    </tr>\n",
       "  </tbody>\n",
       "</table>"
      ],
      "text/plain": [
       "<IPython.core.display.HTML object>"
      ]
     },
     "metadata": {},
     "output_type": "display_data"
    }
   ],
   "source": [
    "# from lang_model import *\n",
    "# data_lm = lang_model(df, path, 'text', bs)\n",
    "imdb_lm = DataBlock(blocks=TextBlock.from_df('text', is_lm=True),\n",
    "                    get_x=ColReader('text'),\n",
    "                    splitter=ColSplitter())\n",
    "dls = imdb_lm.dataloaders(df, bs=64, seq_len=72)\n",
    "dls.show_batch(max_n=6)"
   ]
  },
  {
   "cell_type": "code",
   "execution_count": null,
   "id": "3a7a860f",
   "metadata": {},
   "outputs": [],
   "source": []
  },
  {
   "cell_type": "code",
   "execution_count": 1,
   "id": "bd0ace7f",
   "metadata": {},
   "outputs": [],
   "source": [
    "\n",
    "# data_lm = (TextList.from_csv(csv_name='final_cleaned_data.csv', path=path, cols='text')\n",
    "#            #We may have other temp folders that contain text files so we only keep what's in train and test\n",
    "#             .split_by_rand_pct(0.1)\n",
    "#            #We randomly split and keep 10% (10,000 reviews) for validation\n",
    "#             .label_for_lm()           \n",
    "#            #We want to do a language model so we label accordingly\n",
    "#             .databunch(bs=bs))\n",
    "# data_lm.save('data_lm.pkl')"
   ]
  },
  {
   "cell_type": "code",
   "execution_count": null,
   "id": "d4336eba",
   "metadata": {},
   "outputs": [],
   "source": []
  }
 ],
 "metadata": {
  "kernelspec": {
   "display_name": "Python 3 (ipykernel)",
   "language": "python",
   "name": "python3"
  },
  "language_info": {
   "codemirror_mode": {
    "name": "ipython",
    "version": 3
   },
   "file_extension": ".py",
   "mimetype": "text/x-python",
   "name": "python",
   "nbconvert_exporter": "python",
   "pygments_lexer": "ipython3",
   "version": "3.9.7"
  }
 },
 "nbformat": 4,
 "nbformat_minor": 5
}
