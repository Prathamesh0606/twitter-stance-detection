{
 "cells": [
  {
   "cell_type": "code",
   "execution_count": 1,
   "id": "0de0151d",
   "metadata": {},
   "outputs": [],
   "source": [
    "from fastai import *\n",
    "import fastai\n",
    "from fastai.text.all import *\n",
    "# from fastai.text import *\n",
    "# from fastai.test_utils import *\n",
    "from pathlib import Path\n",
    "import pandas as pd\n",
    "import numpy as np\n",
    "import re"
   ]
  },
  {
   "cell_type": "code",
   "execution_count": 2,
   "id": "8a625438",
   "metadata": {},
   "outputs": [
    {
     "data": {
      "text/plain": [
       "True"
      ]
     },
     "execution_count": 2,
     "metadata": {},
     "output_type": "execute_result"
    }
   ],
   "source": [
    "import torch\n",
    "torch.cuda.is_available()"
   ]
  },
  {
   "cell_type": "code",
   "execution_count": 3,
   "id": "70e60120",
   "metadata": {},
   "outputs": [],
   "source": [
    "path = Path('./data')\n",
    "path_lang_model = Path('./data/lang_model_data')\n",
    "\n",
    "# sample2 = pd.read_csv(path/'sampl.csv')\n",
    "# sample3 = pd.read_csv(path/'sample_3.csv')"
   ]
  },
  {
   "cell_type": "code",
   "execution_count": 4,
   "id": "b409540b",
   "metadata": {},
   "outputs": [],
   "source": [
    "sample1 = pd.read_csv(path/'sample_1.csv')"
   ]
  },
  {
   "cell_type": "code",
   "execution_count": 5,
   "id": "7eb35e7a",
   "metadata": {},
   "outputs": [
    {
     "name": "stderr",
     "output_type": "stream",
     "text": [
      "/tmp/ipykernel_6892/327552301.py:1: SettingWithCopyWarning: \n",
      "A value is trying to be set on a copy of a slice from a DataFrame\n",
      "\n",
      "See the caveats in the documentation: https://pandas.pydata.org/pandas-docs/stable/user_guide/indexing.html#returning-a-view-versus-a-copy\n",
      "  sample1['stance'][0] = 'A'\n"
     ]
    }
   ],
   "source": [
    "sample1['stance'][0] = 'A'\n",
    "sample1['stance'].fillna('N', inplace=True)\n",
    "sample1=sample1.iloc[:, 1:]"
   ]
  },
  {
   "cell_type": "code",
   "execution_count": 6,
   "id": "7baf290b",
   "metadata": {},
   "outputs": [
    {
     "data": {
      "text/plain": [
       "0"
      ]
     },
     "execution_count": 6,
     "metadata": {},
     "output_type": "execute_result"
    }
   ],
   "source": [
    "sample1['stance'].isnull().sum()"
   ]
  },
  {
   "cell_type": "code",
   "execution_count": 7,
   "id": "8c66efa4",
   "metadata": {},
   "outputs": [],
   "source": [
    "sample2 = pd.read_csv(path/'sample_2_-_sample_2_1.csv', encoding='utf-8')\n",
    "sample2 = sample2.iloc[:, 1:]\n",
    "sample2.columns = ['tweetId','renderedContent','stance']"
   ]
  },
  {
   "cell_type": "code",
   "execution_count": 8,
   "id": "0f3bb0ae",
   "metadata": {},
   "outputs": [],
   "source": [
    "sample3 = pd.read_csv(path/'sample_3final.csv', encoding='utf-8')\n",
    "sample3 = sample3.iloc[:, 1:]"
   ]
  },
  {
   "cell_type": "code",
   "execution_count": 13,
   "id": "5d65086b",
   "metadata": {},
   "outputs": [],
   "source": [
    "sample4 = pd.read_csv(path/'sample_4.csv', encoding='utf-8')\n",
    "sample4 = sample4.iloc[:, 1:]\n",
    "sample4.columns = ['tweetId','renderedContent','stance']\n",
    "sample4.head()"
   ]
  },
  {
   "cell_type": "code",
   "execution_count": 15,
   "id": "c0ca8aac",
   "metadata": {},
   "outputs": [],
   "source": [
    "sample5 = pd.read_csv(path/'sample_5.csv', encoding='utf-8')\n",
    "sample5 = sample5.iloc[:, 1:]\n",
    "sample5.columns = ['tweetId','renderedContent','stance']\n",
    "sample5.head()"
   ]
  },
  {
   "cell_type": "code",
   "execution_count": 17,
   "id": "9ff50905",
   "metadata": {},
   "outputs": [
    {
     "data": {
      "text/html": [
       "<div>\n",
       "<style scoped>\n",
       "    .dataframe tbody tr th:only-of-type {\n",
       "        vertical-align: middle;\n",
       "    }\n",
       "\n",
       "    .dataframe tbody tr th {\n",
       "        vertical-align: top;\n",
       "    }\n",
       "\n",
       "    .dataframe thead th {\n",
       "        text-align: right;\n",
       "    }\n",
       "</style>\n",
       "<table border=\"1\" class=\"dataframe\">\n",
       "  <thead>\n",
       "    <tr style=\"text-align: right;\">\n",
       "      <th></th>\n",
       "      <th>tweetId</th>\n",
       "      <th>renderedContent</th>\n",
       "      <th>stance</th>\n",
       "    </tr>\n",
       "  </thead>\n",
       "  <tbody>\n",
       "    <tr>\n",
       "      <th>0</th>\n",
       "      <td>1.420000e+18</td>\n",
       "      <td>Thank you  for confirming if Gundas/Cr!m!nals are supporting the #FarmersProtest  Jai HIND 🇮🇳</td>\n",
       "      <td>F</td>\n",
       "    </tr>\n",
       "    <tr>\n",
       "      <th>1</th>\n",
       "      <td>1.390000e+18</td>\n",
       "      <td>Let’s not fall for cheap tactics and propaganda that are designed to divide us...!  #KisanBole_NoVoteToModi  #FarmersProtest</td>\n",
       "      <td>F</td>\n",
       "    </tr>\n",
       "    <tr>\n",
       "      <th>2</th>\n",
       "      <td>1.350000e+18</td>\n",
       "      <td>Many farmer union leaders I spoke to have said that today's meeting has been more positive than previous ones and that the govt has softened it's stand.    #FarmersProtest</td>\n",
       "      <td>A</td>\n",
       "    </tr>\n",
       "    <tr>\n",
       "      <th>3</th>\n",
       "      <td>1.360000e+18</td>\n",
       "      <td>Let the world know and also the Indians about the actual propaganda machinery of India.   Retweet with #bjpsellpropaganda   #FarmersStandingFirm #FarmersProtest #KisanAndolan</td>\n",
       "      <td>F</td>\n",
       "    </tr>\n",
       "    <tr>\n",
       "      <th>4</th>\n",
       "      <td>1.360000e+18</td>\n",
       "      <td>#FarmersProtest   Thank you for speaking out about this</td>\n",
       "      <td>F</td>\n",
       "    </tr>\n",
       "  </tbody>\n",
       "</table>\n",
       "</div>"
      ],
      "text/plain": [
       "        tweetId  \\\n",
       "0  1.420000e+18   \n",
       "1  1.390000e+18   \n",
       "2  1.350000e+18   \n",
       "3  1.360000e+18   \n",
       "4  1.360000e+18   \n",
       "\n",
       "                                                                                                                                                                  renderedContent  \\\n",
       "0                                                                                   Thank you  for confirming if Gundas/Cr!m!nals are supporting the #FarmersProtest  Jai HIND 🇮🇳   \n",
       "1                                                   Let’s not fall for cheap tactics and propaganda that are designed to divide us...!  #KisanBole_NoVoteToModi  #FarmersProtest    \n",
       "2     Many farmer union leaders I spoke to have said that today's meeting has been more positive than previous ones and that the govt has softened it's stand.    #FarmersProtest   \n",
       "3  Let the world know and also the Indians about the actual propaganda machinery of India.   Retweet with #bjpsellpropaganda   #FarmersStandingFirm #FarmersProtest #KisanAndolan   \n",
       "4                                                                                                                        #FarmersProtest   Thank you for speaking out about this    \n",
       "\n",
       "  stance  \n",
       "0      F  \n",
       "1      F  \n",
       "2      A  \n",
       "3      F  \n",
       "4      F  "
      ]
     },
     "execution_count": 17,
     "metadata": {},
     "output_type": "execute_result"
    }
   ],
   "source": [
    "sample6 = pd.read_csv(path/'sample_6.csv', encoding='utf-8')\n",
    "sample6 = sample6.iloc[:, 1:]\n",
    "sample6.columns = ['tweetId','renderedContent','stance']\n",
    "sample6.head()"
   ]
  },
  {
   "cell_type": "code",
   "execution_count": null,
   "id": "172988ce",
   "metadata": {},
   "outputs": [],
   "source": [
    "sample5 = pd.read_csv(path/'sample_5.csv', encoding='utf-8')\n",
    "sample5 = sample5.iloc[:, 1:]\n",
    "sample5.columns = ['tweetId','renderedContent','stance']"
   ]
  },
  {
   "cell_type": "code",
   "execution_count": 12,
   "id": "2bde16f4",
   "metadata": {},
   "outputs": [
    {
     "data": {
      "text/plain": [
       "F    1315\n",
       "N     512\n",
       "A     164\n",
       "S       3\n",
       "T       2\n",
       "y       1\n",
       "P       1\n",
       "t       1\n",
       "s       1\n",
       "Name: stance, dtype: int64"
      ]
     },
     "execution_count": 12,
     "metadata": {},
     "output_type": "execute_result"
    }
   ],
   "source": [
    "sample1['stance'].value_counts()"
   ]
  },
  {
   "cell_type": "code",
   "execution_count": 19,
   "id": "a13151c9",
   "metadata": {},
   "outputs": [],
   "source": [
    "def rename_stance(stance):\n",
    "    if stance == 'F':\n",
    "        return 'F'\n",
    "    elif stance == 'A':\n",
    "        return 'A'\n",
    "    else:\n",
    "        return 'N'"
   ]
  },
  {
   "cell_type": "code",
   "execution_count": 20,
   "id": "3495a848",
   "metadata": {},
   "outputs": [
    {
     "data": {
      "text/plain": [
       "F    1315\n",
       "N     521\n",
       "A     164\n",
       "Name: stance, dtype: int64"
      ]
     },
     "execution_count": 20,
     "metadata": {},
     "output_type": "execute_result"
    }
   ],
   "source": [
    "sample1['stance'] = sample1['stance'].apply(rename_stance)\n",
    "sample1['stance'].value_counts()"
   ]
  },
  {
   "cell_type": "code",
   "execution_count": 21,
   "id": "41745bce",
   "metadata": {},
   "outputs": [
    {
     "data": {
      "text/plain": [
       "F    1596\n",
       "N     291\n",
       "A     113\n",
       "Name: stance, dtype: int64"
      ]
     },
     "execution_count": 21,
     "metadata": {},
     "output_type": "execute_result"
    }
   ],
   "source": [
    "\n",
    "sample2['stance'] = sample2['stance'].apply(rename_stance)\n",
    "sample2['stance'].value_counts()"
   ]
  },
  {
   "cell_type": "code",
   "execution_count": 22,
   "id": "87728ba6",
   "metadata": {},
   "outputs": [
    {
     "data": {
      "text/plain": [
       "F    1395\n",
       "N     547\n",
       "A      58\n",
       "Name: stance, dtype: int64"
      ]
     },
     "execution_count": 22,
     "metadata": {},
     "output_type": "execute_result"
    }
   ],
   "source": [
    "sample3['stance'] = sample3['stance'].apply(rename_stance)\n",
    "sample3['stance'].value_counts()"
   ]
  },
  {
   "cell_type": "code",
   "execution_count": 23,
   "id": "a89523c3",
   "metadata": {},
   "outputs": [
    {
     "data": {
      "text/plain": [
       "F    1347\n",
       "N     510\n",
       "A     143\n",
       "Name: stance, dtype: int64"
      ]
     },
     "execution_count": 23,
     "metadata": {},
     "output_type": "execute_result"
    }
   ],
   "source": [
    "sample4['stance'] = sample4['stance'].apply(rename_stance)\n",
    "sample4['stance'].value_counts()"
   ]
  },
  {
   "cell_type": "code",
   "execution_count": 24,
   "id": "d4e5b371",
   "metadata": {},
   "outputs": [
    {
     "data": {
      "text/plain": [
       "F    1654\n",
       "N     184\n",
       "A     162\n",
       "Name: stance, dtype: int64"
      ]
     },
     "execution_count": 24,
     "metadata": {},
     "output_type": "execute_result"
    }
   ],
   "source": [
    "sample5['stance'] = sample5['stance'].apply(rename_stance)\n",
    "sample5['stance'].value_counts()"
   ]
  },
  {
   "cell_type": "code",
   "execution_count": 25,
   "id": "9eb682f6",
   "metadata": {},
   "outputs": [
    {
     "data": {
      "text/plain": [
       "F    1589\n",
       "N     317\n",
       "A      94\n",
       "Name: stance, dtype: int64"
      ]
     },
     "execution_count": 25,
     "metadata": {},
     "output_type": "execute_result"
    }
   ],
   "source": [
    "sample6['stance'] = sample6['stance'].apply(rename_stance)\n",
    "sample6['stance'].value_counts()"
   ]
  },
  {
   "cell_type": "code",
   "execution_count": 26,
   "id": "b66e0635",
   "metadata": {},
   "outputs": [],
   "source": [
    "df = pd.concat([sample1, sample2, sample3, sample4, sample5, sample6])\n",
    "\n",
    "df = df.sample(frac = 1).reset_index(drop=True)"
   ]
  },
  {
   "cell_type": "code",
   "execution_count": 27,
   "id": "8548b983",
   "metadata": {
    "scrolled": true
   },
   "outputs": [
    {
     "data": {
      "text/html": [
       "<div>\n",
       "<style scoped>\n",
       "    .dataframe tbody tr th:only-of-type {\n",
       "        vertical-align: middle;\n",
       "    }\n",
       "\n",
       "    .dataframe tbody tr th {\n",
       "        vertical-align: top;\n",
       "    }\n",
       "\n",
       "    .dataframe thead th {\n",
       "        text-align: right;\n",
       "    }\n",
       "</style>\n",
       "<table border=\"1\" class=\"dataframe\">\n",
       "  <thead>\n",
       "    <tr style=\"text-align: right;\">\n",
       "      <th></th>\n",
       "      <th>tweetId</th>\n",
       "      <th>renderedContent</th>\n",
       "      <th>stance</th>\n",
       "    </tr>\n",
       "  </thead>\n",
       "  <tbody>\n",
       "    <tr>\n",
       "      <th>0</th>\n",
       "      <td>1.350000e+18</td>\n",
       "      <td>#FarmersProtest | Bharat Kisan Union's Dharmendra Malik says they are talking with Delhi Police for permission to hold a tractor rally on #RepublicDay. BJP's  defends the 3 #FarmLaws, says it does not impinge on the existing MSP structure. #IndiaFirst</td>\n",
       "      <td>N</td>\n",
       "    </tr>\n",
       "    <tr>\n",
       "      <th>1</th>\n",
       "      <td>1.340000e+18</td>\n",
       "      <td>Who's behind farmers' protest? What Union ministers say 7LobZ/a24gk   #FarmersProtest #FarmLaws</td>\n",
       "      <td>A</td>\n",
       "    </tr>\n",
       "    <tr>\n",
       "      <th>2</th>\n",
       "      <td>1.360000e+18</td>\n",
       "      <td>#shameonbollywood Everyone support this \"Hastag\"....  Retweet please...  Good Morning Guys....  #FarmersProtest #AntiNationalBollywood  #ModiGlobalDisaster</td>\n",
       "      <td>F</td>\n",
       "    </tr>\n",
       "    <tr>\n",
       "      <th>3</th>\n",
       "      <td>1.370000e+18</td>\n",
       "      <td>To the women of this world- standing up to oppression, racism, sexism, fighting for your rights, protesting across the globe-- We See You, We Hear You, We Stand With You, We Respect You✊🏾 #FarmersProtests #WeSaluteWomenFarmers #WomensHistoryMonth #WomensDay #FarmersProtest 13…</td>\n",
       "      <td>F</td>\n",
       "    </tr>\n",
       "    <tr>\n",
       "      <th>4</th>\n",
       "      <td>1.360000e+18</td>\n",
       "      <td>More power to you 💪💗 #FarmersProtest #StandWithFarmers</td>\n",
       "      <td>F</td>\n",
       "    </tr>\n",
       "  </tbody>\n",
       "</table>\n",
       "</div>"
      ],
      "text/plain": [
       "        tweetId  \\\n",
       "0  1.350000e+18   \n",
       "1  1.340000e+18   \n",
       "2  1.360000e+18   \n",
       "3  1.370000e+18   \n",
       "4  1.360000e+18   \n",
       "\n",
       "                                                                                                                                                                                                                                                                         renderedContent  \\\n",
       "0                           #FarmersProtest | Bharat Kisan Union's Dharmendra Malik says they are talking with Delhi Police for permission to hold a tractor rally on #RepublicDay. BJP's  defends the 3 #FarmLaws, says it does not impinge on the existing MSP structure. #IndiaFirst    \n",
       "1                                                                                                                                                                                        Who's behind farmers' protest? What Union ministers say 7LobZ/a24gk   #FarmersProtest #FarmLaws   \n",
       "2                                                                                                                           #shameonbollywood Everyone support this \"Hastag\"....  Retweet please...  Good Morning Guys....  #FarmersProtest #AntiNationalBollywood  #ModiGlobalDisaster    \n",
       "3  To the women of this world- standing up to oppression, racism, sexism, fighting for your rights, protesting across the globe-- We See You, We Hear You, We Stand With You, We Respect You✊🏾 #FarmersProtests #WeSaluteWomenFarmers #WomensHistoryMonth #WomensDay #FarmersProtest 13…   \n",
       "4                                                                                                                                                                                                                                 More power to you 💪💗 #FarmersProtest #StandWithFarmers   \n",
       "\n",
       "  stance  \n",
       "0      N  \n",
       "1      A  \n",
       "2      F  \n",
       "3      F  \n",
       "4      F  "
      ]
     },
     "execution_count": 27,
     "metadata": {},
     "output_type": "execute_result"
    }
   ],
   "source": [
    "df.head()"
   ]
  },
  {
   "cell_type": "code",
   "execution_count": 28,
   "id": "e2b55fca",
   "metadata": {},
   "outputs": [],
   "source": [
    "df.drop_duplicates(subset='renderedContent', inplace=True, keep='first')"
   ]
  },
  {
   "cell_type": "code",
   "execution_count": null,
   "id": "e4c46f3e",
   "metadata": {},
   "outputs": [],
   "source": []
  },
  {
   "cell_type": "code",
   "execution_count": 29,
   "id": "f95d3b3d",
   "metadata": {},
   "outputs": [
    {
     "data": {
      "text/plain": [
       "11878"
      ]
     },
     "execution_count": 29,
     "metadata": {},
     "output_type": "execute_result"
    }
   ],
   "source": [
    "len(df)"
   ]
  },
  {
   "cell_type": "code",
   "execution_count": 30,
   "id": "d00ade6d",
   "metadata": {},
   "outputs": [
    {
     "data": {
      "text/plain": [
       "726"
      ]
     },
     "execution_count": 30,
     "metadata": {},
     "output_type": "execute_result"
    }
   ],
   "source": [
    "len(df[df['stance']=='A'])"
   ]
  },
  {
   "cell_type": "code",
   "execution_count": 31,
   "id": "08f1bc01",
   "metadata": {},
   "outputs": [
    {
     "data": {
      "text/plain": [
       "8799"
      ]
     },
     "execution_count": 31,
     "metadata": {},
     "output_type": "execute_result"
    }
   ],
   "source": [
    "len(df[df['stance']=='F'])"
   ]
  },
  {
   "cell_type": "code",
   "execution_count": 32,
   "id": "2fb16685",
   "metadata": {},
   "outputs": [
    {
     "data": {
      "text/plain": [
       "2353"
      ]
     },
     "execution_count": 32,
     "metadata": {},
     "output_type": "execute_result"
    }
   ],
   "source": [
    "len(df[df['stance']=='N'])"
   ]
  },
  {
   "cell_type": "code",
   "execution_count": 23,
   "id": "65a26c64",
   "metadata": {},
   "outputs": [],
   "source": [
    "df = df[['renderedContent', 'stance']]\n",
    "# df.columns = ['text', 'category']"
   ]
  },
  {
   "cell_type": "code",
   "execution_count": null,
   "id": "2e9f0c84",
   "metadata": {},
   "outputs": [],
   "source": []
  },
  {
   "cell_type": "markdown",
   "id": "11ce32b4",
   "metadata": {},
   "source": [
    "<h1>Supersampling the minority class using translation</h1>"
   ]
  },
  {
   "cell_type": "code",
   "execution_count": 33,
   "id": "c9d6baff",
   "metadata": {},
   "outputs": [],
   "source": [
    "# import nltk\n",
    "# from googletrans import Translator\n",
    "# from textblob import TextBlob\n",
    "# from textblob.translate import NotTranslated\n",
    "# import random\n",
    "# sr = random.SystemRandom()\n",
    "\n",
    "# language = [\"es\", \"de\", \"fr\", \"ar\", \"te\", \"hi\", \"ja\", \"fa\", \"sq\", \"bg\", \"nl\", \"gu\", \"ig\", \"kk\", \"mt\", \"ps\"]\n",
    "# translator = Translator()\n",
    "# def data_augmentation(message, language, aug_range=1):\n",
    "#     augmented_messages = []\n",
    "# #     if hasattr(message, \"decode\"):\n",
    "# #         message = message.decode(\"utf-8\")\n",
    "\n",
    "#     for j in range(0,aug_range) :\n",
    "#         result = \"\"\n",
    "        \n",
    "#         try:\n",
    "#             text = translator.translate(message, dest=sr.choice(language))\n",
    "# #             text = text.translate(to=sr.choice(language))   ## Converting to random langauge for meaningful variation\n",
    "#             text = translator.translate(text.text, dest=\"en\")\n",
    "#             result = text.text\n",
    "#         except:\n",
    "#             pass\n",
    "#         augmented_messages.append(str(result))\n",
    "\n",
    "#     return augmented_messages"
   ]
  },
  {
   "cell_type": "code",
   "execution_count": 41,
   "id": "2ac63605",
   "metadata": {},
   "outputs": [],
   "source": []
  },
  {
   "cell_type": "code",
   "execution_count": 25,
   "id": "1b296d07",
   "metadata": {},
   "outputs": [],
   "source": [
    "# intent_count = df['stance'].value_counts().to_dict()"
   ]
  },
  {
   "cell_type": "code",
   "execution_count": 26,
   "id": "341ef257",
   "metadata": {},
   "outputs": [],
   "source": [
    "## Get max intent count to match other minority classes through data augmentation\n",
    "# import operator\n",
    "# max_intent_count = max(intent_count.items(), key=operator.itemgetter(1))[1]"
   ]
  },
  {
   "cell_type": "code",
   "execution_count": 27,
   "id": "891468e6",
   "metadata": {},
   "outputs": [
    {
     "name": "stderr",
     "output_type": "stream",
     "text": [
      "100%|███████████████████████████████████████| 333/333 [1:57:54<00:00, 21.24s/it]\n"
     ]
    }
   ],
   "source": [
    "# ## Loop to interate all messages\n",
    "# import numpy as np\n",
    "# import math\n",
    "# import tqdm\n",
    "# newdf = pd.DataFrame()\n",
    "# # for intent, count in intent_count.items() :\n",
    "# count_diff = max_intent_count - intent_count.get('A')    ## Difference to fill\n",
    "# multiplication_count = math.ceil((count_diff)/intent_count.get('A'))  ## Multiplying a minority classes for multiplication_count times\n",
    "# if (multiplication_count) :\n",
    "#     old_message_df = pd.DataFrame()\n",
    "#     new_message_df = pd.DataFrame()\n",
    "#     for message in tqdm.tqdm(df[df[\"stance\"] == \"A\"][\"renderedContent\"]) :\n",
    "#         ## Extracting existing minority class batch\n",
    "#         dummy1 = pd.DataFrame([message], columns=['renderedContent'])\n",
    "#         dummy1[\"stance\"] = \"A\"\n",
    "#         old_message_df = old_message_df.append(dummy1)\n",
    "\n",
    "#         ## Creating new augmented batch from existing minority class\n",
    "#         new_messages = data_augmentation(message, language, multiplication_count)\n",
    "#         dummy2 = pd.DataFrame(new_messages, columns=['renderedContent'])\n",
    "#         dummy2[\"stance\"] = \"A\"\n",
    "#         new_message_df = new_message_df.append(dummy2)\n",
    "\n",
    "#     ## Select random data points from augmented data\n",
    "#     new_message_df=new_message_df.take(np.random.permutation(len(new_message_df))[:count_diff])\n",
    "\n",
    "#     ## Merge existing and augmented data points\n",
    "#     newdf = newdf.append([old_message_df,new_message_df])\n",
    "# else :\n",
    "#     newdf = newdf.append(df[df[\"stance\"] == \"A\"])"
   ]
  },
  {
   "cell_type": "code",
   "execution_count": 34,
   "id": "b85e41dc",
   "metadata": {},
   "outputs": [],
   "source": [
    "# len(new)"
   ]
  },
  {
   "cell_type": "code",
   "execution_count": 29,
   "id": "7b5af062",
   "metadata": {},
   "outputs": [],
   "source": [
    "# newdf.to_csv('aug_negative_stance_data.csv', encoding='utf-8')"
   ]
  },
  {
   "cell_type": "code",
   "execution_count": 28,
   "id": "fb1ec0c7",
   "metadata": {
    "scrolled": true
   },
   "outputs": [],
   "source": [
    "# !pip install googletrans==4.0.0rc1\n",
    "# !pip uninstall google_trans_new -y"
   ]
  },
  {
   "cell_type": "code",
   "execution_count": null,
   "id": "2e417465",
   "metadata": {},
   "outputs": [],
   "source": []
  },
  {
   "cell_type": "code",
   "execution_count": null,
   "id": "682f77e2",
   "metadata": {},
   "outputs": [],
   "source": []
  },
  {
   "cell_type": "code",
   "execution_count": 30,
   "id": "8651f1da",
   "metadata": {},
   "outputs": [
    {
     "data": {
      "text/html": [
       "<div>\n",
       "<style scoped>\n",
       "    .dataframe tbody tr th:only-of-type {\n",
       "        vertical-align: middle;\n",
       "    }\n",
       "\n",
       "    .dataframe tbody tr th {\n",
       "        vertical-align: top;\n",
       "    }\n",
       "\n",
       "    .dataframe thead th {\n",
       "        text-align: right;\n",
       "    }\n",
       "</style>\n",
       "<table border=\"1\" class=\"dataframe\">\n",
       "  <thead>\n",
       "    <tr style=\"text-align: right;\">\n",
       "      <th></th>\n",
       "      <th>renderedContent</th>\n",
       "      <th>stance</th>\n",
       "      <th>is_valid</th>\n",
       "    </tr>\n",
       "  </thead>\n",
       "  <tbody>\n",
       "    <tr>\n",
       "      <th>0</th>\n",
       "      <td>#humanfirst #IStandWithFarmers #FarmersProtest  Cricket is a ‘spectator’ sport...NOT ‘Democracy’ 👇🏽</td>\n",
       "      <td>F</td>\n",
       "      <td>False</td>\n",
       "    </tr>\n",
       "    <tr>\n",
       "      <th>1</th>\n",
       "      <td>Wahe Guruji please keep our farmers safe. They're simply asking for what is right and due to them.   #FarmersProtest …</td>\n",
       "      <td>F</td>\n",
       "      <td>False</td>\n",
       "    </tr>\n",
       "    <tr>\n",
       "      <th>2</th>\n",
       "      <td>Release our sister we are her voice #FreeNodeepKaur #NodeepKaur #FarmersProtest …</td>\n",
       "      <td>F</td>\n",
       "      <td>False</td>\n",
       "    </tr>\n",
       "    <tr>\n",
       "      <th>3</th>\n",
       "      <td>Such an investments for farmers to be protesting for months at a time. We must all do everything we can to keep the focus on peacefully protesting farmers and repealing the 3 farm bills. ✊🏾💚 #FarmersStandingFirm #FarmersProtest 1/st…</td>\n",
       "      <td>F</td>\n",
       "      <td>False</td>\n",
       "    </tr>\n",
       "    <tr>\n",
       "      <th>4</th>\n",
       "      <td>Rihanna stands with farmer ❤🙏 #FarmersProtest #अब_किसान_कमल_काटेगा #Farmer</td>\n",
       "      <td>N</td>\n",
       "      <td>False</td>\n",
       "    </tr>\n",
       "  </tbody>\n",
       "</table>\n",
       "</div>"
      ],
      "text/plain": [
       "                                                                                                                                                                                                                             renderedContent  \\\n",
       "0                                                                                                                                       #humanfirst #IStandWithFarmers #FarmersProtest  Cricket is a ‘spectator’ sport...NOT ‘Democracy’ 👇🏽    \n",
       "1                                                                                                                     Wahe Guruji please keep our farmers safe. They're simply asking for what is right and due to them.   #FarmersProtest …   \n",
       "2                                                                                                                                                          Release our sister we are her voice #FreeNodeepKaur #NodeepKaur #FarmersProtest …   \n",
       "3  Such an investments for farmers to be protesting for months at a time. We must all do everything we can to keep the focus on peacefully protesting farmers and repealing the 3 farm bills. ✊🏾💚 #FarmersStandingFirm #FarmersProtest 1/st…   \n",
       "4                                                                                                                                                                Rihanna stands with farmer ❤🙏 #FarmersProtest #अब_किसान_कमल_काटेगा #Farmer    \n",
       "\n",
       "  stance  is_valid  \n",
       "0      F     False  \n",
       "1      F     False  \n",
       "2      F     False  \n",
       "3      F     False  \n",
       "4      N     False  "
      ]
     },
     "execution_count": 30,
     "metadata": {},
     "output_type": "execute_result"
    }
   ],
   "source": [
    "# valid = np.random.choice([False,True], len(df['renderedContent']), p= [0.9, 0.1])\n",
    "# df['is_valid'] = valid\n",
    "# df.head()"
   ]
  },
  {
   "cell_type": "code",
   "execution_count": 41,
   "id": "5828fa4a",
   "metadata": {},
   "outputs": [
    {
     "data": {
      "text/html": [
       "<div>\n",
       "<style scoped>\n",
       "    .dataframe tbody tr th:only-of-type {\n",
       "        vertical-align: middle;\n",
       "    }\n",
       "\n",
       "    .dataframe tbody tr th {\n",
       "        vertical-align: top;\n",
       "    }\n",
       "\n",
       "    .dataframe thead th {\n",
       "        text-align: right;\n",
       "    }\n",
       "</style>\n",
       "<table border=\"1\" class=\"dataframe\">\n",
       "  <thead>\n",
       "    <tr style=\"text-align: right;\">\n",
       "      <th></th>\n",
       "      <th>renderedContent</th>\n",
       "      <th>stance</th>\n",
       "    </tr>\n",
       "  </thead>\n",
       "  <tbody>\n",
       "    <tr>\n",
       "      <th>0</th>\n",
       "      <td>What Farmers Grow / What Modi Grows  #FarmersProtest  #TakeBackFarmBills</td>\n",
       "      <td>A</td>\n",
       "    </tr>\n",
       "    <tr>\n",
       "      <th>1</th>\n",
       "      <td>Is this #FarmersProtest or part of protest .....appears Farmer Leader #Dackait‘s initiative to keep warm the Farmers in protest site.</td>\n",
       "      <td>A</td>\n",
       "    </tr>\n",
       "    <tr>\n",
       "      <th>2</th>\n",
       "      <td>pls use your social platforms to educate your followers on #farmersprotest - why are you silent?</td>\n",
       "      <td>A</td>\n",
       "    </tr>\n",
       "    <tr>\n",
       "      <th>3</th>\n",
       "      <td>Watch #StarTrek you will know actually the #Xindi\"s might be after it, check your sources #FarmersProtest 18/stat…</td>\n",
       "      <td>A</td>\n",
       "    </tr>\n",
       "    <tr>\n",
       "      <th>4</th>\n",
       "      <td>#FarmersProtest Beware protesters are not farmers, these are dangerous elements trying to revive 80's militancy in Punjab, backed by ISI, wearing the garb of farmers. Let's not have any sympathy for them.</td>\n",
       "      <td>A</td>\n",
       "    </tr>\n",
       "  </tbody>\n",
       "</table>\n",
       "</div>"
      ],
      "text/plain": [
       "                                                                                                                                                                                                renderedContent  \\\n",
       "0                                                                                                                                  What Farmers Grow / What Modi Grows  #FarmersProtest  #TakeBackFarmBills       \n",
       "1                                                                        Is this #FarmersProtest or part of protest .....appears Farmer Leader #Dackait‘s initiative to keep warm the Farmers in protest site.    \n",
       "2                                                                                                              pls use your social platforms to educate your followers on #farmersprotest - why are you silent?   \n",
       "3                                                                                            Watch #StarTrek you will know actually the #Xindi\"s might be after it, check your sources #FarmersProtest 18/stat…   \n",
       "4  #FarmersProtest Beware protesters are not farmers, these are dangerous elements trying to revive 80's militancy in Punjab, backed by ISI, wearing the garb of farmers. Let's not have any sympathy for them.   \n",
       "\n",
       "  stance  \n",
       "0      A  \n",
       "1      A  \n",
       "2      A  \n",
       "3      A  \n",
       "4      A  "
      ]
     },
     "execution_count": 41,
     "metadata": {},
     "output_type": "execute_result"
    }
   ],
   "source": [
    "df_neg = pd.read_csv('aug_negative_stance_data.csv', encoding='utf-8')\n",
    "df_neg = df_neg.iloc[:, 1:]\n",
    "# df_neg.columns = ['tweetId','renderedContent','stance']\n",
    "df_neg.head()"
   ]
  },
  {
   "cell_type": "code",
   "execution_count": 44,
   "id": "9d1afb50",
   "metadata": {},
   "outputs": [
    {
     "data": {
      "text/html": [
       "<div>\n",
       "<style scoped>\n",
       "    .dataframe tbody tr th:only-of-type {\n",
       "        vertical-align: middle;\n",
       "    }\n",
       "\n",
       "    .dataframe tbody tr th {\n",
       "        vertical-align: top;\n",
       "    }\n",
       "\n",
       "    .dataframe thead th {\n",
       "        text-align: right;\n",
       "    }\n",
       "</style>\n",
       "<table border=\"1\" class=\"dataframe\">\n",
       "  <thead>\n",
       "    <tr style=\"text-align: right;\">\n",
       "      <th></th>\n",
       "      <th>renderedContent</th>\n",
       "      <th>stance</th>\n",
       "    </tr>\n",
       "  </thead>\n",
       "  <tbody>\n",
       "    <tr>\n",
       "      <th>0</th>\n",
       "      <td>What Farmers Grow / What Modi Grows  #FarmersProtest  #TakeBackFarmBills</td>\n",
       "      <td>A</td>\n",
       "    </tr>\n",
       "    <tr>\n",
       "      <th>1</th>\n",
       "      <td>Is this #FarmersProtest or part of protest .....appears Farmer Leader #Dackait‘s initiative to keep warm the Farmers in protest site.</td>\n",
       "      <td>A</td>\n",
       "    </tr>\n",
       "    <tr>\n",
       "      <th>2</th>\n",
       "      <td>pls use your social platforms to educate your followers on #farmersprotest - why are you silent?</td>\n",
       "      <td>A</td>\n",
       "    </tr>\n",
       "    <tr>\n",
       "      <th>3</th>\n",
       "      <td>Watch #StarTrek you will know actually the #Xindi\"s might be after it, check your sources #FarmersProtest 18/stat…</td>\n",
       "      <td>A</td>\n",
       "    </tr>\n",
       "    <tr>\n",
       "      <th>4</th>\n",
       "      <td>#FarmersProtest Beware protesters are not farmers, these are dangerous elements trying to revive 80's militancy in Punjab, backed by ISI, wearing the garb of farmers. Let's not have any sympathy for them.</td>\n",
       "      <td>A</td>\n",
       "    </tr>\n",
       "  </tbody>\n",
       "</table>\n",
       "</div>"
      ],
      "text/plain": [
       "                                                                                                                                                                                                renderedContent  \\\n",
       "0                                                                                                                                  What Farmers Grow / What Modi Grows  #FarmersProtest  #TakeBackFarmBills       \n",
       "1                                                                        Is this #FarmersProtest or part of protest .....appears Farmer Leader #Dackait‘s initiative to keep warm the Farmers in protest site.    \n",
       "2                                                                                                              pls use your social platforms to educate your followers on #farmersprotest - why are you silent?   \n",
       "3                                                                                            Watch #StarTrek you will know actually the #Xindi\"s might be after it, check your sources #FarmersProtest 18/stat…   \n",
       "4  #FarmersProtest Beware protesters are not farmers, these are dangerous elements trying to revive 80's militancy in Punjab, backed by ISI, wearing the garb of farmers. Let's not have any sympathy for them.   \n",
       "\n",
       "  stance  \n",
       "0      A  \n",
       "1      A  \n",
       "2      A  \n",
       "3      A  \n",
       "4      A  "
      ]
     },
     "execution_count": 44,
     "metadata": {},
     "output_type": "execute_result"
    }
   ],
   "source": [
    "df_n = df[df['stance'] == 'A']\n",
    "df_neg = pd.concat([df_neg, df_n])\n",
    "df_neg = df_neg.iloc[:,:-1]\n",
    "df_neg.head()\n",
    "# len(df_neg)"
   ]
  },
  {
   "cell_type": "code",
   "execution_count": 37,
   "id": "46ac08dd",
   "metadata": {
    "scrolled": true
   },
   "outputs": [
    {
     "data": {
      "text/html": [
       "<div>\n",
       "<style scoped>\n",
       "    .dataframe tbody tr th:only-of-type {\n",
       "        vertical-align: middle;\n",
       "    }\n",
       "\n",
       "    .dataframe tbody tr th {\n",
       "        vertical-align: top;\n",
       "    }\n",
       "\n",
       "    .dataframe thead th {\n",
       "        text-align: right;\n",
       "    }\n",
       "</style>\n",
       "<table border=\"1\" class=\"dataframe\">\n",
       "  <thead>\n",
       "    <tr style=\"text-align: right;\">\n",
       "      <th></th>\n",
       "      <th>tweetId</th>\n",
       "      <th>renderedContent</th>\n",
       "      <th>stance</th>\n",
       "    </tr>\n",
       "  </thead>\n",
       "  <tbody>\n",
       "    <tr>\n",
       "      <th>0</th>\n",
       "      <td>1.350000e+18</td>\n",
       "      <td>#FarmersProtest | Bharat Kisan Union's Dharmendra Malik says they are talking with Delhi Police for permission to hold a tractor rally on #RepublicDay. BJP's  defends the 3 #FarmLaws, says it does not impinge on the existing MSP structure. #IndiaFirst</td>\n",
       "      <td>N</td>\n",
       "    </tr>\n",
       "    <tr>\n",
       "      <th>1</th>\n",
       "      <td>1.340000e+18</td>\n",
       "      <td>Who's behind farmers' protest? What Union ministers say 7LobZ/a24gk   #FarmersProtest #FarmLaws</td>\n",
       "      <td>A</td>\n",
       "    </tr>\n",
       "    <tr>\n",
       "      <th>2</th>\n",
       "      <td>1.360000e+18</td>\n",
       "      <td>#shameonbollywood Everyone support this \"Hastag\"....  Retweet please...  Good Morning Guys....  #FarmersProtest #AntiNationalBollywood  #ModiGlobalDisaster</td>\n",
       "      <td>F</td>\n",
       "    </tr>\n",
       "    <tr>\n",
       "      <th>3</th>\n",
       "      <td>1.370000e+18</td>\n",
       "      <td>To the women of this world- standing up to oppression, racism, sexism, fighting for your rights, protesting across the globe-- We See You, We Hear You, We Stand With You, We Respect You✊🏾 #FarmersProtests #WeSaluteWomenFarmers #WomensHistoryMonth #WomensDay #FarmersProtest 13…</td>\n",
       "      <td>F</td>\n",
       "    </tr>\n",
       "    <tr>\n",
       "      <th>4</th>\n",
       "      <td>1.360000e+18</td>\n",
       "      <td>More power to you 💪💗 #FarmersProtest #StandWithFarmers</td>\n",
       "      <td>F</td>\n",
       "    </tr>\n",
       "  </tbody>\n",
       "</table>\n",
       "</div>"
      ],
      "text/plain": [
       "        tweetId  \\\n",
       "0  1.350000e+18   \n",
       "1  1.340000e+18   \n",
       "2  1.360000e+18   \n",
       "3  1.370000e+18   \n",
       "4  1.360000e+18   \n",
       "\n",
       "                                                                                                                                                                                                                                                                         renderedContent  \\\n",
       "0                           #FarmersProtest | Bharat Kisan Union's Dharmendra Malik says they are talking with Delhi Police for permission to hold a tractor rally on #RepublicDay. BJP's  defends the 3 #FarmLaws, says it does not impinge on the existing MSP structure. #IndiaFirst    \n",
       "1                                                                                                                                                                                        Who's behind farmers' protest? What Union ministers say 7LobZ/a24gk   #FarmersProtest #FarmLaws   \n",
       "2                                                                                                                           #shameonbollywood Everyone support this \"Hastag\"....  Retweet please...  Good Morning Guys....  #FarmersProtest #AntiNationalBollywood  #ModiGlobalDisaster    \n",
       "3  To the women of this world- standing up to oppression, racism, sexism, fighting for your rights, protesting across the globe-- We See You, We Hear You, We Stand With You, We Respect You✊🏾 #FarmersProtests #WeSaluteWomenFarmers #WomensHistoryMonth #WomensDay #FarmersProtest 13…   \n",
       "4                                                                                                                                                                                                                                 More power to you 💪💗 #FarmersProtest #StandWithFarmers   \n",
       "\n",
       "  stance  \n",
       "0      N  \n",
       "1      A  \n",
       "2      F  \n",
       "3      F  \n",
       "4      F  "
      ]
     },
     "execution_count": 37,
     "metadata": {},
     "output_type": "execute_result"
    }
   ],
   "source": [
    "df.head()"
   ]
  },
  {
   "cell_type": "code",
   "execution_count": 45,
   "id": "b510f233",
   "metadata": {},
   "outputs": [],
   "source": [
    "df_pos = df[df['stance'] == 'F']\n",
    "# df_neg = df[df['stance'] == 'A']\n",
    "df_neutral = df[df['stance'] == 'N']"
   ]
  },
  {
   "cell_type": "code",
   "execution_count": 46,
   "id": "087f15d3",
   "metadata": {},
   "outputs": [],
   "source": [
    "df_pos = df_pos.sample(n=2500,random_state=1)\n",
    "\n",
    "df_neg = df_neg.sample(n=2500, random_state=1)\n",
    "\n",
    "df_test = pd.concat([df_pos, df_neutral, df_neg])\n",
    "df_test = df_test.sample(frac = 1).reset_index(drop=True)"
   ]
  },
  {
   "cell_type": "code",
   "execution_count": 47,
   "id": "853853d7",
   "metadata": {},
   "outputs": [
    {
     "data": {
      "text/plain": [
       "(7353, 3)"
      ]
     },
     "execution_count": 47,
     "metadata": {},
     "output_type": "execute_result"
    }
   ],
   "source": [
    "df_test.shape"
   ]
  },
  {
   "cell_type": "code",
   "execution_count": 58,
   "id": "c68afdbd",
   "metadata": {},
   "outputs": [],
   "source": [
    "df_test = df_test.iloc[:, 1:]"
   ]
  },
  {
   "cell_type": "code",
   "execution_count": 59,
   "id": "a32492bf",
   "metadata": {},
   "outputs": [
    {
     "data": {
      "text/html": [
       "<div>\n",
       "<style scoped>\n",
       "    .dataframe tbody tr th:only-of-type {\n",
       "        vertical-align: middle;\n",
       "    }\n",
       "\n",
       "    .dataframe tbody tr th {\n",
       "        vertical-align: top;\n",
       "    }\n",
       "\n",
       "    .dataframe thead th {\n",
       "        text-align: right;\n",
       "    }\n",
       "</style>\n",
       "<table border=\"1\" class=\"dataframe\">\n",
       "  <thead>\n",
       "    <tr style=\"text-align: right;\">\n",
       "      <th></th>\n",
       "      <th>renderedContent</th>\n",
       "      <th>stance</th>\n",
       "    </tr>\n",
       "  </thead>\n",
       "  <tbody>\n",
       "    <tr>\n",
       "      <th>0</th>\n",
       "      <td>#काले_क़ानून_वापिस_लो Farmers - the Anadata! Can the nation survive without them?  Fearless, courageous, fierce and brave men and women farmers are ready to fight the scorching heat if the movement continues   #FarmersProtest</td>\n",
       "      <td>F</td>\n",
       "    </tr>\n",
       "    <tr>\n",
       "      <th>1</th>\n",
       "      <td>Farmers Protest in Delhi | Giant Panther #FarmersProtest #Agriculture #VivasayigalPorattam #AgricultureBill2020 #AgricultureOrdinance #FarmerProtestDelhi #GiantPanther #AnjaneyaProductions 1otWgWA</td>\n",
       "      <td>A</td>\n",
       "    </tr>\n",
       "    <tr>\n",
       "      <th>2</th>\n",
       "      <td>It take 15 seconds to understand that the solution is to #RepealFarmLaws! #IStandWithFarmers #FarmersProtest 13…</td>\n",
       "      <td>F</td>\n",
       "    </tr>\n",
       "    <tr>\n",
       "      <th>3</th>\n",
       "      <td>Security was stepped up after farmers threatened to block more highways connecting the national capital. #FarmersProtest #DelhiChaloProtest #FarmLaws  …</td>\n",
       "      <td>A</td>\n",
       "    </tr>\n",
       "    <tr>\n",
       "      <th>4</th>\n",
       "      <td>Or it must be against injustice by the government rather than waking up suddenly and making illogical comments.# FarmersProtest</td>\n",
       "      <td>A</td>\n",
       "    </tr>\n",
       "  </tbody>\n",
       "</table>\n",
       "</div>"
      ],
      "text/plain": [
       "                                                                                                                                                                                                                      renderedContent  \\\n",
       "0  #काले_क़ानून_वापिस_लो Farmers - the Anadata! Can the nation survive without them?  Fearless, courageous, fierce and brave men and women farmers are ready to fight the scorching heat if the movement continues   #FarmersProtest    \n",
       "1                                Farmers Protest in Delhi | Giant Panther #FarmersProtest #Agriculture #VivasayigalPorattam #AgricultureBill2020 #AgricultureOrdinance #FarmerProtestDelhi #GiantPanther #AnjaneyaProductions 1otWgWA   \n",
       "2                                                                                                                    It take 15 seconds to understand that the solution is to #RepealFarmLaws! #IStandWithFarmers #FarmersProtest 13…   \n",
       "3                                                                            Security was stepped up after farmers threatened to block more highways connecting the national capital. #FarmersProtest #DelhiChaloProtest #FarmLaws  …   \n",
       "4                                                                                                     Or it must be against injustice by the government rather than waking up suddenly and making illogical comments.# FarmersProtest   \n",
       "\n",
       "  stance  \n",
       "0      F  \n",
       "1      A  \n",
       "2      F  \n",
       "3      A  \n",
       "4      A  "
      ]
     },
     "execution_count": 59,
     "metadata": {},
     "output_type": "execute_result"
    }
   ],
   "source": [
    "df_test.head()"
   ]
  },
  {
   "cell_type": "code",
   "execution_count": null,
   "id": "373f7c9d",
   "metadata": {},
   "outputs": [],
   "source": []
  },
  {
   "cell_type": "code",
   "execution_count": 60,
   "id": "fc75d164",
   "metadata": {},
   "outputs": [],
   "source": [
    "# len(train)"
   ]
  },
  {
   "cell_type": "code",
   "execution_count": 61,
   "id": "a3b9aa23",
   "metadata": {},
   "outputs": [],
   "source": [
    "# len(test)"
   ]
  },
  {
   "cell_type": "code",
   "execution_count": null,
   "id": "c851a6d3",
   "metadata": {},
   "outputs": [],
   "source": []
  },
  {
   "cell_type": "code",
   "execution_count": 62,
   "id": "b9957bd8",
   "metadata": {},
   "outputs": [
    {
     "data": {
      "text/html": [
       "<div>\n",
       "<style scoped>\n",
       "    .dataframe tbody tr th:only-of-type {\n",
       "        vertical-align: middle;\n",
       "    }\n",
       "\n",
       "    .dataframe tbody tr th {\n",
       "        vertical-align: top;\n",
       "    }\n",
       "\n",
       "    .dataframe thead th {\n",
       "        text-align: right;\n",
       "    }\n",
       "</style>\n",
       "<table border=\"1\" class=\"dataframe\">\n",
       "  <thead>\n",
       "    <tr style=\"text-align: right;\">\n",
       "      <th></th>\n",
       "      <th>text</th>\n",
       "    </tr>\n",
       "  </thead>\n",
       "  <tbody>\n",
       "    <tr>\n",
       "      <th>0</th>\n",
       "      <td>Supporting farmers means supporting our country #StopHateAgainstFarmers #FarmersProtest</td>\n",
       "    </tr>\n",
       "    <tr>\n",
       "      <th>1</th>\n",
       "      <td>Support farmers if you are related to food #StopHateAgainstFarmers #FarmersProtest</td>\n",
       "    </tr>\n",
       "    <tr>\n",
       "      <th>2</th>\n",
       "      <td>#StopHateAgainstFarmers support #FarmersProtest by pressurising got. to accept farmer's genuine demand.</td>\n",
       "    </tr>\n",
       "    <tr>\n",
       "      <th>3</th>\n",
       "      <td>You hate farmers I hate you,  if you love them I love you! ;)   #StopHateAgainstFarmers  #FarmersProtest</td>\n",
       "    </tr>\n",
       "    <tr>\n",
       "      <th>4</th>\n",
       "      <td>They can't be farmers. Looks like Gundas are having good time. They seem to be violence thirsty goons. #FarmersProtest …</td>\n",
       "    </tr>\n",
       "  </tbody>\n",
       "</table>\n",
       "</div>"
      ],
      "text/plain": [
       "                                                                                                                       text\n",
       "0                                  Supporting farmers means supporting our country #StopHateAgainstFarmers #FarmersProtest \n",
       "1                                       Support farmers if you are related to food #StopHateAgainstFarmers #FarmersProtest \n",
       "2                   #StopHateAgainstFarmers support #FarmersProtest by pressurising got. to accept farmer's genuine demand.\n",
       "3                  You hate farmers I hate you,  if you love them I love you! ;)   #StopHateAgainstFarmers  #FarmersProtest\n",
       "4  They can't be farmers. Looks like Gundas are having good time. They seem to be violence thirsty goons. #FarmersProtest …"
      ]
     },
     "execution_count": 62,
     "metadata": {},
     "output_type": "execute_result"
    }
   ],
   "source": [
    "lang_df = pd.read_csv(path/'final_cleaned_data.csv')\n",
    "bs = 20\n",
    "lang_df=lang_df.iloc[:, 1:]\n",
    "lang_df.head()"
   ]
  },
  {
   "cell_type": "code",
   "execution_count": 63,
   "id": "88609365",
   "metadata": {},
   "outputs": [
    {
     "data": {
      "text/html": [
       "<div>\n",
       "<style scoped>\n",
       "    .dataframe tbody tr th:only-of-type {\n",
       "        vertical-align: middle;\n",
       "    }\n",
       "\n",
       "    .dataframe tbody tr th {\n",
       "        vertical-align: top;\n",
       "    }\n",
       "\n",
       "    .dataframe thead th {\n",
       "        text-align: right;\n",
       "    }\n",
       "</style>\n",
       "<table border=\"1\" class=\"dataframe\">\n",
       "  <thead>\n",
       "    <tr style=\"text-align: right;\">\n",
       "      <th></th>\n",
       "      <th>text</th>\n",
       "      <th>is_valid</th>\n",
       "    </tr>\n",
       "  </thead>\n",
       "  <tbody>\n",
       "    <tr>\n",
       "      <th>0</th>\n",
       "      <td>Supporting farmers means supporting our country #StopHateAgainstFarmers #FarmersProtest</td>\n",
       "      <td>False</td>\n",
       "    </tr>\n",
       "    <tr>\n",
       "      <th>1</th>\n",
       "      <td>Support farmers if you are related to food #StopHateAgainstFarmers #FarmersProtest</td>\n",
       "      <td>False</td>\n",
       "    </tr>\n",
       "    <tr>\n",
       "      <th>2</th>\n",
       "      <td>#StopHateAgainstFarmers support #FarmersProtest by pressurising got. to accept farmer's genuine demand.</td>\n",
       "      <td>False</td>\n",
       "    </tr>\n",
       "    <tr>\n",
       "      <th>3</th>\n",
       "      <td>You hate farmers I hate you,  if you love them I love you! ;)   #StopHateAgainstFarmers  #FarmersProtest</td>\n",
       "      <td>True</td>\n",
       "    </tr>\n",
       "    <tr>\n",
       "      <th>4</th>\n",
       "      <td>They can't be farmers. Looks like Gundas are having good time. They seem to be violence thirsty goons. #FarmersProtest …</td>\n",
       "      <td>False</td>\n",
       "    </tr>\n",
       "  </tbody>\n",
       "</table>\n",
       "</div>"
      ],
      "text/plain": [
       "                                                                                                                       text  \\\n",
       "0                                  Supporting farmers means supporting our country #StopHateAgainstFarmers #FarmersProtest    \n",
       "1                                       Support farmers if you are related to food #StopHateAgainstFarmers #FarmersProtest    \n",
       "2                   #StopHateAgainstFarmers support #FarmersProtest by pressurising got. to accept farmer's genuine demand.   \n",
       "3                  You hate farmers I hate you,  if you love them I love you! ;)   #StopHateAgainstFarmers  #FarmersProtest   \n",
       "4  They can't be farmers. Looks like Gundas are having good time. They seem to be violence thirsty goons. #FarmersProtest …   \n",
       "\n",
       "   is_valid  \n",
       "0     False  \n",
       "1     False  \n",
       "2     False  \n",
       "3      True  \n",
       "4     False  "
      ]
     },
     "execution_count": 63,
     "metadata": {},
     "output_type": "execute_result"
    }
   ],
   "source": [
    "valid = np.random.choice([False,True], len(lang_df['text']), p= [0.9, 0.1])\n",
    "lang_df['is_valid'] = valid\n",
    "lang_df.head()"
   ]
  },
  {
   "cell_type": "code",
   "execution_count": 53,
   "id": "14835beb",
   "metadata": {},
   "outputs": [
    {
     "data": {
      "text/html": [],
      "text/plain": [
       "<IPython.core.display.HTML object>"
      ]
     },
     "metadata": {},
     "output_type": "display_data"
    },
    {
     "data": {
      "text/html": [
       "<table border=\"1\" class=\"dataframe\">\n",
       "  <thead>\n",
       "    <tr style=\"text-align: right;\">\n",
       "      <th></th>\n",
       "      <th>text</th>\n",
       "      <th>text_</th>\n",
       "    </tr>\n",
       "  </thead>\n",
       "  <tbody>\n",
       "    <tr>\n",
       "      <th>0</th>\n",
       "      <td>xxbos xxmaj solidarity and love for my people . i stand with farmers . xxmaj stay peaceful , united and never back down . # farmersprotest xxbos xxmaj now government also joins media in this nonsense . # farmersprotest … xxbos xxmaj seriously they are much better than our crying xxunk ) xxrep 3 😂 # xxmaj uttarakhand # asharamjibapuquotes # farmersprotest # xxmaj chamoli # xxunk # farmersprotests # roseday #</td>\n",
       "      <td>xxmaj solidarity and love for my people . i stand with farmers . xxmaj stay peaceful , united and never back down . # farmersprotest xxbos xxmaj now government also joins media in this nonsense . # farmersprotest … xxbos xxmaj seriously they are much better than our crying xxunk ) xxrep 3 😂 # xxmaj uttarakhand # asharamjibapuquotes # farmersprotest # xxmaj chamoli # xxunk # farmersprotests # roseday # xxunk</td>\n",
       "    </tr>\n",
       "    <tr>\n",
       "      <th>1</th>\n",
       "      <td>done regarding the # humanrightsviolations committed by xxmaj indian government . xxmaj this needs to change &amp; the ' farm ' laws need to be repealed xxbos xxmaj first ones to leave xxmaj twitter &amp; join xxmaj kooapp are kangu , xxunk 's . because their xxmaj twitter account is full of xxup hate n xxup fake xxup speeches xxrep 3 🤣 xxmaj if demands justice from xxmaj twitter for being called</td>\n",
       "      <td>regarding the # humanrightsviolations committed by xxmaj indian government . xxmaj this needs to change &amp; the ' farm ' laws need to be repealed xxbos xxmaj first ones to leave xxmaj twitter &amp; join xxmaj kooapp are kangu , xxunk 's . because their xxmaj twitter account is full of xxup hate n xxup fake xxup speeches xxrep 3 🤣 xxmaj if demands justice from xxmaj twitter for being called '</td>\n",
       "    </tr>\n",
       "    <tr>\n",
       "      <th>2</th>\n",
       "      <td>masters and that they have lost all the respect . xxmaj they do n’t have a spine to stand up for their own people . # farmersprotest xxbos xxmaj over lakh covid cases today- , , in hours xxmaj honestly worried about all the # xxmaj farmers and volunteers at various borders . xxmaj your xxunk are now needed ! # farmersprotest # covidindia # covidsecondwave xxbos xxmaj delhi xxup cm xxmaj</td>\n",
       "      <td>and that they have lost all the respect . xxmaj they do n’t have a spine to stand up for their own people . # farmersprotest xxbos xxmaj over lakh covid cases today- , , in hours xxmaj honestly worried about all the # xxmaj farmers and volunteers at various borders . xxmaj your xxunk are now needed ! # farmersprotest # covidindia # covidsecondwave xxbos xxmaj delhi xxup cm xxmaj arvind</td>\n",
       "    </tr>\n",
       "    <tr>\n",
       "      <th>3</th>\n",
       "      <td>media # godimedia # shameonyou # godimediastopmisleading # bjpgoonsattackingfarmers # bhakts # farmersprotest # kisanandolan # rakeshtikaitvsmodidakait xxbos xxmaj we are demanding only xxup msp not xxup mrp # msp_farmersright # farmersprotest xxbos xxmaj well , we want the govt to have a dialogue with an open mind too . xxmaj cutting internet access , access to water &amp; toilets , access to basic necessities to protest sites is not democracy .</td>\n",
       "      <td># godimedia # shameonyou # godimediastopmisleading # bjpgoonsattackingfarmers # bhakts # farmersprotest # kisanandolan # rakeshtikaitvsmodidakait xxbos xxmaj we are demanding only xxup msp not xxup mrp # msp_farmersright # farmersprotest xxbos xxmaj well , we want the govt to have a dialogue with an open mind too . xxmaj cutting internet access , access to water &amp; toilets , access to basic necessities to protest sites is not democracy . #</td>\n",
       "    </tr>\n",
       "    <tr>\n",
       "      <th>4</th>\n",
       "      <td>! # stopseditionagainstfarmers xxbos xxmaj whoever said , ' it 's not whether you win or lose that counts , ' probably lost . xxmaj xxunk xxmaj xxunk # farmersprotest # releasedetainedfarmers xxbos xxmaj today , all the four pillars of the country have collapsed . xxmaj in such a situation , it is more important to keep the mind of the nation alive than your ears and eyes . xxmaj so</td>\n",
       "      <td># stopseditionagainstfarmers xxbos xxmaj whoever said , ' it 's not whether you win or lose that counts , ' probably lost . xxmaj xxunk xxmaj xxunk # farmersprotest # releasedetainedfarmers xxbos xxmaj today , all the four pillars of the country have collapsed . xxmaj in such a situation , it is more important to keep the mind of the nation alive than your ears and eyes . xxmaj so that</td>\n",
       "    </tr>\n",
       "    <tr>\n",
       "      <th>5</th>\n",
       "      <td>.. xxmaj too little , too late ! ! # farmersprotest # tractortwitter … xxbos # xxup gmo # xxmaj india # xxmaj poverty # xxmaj inequality # xxmaj agriculture # farmersprotest xxmaj crony xxmaj capitalism xxmaj goodies for xxmaj gujjus only xxmaj vikas of xxmaj adani , xxmaj ambani , xxmaj irani xxmaj ruin , xxmaj tears , debts , death , usury , misery , losses , beggary , disaster</td>\n",
       "      <td>xxmaj too little , too late ! ! # farmersprotest # tractortwitter … xxbos # xxup gmo # xxmaj india # xxmaj poverty # xxmaj inequality # xxmaj agriculture # farmersprotest xxmaj crony xxmaj capitalism xxmaj goodies for xxmaj gujjus only xxmaj vikas of xxmaj adani , xxmaj ambani , xxmaj irani xxmaj ruin , xxmaj tears , debts , death , usury , misery , losses , beggary , disaster ,</td>\n",
       "    </tr>\n",
       "  </tbody>\n",
       "</table>"
      ],
      "text/plain": [
       "<IPython.core.display.HTML object>"
      ]
     },
     "metadata": {},
     "output_type": "display_data"
    }
   ],
   "source": [
    "data_lm = DataBlock(blocks=TextBlock.from_df('text', is_lm=True),\n",
    "                    get_x=ColReader('text'),\n",
    "                    splitter=ColSplitter())\n",
    "dls = data_lm.dataloaders(lang_df, bs=bs, seq_len=72)\n",
    "dls.show_batch(max_n=6)"
   ]
  },
  {
   "cell_type": "code",
   "execution_count": 41,
   "id": "5b02e11b",
   "metadata": {},
   "outputs": [],
   "source": [
    "# dls.vocab"
   ]
  },
  {
   "cell_type": "code",
   "execution_count": 54,
   "id": "61a5dc47",
   "metadata": {},
   "outputs": [],
   "source": [
    "learn = language_model_learner(dls, AWD_LSTM, metrics=accuracy,drop_mult=0.3)"
   ]
  },
  {
   "cell_type": "code",
   "execution_count": 55,
   "id": "5f2517ff",
   "metadata": {},
   "outputs": [
    {
     "data": {
      "text/plain": [
       "<fastai.text.learner.LMLearner at 0x7f1985fe93d0>"
      ]
     },
     "execution_count": 55,
     "metadata": {},
     "output_type": "execute_result"
    }
   ],
   "source": [
    "learn.load('fine_tuned')"
   ]
  },
  {
   "cell_type": "code",
   "execution_count": 56,
   "id": "885cd833",
   "metadata": {},
   "outputs": [],
   "source": [
    "learn.save_encoder('finetuned')"
   ]
  },
  {
   "cell_type": "code",
   "execution_count": null,
   "id": "b22699bd",
   "metadata": {},
   "outputs": [],
   "source": []
  },
  {
   "cell_type": "code",
   "execution_count": 64,
   "id": "ee75b1a8",
   "metadata": {},
   "outputs": [
    {
     "data": {
      "text/html": [],
      "text/plain": [
       "<IPython.core.display.HTML object>"
      ]
     },
     "metadata": {},
     "output_type": "display_data"
    }
   ],
   "source": [
    "dls_clas = TextDataLoaders.from_df(df=df_test,text_vocab=dls.vocab)"
   ]
  },
  {
   "cell_type": "markdown",
   "id": "64d50d60",
   "metadata": {},
   "source": [
    "<h2> To calculate weights for F1 score</h2>\n",
    "wj=n_samples / (n_classes * n_samplesj)"
   ]
  },
  {
   "cell_type": "code",
   "execution_count": 65,
   "id": "d6f4c014",
   "metadata": {},
   "outputs": [
    {
     "data": {
      "text/plain": [
       "F    8799\n",
       "N    2353\n",
       "A     726\n",
       "Name: stance, dtype: int64"
      ]
     },
     "execution_count": 65,
     "metadata": {},
     "output_type": "execute_result"
    }
   ],
   "source": [
    "df['stance'].value_counts()"
   ]
  },
  {
   "cell_type": "code",
   "execution_count": 66,
   "id": "7758054f",
   "metadata": {},
   "outputs": [
    {
     "data": {
      "text/plain": [
       "F    2500\n",
       "A    2500\n",
       "N    2353\n",
       "Name: stance, dtype: int64"
      ]
     },
     "execution_count": 66,
     "metadata": {},
     "output_type": "execute_result"
    }
   ],
   "source": [
    "df_test['stance'].value_counts()"
   ]
  },
  {
   "cell_type": "code",
   "execution_count": 58,
   "id": "d274e6e0",
   "metadata": {},
   "outputs": [],
   "source": [
    "F_w = 2332/(3 * 1000)\n",
    "N_w = 2332/(3 * 1000)\n",
    "A_w = 2332/(3 * 332)\n",
    "weights_tensor = torch.Tensor(np.array([A_w, F_w, N_w]))"
   ]
  },
  {
   "cell_type": "code",
   "execution_count": 59,
   "id": "54e8604c",
   "metadata": {},
   "outputs": [],
   "source": [
    "F_w = 5965/(3 * 4279)\n",
    "N_w = 5965/(3 * 1354)\n",
    "A_w = 5965/(3 * 332)\n",
    "weights_tensor = torch.Tensor(np.array([A_w, F_w, N_w]))"
   ]
  },
  {
   "cell_type": "code",
   "execution_count": 60,
   "id": "bfb21a9c",
   "metadata": {},
   "outputs": [],
   "source": [
    "from sklearn.utils import class_weight\n"
   ]
  },
  {
   "cell_type": "code",
   "execution_count": 61,
   "id": "26840bb1",
   "metadata": {},
   "outputs": [],
   "source": [
    "class_weights = class_weight.compute_class_weight('balanced',classes=np.unique(df['stance']),y=df['stance'])"
   ]
  },
  {
   "cell_type": "code",
   "execution_count": 67,
   "id": "b25bbacd",
   "metadata": {},
   "outputs": [],
   "source": [
    "# learn = text_classifier_learner(dls_clas, AWD_LSTM, loss_func=CrossEntropyLossFlat(weight=torch.Tensor(np.array(class_weights))),\n",
    "#                                 drop_mult=0.5, \n",
    "#                                 metrics=[accuracy, F1Score(average='weighted')])\n",
    "learn = text_classifier_learner(dls_clas, AWD_LSTM, drop_mult=0.3, metrics=[accuracy, F1Score(average='weighted')])"
   ]
  },
  {
   "cell_type": "code",
   "execution_count": 68,
   "id": "a0eac838",
   "metadata": {},
   "outputs": [],
   "source": [
    "learn = learn.load_encoder('finetuned')"
   ]
  },
  {
   "cell_type": "code",
   "execution_count": 69,
   "id": "02d93660",
   "metadata": {},
   "outputs": [
    {
     "data": {
      "text/html": [
       "<table border=\"1\" class=\"dataframe\">\n",
       "  <thead>\n",
       "    <tr style=\"text-align: left;\">\n",
       "      <th>epoch</th>\n",
       "      <th>train_loss</th>\n",
       "      <th>valid_loss</th>\n",
       "      <th>accuracy</th>\n",
       "      <th>f1_score</th>\n",
       "      <th>time</th>\n",
       "    </tr>\n",
       "  </thead>\n",
       "  <tbody>\n",
       "    <tr>\n",
       "      <td>0</td>\n",
       "      <td>0.921897</td>\n",
       "      <td>0.857817</td>\n",
       "      <td>0.596599</td>\n",
       "      <td>0.594150</td>\n",
       "      <td>00:11</td>\n",
       "    </tr>\n",
       "  </tbody>\n",
       "</table>"
      ],
      "text/plain": [
       "<IPython.core.display.HTML object>"
      ]
     },
     "metadata": {},
     "output_type": "display_data"
    }
   ],
   "source": [
    "learn.fit_one_cycle(1, 2e-2,cbs=[EarlyStoppingCallback(monitor='f1_score', min_delta=0.01, patience=3)])"
   ]
  },
  {
   "cell_type": "code",
   "execution_count": 70,
   "id": "0d041ff3",
   "metadata": {},
   "outputs": [
    {
     "data": {
      "text/html": [
       "<table border=\"1\" class=\"dataframe\">\n",
       "  <thead>\n",
       "    <tr style=\"text-align: left;\">\n",
       "      <th>epoch</th>\n",
       "      <th>train_loss</th>\n",
       "      <th>valid_loss</th>\n",
       "      <th>accuracy</th>\n",
       "      <th>f1_score</th>\n",
       "      <th>time</th>\n",
       "    </tr>\n",
       "  </thead>\n",
       "  <tbody>\n",
       "    <tr>\n",
       "      <td>0</td>\n",
       "      <td>0.866138</td>\n",
       "      <td>0.819496</td>\n",
       "      <td>0.619048</td>\n",
       "      <td>0.620829</td>\n",
       "      <td>00:11</td>\n",
       "    </tr>\n",
       "  </tbody>\n",
       "</table>"
      ],
      "text/plain": [
       "<IPython.core.display.HTML object>"
      ]
     },
     "metadata": {},
     "output_type": "display_data"
    }
   ],
   "source": [
    "learn.freeze_to(-2)\n",
    "learn.fit_one_cycle(1, slice(1e-2/(2.6**4),1e-2),cbs=[EarlyStoppingCallback(monitor='f1_score', min_delta=0.01, patience=3)])"
   ]
  },
  {
   "cell_type": "code",
   "execution_count": 71,
   "id": "92919bbf",
   "metadata": {
    "scrolled": true
   },
   "outputs": [
    {
     "data": {
      "text/html": [
       "<table border=\"1\" class=\"dataframe\">\n",
       "  <thead>\n",
       "    <tr style=\"text-align: left;\">\n",
       "      <th>epoch</th>\n",
       "      <th>train_loss</th>\n",
       "      <th>valid_loss</th>\n",
       "      <th>accuracy</th>\n",
       "      <th>f1_score</th>\n",
       "      <th>time</th>\n",
       "    </tr>\n",
       "  </thead>\n",
       "  <tbody>\n",
       "    <tr>\n",
       "      <td>0</td>\n",
       "      <td>0.756533</td>\n",
       "      <td>0.774007</td>\n",
       "      <td>0.640816</td>\n",
       "      <td>0.639606</td>\n",
       "      <td>00:16</td>\n",
       "    </tr>\n",
       "  </tbody>\n",
       "</table>"
      ],
      "text/plain": [
       "<IPython.core.display.HTML object>"
      ]
     },
     "metadata": {},
     "output_type": "display_data"
    }
   ],
   "source": [
    "learn.freeze_to(-3)\n",
    "learn.fit_one_cycle(1, slice(5e-3/(2.6**4),5e-3),cbs=[EarlyStoppingCallback(monitor='f1_score', min_delta=0.01, patience=3)])"
   ]
  },
  {
   "cell_type": "code",
   "execution_count": 72,
   "id": "25b34a0e",
   "metadata": {},
   "outputs": [],
   "source": [
    "import gc\n",
    "# del variables\n",
    "gc.collect()\n",
    "torch.cuda.empty_cache()"
   ]
  },
  {
   "cell_type": "code",
   "execution_count": 73,
   "id": "bc6ffe7d",
   "metadata": {},
   "outputs": [
    {
     "data": {
      "text/html": [
       "<table border=\"1\" class=\"dataframe\">\n",
       "  <thead>\n",
       "    <tr style=\"text-align: left;\">\n",
       "      <th>epoch</th>\n",
       "      <th>train_loss</th>\n",
       "      <th>valid_loss</th>\n",
       "      <th>accuracy</th>\n",
       "      <th>f1_score</th>\n",
       "      <th>time</th>\n",
       "    </tr>\n",
       "  </thead>\n",
       "  <tbody>\n",
       "    <tr>\n",
       "      <td>0</td>\n",
       "      <td>0.613958</td>\n",
       "      <td>0.763884</td>\n",
       "      <td>0.649660</td>\n",
       "      <td>0.650275</td>\n",
       "      <td>00:22</td>\n",
       "    </tr>\n",
       "    <tr>\n",
       "      <td>1</td>\n",
       "      <td>0.580501</td>\n",
       "      <td>0.763184</td>\n",
       "      <td>0.654422</td>\n",
       "      <td>0.655953</td>\n",
       "      <td>00:23</td>\n",
       "    </tr>\n",
       "    <tr>\n",
       "      <td>2</td>\n",
       "      <td>0.508870</td>\n",
       "      <td>0.755349</td>\n",
       "      <td>0.672109</td>\n",
       "      <td>0.670623</td>\n",
       "      <td>00:24</td>\n",
       "    </tr>\n",
       "    <tr>\n",
       "      <td>3</td>\n",
       "      <td>0.412165</td>\n",
       "      <td>0.810501</td>\n",
       "      <td>0.671429</td>\n",
       "      <td>0.669850</td>\n",
       "      <td>00:24</td>\n",
       "    </tr>\n",
       "    <tr>\n",
       "      <td>4</td>\n",
       "      <td>0.313789</td>\n",
       "      <td>0.861562</td>\n",
       "      <td>0.668707</td>\n",
       "      <td>0.667964</td>\n",
       "      <td>00:24</td>\n",
       "    </tr>\n",
       "    <tr>\n",
       "      <td>5</td>\n",
       "      <td>0.250739</td>\n",
       "      <td>0.900695</td>\n",
       "      <td>0.675510</td>\n",
       "      <td>0.673876</td>\n",
       "      <td>00:24</td>\n",
       "    </tr>\n",
       "  </tbody>\n",
       "</table>"
      ],
      "text/plain": [
       "<IPython.core.display.HTML object>"
      ]
     },
     "metadata": {},
     "output_type": "display_data"
    },
    {
     "name": "stdout",
     "output_type": "stream",
     "text": [
      "No improvement since epoch 2: early stopping\n"
     ]
    }
   ],
   "source": [
    "learn.unfreeze()\n",
    "learn.fit_one_cycle(10, slice(1e-3/(2.6**4),1e-3),cbs=[EarlyStoppingCallback(monitor='f1_score', min_delta=0.01, patience=3)])"
   ]
  },
  {
   "cell_type": "code",
   "execution_count": 74,
   "id": "10fb0e54",
   "metadata": {},
   "outputs": [
    {
     "data": {
      "text/html": [],
      "text/plain": [
       "<IPython.core.display.HTML object>"
      ]
     },
     "metadata": {},
     "output_type": "display_data"
    },
    {
     "data": {
      "text/plain": [
       "('N', TensorText(2), TensorText([0.0018, 0.0028, 0.9954]))"
      ]
     },
     "execution_count": 74,
     "metadata": {},
     "output_type": "execute_result"
    }
   ],
   "source": [
    "learn.predict('A #Hindu MLA was stripped naked and beaten brutally in #Congress ruled #Punjab by so called farmers of #FarmersProtest.  Imagine the same, if had happened to a Sikh Or Muslim MLA or individual in a #BJP ruled state.  I know, you cant even imagine that...  Desh jal gaya hota')"
   ]
  },
  {
   "cell_type": "code",
   "execution_count": 75,
   "id": "64e82a7a",
   "metadata": {},
   "outputs": [
    {
     "data": {
      "text/html": [],
      "text/plain": [
       "<IPython.core.display.HTML object>"
      ]
     },
     "metadata": {},
     "output_type": "display_data"
    },
    {
     "data": {
      "text/plain": [
       "('N', TensorText(2), TensorText([0.0238, 0.1481, 0.8280]))"
      ]
     },
     "execution_count": 75,
     "metadata": {},
     "output_type": "execute_result"
    }
   ],
   "source": [
    "learn.predict('Breaking Mobile tower = \\'Modi\\' s Public Development\\'. 😂🤣Jio Bad boy, truth is slipping out of your tongue! 😝  Roads blocked & red fort indent, by the govt.   Trains- Rights of protest.   Opposition support-Democracy (only bit left)   #MonthsOfDelhiProtest  #FarmersProtest')"
   ]
  },
  {
   "cell_type": "code",
   "execution_count": 76,
   "id": "11bb23d4",
   "metadata": {},
   "outputs": [
    {
     "data": {
      "text/html": [],
      "text/plain": [
       "<IPython.core.display.HTML object>"
      ]
     },
     "metadata": {},
     "output_type": "display_data"
    },
    {
     "data": {
      "text/plain": [
       "('A', TensorText(0), TensorText([0.6147, 0.0574, 0.3279]))"
      ]
     },
     "execution_count": 76,
     "metadata": {},
     "output_type": "execute_result"
    }
   ],
   "source": [
    "learn.predict('It\\'s very hard to commute from Delhi to Ghaziabad daily due to roads blocked by farmers..   Till when common ppl will bear this ?? #Farmersprotest #Borderkhalikaro')"
   ]
  },
  {
   "cell_type": "code",
   "execution_count": 77,
   "id": "f3f64d3b",
   "metadata": {},
   "outputs": [
    {
     "data": {
      "text/html": [],
      "text/plain": [
       "<IPython.core.display.HTML object>"
      ]
     },
     "metadata": {},
     "output_type": "display_data"
    },
    {
     "data": {
      "text/plain": [
       "('F', TensorText(1), TensorText([0.2080, 0.6245, 0.1674]))"
      ]
     },
     "execution_count": 77,
     "metadata": {},
     "output_type": "execute_result"
    }
   ],
   "source": [
    "learn.predict('An elderly farmer beaten by police in Rohtak. This protest has seen too much blood & tears of innocent protestors and yet they remain resilient  #FarmersProtest  🚜🌾 ')"
   ]
  },
  {
   "cell_type": "code",
   "execution_count": 78,
   "id": "4aa01ae1",
   "metadata": {},
   "outputs": [
    {
     "data": {
      "text/html": [],
      "text/plain": [
       "<IPython.core.display.HTML object>"
      ]
     },
     "metadata": {},
     "output_type": "display_data"
    },
    {
     "data": {
      "text/plain": [
       "('F', TensorText(1), TensorText([0.0046, 0.9204, 0.0750]))"
      ]
     },
     "execution_count": 78,
     "metadata": {},
     "output_type": "execute_result"
    }
   ],
   "source": [
    "learn.predict('Shame on that bloody government that it is not listening the voice of poor farmers of this country  #FarmersProtest')"
   ]
  },
  {
   "cell_type": "code",
   "execution_count": 79,
   "id": "8b1e3728",
   "metadata": {},
   "outputs": [
    {
     "data": {
      "text/html": [],
      "text/plain": [
       "<IPython.core.display.HTML object>"
      ]
     },
     "metadata": {},
     "output_type": "display_data"
    },
    {
     "data": {
      "text/plain": [
       "('F', TensorText(1), TensorText([0.1738, 0.4219, 0.4043]))"
      ]
     },
     "execution_count": 79,
     "metadata": {},
     "output_type": "execute_result"
    }
   ],
   "source": [
    "learn.predict('It\\'s easy to feel helpless-like you can\\'t fight the tide. But remember: small actions can have a huge impact,one person like u can inspire others to action #FarmersProtest   ::')"
   ]
  },
  {
   "cell_type": "code",
   "execution_count": 80,
   "id": "cade4130",
   "metadata": {},
   "outputs": [
    {
     "data": {
      "text/html": [],
      "text/plain": [
       "<IPython.core.display.HTML object>"
      ]
     },
     "metadata": {},
     "output_type": "display_data"
    },
    {
     "data": {
      "text/plain": [
       "('F', TensorText(1), TensorText([0.0476, 0.4919, 0.4605]))"
      ]
     },
     "execution_count": 80,
     "metadata": {},
     "output_type": "execute_result"
    }
   ],
   "source": [
    "learn.predict('It\\'s third time I\\'ve felt such pain in this #FarmersProtest but it\\'s part of the revolution. We\\'ve to be strong and have to support each other like family. Maybe, youth and intellectual people should come forward. Please, don\\'t waste your time, think what we can? #Lashkar_e_RSS ')"
   ]
  },
  {
   "cell_type": "code",
   "execution_count": 90,
   "id": "657d7577",
   "metadata": {},
   "outputs": [],
   "source": [
    "# learn.predict('support the farmers. ')"
   ]
  },
  {
   "cell_type": "code",
   "execution_count": 87,
   "id": "f463bb11",
   "metadata": {},
   "outputs": [
    {
     "data": {
      "text/html": [],
      "text/plain": [
       "<IPython.core.display.HTML object>"
      ]
     },
     "metadata": {},
     "output_type": "display_data"
    },
    {
     "data": {
      "text/plain": [
       "('F', TensorText(1), TensorText([1.4331e-04, 9.8769e-01, 1.2162e-02]))"
      ]
     },
     "execution_count": 87,
     "metadata": {},
     "output_type": "execute_result"
    }
   ],
   "source": [
    "learn.predict('I stand with farmers!!!! #FarmersProtest')"
   ]
  },
  {
   "cell_type": "code",
   "execution_count": 83,
   "id": "a227b06d",
   "metadata": {},
   "outputs": [
    {
     "data": {
      "text/html": [],
      "text/plain": [
       "<IPython.core.display.HTML object>"
      ]
     },
     "metadata": {},
     "output_type": "display_data"
    },
    {
     "data": {
      "text/plain": [
       "('A', TensorText(0), TensorText([9.9705e-01, 1.2831e-05, 2.9375e-03]))"
      ]
     },
     "execution_count": 83,
     "metadata": {},
     "output_type": "execute_result"
    }
   ],
   "source": [
    "learn.predict('Few antisocial & anti national elements already #FarmersProtestHijacked  They demand #Khalistan show involvement of #ISI & #PFI as well  We don\\'t let them to make another #ShaheenBagh   Block #Delhi #BharatBandhOnDecember This is not #FarmersProtest  #SayNoToAnarchy ')"
   ]
  },
  {
   "cell_type": "code",
   "execution_count": 84,
   "id": "968ccac6",
   "metadata": {},
   "outputs": [
    {
     "data": {
      "text/html": [],
      "text/plain": [
       "<IPython.core.display.HTML object>"
      ]
     },
     "metadata": {},
     "output_type": "display_data"
    },
    {
     "data": {
      "text/plain": [
       "('F', TensorText(1), TensorText([0.0044, 0.8301, 0.1655]))"
      ]
     },
     "execution_count": 84,
     "metadata": {},
     "output_type": "execute_result"
    }
   ],
   "source": [
    "learn.predict('#FarmersProtest is going global as  extends support to farmers.  Don\\'t be surprised if  writes an article against  …')"
   ]
  },
  {
   "cell_type": "code",
   "execution_count": null,
   "id": "cf03362f",
   "metadata": {},
   "outputs": [],
   "source": []
  },
  {
   "cell_type": "code",
   "execution_count": 85,
   "id": "bf76002e",
   "metadata": {},
   "outputs": [
    {
     "data": {
      "text/html": [],
      "text/plain": [
       "<IPython.core.display.HTML object>"
      ]
     },
     "metadata": {},
     "output_type": "display_data"
    },
    {
     "data": {
      "text/plain": [
       "('N', TensorText(2), TensorText([0.0016, 0.0150, 0.9834]))"
      ]
     },
     "execution_count": 85,
     "metadata": {},
     "output_type": "execute_result"
    }
   ],
   "source": [
    "learn.predict('Bank unions lend support to farmers\\' agitation against new farm laws  #FarmersProtest  #FarmLaws   YSXrNQ')"
   ]
  },
  {
   "cell_type": "code",
   "execution_count": 86,
   "id": "f302df11",
   "metadata": {},
   "outputs": [
    {
     "data": {
      "text/plain": [
       "Path('models/classfication_model_majority_positive.pth')"
      ]
     },
     "execution_count": 86,
     "metadata": {},
     "output_type": "execute_result"
    }
   ],
   "source": [
    "learn.save('classfication_model_majority_positive')"
   ]
  },
  {
   "cell_type": "code",
   "execution_count": null,
   "id": "daa51928",
   "metadata": {},
   "outputs": [],
   "source": []
  }
 ],
 "metadata": {
  "kernelspec": {
   "display_name": "Python 3 (ipykernel)",
   "language": "python",
   "name": "python3"
  },
  "language_info": {
   "codemirror_mode": {
    "name": "ipython",
    "version": 3
   },
   "file_extension": ".py",
   "mimetype": "text/x-python",
   "name": "python",
   "nbconvert_exporter": "python",
   "pygments_lexer": "ipython3",
   "version": "3.9.7"
  }
 },
 "nbformat": 4,
 "nbformat_minor": 5
}
