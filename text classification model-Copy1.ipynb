{
 "cells": [
  {
   "cell_type": "code",
   "execution_count": 1,
   "id": "0de0151d",
   "metadata": {},
   "outputs": [],
   "source": [
    "from fastai import *\n",
    "import fastai\n",
    "from fastai.text.all import *\n",
    "# from fastai.text import *\n",
    "# from fastai.test_utils import *\n",
    "from pathlib import Path\n",
    "import pandas as pd\n",
    "import numpy as np\n",
    "import re"
   ]
  },
  {
   "cell_type": "code",
   "execution_count": 2,
   "id": "8a625438",
   "metadata": {},
   "outputs": [
    {
     "data": {
      "text/plain": [
       "False"
      ]
     },
     "execution_count": 2,
     "metadata": {},
     "output_type": "execute_result"
    }
   ],
   "source": [
    "import torch\n",
    "torch.cuda.is_available()"
   ]
  },
  {
   "cell_type": "code",
   "execution_count": 3,
   "id": "70e60120",
   "metadata": {},
   "outputs": [],
   "source": [
    "path = Path('./data')\n",
    "path_lang_model = Path('./data/lang_model_data')\n",
    "\n",
    "# sample2 = pd.read_csv(path/'sampl.csv')\n",
    "# sample3 = pd.read_csv(path/'sample_3.csv')"
   ]
  },
  {
   "cell_type": "code",
   "execution_count": 4,
   "id": "b409540b",
   "metadata": {},
   "outputs": [],
   "source": [
    "sample1 = pd.read_csv(path/'sample_1.csv')"
   ]
  },
  {
   "cell_type": "code",
   "execution_count": 5,
   "id": "7eb35e7a",
   "metadata": {},
   "outputs": [
    {
     "name": "stderr",
     "output_type": "stream",
     "text": [
      "/tmp/ipykernel_5086/327552301.py:1: SettingWithCopyWarning: \n",
      "A value is trying to be set on a copy of a slice from a DataFrame\n",
      "\n",
      "See the caveats in the documentation: https://pandas.pydata.org/pandas-docs/stable/user_guide/indexing.html#returning-a-view-versus-a-copy\n",
      "  sample1['stance'][0] = 'A'\n"
     ]
    }
   ],
   "source": [
    "sample1['stance'][0] = 'A'\n",
    "sample1['stance'].fillna('N', inplace=True)\n",
    "sample1=sample1.iloc[:, 1:]"
   ]
  },
  {
   "cell_type": "code",
   "execution_count": 6,
   "id": "7baf290b",
   "metadata": {},
   "outputs": [
    {
     "data": {
      "text/plain": [
       "tweetId            0\n",
       "renderedContent    0\n",
       "stance             0\n",
       "dtype: int64"
      ]
     },
     "execution_count": 6,
     "metadata": {},
     "output_type": "execute_result"
    }
   ],
   "source": [
    "sample1.isnull().sum()"
   ]
  },
  {
   "cell_type": "code",
   "execution_count": 7,
   "id": "8c66efa4",
   "metadata": {},
   "outputs": [],
   "source": [
    "sample2 = pd.read_csv(path/'sample_2_-_sample_2_1.csv', encoding='utf-8')\n",
    "sample2 = sample2.iloc[:, 1:]\n",
    "sample2.columns = ['tweetId','renderedContent','stance']"
   ]
  },
  {
   "cell_type": "code",
   "execution_count": 8,
   "id": "14a03a84",
   "metadata": {},
   "outputs": [
    {
     "data": {
      "text/plain": [
       "tweetId            0\n",
       "renderedContent    0\n",
       "stance             0\n",
       "dtype: int64"
      ]
     },
     "execution_count": 8,
     "metadata": {},
     "output_type": "execute_result"
    }
   ],
   "source": [
    "sample2.isnull().sum()"
   ]
  },
  {
   "cell_type": "code",
   "execution_count": 9,
   "id": "0f3bb0ae",
   "metadata": {},
   "outputs": [],
   "source": [
    "sample3 = pd.read_csv(path/'sample_3final.csv', encoding='utf-8')\n",
    "sample3 = sample3.iloc[:, 1:]\n",
    "sample3.columns = ['tweetId','renderedContent','stance']"
   ]
  },
  {
   "cell_type": "code",
   "execution_count": 10,
   "id": "46706167",
   "metadata": {},
   "outputs": [
    {
     "data": {
      "text/plain": [
       "tweetId            0\n",
       "renderedContent    0\n",
       "stance             0\n",
       "dtype: int64"
      ]
     },
     "execution_count": 10,
     "metadata": {},
     "output_type": "execute_result"
    }
   ],
   "source": [
    "sample3.isnull().sum()"
   ]
  },
  {
   "cell_type": "code",
   "execution_count": 11,
   "id": "5d65086b",
   "metadata": {
    "scrolled": true
   },
   "outputs": [
    {
     "data": {
      "text/html": [
       "<div>\n",
       "<style scoped>\n",
       "    .dataframe tbody tr th:only-of-type {\n",
       "        vertical-align: middle;\n",
       "    }\n",
       "\n",
       "    .dataframe tbody tr th {\n",
       "        vertical-align: top;\n",
       "    }\n",
       "\n",
       "    .dataframe thead th {\n",
       "        text-align: right;\n",
       "    }\n",
       "</style>\n",
       "<table border=\"1\" class=\"dataframe\">\n",
       "  <thead>\n",
       "    <tr style=\"text-align: right;\">\n",
       "      <th></th>\n",
       "      <th>tweetId</th>\n",
       "      <th>renderedContent</th>\n",
       "      <th>stance</th>\n",
       "    </tr>\n",
       "  </thead>\n",
       "  <tbody>\n",
       "    <tr>\n",
       "      <th>0</th>\n",
       "      <td>1.330000e+18</td>\n",
       "      <td>Stand with farmer's   #FarmerProtest  #FarmersProtest  #standwithfarmerschallenge</td>\n",
       "      <td>F</td>\n",
       "    </tr>\n",
       "    <tr>\n",
       "      <th>1</th>\n",
       "      <td>1.360000e+18</td>\n",
       "      <td>Please don't show your kindness on that states where bjp government is not in power... Show your interest to solve the current issues in india don't neglect those issues like #unemployment #FarmersProtest #PetrolPriceHike there are many more to come</td>\n",
       "      <td>A</td>\n",
       "    </tr>\n",
       "    <tr>\n",
       "      <th>2</th>\n",
       "      <td>1.430000e+18</td>\n",
       "      <td>If the chains don't cut then cut your feet \", ′′ Walk lame but walk freely \"!   #RejectBJP_SupportFarmers #FarmersProtest</td>\n",
       "      <td>F</td>\n",
       "    </tr>\n",
       "    <tr>\n",
       "      <th>3</th>\n",
       "      <td>1.370000e+18</td>\n",
       "      <td>Reality of #FarmersProtest by a true Sikh Sardar 🙏 Must Watch video. Please #retweet to spread the truth.  #FarmerProtests #KisanAndolan #khaliataniterrorists  #NarendraModi #Modi #Congress #BJP #Sikh #sikhsforindia  #Sikhism #Sikhs  6AnCqaE</td>\n",
       "      <td>N</td>\n",
       "    </tr>\n",
       "    <tr>\n",
       "      <th>4</th>\n",
       "      <td>1.340000e+18</td>\n",
       "      <td>Thanks for supporting farmer #FarmersProtest …</td>\n",
       "      <td>F</td>\n",
       "    </tr>\n",
       "  </tbody>\n",
       "</table>\n",
       "</div>"
      ],
      "text/plain": [
       "        tweetId  \\\n",
       "0  1.330000e+18   \n",
       "1  1.360000e+18   \n",
       "2  1.430000e+18   \n",
       "3  1.370000e+18   \n",
       "4  1.340000e+18   \n",
       "\n",
       "                                                                                                                                                                                                                                              renderedContent  \\\n",
       "0                                                                                                                                                                           Stand with farmer's   #FarmerProtest  #FarmersProtest  #standwithfarmerschallenge   \n",
       "1   Please don't show your kindness on that states where bjp government is not in power... Show your interest to solve the current issues in india don't neglect those issues like #unemployment #FarmersProtest #PetrolPriceHike there are many more to come   \n",
       "2                                                                                                                                  If the chains don't cut then cut your feet \", ′′ Walk lame but walk freely \"!   #RejectBJP_SupportFarmers #FarmersProtest    \n",
       "3           Reality of #FarmersProtest by a true Sikh Sardar 🙏 Must Watch video. Please #retweet to spread the truth.  #FarmerProtests #KisanAndolan #khaliataniterrorists  #NarendraModi #Modi #Congress #BJP #Sikh #sikhsforindia  #Sikhism #Sikhs  6AnCqaE   \n",
       "4                                                                                                                                                                                                              Thanks for supporting farmer #FarmersProtest …   \n",
       "\n",
       "  stance  \n",
       "0      F  \n",
       "1      A  \n",
       "2      F  \n",
       "3      N  \n",
       "4      F  "
      ]
     },
     "execution_count": 11,
     "metadata": {},
     "output_type": "execute_result"
    }
   ],
   "source": [
    "sample4 = pd.read_csv(path/'sample_4.csv', encoding='utf-8')\n",
    "sample4 = sample4.iloc[:, 1:]\n",
    "sample4.columns = ['tweetId','renderedContent','stance']\n",
    "sample4.head()"
   ]
  },
  {
   "cell_type": "code",
   "execution_count": 12,
   "id": "1b58acf7",
   "metadata": {},
   "outputs": [
    {
     "data": {
      "text/plain": [
       "tweetId            0\n",
       "renderedContent    0\n",
       "stance             0\n",
       "dtype: int64"
      ]
     },
     "execution_count": 12,
     "metadata": {},
     "output_type": "execute_result"
    }
   ],
   "source": [
    "sample4.isnull().sum()"
   ]
  },
  {
   "cell_type": "code",
   "execution_count": 13,
   "id": "c0ca8aac",
   "metadata": {},
   "outputs": [
    {
     "data": {
      "text/html": [
       "<div>\n",
       "<style scoped>\n",
       "    .dataframe tbody tr th:only-of-type {\n",
       "        vertical-align: middle;\n",
       "    }\n",
       "\n",
       "    .dataframe tbody tr th {\n",
       "        vertical-align: top;\n",
       "    }\n",
       "\n",
       "    .dataframe thead th {\n",
       "        text-align: right;\n",
       "    }\n",
       "</style>\n",
       "<table border=\"1\" class=\"dataframe\">\n",
       "  <thead>\n",
       "    <tr style=\"text-align: right;\">\n",
       "      <th></th>\n",
       "      <th>tweetId</th>\n",
       "      <th>renderedContent</th>\n",
       "      <th>stance</th>\n",
       "    </tr>\n",
       "  </thead>\n",
       "  <tbody>\n",
       "    <tr>\n",
       "      <th>0</th>\n",
       "      <td>1.380000e+18</td>\n",
       "      <td>Hashtag for today (09/04/21)  #Farmers_vs_BikauModi   Tweet | RT | Share | Spread | Like #FarmersProtest  #IStandWithFarmers</td>\n",
       "      <td>N</td>\n",
       "    </tr>\n",
       "    <tr>\n",
       "      <th>1</th>\n",
       "      <td>1.360000e+18</td>\n",
       "      <td>IMF 's Gita Gopinath supports Farm law  Porn stars like Mia Khalifa, Rihanna, Amenda n Swara r against it..  #FarmersProtest</td>\n",
       "      <td>A</td>\n",
       "    </tr>\n",
       "    <tr>\n",
       "      <th>2</th>\n",
       "      <td>1.360000e+18</td>\n",
       "      <td>Things to learn from the #FarmersProtest -  1. Eat as per needs. 2. Carry your food wherever possible. 3. Say NO to starvation. 4. Avoid people who are trying to break your firm decisions.</td>\n",
       "      <td>F</td>\n",
       "    </tr>\n",
       "    <tr>\n",
       "      <th>3</th>\n",
       "      <td>1.360000e+18</td>\n",
       "      <td>This has been happening for DECADES in India! India, a FASCIST Regime has been doing its upmost best to oppress the minorities, farmers, particular religions that are different from the BJP Hindu extremists, individuals who speak up and stand up for what is right #FarmersProtest</td>\n",
       "      <td>F</td>\n",
       "    </tr>\n",
       "    <tr>\n",
       "      <th>4</th>\n",
       "      <td>1.440000e+18</td>\n",
       "      <td>Some exclusive picz of Jaipur Kisan Sansad, Rajasthan.   Langar sewa was organized by Meena Samaj Rajasthan.   #FarmersProtest …</td>\n",
       "      <td>F</td>\n",
       "    </tr>\n",
       "  </tbody>\n",
       "</table>\n",
       "</div>"
      ],
      "text/plain": [
       "        tweetId  \\\n",
       "0  1.380000e+18   \n",
       "1  1.360000e+18   \n",
       "2  1.360000e+18   \n",
       "3  1.360000e+18   \n",
       "4  1.440000e+18   \n",
       "\n",
       "                                                                                                                                                                                                                                                                              renderedContent  \\\n",
       "0                                                                                                                                                                Hashtag for today (09/04/21)  #Farmers_vs_BikauModi   Tweet | RT | Share | Spread | Like #FarmersProtest  #IStandWithFarmers   \n",
       "1                                                                                                                                                                IMF 's Gita Gopinath supports Farm law  Porn stars like Mia Khalifa, Rihanna, Amenda n Swara r against it..  #FarmersProtest   \n",
       "2                                                                                                Things to learn from the #FarmersProtest -  1. Eat as per needs. 2. Carry your food wherever possible. 3. Say NO to starvation. 4. Avoid people who are trying to break your firm decisions.   \n",
       "3    This has been happening for DECADES in India! India, a FASCIST Regime has been doing its upmost best to oppress the minorities, farmers, particular religions that are different from the BJP Hindu extremists, individuals who speak up and stand up for what is right #FarmersProtest    \n",
       "4                                                                                                                                                            Some exclusive picz of Jaipur Kisan Sansad, Rajasthan.   Langar sewa was organized by Meena Samaj Rajasthan.   #FarmersProtest …   \n",
       "\n",
       "  stance  \n",
       "0      N  \n",
       "1      A  \n",
       "2      F  \n",
       "3      F  \n",
       "4      F  "
      ]
     },
     "execution_count": 13,
     "metadata": {},
     "output_type": "execute_result"
    }
   ],
   "source": [
    "sample5 = pd.read_csv(path/'sample_5.csv', encoding='utf-8')\n",
    "sample5 = sample5.iloc[:, 1:]\n",
    "sample5.columns = ['tweetId','renderedContent','stance']\n",
    "sample5.head()"
   ]
  },
  {
   "cell_type": "code",
   "execution_count": 14,
   "id": "6537e47d",
   "metadata": {},
   "outputs": [
    {
     "data": {
      "text/plain": [
       "tweetId            0\n",
       "renderedContent    0\n",
       "stance             0\n",
       "dtype: int64"
      ]
     },
     "execution_count": 14,
     "metadata": {},
     "output_type": "execute_result"
    }
   ],
   "source": [
    "sample5.isnull().sum()"
   ]
  },
  {
   "cell_type": "code",
   "execution_count": 15,
   "id": "9ff50905",
   "metadata": {},
   "outputs": [
    {
     "data": {
      "text/html": [
       "<div>\n",
       "<style scoped>\n",
       "    .dataframe tbody tr th:only-of-type {\n",
       "        vertical-align: middle;\n",
       "    }\n",
       "\n",
       "    .dataframe tbody tr th {\n",
       "        vertical-align: top;\n",
       "    }\n",
       "\n",
       "    .dataframe thead th {\n",
       "        text-align: right;\n",
       "    }\n",
       "</style>\n",
       "<table border=\"1\" class=\"dataframe\">\n",
       "  <thead>\n",
       "    <tr style=\"text-align: right;\">\n",
       "      <th></th>\n",
       "      <th>tweetId</th>\n",
       "      <th>renderedContent</th>\n",
       "      <th>stance</th>\n",
       "    </tr>\n",
       "  </thead>\n",
       "  <tbody>\n",
       "    <tr>\n",
       "      <th>0</th>\n",
       "      <td>1.420000e+18</td>\n",
       "      <td>Thank you  for confirming if Gundas/Cr!m!nals are supporting the #FarmersProtest  Jai HIND 🇮🇳</td>\n",
       "      <td>F</td>\n",
       "    </tr>\n",
       "    <tr>\n",
       "      <th>1</th>\n",
       "      <td>1.390000e+18</td>\n",
       "      <td>Let’s not fall for cheap tactics and propaganda that are designed to divide us...!  #KisanBole_NoVoteToModi  #FarmersProtest</td>\n",
       "      <td>F</td>\n",
       "    </tr>\n",
       "    <tr>\n",
       "      <th>2</th>\n",
       "      <td>1.350000e+18</td>\n",
       "      <td>Many farmer union leaders I spoke to have said that today's meeting has been more positive than previous ones and that the govt has softened it's stand.    #FarmersProtest</td>\n",
       "      <td>A</td>\n",
       "    </tr>\n",
       "    <tr>\n",
       "      <th>3</th>\n",
       "      <td>1.360000e+18</td>\n",
       "      <td>Let the world know and also the Indians about the actual propaganda machinery of India.   Retweet with #bjpsellpropaganda   #FarmersStandingFirm #FarmersProtest #KisanAndolan</td>\n",
       "      <td>F</td>\n",
       "    </tr>\n",
       "    <tr>\n",
       "      <th>4</th>\n",
       "      <td>1.360000e+18</td>\n",
       "      <td>#FarmersProtest   Thank you for speaking out about this</td>\n",
       "      <td>F</td>\n",
       "    </tr>\n",
       "  </tbody>\n",
       "</table>\n",
       "</div>"
      ],
      "text/plain": [
       "        tweetId  \\\n",
       "0  1.420000e+18   \n",
       "1  1.390000e+18   \n",
       "2  1.350000e+18   \n",
       "3  1.360000e+18   \n",
       "4  1.360000e+18   \n",
       "\n",
       "                                                                                                                                                                  renderedContent  \\\n",
       "0                                                                                   Thank you  for confirming if Gundas/Cr!m!nals are supporting the #FarmersProtest  Jai HIND 🇮🇳   \n",
       "1                                                   Let’s not fall for cheap tactics and propaganda that are designed to divide us...!  #KisanBole_NoVoteToModi  #FarmersProtest    \n",
       "2     Many farmer union leaders I spoke to have said that today's meeting has been more positive than previous ones and that the govt has softened it's stand.    #FarmersProtest   \n",
       "3  Let the world know and also the Indians about the actual propaganda machinery of India.   Retweet with #bjpsellpropaganda   #FarmersStandingFirm #FarmersProtest #KisanAndolan   \n",
       "4                                                                                                                        #FarmersProtest   Thank you for speaking out about this    \n",
       "\n",
       "  stance  \n",
       "0      F  \n",
       "1      F  \n",
       "2      A  \n",
       "3      F  \n",
       "4      F  "
      ]
     },
     "execution_count": 15,
     "metadata": {},
     "output_type": "execute_result"
    }
   ],
   "source": [
    "sample6 = pd.read_csv(path/'sample_6.csv', encoding='utf-8')\n",
    "sample6 = sample6.iloc[:, 1:]\n",
    "sample6.columns = ['tweetId','renderedContent','stance']\n",
    "sample6.head()"
   ]
  },
  {
   "cell_type": "code",
   "execution_count": 16,
   "id": "603d5994",
   "metadata": {},
   "outputs": [
    {
     "data": {
      "text/plain": [
       "tweetId            0\n",
       "renderedContent    0\n",
       "stance             0\n",
       "dtype: int64"
      ]
     },
     "execution_count": 16,
     "metadata": {},
     "output_type": "execute_result"
    }
   ],
   "source": [
    "sample6.isnull().sum()"
   ]
  },
  {
   "cell_type": "code",
   "execution_count": null,
   "id": "172988ce",
   "metadata": {},
   "outputs": [],
   "source": []
  },
  {
   "cell_type": "code",
   "execution_count": 17,
   "id": "2bde16f4",
   "metadata": {},
   "outputs": [
    {
     "data": {
      "text/plain": [
       "F    1315\n",
       "N     512\n",
       "A     164\n",
       "S       3\n",
       "T       2\n",
       "y       1\n",
       "P       1\n",
       "t       1\n",
       "s       1\n",
       "Name: stance, dtype: int64"
      ]
     },
     "execution_count": 17,
     "metadata": {},
     "output_type": "execute_result"
    }
   ],
   "source": [
    "sample1['stance'].value_counts()"
   ]
  },
  {
   "cell_type": "code",
   "execution_count": 18,
   "id": "a13151c9",
   "metadata": {},
   "outputs": [],
   "source": [
    "def rename_stance(stance):\n",
    "    if stance == 'F':\n",
    "        return 'F'\n",
    "    elif stance == 'A':\n",
    "        return 'A'\n",
    "    else:\n",
    "        return 'N'"
   ]
  },
  {
   "cell_type": "code",
   "execution_count": 19,
   "id": "3495a848",
   "metadata": {},
   "outputs": [
    {
     "data": {
      "text/plain": [
       "F    1315\n",
       "N     521\n",
       "A     164\n",
       "Name: stance, dtype: int64"
      ]
     },
     "execution_count": 19,
     "metadata": {},
     "output_type": "execute_result"
    }
   ],
   "source": [
    "sample1['stance'] = sample1['stance'].apply(rename_stance)\n",
    "sample1['stance'].value_counts()"
   ]
  },
  {
   "cell_type": "code",
   "execution_count": 20,
   "id": "41745bce",
   "metadata": {},
   "outputs": [
    {
     "data": {
      "text/plain": [
       "F    1596\n",
       "N     291\n",
       "A     113\n",
       "Name: stance, dtype: int64"
      ]
     },
     "execution_count": 20,
     "metadata": {},
     "output_type": "execute_result"
    }
   ],
   "source": [
    "\n",
    "sample2['stance'] = sample2['stance'].apply(rename_stance)\n",
    "sample2['stance'].value_counts()"
   ]
  },
  {
   "cell_type": "code",
   "execution_count": 21,
   "id": "87728ba6",
   "metadata": {},
   "outputs": [
    {
     "data": {
      "text/plain": [
       "F    1395\n",
       "N     547\n",
       "A      58\n",
       "Name: stance, dtype: int64"
      ]
     },
     "execution_count": 21,
     "metadata": {},
     "output_type": "execute_result"
    }
   ],
   "source": [
    "sample3['stance'] = sample3['stance'].apply(rename_stance)\n",
    "sample3['stance'].value_counts()"
   ]
  },
  {
   "cell_type": "code",
   "execution_count": 22,
   "id": "a89523c3",
   "metadata": {},
   "outputs": [
    {
     "data": {
      "text/plain": [
       "F    1347\n",
       "N     510\n",
       "A     143\n",
       "Name: stance, dtype: int64"
      ]
     },
     "execution_count": 22,
     "metadata": {},
     "output_type": "execute_result"
    }
   ],
   "source": [
    "sample4['stance'] = sample4['stance'].apply(rename_stance)\n",
    "sample4['stance'].value_counts()"
   ]
  },
  {
   "cell_type": "code",
   "execution_count": 23,
   "id": "d4e5b371",
   "metadata": {},
   "outputs": [
    {
     "data": {
      "text/plain": [
       "F    1654\n",
       "N     184\n",
       "A     162\n",
       "Name: stance, dtype: int64"
      ]
     },
     "execution_count": 23,
     "metadata": {},
     "output_type": "execute_result"
    }
   ],
   "source": [
    "sample5['stance'] = sample5['stance'].apply(rename_stance)\n",
    "sample5['stance'].value_counts()"
   ]
  },
  {
   "cell_type": "code",
   "execution_count": 24,
   "id": "9eb682f6",
   "metadata": {},
   "outputs": [
    {
     "data": {
      "text/plain": [
       "F    1589\n",
       "N     317\n",
       "A      94\n",
       "Name: stance, dtype: int64"
      ]
     },
     "execution_count": 24,
     "metadata": {},
     "output_type": "execute_result"
    }
   ],
   "source": [
    "sample6['stance'] = sample6['stance'].apply(rename_stance)\n",
    "sample6['stance'].value_counts()"
   ]
  },
  {
   "cell_type": "code",
   "execution_count": 25,
   "id": "b66e0635",
   "metadata": {},
   "outputs": [],
   "source": [
    "df = pd.concat([sample1, sample2, sample3, sample4, sample5, sample6])\n",
    "\n",
    "df = df.sample(frac = 1).reset_index(drop=True)"
   ]
  },
  {
   "cell_type": "code",
   "execution_count": 26,
   "id": "8548b983",
   "metadata": {
    "scrolled": true
   },
   "outputs": [
    {
     "data": {
      "text/html": [
       "<div>\n",
       "<style scoped>\n",
       "    .dataframe tbody tr th:only-of-type {\n",
       "        vertical-align: middle;\n",
       "    }\n",
       "\n",
       "    .dataframe tbody tr th {\n",
       "        vertical-align: top;\n",
       "    }\n",
       "\n",
       "    .dataframe thead th {\n",
       "        text-align: right;\n",
       "    }\n",
       "</style>\n",
       "<table border=\"1\" class=\"dataframe\">\n",
       "  <thead>\n",
       "    <tr style=\"text-align: right;\">\n",
       "      <th></th>\n",
       "      <th>tweetId</th>\n",
       "      <th>renderedContent</th>\n",
       "      <th>stance</th>\n",
       "    </tr>\n",
       "  </thead>\n",
       "  <tbody>\n",
       "    <tr>\n",
       "      <th>0</th>\n",
       "      <td>1.360000e+18</td>\n",
       "      <td>Well done to  for standing firm against injustice in India. We salute you Meena Harris. #FarmersProtest  #IndiaAgainstPropoganda  #IndiaSupportsChakkaJaam  #</td>\n",
       "      <td>F</td>\n",
       "    </tr>\n",
       "    <tr>\n",
       "      <th>1</th>\n",
       "      <td>1.350000e+18</td>\n",
       "      <td>-  Withdraw all anti farmer laws and anti worker labour codes -In solidarity with #FarmersProtest of Delhi  -Say no to competitive communalism of TMC-BJP  -Ensure fair &amp; corruption free recruitment for the youths of Bengal   Mass deputation at Chensuria, Hooghly. #bengalneedsleft</td>\n",
       "      <td>F</td>\n",
       "    </tr>\n",
       "    <tr>\n",
       "      <th>2</th>\n",
       "      <td>1.440000e+18</td>\n",
       "      <td>I support farmer's protest  #FarmersProtest #FarmersProtest_InChardiKala</td>\n",
       "      <td>F</td>\n",
       "    </tr>\n",
       "    <tr>\n",
       "      <th>3</th>\n",
       "      <td>1.360000e+18</td>\n",
       "      <td>They are not aliens': #SonakshiSinha lends support to foreigners speaking on #farmersprotest 1Wr7uvp #WeRIndia</td>\n",
       "      <td>F</td>\n",
       "    </tr>\n",
       "    <tr>\n",
       "      <th>4</th>\n",
       "      <td>1.360000e+18</td>\n",
       "      <td>Raise your voice, their crowd is louder, raise louder Raise your voice, even if you're scared Because starvation is more frightening than fear #FarmersProtest</td>\n",
       "      <td>A</td>\n",
       "    </tr>\n",
       "  </tbody>\n",
       "</table>\n",
       "</div>"
      ],
      "text/plain": [
       "        tweetId  \\\n",
       "0  1.360000e+18   \n",
       "1  1.350000e+18   \n",
       "2  1.440000e+18   \n",
       "3  1.360000e+18   \n",
       "4  1.360000e+18   \n",
       "\n",
       "                                                                                                                                                                                                                                                                             renderedContent  \\\n",
       "0                                                                                                                              Well done to  for standing firm against injustice in India. We salute you Meena Harris. #FarmersProtest  #IndiaAgainstPropoganda  #IndiaSupportsChakkaJaam  #   \n",
       "1  -  Withdraw all anti farmer laws and anti worker labour codes -In solidarity with #FarmersProtest of Delhi  -Say no to competitive communalism of TMC-BJP  -Ensure fair & corruption free recruitment for the youths of Bengal   Mass deputation at Chensuria, Hooghly. #bengalneedsleft    \n",
       "2                                                                                                                                                                                                                   I support farmer's protest  #FarmersProtest #FarmersProtest_InChardiKala   \n",
       "3                                                                                                                                                                             They are not aliens': #SonakshiSinha lends support to foreigners speaking on #farmersprotest 1Wr7uvp #WeRIndia   \n",
       "4                                                                                                                     Raise your voice, their crowd is louder, raise louder Raise your voice, even if you're scared Because starvation is more frightening than fear #FarmersProtest           \n",
       "\n",
       "  stance  \n",
       "0      F  \n",
       "1      F  \n",
       "2      F  \n",
       "3      F  \n",
       "4      A  "
      ]
     },
     "execution_count": 26,
     "metadata": {},
     "output_type": "execute_result"
    }
   ],
   "source": [
    "df.head()"
   ]
  },
  {
   "cell_type": "code",
   "execution_count": 27,
   "id": "e2b55fca",
   "metadata": {},
   "outputs": [],
   "source": [
    "df.drop_duplicates(subset='renderedContent', inplace=True, keep='first')"
   ]
  },
  {
   "cell_type": "code",
   "execution_count": 28,
   "id": "e4c46f3e",
   "metadata": {},
   "outputs": [
    {
     "data": {
      "text/plain": [
       "tweetId            0\n",
       "renderedContent    0\n",
       "stance             0\n",
       "dtype: int64"
      ]
     },
     "execution_count": 28,
     "metadata": {},
     "output_type": "execute_result"
    }
   ],
   "source": [
    "df.isnull().sum()"
   ]
  },
  {
   "cell_type": "code",
   "execution_count": 29,
   "id": "f95d3b3d",
   "metadata": {},
   "outputs": [
    {
     "data": {
      "text/plain": [
       "11878"
      ]
     },
     "execution_count": 29,
     "metadata": {},
     "output_type": "execute_result"
    }
   ],
   "source": [
    "len(df)"
   ]
  },
  {
   "cell_type": "code",
   "execution_count": 30,
   "id": "d00ade6d",
   "metadata": {},
   "outputs": [
    {
     "data": {
      "text/plain": [
       "727"
      ]
     },
     "execution_count": 30,
     "metadata": {},
     "output_type": "execute_result"
    }
   ],
   "source": [
    "len(df[df['stance']=='A'])"
   ]
  },
  {
   "cell_type": "code",
   "execution_count": 31,
   "id": "08f1bc01",
   "metadata": {},
   "outputs": [
    {
     "data": {
      "text/plain": [
       "8802"
      ]
     },
     "execution_count": 31,
     "metadata": {},
     "output_type": "execute_result"
    }
   ],
   "source": [
    "len(df[df['stance']=='F'])"
   ]
  },
  {
   "cell_type": "code",
   "execution_count": 32,
   "id": "2fb16685",
   "metadata": {},
   "outputs": [
    {
     "data": {
      "text/plain": [
       "2349"
      ]
     },
     "execution_count": 32,
     "metadata": {},
     "output_type": "execute_result"
    }
   ],
   "source": [
    "len(df[df['stance']=='N'])"
   ]
  },
  {
   "cell_type": "code",
   "execution_count": 33,
   "id": "65a26c64",
   "metadata": {},
   "outputs": [],
   "source": [
    "df = df[['renderedContent', 'stance']]\n",
    "# df.columns = ['text', 'category']"
   ]
  },
  {
   "cell_type": "code",
   "execution_count": null,
   "id": "2e9f0c84",
   "metadata": {},
   "outputs": [],
   "source": []
  },
  {
   "cell_type": "markdown",
   "id": "11ce32b4",
   "metadata": {},
   "source": [
    "<h1>Supersampling the minority class using translation</h1>"
   ]
  },
  {
   "cell_type": "code",
   "execution_count": 34,
   "id": "c9d6baff",
   "metadata": {},
   "outputs": [],
   "source": [
    "# import nltk\n",
    "# from googletrans import Translator\n",
    "# from textblob import TextBlob\n",
    "# from textblob.translate import NotTranslated\n",
    "# import random\n",
    "# sr = random.SystemRandom()\n",
    "\n",
    "# language = [\"es\", \"de\", \"fr\", \"ar\", \"te\", \"hi\", \"ja\", \"fa\", \"sq\", \"bg\", \"nl\", \"gu\", \"ig\", \"kk\", \"mt\", \"ps\"]\n",
    "# translator = Translator()\n",
    "# def data_augmentation(message, language, aug_range=1):\n",
    "#     augmented_messages = []\n",
    "# #     if hasattr(message, \"decode\"):\n",
    "# #         message = message.decode(\"utf-8\")\n",
    "\n",
    "#     for j in range(0,aug_range) :\n",
    "#         result = \"\"\n",
    "        \n",
    "#         try:\n",
    "#             text = translator.translate(message, dest=sr.choice(language))\n",
    "# #             text = text.translate(to=sr.choice(language))   ## Converting to random langauge for meaningful variation\n",
    "#             text = translator.translate(text.text, dest=\"en\")\n",
    "#             result = text.text\n",
    "#         except:\n",
    "#             pass\n",
    "#         augmented_messages.append(str(result))\n",
    "\n",
    "#     return augmented_messages"
   ]
  },
  {
   "cell_type": "code",
   "execution_count": null,
   "id": "2ac63605",
   "metadata": {},
   "outputs": [],
   "source": []
  },
  {
   "cell_type": "code",
   "execution_count": 35,
   "id": "1b296d07",
   "metadata": {},
   "outputs": [],
   "source": [
    "# intent_count = df['stance'].value_counts().to_dict()"
   ]
  },
  {
   "cell_type": "code",
   "execution_count": 36,
   "id": "341ef257",
   "metadata": {},
   "outputs": [],
   "source": [
    "## Get max intent count to match other minority classes through data augmentation\n",
    "# import operator\n",
    "# max_intent_count = max(intent_count.items(), key=operator.itemgetter(1))[1]"
   ]
  },
  {
   "cell_type": "code",
   "execution_count": 37,
   "id": "891468e6",
   "metadata": {},
   "outputs": [],
   "source": [
    "# ## Loop to interate all messages\n",
    "# import numpy as np\n",
    "# import math\n",
    "# import tqdm\n",
    "# newdf = pd.DataFrame()\n",
    "# # for intent, count in intent_count.items() :\n",
    "# count_diff = max_intent_count - intent_count.get('A')    ## Difference to fill\n",
    "# multiplication_count = math.ceil((count_diff)/intent_count.get('A'))  ## Multiplying a minority classes for multiplication_count times\n",
    "# if (multiplication_count) :\n",
    "#     old_message_df = pd.DataFrame()\n",
    "#     new_message_df = pd.DataFrame()\n",
    "#     for message in tqdm.tqdm(df[df[\"stance\"] == \"A\"][\"renderedContent\"]) :\n",
    "#         ## Extracting existing minority class batch\n",
    "#         dummy1 = pd.DataFrame([message], columns=['renderedContent'])\n",
    "#         dummy1[\"stance\"] = \"A\"\n",
    "#         old_message_df = old_message_df.append(dummy1)\n",
    "\n",
    "#         ## Creating new augmented batch from existing minority class\n",
    "#         new_messages = data_augmentation(message, language, multiplication_count)\n",
    "#         dummy2 = pd.DataFrame(new_messages, columns=['renderedContent'])\n",
    "#         dummy2[\"stance\"] = \"A\"\n",
    "#         new_message_df = new_message_df.append(dummy2)\n",
    "\n",
    "#     ## Select random data points from augmented data\n",
    "#     new_message_df=new_message_df.take(np.random.permutation(len(new_message_df))[:count_diff])\n",
    "\n",
    "#     ## Merge existing and augmented data points\n",
    "#     newdf = newdf.append([old_message_df,new_message_df])\n",
    "# else :\n",
    "#     newdf = newdf.append(df[df[\"stance\"] == \"A\"])"
   ]
  },
  {
   "cell_type": "code",
   "execution_count": 38,
   "id": "b85e41dc",
   "metadata": {},
   "outputs": [],
   "source": [
    "# len(new)"
   ]
  },
  {
   "cell_type": "code",
   "execution_count": 39,
   "id": "7b5af062",
   "metadata": {},
   "outputs": [],
   "source": [
    "# newdf.to_csv('aug_negative_stance_data.csv', encoding='utf-8')"
   ]
  },
  {
   "cell_type": "code",
   "execution_count": 40,
   "id": "fb1ec0c7",
   "metadata": {
    "scrolled": true
   },
   "outputs": [],
   "source": [
    "# !pip install googletrans==4.0.0rc1\n",
    "# !pip uninstall google_trans_new -y"
   ]
  },
  {
   "cell_type": "code",
   "execution_count": null,
   "id": "2e417465",
   "metadata": {},
   "outputs": [],
   "source": []
  },
  {
   "cell_type": "code",
   "execution_count": null,
   "id": "682f77e2",
   "metadata": {},
   "outputs": [],
   "source": []
  },
  {
   "cell_type": "code",
   "execution_count": 41,
   "id": "8651f1da",
   "metadata": {},
   "outputs": [],
   "source": [
    "# valid = np.random.choice([False,True], len(df['renderedContent']), p= [0.9, 0.1])\n",
    "# df['is_valid'] = valid\n",
    "# df.head()"
   ]
  },
  {
   "cell_type": "code",
   "execution_count": 50,
   "id": "5828fa4a",
   "metadata": {
    "scrolled": true
   },
   "outputs": [
    {
     "data": {
      "text/html": [
       "<div>\n",
       "<style scoped>\n",
       "    .dataframe tbody tr th:only-of-type {\n",
       "        vertical-align: middle;\n",
       "    }\n",
       "\n",
       "    .dataframe tbody tr th {\n",
       "        vertical-align: top;\n",
       "    }\n",
       "\n",
       "    .dataframe thead th {\n",
       "        text-align: right;\n",
       "    }\n",
       "</style>\n",
       "<table border=\"1\" class=\"dataframe\">\n",
       "  <thead>\n",
       "    <tr style=\"text-align: right;\">\n",
       "      <th></th>\n",
       "      <th>renderedContent</th>\n",
       "      <th>stance</th>\n",
       "    </tr>\n",
       "  </thead>\n",
       "  <tbody>\n",
       "    <tr>\n",
       "      <th>0</th>\n",
       "      <td>What Farmers Grow / What Modi Grows  #FarmersProtest  #TakeBackFarmBills</td>\n",
       "      <td>A</td>\n",
       "    </tr>\n",
       "    <tr>\n",
       "      <th>1</th>\n",
       "      <td>Is this #FarmersProtest or part of protest .....appears Farmer Leader #Dackait‘s initiative to keep warm the Farmers in protest site.</td>\n",
       "      <td>A</td>\n",
       "    </tr>\n",
       "    <tr>\n",
       "      <th>2</th>\n",
       "      <td>pls use your social platforms to educate your followers on #farmersprotest - why are you silent?</td>\n",
       "      <td>A</td>\n",
       "    </tr>\n",
       "    <tr>\n",
       "      <th>3</th>\n",
       "      <td>Watch #StarTrek you will know actually the #Xindi\"s might be after it, check your sources #FarmersProtest 18/stat…</td>\n",
       "      <td>A</td>\n",
       "    </tr>\n",
       "    <tr>\n",
       "      <th>4</th>\n",
       "      <td>#FarmersProtest Beware protesters are not farmers, these are dangerous elements trying to revive 80's militancy in Punjab, backed by ISI, wearing the garb of farmers. Let's not have any sympathy for them.</td>\n",
       "      <td>A</td>\n",
       "    </tr>\n",
       "  </tbody>\n",
       "</table>\n",
       "</div>"
      ],
      "text/plain": [
       "                                                                                                                                                                                                renderedContent  \\\n",
       "0                                                                                                                                  What Farmers Grow / What Modi Grows  #FarmersProtest  #TakeBackFarmBills       \n",
       "1                                                                        Is this #FarmersProtest or part of protest .....appears Farmer Leader #Dackait‘s initiative to keep warm the Farmers in protest site.    \n",
       "2                                                                                                              pls use your social platforms to educate your followers on #farmersprotest - why are you silent?   \n",
       "3                                                                                            Watch #StarTrek you will know actually the #Xindi\"s might be after it, check your sources #FarmersProtest 18/stat…   \n",
       "4  #FarmersProtest Beware protesters are not farmers, these are dangerous elements trying to revive 80's militancy in Punjab, backed by ISI, wearing the garb of farmers. Let's not have any sympathy for them.   \n",
       "\n",
       "  stance  \n",
       "0      A  \n",
       "1      A  \n",
       "2      A  \n",
       "3      A  \n",
       "4      A  "
      ]
     },
     "execution_count": 50,
     "metadata": {},
     "output_type": "execute_result"
    }
   ],
   "source": [
    "df_neg = pd.read_csv(path/'aug_negative_stance_data.csv', encoding='utf-8')\n",
    "df_neg = df_neg.iloc[:, 1:]\n",
    "# df_neg.columns = ['tweetId','renderedContent','stance']\n",
    "df_neg.head()"
   ]
  },
  {
   "cell_type": "code",
   "execution_count": 51,
   "id": "ab631b29",
   "metadata": {},
   "outputs": [
    {
     "data": {
      "text/plain": [
       "renderedContent    85\n",
       "stance              1\n",
       "dtype: int64"
      ]
     },
     "execution_count": 51,
     "metadata": {},
     "output_type": "execute_result"
    }
   ],
   "source": [
    "df_neg.isnull().sum()"
   ]
  },
  {
   "cell_type": "code",
   "execution_count": 52,
   "id": "210208f3",
   "metadata": {},
   "outputs": [],
   "source": [
    "df_neg.dropna(inplace=True)"
   ]
  },
  {
   "cell_type": "code",
   "execution_count": 53,
   "id": "9d1afb50",
   "metadata": {},
   "outputs": [
    {
     "data": {
      "text/html": [
       "<div>\n",
       "<style scoped>\n",
       "    .dataframe tbody tr th:only-of-type {\n",
       "        vertical-align: middle;\n",
       "    }\n",
       "\n",
       "    .dataframe tbody tr th {\n",
       "        vertical-align: top;\n",
       "    }\n",
       "\n",
       "    .dataframe thead th {\n",
       "        text-align: right;\n",
       "    }\n",
       "</style>\n",
       "<table border=\"1\" class=\"dataframe\">\n",
       "  <thead>\n",
       "    <tr style=\"text-align: right;\">\n",
       "      <th></th>\n",
       "      <th>renderedContent</th>\n",
       "      <th>stance</th>\n",
       "    </tr>\n",
       "  </thead>\n",
       "  <tbody>\n",
       "    <tr>\n",
       "      <th>0</th>\n",
       "      <td>What Farmers Grow / What Modi Grows  #FarmersProtest  #TakeBackFarmBills</td>\n",
       "      <td>A</td>\n",
       "    </tr>\n",
       "    <tr>\n",
       "      <th>1</th>\n",
       "      <td>Is this #FarmersProtest or part of protest .....appears Farmer Leader #Dackait‘s initiative to keep warm the Farmers in protest site.</td>\n",
       "      <td>A</td>\n",
       "    </tr>\n",
       "    <tr>\n",
       "      <th>2</th>\n",
       "      <td>pls use your social platforms to educate your followers on #farmersprotest - why are you silent?</td>\n",
       "      <td>A</td>\n",
       "    </tr>\n",
       "    <tr>\n",
       "      <th>3</th>\n",
       "      <td>Watch #StarTrek you will know actually the #Xindi\"s might be after it, check your sources #FarmersProtest 18/stat…</td>\n",
       "      <td>A</td>\n",
       "    </tr>\n",
       "    <tr>\n",
       "      <th>4</th>\n",
       "      <td>#FarmersProtest Beware protesters are not farmers, these are dangerous elements trying to revive 80's militancy in Punjab, backed by ISI, wearing the garb of farmers. Let's not have any sympathy for them.</td>\n",
       "      <td>A</td>\n",
       "    </tr>\n",
       "  </tbody>\n",
       "</table>\n",
       "</div>"
      ],
      "text/plain": [
       "                                                                                                                                                                                                renderedContent  \\\n",
       "0                                                                                                                                  What Farmers Grow / What Modi Grows  #FarmersProtest  #TakeBackFarmBills       \n",
       "1                                                                        Is this #FarmersProtest or part of protest .....appears Farmer Leader #Dackait‘s initiative to keep warm the Farmers in protest site.    \n",
       "2                                                                                                              pls use your social platforms to educate your followers on #farmersprotest - why are you silent?   \n",
       "3                                                                                            Watch #StarTrek you will know actually the #Xindi\"s might be after it, check your sources #FarmersProtest 18/stat…   \n",
       "4  #FarmersProtest Beware protesters are not farmers, these are dangerous elements trying to revive 80's militancy in Punjab, backed by ISI, wearing the garb of farmers. Let's not have any sympathy for them.   \n",
       "\n",
       "  stance  \n",
       "0      A  \n",
       "1      A  \n",
       "2      A  \n",
       "3      A  \n",
       "4      A  "
      ]
     },
     "execution_count": 53,
     "metadata": {},
     "output_type": "execute_result"
    }
   ],
   "source": [
    "df_n = df[df['stance'] == 'A']\n",
    "df_neg = pd.concat([df_neg, df_n])\n",
    "# df_neg = df_neg.iloc[:,:-1]\n",
    "df_neg.head()\n",
    "# len(df_neg)"
   ]
  },
  {
   "cell_type": "code",
   "execution_count": 54,
   "id": "01edf4b0",
   "metadata": {},
   "outputs": [
    {
     "data": {
      "text/plain": [
       "renderedContent    0\n",
       "stance             0\n",
       "dtype: int64"
      ]
     },
     "execution_count": 54,
     "metadata": {},
     "output_type": "execute_result"
    }
   ],
   "source": [
    "df_neg.isnull().sum()"
   ]
  },
  {
   "cell_type": "code",
   "execution_count": 55,
   "id": "46ac08dd",
   "metadata": {
    "scrolled": true
   },
   "outputs": [
    {
     "data": {
      "text/html": [
       "<div>\n",
       "<style scoped>\n",
       "    .dataframe tbody tr th:only-of-type {\n",
       "        vertical-align: middle;\n",
       "    }\n",
       "\n",
       "    .dataframe tbody tr th {\n",
       "        vertical-align: top;\n",
       "    }\n",
       "\n",
       "    .dataframe thead th {\n",
       "        text-align: right;\n",
       "    }\n",
       "</style>\n",
       "<table border=\"1\" class=\"dataframe\">\n",
       "  <thead>\n",
       "    <tr style=\"text-align: right;\">\n",
       "      <th></th>\n",
       "      <th>renderedContent</th>\n",
       "      <th>stance</th>\n",
       "    </tr>\n",
       "  </thead>\n",
       "  <tbody>\n",
       "    <tr>\n",
       "      <th>0</th>\n",
       "      <td>Well done to  for standing firm against injustice in India. We salute you Meena Harris. #FarmersProtest  #IndiaAgainstPropoganda  #IndiaSupportsChakkaJaam  #</td>\n",
       "      <td>F</td>\n",
       "    </tr>\n",
       "    <tr>\n",
       "      <th>1</th>\n",
       "      <td>-  Withdraw all anti farmer laws and anti worker labour codes -In solidarity with #FarmersProtest of Delhi  -Say no to competitive communalism of TMC-BJP  -Ensure fair &amp; corruption free recruitment for the youths of Bengal   Mass deputation at Chensuria, Hooghly. #bengalneedsleft</td>\n",
       "      <td>F</td>\n",
       "    </tr>\n",
       "    <tr>\n",
       "      <th>2</th>\n",
       "      <td>I support farmer's protest  #FarmersProtest #FarmersProtest_InChardiKala</td>\n",
       "      <td>F</td>\n",
       "    </tr>\n",
       "    <tr>\n",
       "      <th>3</th>\n",
       "      <td>They are not aliens': #SonakshiSinha lends support to foreigners speaking on #farmersprotest 1Wr7uvp #WeRIndia</td>\n",
       "      <td>F</td>\n",
       "    </tr>\n",
       "    <tr>\n",
       "      <th>4</th>\n",
       "      <td>Raise your voice, their crowd is louder, raise louder Raise your voice, even if you're scared Because starvation is more frightening than fear #FarmersProtest</td>\n",
       "      <td>A</td>\n",
       "    </tr>\n",
       "  </tbody>\n",
       "</table>\n",
       "</div>"
      ],
      "text/plain": [
       "                                                                                                                                                                                                                                                                             renderedContent  \\\n",
       "0                                                                                                                              Well done to  for standing firm against injustice in India. We salute you Meena Harris. #FarmersProtest  #IndiaAgainstPropoganda  #IndiaSupportsChakkaJaam  #   \n",
       "1  -  Withdraw all anti farmer laws and anti worker labour codes -In solidarity with #FarmersProtest of Delhi  -Say no to competitive communalism of TMC-BJP  -Ensure fair & corruption free recruitment for the youths of Bengal   Mass deputation at Chensuria, Hooghly. #bengalneedsleft    \n",
       "2                                                                                                                                                                                                                   I support farmer's protest  #FarmersProtest #FarmersProtest_InChardiKala   \n",
       "3                                                                                                                                                                             They are not aliens': #SonakshiSinha lends support to foreigners speaking on #farmersprotest 1Wr7uvp #WeRIndia   \n",
       "4                                                                                                                     Raise your voice, their crowd is louder, raise louder Raise your voice, even if you're scared Because starvation is more frightening than fear #FarmersProtest           \n",
       "\n",
       "  stance  \n",
       "0      F  \n",
       "1      F  \n",
       "2      F  \n",
       "3      F  \n",
       "4      A  "
      ]
     },
     "execution_count": 55,
     "metadata": {},
     "output_type": "execute_result"
    }
   ],
   "source": [
    "df.head()"
   ]
  },
  {
   "cell_type": "code",
   "execution_count": 56,
   "id": "b510f233",
   "metadata": {},
   "outputs": [],
   "source": [
    "df_pos = df[df['stance'] == 'F']\n",
    "# df_neg = df[df['stance'] == 'A']\n",
    "df_neutral = df[df['stance'] == 'N']"
   ]
  },
  {
   "cell_type": "code",
   "execution_count": 57,
   "id": "087f15d3",
   "metadata": {},
   "outputs": [],
   "source": [
    "df_pos = df_pos.sample(n=2500,random_state=1)\n",
    "\n",
    "df_neg = df_neg.sample(n=2500, random_state=1)\n",
    "\n",
    "df_test = pd.concat([df_pos, df_neutral, df_neg])\n",
    "df_test = df_test.sample(frac = 1).reset_index(drop=True)"
   ]
  },
  {
   "cell_type": "code",
   "execution_count": 58,
   "id": "853853d7",
   "metadata": {},
   "outputs": [
    {
     "data": {
      "text/plain": [
       "(7349, 2)"
      ]
     },
     "execution_count": 58,
     "metadata": {},
     "output_type": "execute_result"
    }
   ],
   "source": [
    "df_test.shape"
   ]
  },
  {
   "cell_type": "code",
   "execution_count": 59,
   "id": "c68afdbd",
   "metadata": {},
   "outputs": [
    {
     "data": {
      "text/plain": [
       "renderedContent    0\n",
       "stance             0\n",
       "dtype: int64"
      ]
     },
     "execution_count": 59,
     "metadata": {},
     "output_type": "execute_result"
    }
   ],
   "source": [
    "df_test.isnull().sum()"
   ]
  },
  {
   "cell_type": "code",
   "execution_count": 60,
   "id": "a32492bf",
   "metadata": {},
   "outputs": [
    {
     "data": {
      "text/html": [
       "<div>\n",
       "<style scoped>\n",
       "    .dataframe tbody tr th:only-of-type {\n",
       "        vertical-align: middle;\n",
       "    }\n",
       "\n",
       "    .dataframe tbody tr th {\n",
       "        vertical-align: top;\n",
       "    }\n",
       "\n",
       "    .dataframe thead th {\n",
       "        text-align: right;\n",
       "    }\n",
       "</style>\n",
       "<table border=\"1\" class=\"dataframe\">\n",
       "  <thead>\n",
       "    <tr style=\"text-align: right;\">\n",
       "      <th></th>\n",
       "      <th>renderedContent</th>\n",
       "      <th>stance</th>\n",
       "    </tr>\n",
       "  </thead>\n",
       "  <tbody>\n",
       "    <tr>\n",
       "      <th>0</th>\n",
       "      <td>Just be kind and brave that’s all you ever need to be   #WomenFarmers_AtParliament #FarmersProtest</td>\n",
       "      <td>N</td>\n",
       "    </tr>\n",
       "    <tr>\n",
       "      <th>1</th>\n",
       "      <td>The judge said the claim just wanted to provide an example based on allegations and accusations alone. No one can be proved. Maybe you need to think not to judge anyone who depends on FB or Twitter .. #FarmersProtest #Farmerlivesmatter #FarmersProts</td>\n",
       "      <td>A</td>\n",
       "    </tr>\n",
       "    <tr>\n",
       "      <th>2</th>\n",
       "      <td>Let’s talk about this again #riri  #FarmersProtest …</td>\n",
       "      <td>N</td>\n",
       "    </tr>\n",
       "    <tr>\n",
       "      <th>3</th>\n",
       "      <td>The plan was always to reach Red Fort. Hear so-called farmer leader Rakesh Tikait.  #DelhiViolence #FarmersProtest #TractorRally</td>\n",
       "      <td>F</td>\n",
       "    </tr>\n",
       "    <tr>\n",
       "      <th>4</th>\n",
       "      <td>Corporates go bankrupt with economic challenges but farmer keep going braving disasters &amp; bad policies.   Take anti farmer bills back and appologise #moditakeantifarmbillsback #FarmerProtest #FarmersProtest #PunjabFarmers #Isupportfarmersprotest</td>\n",
       "      <td>F</td>\n",
       "    </tr>\n",
       "  </tbody>\n",
       "</table>\n",
       "</div>"
      ],
      "text/plain": [
       "                                                                                                                                                                                                                                             renderedContent  \\\n",
       "0                                                                                                                                                         Just be kind and brave that’s all you ever need to be   #WomenFarmers_AtParliament #FarmersProtest   \n",
       "1  The judge said the claim just wanted to provide an example based on allegations and accusations alone. No one can be proved. Maybe you need to think not to judge anyone who depends on FB or Twitter .. #FarmersProtest #Farmerlivesmatter #FarmersProts   \n",
       "2                                                                                                                                                                                                       Let’s talk about this again #riri  #FarmersProtest …   \n",
       "3                                                                                                                          The plan was always to reach Red Fort. Hear so-called farmer leader Rakesh Tikait.  #DelhiViolence #FarmersProtest #TractorRally    \n",
       "4      Corporates go bankrupt with economic challenges but farmer keep going braving disasters & bad policies.   Take anti farmer bills back and appologise #moditakeantifarmbillsback #FarmerProtest #FarmersProtest #PunjabFarmers #Isupportfarmersprotest   \n",
       "\n",
       "  stance  \n",
       "0      N  \n",
       "1      A  \n",
       "2      N  \n",
       "3      F  \n",
       "4      F  "
      ]
     },
     "execution_count": 60,
     "metadata": {},
     "output_type": "execute_result"
    }
   ],
   "source": [
    "df_test.head()"
   ]
  },
  {
   "cell_type": "code",
   "execution_count": null,
   "id": "373f7c9d",
   "metadata": {},
   "outputs": [],
   "source": []
  },
  {
   "cell_type": "code",
   "execution_count": 61,
   "id": "fc75d164",
   "metadata": {},
   "outputs": [],
   "source": [
    "# len(train)"
   ]
  },
  {
   "cell_type": "code",
   "execution_count": 62,
   "id": "a3b9aa23",
   "metadata": {},
   "outputs": [],
   "source": [
    "# len(test)"
   ]
  },
  {
   "cell_type": "code",
   "execution_count": null,
   "id": "c851a6d3",
   "metadata": {},
   "outputs": [],
   "source": []
  },
  {
   "cell_type": "code",
   "execution_count": 63,
   "id": "b9957bd8",
   "metadata": {},
   "outputs": [
    {
     "data": {
      "text/html": [
       "<div>\n",
       "<style scoped>\n",
       "    .dataframe tbody tr th:only-of-type {\n",
       "        vertical-align: middle;\n",
       "    }\n",
       "\n",
       "    .dataframe tbody tr th {\n",
       "        vertical-align: top;\n",
       "    }\n",
       "\n",
       "    .dataframe thead th {\n",
       "        text-align: right;\n",
       "    }\n",
       "</style>\n",
       "<table border=\"1\" class=\"dataframe\">\n",
       "  <thead>\n",
       "    <tr style=\"text-align: right;\">\n",
       "      <th></th>\n",
       "      <th>text</th>\n",
       "    </tr>\n",
       "  </thead>\n",
       "  <tbody>\n",
       "    <tr>\n",
       "      <th>0</th>\n",
       "      <td>Supporting farmers means supporting our country #StopHateAgainstFarmers #FarmersProtest</td>\n",
       "    </tr>\n",
       "    <tr>\n",
       "      <th>1</th>\n",
       "      <td>Support farmers if you are related to food #StopHateAgainstFarmers #FarmersProtest</td>\n",
       "    </tr>\n",
       "    <tr>\n",
       "      <th>2</th>\n",
       "      <td>#StopHateAgainstFarmers support #FarmersProtest by pressurising got. to accept farmer's genuine demand.</td>\n",
       "    </tr>\n",
       "    <tr>\n",
       "      <th>3</th>\n",
       "      <td>You hate farmers I hate you,  if you love them I love you! ;)   #StopHateAgainstFarmers  #FarmersProtest</td>\n",
       "    </tr>\n",
       "    <tr>\n",
       "      <th>4</th>\n",
       "      <td>They can't be farmers. Looks like Gundas are having good time. They seem to be violence thirsty goons. #FarmersProtest …</td>\n",
       "    </tr>\n",
       "  </tbody>\n",
       "</table>\n",
       "</div>"
      ],
      "text/plain": [
       "                                                                                                                       text\n",
       "0                                  Supporting farmers means supporting our country #StopHateAgainstFarmers #FarmersProtest \n",
       "1                                       Support farmers if you are related to food #StopHateAgainstFarmers #FarmersProtest \n",
       "2                   #StopHateAgainstFarmers support #FarmersProtest by pressurising got. to accept farmer's genuine demand.\n",
       "3                  You hate farmers I hate you,  if you love them I love you! ;)   #StopHateAgainstFarmers  #FarmersProtest\n",
       "4  They can't be farmers. Looks like Gundas are having good time. They seem to be violence thirsty goons. #FarmersProtest …"
      ]
     },
     "execution_count": 63,
     "metadata": {},
     "output_type": "execute_result"
    }
   ],
   "source": [
    "lang_df = pd.read_csv(path/'final_cleaned_data.csv')\n",
    "bs = 20\n",
    "lang_df=lang_df.iloc[:, 1:]\n",
    "lang_df.head()"
   ]
  },
  {
   "cell_type": "code",
   "execution_count": 64,
   "id": "88609365",
   "metadata": {},
   "outputs": [
    {
     "data": {
      "text/html": [
       "<div>\n",
       "<style scoped>\n",
       "    .dataframe tbody tr th:only-of-type {\n",
       "        vertical-align: middle;\n",
       "    }\n",
       "\n",
       "    .dataframe tbody tr th {\n",
       "        vertical-align: top;\n",
       "    }\n",
       "\n",
       "    .dataframe thead th {\n",
       "        text-align: right;\n",
       "    }\n",
       "</style>\n",
       "<table border=\"1\" class=\"dataframe\">\n",
       "  <thead>\n",
       "    <tr style=\"text-align: right;\">\n",
       "      <th></th>\n",
       "      <th>text</th>\n",
       "      <th>is_valid</th>\n",
       "    </tr>\n",
       "  </thead>\n",
       "  <tbody>\n",
       "    <tr>\n",
       "      <th>0</th>\n",
       "      <td>Supporting farmers means supporting our country #StopHateAgainstFarmers #FarmersProtest</td>\n",
       "      <td>False</td>\n",
       "    </tr>\n",
       "    <tr>\n",
       "      <th>1</th>\n",
       "      <td>Support farmers if you are related to food #StopHateAgainstFarmers #FarmersProtest</td>\n",
       "      <td>False</td>\n",
       "    </tr>\n",
       "    <tr>\n",
       "      <th>2</th>\n",
       "      <td>#StopHateAgainstFarmers support #FarmersProtest by pressurising got. to accept farmer's genuine demand.</td>\n",
       "      <td>False</td>\n",
       "    </tr>\n",
       "    <tr>\n",
       "      <th>3</th>\n",
       "      <td>You hate farmers I hate you,  if you love them I love you! ;)   #StopHateAgainstFarmers  #FarmersProtest</td>\n",
       "      <td>False</td>\n",
       "    </tr>\n",
       "    <tr>\n",
       "      <th>4</th>\n",
       "      <td>They can't be farmers. Looks like Gundas are having good time. They seem to be violence thirsty goons. #FarmersProtest …</td>\n",
       "      <td>True</td>\n",
       "    </tr>\n",
       "  </tbody>\n",
       "</table>\n",
       "</div>"
      ],
      "text/plain": [
       "                                                                                                                       text  \\\n",
       "0                                  Supporting farmers means supporting our country #StopHateAgainstFarmers #FarmersProtest    \n",
       "1                                       Support farmers if you are related to food #StopHateAgainstFarmers #FarmersProtest    \n",
       "2                   #StopHateAgainstFarmers support #FarmersProtest by pressurising got. to accept farmer's genuine demand.   \n",
       "3                  You hate farmers I hate you,  if you love them I love you! ;)   #StopHateAgainstFarmers  #FarmersProtest   \n",
       "4  They can't be farmers. Looks like Gundas are having good time. They seem to be violence thirsty goons. #FarmersProtest …   \n",
       "\n",
       "   is_valid  \n",
       "0     False  \n",
       "1     False  \n",
       "2     False  \n",
       "3     False  \n",
       "4      True  "
      ]
     },
     "execution_count": 64,
     "metadata": {},
     "output_type": "execute_result"
    }
   ],
   "source": [
    "valid = np.random.choice([False,True], len(lang_df['text']), p= [0.9, 0.1])\n",
    "lang_df['is_valid'] = valid\n",
    "lang_df.head()"
   ]
  },
  {
   "cell_type": "code",
   "execution_count": 65,
   "id": "14835beb",
   "metadata": {},
   "outputs": [
    {
     "data": {
      "text/html": [],
      "text/plain": [
       "<IPython.core.display.HTML object>"
      ]
     },
     "metadata": {},
     "output_type": "display_data"
    },
    {
     "data": {
      "text/html": [
       "<table border=\"1\" class=\"dataframe\">\n",
       "  <thead>\n",
       "    <tr style=\"text-align: right;\">\n",
       "      <th></th>\n",
       "      <th>text</th>\n",
       "      <th>text_</th>\n",
       "    </tr>\n",
       "  </thead>\n",
       "  <tbody>\n",
       "    <tr>\n",
       "      <th>0</th>\n",
       "      <td>xxbos xxmaj when i see such images coming out of the # farmersprotest xxmaj i 've to ask myself why 'd they undertake this protest , leaving behind their families , and travel to xxmaj delhi to sleep in the cold winter nights outdoors , unless it was something that affected them so deeply ? # istandwithfarmers xxbos xxmaj they came for xxup j&amp;k and we were silent … xxmaj the people</td>\n",
       "      <td>xxmaj when i see such images coming out of the # farmersprotest xxmaj i 've to ask myself why 'd they undertake this protest , leaving behind their families , and travel to xxmaj delhi to sleep in the cold winter nights outdoors , unless it was something that affected them so deeply ? # istandwithfarmers xxbos xxmaj they came for xxup j&amp;k and we were silent … xxmaj the people of</td>\n",
       "    </tr>\n",
       "    <tr>\n",
       "      <th>1</th>\n",
       "      <td>days , + martyrs , severe weather , difficult times , and an arrogant administration . # मोदी_राज_किसान_बर्बाद # farmersprotest xxbos xxmaj the farm law of is as dangerous as permanent settlement act passed by east india company in by which farmers lost their right on land and became labourers # farmersprotest # farmerprotests # कृषि_बिल_डेथ_वारंट_है # msp_खरीद_कानून_लागू_करो xxbos how can u elect xxmaj nita xxmaj ambani to your board ? xxmaj</td>\n",
       "      <td>, + martyrs , severe weather , difficult times , and an arrogant administration . # मोदी_राज_किसान_बर्बाद # farmersprotest xxbos xxmaj the farm law of is as dangerous as permanent settlement act passed by east india company in by which farmers lost their right on land and became labourers # farmersprotest # farmerprotests # कृषि_बिल_डेथ_वारंट_है # msp_खरीद_कानून_लागू_करो xxbos how can u elect xxmaj nita xxmaj ambani to your board ? xxmaj her</td>\n",
       "    </tr>\n",
       "    <tr>\n",
       "      <th>2</th>\n",
       "      <td>citizens the most , you do n’t grow you are the end users , which is why you ll be forced to endure the shortage or inflation . ” xxmaj ex - army officer during torch march for farmers at xxmaj singhu border # farmersprotest xxbos farmers are protesting in xxmaj delhi for months to cancel these bills , in which + farmers has died # farmersprotest # whymodifoolingfarmers # whymodifoolingfarmers xxbos</td>\n",
       "      <td>the most , you do n’t grow you are the end users , which is why you ll be forced to endure the shortage or inflation . ” xxmaj ex - army officer during torch march for farmers at xxmaj singhu border # farmersprotest xxbos farmers are protesting in xxmaj delhi for months to cancel these bills , in which + farmers has died # farmersprotest # whymodifoolingfarmers # whymodifoolingfarmers xxbos xxmaj</td>\n",
       "    </tr>\n",
       "    <tr>\n",
       "      <th>3</th>\n",
       "      <td>shared by xxmaj the indianexpress ios xxmaj app . xxmaj click here to download xxunk … # farmersprotest xxbos xxmaj lost his father when he was around might have gone words to explain . # farmersprotest # farmers_want_msp xxbos xxmaj not many know this but # xxunk got the idea of ' temporal xxmaj xxunk xxmaj movement ' for # xxmaj tenet by going into the future and reading this quote by</td>\n",
       "      <td>by xxmaj the indianexpress ios xxmaj app . xxmaj click here to download xxunk … # farmersprotest xxbos xxmaj lost his father when he was around might have gone words to explain . # farmersprotest # farmers_want_msp xxbos xxmaj not many know this but # xxunk got the idea of ' temporal xxmaj xxunk xxmaj movement ' for # xxmaj tenet by going into the future and reading this quote by #</td>\n",
       "    </tr>\n",
       "    <tr>\n",
       "      <th>4</th>\n",
       "      <td>gretathunberg too is hired ? # farmersprotest # kanganaranaut xxbos xxmaj send this to ten more people xxmaj white xxmaj house petition for farmers sign here &gt; &gt; … xxmaj plz forward to others # farmersprotest # farmersarelifeline # xxup istandwithfarmer # मैं_भी_किसान # boycottambaniadani xxbos xxup thanku xxup we xxup all xxup hv xxup to xxup stand xxup together # farmersprotest xxbos xxmaj thank you so much for your support #</td>\n",
       "      <td>too is hired ? # farmersprotest # kanganaranaut xxbos xxmaj send this to ten more people xxmaj white xxmaj house petition for farmers sign here &gt; &gt; … xxmaj plz forward to others # farmersprotest # farmersarelifeline # xxup istandwithfarmer # मैं_भी_किसान # boycottambaniadani xxbos xxup thanku xxup we xxup all xxup hv xxup to xxup stand xxup together # farmersprotest xxbos xxmaj thank you so much for your support # farmersprotest</td>\n",
       "    </tr>\n",
       "    <tr>\n",
       "      <th>5</th>\n",
       "      <td>people earn only disrespect by their hateful activities .. # farmersprotest # farmers_roaringinup xxmaj real xxmaj media xxmaj sold xxmaj media xxbos xxmaj why are n't we talking about this ? ! # farmersprotest , \" tweeted the   ' do n't xxmaj stop xxmaj the xxmaj music ' singer , who happens to be the fourth most - followed user on xxmaj twitter with more than million followers . news.com /</td>\n",
       "      <td>earn only disrespect by their hateful activities .. # farmersprotest # farmers_roaringinup xxmaj real xxmaj media xxmaj sold xxmaj media xxbos xxmaj why are n't we talking about this ? ! # farmersprotest , \" tweeted the   ' do n't xxmaj stop xxmaj the xxmaj music ' singer , who happens to be the fourth most - followed user on xxmaj twitter with more than million followers . news.com / amp</td>\n",
       "    </tr>\n",
       "  </tbody>\n",
       "</table>"
      ],
      "text/plain": [
       "<IPython.core.display.HTML object>"
      ]
     },
     "metadata": {},
     "output_type": "display_data"
    }
   ],
   "source": [
    "data_lm = DataBlock(blocks=TextBlock.from_df('text', is_lm=True),\n",
    "                    get_x=ColReader('text'),\n",
    "                    splitter=ColSplitter())\n",
    "dls = data_lm.dataloaders(lang_df, bs=bs, seq_len=72)\n",
    "dls.show_batch(max_n=6)"
   ]
  },
  {
   "cell_type": "code",
   "execution_count": 66,
   "id": "5b02e11b",
   "metadata": {},
   "outputs": [],
   "source": [
    "# dls.vocab"
   ]
  },
  {
   "cell_type": "code",
   "execution_count": 67,
   "id": "61a5dc47",
   "metadata": {},
   "outputs": [],
   "source": [
    "learn = language_model_learner(dls, AWD_LSTM, metrics=accuracy,drop_mult=0.3)"
   ]
  },
  {
   "cell_type": "code",
   "execution_count": 68,
   "id": "5f2517ff",
   "metadata": {},
   "outputs": [
    {
     "data": {
      "text/plain": [
       "<fastai.text.learner.LMLearner at 0x7fc633fb5610>"
      ]
     },
     "execution_count": 68,
     "metadata": {},
     "output_type": "execute_result"
    }
   ],
   "source": [
    "learn.load('fine_tuned')"
   ]
  },
  {
   "cell_type": "code",
   "execution_count": 69,
   "id": "885cd833",
   "metadata": {},
   "outputs": [],
   "source": [
    "learn.save_encoder('finetuned')"
   ]
  },
  {
   "cell_type": "code",
   "execution_count": 70,
   "id": "b22699bd",
   "metadata": {
    "scrolled": true
   },
   "outputs": [
    {
     "data": {
      "text/html": [
       "<div>\n",
       "<style scoped>\n",
       "    .dataframe tbody tr th:only-of-type {\n",
       "        vertical-align: middle;\n",
       "    }\n",
       "\n",
       "    .dataframe tbody tr th {\n",
       "        vertical-align: top;\n",
       "    }\n",
       "\n",
       "    .dataframe thead th {\n",
       "        text-align: right;\n",
       "    }\n",
       "</style>\n",
       "<table border=\"1\" class=\"dataframe\">\n",
       "  <thead>\n",
       "    <tr style=\"text-align: right;\">\n",
       "      <th></th>\n",
       "      <th>renderedContent</th>\n",
       "      <th>stance</th>\n",
       "    </tr>\n",
       "  </thead>\n",
       "  <tbody>\n",
       "    <tr>\n",
       "      <th>0</th>\n",
       "      <td>Just be kind and brave that’s all you ever need to be   #WomenFarmers_AtParliament #FarmersProtest</td>\n",
       "      <td>N</td>\n",
       "    </tr>\n",
       "    <tr>\n",
       "      <th>1</th>\n",
       "      <td>The judge said the claim just wanted to provide an example based on allegations and accusations alone. No one can be proved. Maybe you need to think not to judge anyone who depends on FB or Twitter .. #FarmersProtest #Farmerlivesmatter #FarmersProts</td>\n",
       "      <td>A</td>\n",
       "    </tr>\n",
       "    <tr>\n",
       "      <th>2</th>\n",
       "      <td>Let’s talk about this again #riri  #FarmersProtest …</td>\n",
       "      <td>N</td>\n",
       "    </tr>\n",
       "    <tr>\n",
       "      <th>3</th>\n",
       "      <td>The plan was always to reach Red Fort. Hear so-called farmer leader Rakesh Tikait.  #DelhiViolence #FarmersProtest #TractorRally</td>\n",
       "      <td>F</td>\n",
       "    </tr>\n",
       "    <tr>\n",
       "      <th>4</th>\n",
       "      <td>Corporates go bankrupt with economic challenges but farmer keep going braving disasters &amp; bad policies.   Take anti farmer bills back and appologise #moditakeantifarmbillsback #FarmerProtest #FarmersProtest #PunjabFarmers #Isupportfarmersprotest</td>\n",
       "      <td>F</td>\n",
       "    </tr>\n",
       "  </tbody>\n",
       "</table>\n",
       "</div>"
      ],
      "text/plain": [
       "                                                                                                                                                                                                                                             renderedContent  \\\n",
       "0                                                                                                                                                         Just be kind and brave that’s all you ever need to be   #WomenFarmers_AtParliament #FarmersProtest   \n",
       "1  The judge said the claim just wanted to provide an example based on allegations and accusations alone. No one can be proved. Maybe you need to think not to judge anyone who depends on FB or Twitter .. #FarmersProtest #Farmerlivesmatter #FarmersProts   \n",
       "2                                                                                                                                                                                                       Let’s talk about this again #riri  #FarmersProtest …   \n",
       "3                                                                                                                          The plan was always to reach Red Fort. Hear so-called farmer leader Rakesh Tikait.  #DelhiViolence #FarmersProtest #TractorRally    \n",
       "4      Corporates go bankrupt with economic challenges but farmer keep going braving disasters & bad policies.   Take anti farmer bills back and appologise #moditakeantifarmbillsback #FarmerProtest #FarmersProtest #PunjabFarmers #Isupportfarmersprotest   \n",
       "\n",
       "  stance  \n",
       "0      N  \n",
       "1      A  \n",
       "2      N  \n",
       "3      F  \n",
       "4      F  "
      ]
     },
     "execution_count": 70,
     "metadata": {},
     "output_type": "execute_result"
    }
   ],
   "source": [
    "df_test.head()"
   ]
  },
  {
   "cell_type": "code",
   "execution_count": 73,
   "id": "3a301681",
   "metadata": {},
   "outputs": [],
   "source": [
    "df_test['stance'] = df_test['stance'].apply(rename_stance)"
   ]
  },
  {
   "cell_type": "code",
   "execution_count": 74,
   "id": "ee75b1a8",
   "metadata": {},
   "outputs": [
    {
     "data": {
      "text/html": [],
      "text/plain": [
       "<IPython.core.display.HTML object>"
      ]
     },
     "metadata": {},
     "output_type": "display_data"
    }
   ],
   "source": [
    "dls_clas = TextDataLoaders.from_df(df=df_test,text_vocab=dls.vocab)"
   ]
  },
  {
   "cell_type": "markdown",
   "id": "64d50d60",
   "metadata": {},
   "source": [
    "<h2> To calculate weights for F1 score</h2>\n",
    "wj=n_samples / (n_classes * n_samplesj)"
   ]
  },
  {
   "cell_type": "code",
   "execution_count": 75,
   "id": "d6f4c014",
   "metadata": {},
   "outputs": [
    {
     "data": {
      "text/plain": [
       "F    8802\n",
       "N    2349\n",
       "A     727\n",
       "Name: stance, dtype: int64"
      ]
     },
     "execution_count": 75,
     "metadata": {},
     "output_type": "execute_result"
    }
   ],
   "source": [
    "df['stance'].value_counts()"
   ]
  },
  {
   "cell_type": "code",
   "execution_count": 76,
   "id": "7758054f",
   "metadata": {},
   "outputs": [
    {
     "data": {
      "text/plain": [
       "F    2500\n",
       "A    2494\n",
       "N    2355\n",
       "Name: stance, dtype: int64"
      ]
     },
     "execution_count": 76,
     "metadata": {},
     "output_type": "execute_result"
    }
   ],
   "source": [
    "df_test['stance'].value_counts()"
   ]
  },
  {
   "cell_type": "code",
   "execution_count": 77,
   "id": "d274e6e0",
   "metadata": {},
   "outputs": [],
   "source": [
    "# F_w = 2332/(3 * 1000)\n",
    "# N_w = 2332/(3 * 1000)\n",
    "# A_w = 2332/(3 * 332)\n",
    "# weights_tensor = torch.Tensor(np.array([A_w, F_w, N_w]))"
   ]
  },
  {
   "cell_type": "code",
   "execution_count": 78,
   "id": "54e8604c",
   "metadata": {},
   "outputs": [],
   "source": [
    "# F_w = 5965/(3 * 4279)\n",
    "# N_w = 5965/(3 * 1354)\n",
    "# A_w = 5965/(3 * 332)\n",
    "# weights_tensor = torch.Tensor(np.array([A_w, F_w, N_w]))"
   ]
  },
  {
   "cell_type": "code",
   "execution_count": 79,
   "id": "bfb21a9c",
   "metadata": {},
   "outputs": [],
   "source": [
    "from sklearn.utils import class_weight\n"
   ]
  },
  {
   "cell_type": "code",
   "execution_count": 80,
   "id": "26840bb1",
   "metadata": {},
   "outputs": [],
   "source": [
    "class_weights = class_weight.compute_class_weight('balanced',classes=np.unique(df['stance']),y=df['stance'])"
   ]
  },
  {
   "cell_type": "code",
   "execution_count": 81,
   "id": "b25bbacd",
   "metadata": {},
   "outputs": [],
   "source": [
    "# learn = text_classifier_learner(dls_clas, AWD_LSTM, loss_func=CrossEntropyLossFlat(weight=torch.Tensor(np.array(class_weights))),\n",
    "#                                 drop_mult=0.5, \n",
    "#                                 metrics=[accuracy, F1Score(average='weighted')])\n",
    "learn = text_classifier_learner(dls_clas, AWD_LSTM, drop_mult=0.3, metrics=[accuracy, F1Score(average='weighted')])"
   ]
  },
  {
   "cell_type": "code",
   "execution_count": 82,
   "id": "a0eac838",
   "metadata": {},
   "outputs": [],
   "source": [
    "learn = learn.load_encoder('finetuned')"
   ]
  },
  {
   "cell_type": "code",
   "execution_count": 83,
   "id": "02d93660",
   "metadata": {},
   "outputs": [
    {
     "data": {
      "text/html": [
       "<table border=\"1\" class=\"dataframe\">\n",
       "  <thead>\n",
       "    <tr style=\"text-align: left;\">\n",
       "      <th>epoch</th>\n",
       "      <th>train_loss</th>\n",
       "      <th>valid_loss</th>\n",
       "      <th>accuracy</th>\n",
       "      <th>f1_score</th>\n",
       "      <th>time</th>\n",
       "    </tr>\n",
       "  </thead>\n",
       "  <tbody>\n",
       "    <tr>\n",
       "      <td>0</td>\n",
       "      <td>0.871679</td>\n",
       "      <td>0.824251</td>\n",
       "      <td>0.612662</td>\n",
       "      <td>0.613673</td>\n",
       "      <td>00:51</td>\n",
       "    </tr>\n",
       "  </tbody>\n",
       "</table>"
      ],
      "text/plain": [
       "<IPython.core.display.HTML object>"
      ]
     },
     "metadata": {},
     "output_type": "display_data"
    }
   ],
   "source": [
    "learn.fit_one_cycle(1, 2e-2,cbs=[EarlyStoppingCallback(monitor='f1_score', min_delta=0.01, patience=3)])"
   ]
  },
  {
   "cell_type": "code",
   "execution_count": 84,
   "id": "0d041ff3",
   "metadata": {},
   "outputs": [
    {
     "data": {
      "text/html": [
       "\n",
       "    <div>\n",
       "        <style>\n",
       "            /* Turns off some styling */\n",
       "            progress {\n",
       "                /* gets rid of default border in Firefox and Opera. */\n",
       "                border: none;\n",
       "                /* Needs to be in here for Safari polyfill so background images work as expected. */\n",
       "                background-size: auto;\n",
       "            }\n",
       "            .progress-bar-interrupted, .progress-bar-interrupted::-webkit-progress-bar {\n",
       "                background: #F44336;\n",
       "            }\n",
       "        </style>\n",
       "      <progress value='0' class='' max='1' style='width:300px; height:20px; vertical-align: middle;'></progress>\n",
       "      0.00% [0/1 00:00<00:00]\n",
       "    </div>\n",
       "    \n",
       "<table border=\"1\" class=\"dataframe\">\n",
       "  <thead>\n",
       "    <tr style=\"text-align: left;\">\n",
       "      <th>epoch</th>\n",
       "      <th>train_loss</th>\n",
       "      <th>valid_loss</th>\n",
       "      <th>accuracy</th>\n",
       "      <th>f1_score</th>\n",
       "      <th>time</th>\n",
       "    </tr>\n",
       "  </thead>\n",
       "  <tbody>\n",
       "  </tbody>\n",
       "</table><p>\n",
       "\n",
       "    <div>\n",
       "        <style>\n",
       "            /* Turns off some styling */\n",
       "            progress {\n",
       "                /* gets rid of default border in Firefox and Opera. */\n",
       "                border: none;\n",
       "                /* Needs to be in here for Safari polyfill so background images work as expected. */\n",
       "                background-size: auto;\n",
       "            }\n",
       "            .progress-bar-interrupted, .progress-bar-interrupted::-webkit-progress-bar {\n",
       "                background: #F44336;\n",
       "            }\n",
       "        </style>\n",
       "      <progress value='31' class='' max='91' style='width:300px; height:20px; vertical-align: middle;'></progress>\n",
       "      34.07% [31/91 00:18<00:35 0.8198]\n",
       "    </div>\n",
       "    "
      ],
      "text/plain": [
       "<IPython.core.display.HTML object>"
      ]
     },
     "metadata": {},
     "output_type": "display_data"
    },
    {
     "name": "stderr",
     "output_type": "stream",
     "text": [
      "Traceback (most recent call last):\n",
      "  File \"/home/prathamesh/anaconda3/envs/project/lib/python3.9/multiprocessing/queues.py\", line 251, in _feed\n",
      "    send_bytes(obj)\n",
      "  File \"/home/prathamesh/anaconda3/envs/project/lib/python3.9/multiprocessing/connection.py\", line 205, in send_bytes\n",
      "    self._send_bytes(m[offset:offset + size])\n",
      "  File \"/home/prathamesh/anaconda3/envs/project/lib/python3.9/multiprocessing/connection.py\", line 416, in _send_bytes\n",
      "    self._send(header + buf)\n",
      "  File \"/home/prathamesh/anaconda3/envs/project/lib/python3.9/multiprocessing/connection.py\", line 373, in _send\n",
      "    n = write(self._handle, buf)\n",
      "BrokenPipeError: [Errno 32] Broken pipe\n"
     ]
    },
    {
     "ename": "KeyboardInterrupt",
     "evalue": "",
     "output_type": "error",
     "traceback": [
      "\u001b[0;31m---------------------------------------------------------------------------\u001b[0m",
      "\u001b[0;31mKeyboardInterrupt\u001b[0m                         Traceback (most recent call last)",
      "\u001b[0;32m/tmp/ipykernel_5086/2142391371.py\u001b[0m in \u001b[0;36m<module>\u001b[0;34m\u001b[0m\n\u001b[1;32m      1\u001b[0m \u001b[0mlearn\u001b[0m\u001b[0;34m.\u001b[0m\u001b[0mfreeze_to\u001b[0m\u001b[0;34m(\u001b[0m\u001b[0;34m-\u001b[0m\u001b[0;36m2\u001b[0m\u001b[0;34m)\u001b[0m\u001b[0;34m\u001b[0m\u001b[0;34m\u001b[0m\u001b[0m\n\u001b[0;32m----> 2\u001b[0;31m \u001b[0mlearn\u001b[0m\u001b[0;34m.\u001b[0m\u001b[0mfit_one_cycle\u001b[0m\u001b[0;34m(\u001b[0m\u001b[0;36m1\u001b[0m\u001b[0;34m,\u001b[0m \u001b[0mslice\u001b[0m\u001b[0;34m(\u001b[0m\u001b[0;36m1e-2\u001b[0m\u001b[0;34m/\u001b[0m\u001b[0;34m(\u001b[0m\u001b[0;36m2.6\u001b[0m\u001b[0;34m**\u001b[0m\u001b[0;36m4\u001b[0m\u001b[0;34m)\u001b[0m\u001b[0;34m,\u001b[0m\u001b[0;36m1e-2\u001b[0m\u001b[0;34m)\u001b[0m\u001b[0;34m,\u001b[0m\u001b[0mcbs\u001b[0m\u001b[0;34m=\u001b[0m\u001b[0;34m[\u001b[0m\u001b[0mEarlyStoppingCallback\u001b[0m\u001b[0;34m(\u001b[0m\u001b[0mmonitor\u001b[0m\u001b[0;34m=\u001b[0m\u001b[0;34m'f1_score'\u001b[0m\u001b[0;34m,\u001b[0m \u001b[0mmin_delta\u001b[0m\u001b[0;34m=\u001b[0m\u001b[0;36m0.01\u001b[0m\u001b[0;34m,\u001b[0m \u001b[0mpatience\u001b[0m\u001b[0;34m=\u001b[0m\u001b[0;36m3\u001b[0m\u001b[0;34m)\u001b[0m\u001b[0;34m]\u001b[0m\u001b[0;34m)\u001b[0m\u001b[0;34m\u001b[0m\u001b[0;34m\u001b[0m\u001b[0m\n\u001b[0m",
      "\u001b[0;32m~/anaconda3/envs/project/lib/python3.9/site-packages/fastai/callback/schedule.py\u001b[0m in \u001b[0;36mfit_one_cycle\u001b[0;34m(self, n_epoch, lr_max, div, div_final, pct_start, wd, moms, cbs, reset_opt)\u001b[0m\n\u001b[1;32m    114\u001b[0m     scheds = {'lr': combined_cos(pct_start, lr_max/div, lr_max, lr_max/div_final),\n\u001b[1;32m    115\u001b[0m               'mom': combined_cos(pct_start, *(self.moms if moms is None else moms))}\n\u001b[0;32m--> 116\u001b[0;31m     \u001b[0mself\u001b[0m\u001b[0;34m.\u001b[0m\u001b[0mfit\u001b[0m\u001b[0;34m(\u001b[0m\u001b[0mn_epoch\u001b[0m\u001b[0;34m,\u001b[0m \u001b[0mcbs\u001b[0m\u001b[0;34m=\u001b[0m\u001b[0mParamScheduler\u001b[0m\u001b[0;34m(\u001b[0m\u001b[0mscheds\u001b[0m\u001b[0;34m)\u001b[0m\u001b[0;34m+\u001b[0m\u001b[0mL\u001b[0m\u001b[0;34m(\u001b[0m\u001b[0mcbs\u001b[0m\u001b[0;34m)\u001b[0m\u001b[0;34m,\u001b[0m \u001b[0mreset_opt\u001b[0m\u001b[0;34m=\u001b[0m\u001b[0mreset_opt\u001b[0m\u001b[0;34m,\u001b[0m \u001b[0mwd\u001b[0m\u001b[0;34m=\u001b[0m\u001b[0mwd\u001b[0m\u001b[0;34m)\u001b[0m\u001b[0;34m\u001b[0m\u001b[0;34m\u001b[0m\u001b[0m\n\u001b[0m\u001b[1;32m    117\u001b[0m \u001b[0;34m\u001b[0m\u001b[0m\n\u001b[1;32m    118\u001b[0m \u001b[0;31m# Cell\u001b[0m\u001b[0;34m\u001b[0m\u001b[0;34m\u001b[0m\u001b[0m\n",
      "\u001b[0;32m~/anaconda3/envs/project/lib/python3.9/site-packages/fastai/learner.py\u001b[0m in \u001b[0;36mfit\u001b[0;34m(self, n_epoch, lr, wd, cbs, reset_opt)\u001b[0m\n\u001b[1;32m    219\u001b[0m             \u001b[0mself\u001b[0m\u001b[0;34m.\u001b[0m\u001b[0mopt\u001b[0m\u001b[0;34m.\u001b[0m\u001b[0mset_hypers\u001b[0m\u001b[0;34m(\u001b[0m\u001b[0mlr\u001b[0m\u001b[0;34m=\u001b[0m\u001b[0mself\u001b[0m\u001b[0;34m.\u001b[0m\u001b[0mlr\u001b[0m \u001b[0;32mif\u001b[0m \u001b[0mlr\u001b[0m \u001b[0;32mis\u001b[0m \u001b[0;32mNone\u001b[0m \u001b[0;32melse\u001b[0m \u001b[0mlr\u001b[0m\u001b[0;34m)\u001b[0m\u001b[0;34m\u001b[0m\u001b[0;34m\u001b[0m\u001b[0m\n\u001b[1;32m    220\u001b[0m             \u001b[0mself\u001b[0m\u001b[0;34m.\u001b[0m\u001b[0mn_epoch\u001b[0m \u001b[0;34m=\u001b[0m \u001b[0mn_epoch\u001b[0m\u001b[0;34m\u001b[0m\u001b[0;34m\u001b[0m\u001b[0m\n\u001b[0;32m--> 221\u001b[0;31m             \u001b[0mself\u001b[0m\u001b[0;34m.\u001b[0m\u001b[0m_with_events\u001b[0m\u001b[0;34m(\u001b[0m\u001b[0mself\u001b[0m\u001b[0;34m.\u001b[0m\u001b[0m_do_fit\u001b[0m\u001b[0;34m,\u001b[0m \u001b[0;34m'fit'\u001b[0m\u001b[0;34m,\u001b[0m \u001b[0mCancelFitException\u001b[0m\u001b[0;34m,\u001b[0m \u001b[0mself\u001b[0m\u001b[0;34m.\u001b[0m\u001b[0m_end_cleanup\u001b[0m\u001b[0;34m)\u001b[0m\u001b[0;34m\u001b[0m\u001b[0;34m\u001b[0m\u001b[0m\n\u001b[0m\u001b[1;32m    222\u001b[0m \u001b[0;34m\u001b[0m\u001b[0m\n\u001b[1;32m    223\u001b[0m     \u001b[0;32mdef\u001b[0m \u001b[0m_end_cleanup\u001b[0m\u001b[0;34m(\u001b[0m\u001b[0mself\u001b[0m\u001b[0;34m)\u001b[0m\u001b[0;34m:\u001b[0m \u001b[0mself\u001b[0m\u001b[0;34m.\u001b[0m\u001b[0mdl\u001b[0m\u001b[0;34m,\u001b[0m\u001b[0mself\u001b[0m\u001b[0;34m.\u001b[0m\u001b[0mxb\u001b[0m\u001b[0;34m,\u001b[0m\u001b[0mself\u001b[0m\u001b[0;34m.\u001b[0m\u001b[0myb\u001b[0m\u001b[0;34m,\u001b[0m\u001b[0mself\u001b[0m\u001b[0;34m.\u001b[0m\u001b[0mpred\u001b[0m\u001b[0;34m,\u001b[0m\u001b[0mself\u001b[0m\u001b[0;34m.\u001b[0m\u001b[0mloss\u001b[0m \u001b[0;34m=\u001b[0m \u001b[0;32mNone\u001b[0m\u001b[0;34m,\u001b[0m\u001b[0;34m(\u001b[0m\u001b[0;32mNone\u001b[0m\u001b[0;34m,\u001b[0m\u001b[0;34m)\u001b[0m\u001b[0;34m,\u001b[0m\u001b[0;34m(\u001b[0m\u001b[0;32mNone\u001b[0m\u001b[0;34m,\u001b[0m\u001b[0;34m)\u001b[0m\u001b[0;34m,\u001b[0m\u001b[0;32mNone\u001b[0m\u001b[0;34m,\u001b[0m\u001b[0;32mNone\u001b[0m\u001b[0;34m\u001b[0m\u001b[0;34m\u001b[0m\u001b[0m\n",
      "\u001b[0;32m~/anaconda3/envs/project/lib/python3.9/site-packages/fastai/learner.py\u001b[0m in \u001b[0;36m_with_events\u001b[0;34m(self, f, event_type, ex, final)\u001b[0m\n\u001b[1;32m    161\u001b[0m \u001b[0;34m\u001b[0m\u001b[0m\n\u001b[1;32m    162\u001b[0m     \u001b[0;32mdef\u001b[0m \u001b[0m_with_events\u001b[0m\u001b[0;34m(\u001b[0m\u001b[0mself\u001b[0m\u001b[0;34m,\u001b[0m \u001b[0mf\u001b[0m\u001b[0;34m,\u001b[0m \u001b[0mevent_type\u001b[0m\u001b[0;34m,\u001b[0m \u001b[0mex\u001b[0m\u001b[0;34m,\u001b[0m \u001b[0mfinal\u001b[0m\u001b[0;34m=\u001b[0m\u001b[0mnoop\u001b[0m\u001b[0;34m)\u001b[0m\u001b[0;34m:\u001b[0m\u001b[0;34m\u001b[0m\u001b[0;34m\u001b[0m\u001b[0m\n\u001b[0;32m--> 163\u001b[0;31m         \u001b[0;32mtry\u001b[0m\u001b[0;34m:\u001b[0m \u001b[0mself\u001b[0m\u001b[0;34m(\u001b[0m\u001b[0;34mf'before_{event_type}'\u001b[0m\u001b[0;34m)\u001b[0m\u001b[0;34m;\u001b[0m  \u001b[0mf\u001b[0m\u001b[0;34m(\u001b[0m\u001b[0;34m)\u001b[0m\u001b[0;34m\u001b[0m\u001b[0;34m\u001b[0m\u001b[0m\n\u001b[0m\u001b[1;32m    164\u001b[0m         \u001b[0;32mexcept\u001b[0m \u001b[0mex\u001b[0m\u001b[0;34m:\u001b[0m \u001b[0mself\u001b[0m\u001b[0;34m(\u001b[0m\u001b[0;34mf'after_cancel_{event_type}'\u001b[0m\u001b[0;34m)\u001b[0m\u001b[0;34m\u001b[0m\u001b[0;34m\u001b[0m\u001b[0m\n\u001b[1;32m    165\u001b[0m         \u001b[0mself\u001b[0m\u001b[0;34m(\u001b[0m\u001b[0;34mf'after_{event_type}'\u001b[0m\u001b[0;34m)\u001b[0m\u001b[0;34m;\u001b[0m  \u001b[0mfinal\u001b[0m\u001b[0;34m(\u001b[0m\u001b[0;34m)\u001b[0m\u001b[0;34m\u001b[0m\u001b[0;34m\u001b[0m\u001b[0m\n",
      "\u001b[0;32m~/anaconda3/envs/project/lib/python3.9/site-packages/fastai/learner.py\u001b[0m in \u001b[0;36m_do_fit\u001b[0;34m(self)\u001b[0m\n\u001b[1;32m    210\u001b[0m         \u001b[0;32mfor\u001b[0m \u001b[0mepoch\u001b[0m \u001b[0;32min\u001b[0m \u001b[0mrange\u001b[0m\u001b[0;34m(\u001b[0m\u001b[0mself\u001b[0m\u001b[0;34m.\u001b[0m\u001b[0mn_epoch\u001b[0m\u001b[0;34m)\u001b[0m\u001b[0;34m:\u001b[0m\u001b[0;34m\u001b[0m\u001b[0;34m\u001b[0m\u001b[0m\n\u001b[1;32m    211\u001b[0m             \u001b[0mself\u001b[0m\u001b[0;34m.\u001b[0m\u001b[0mepoch\u001b[0m\u001b[0;34m=\u001b[0m\u001b[0mepoch\u001b[0m\u001b[0;34m\u001b[0m\u001b[0;34m\u001b[0m\u001b[0m\n\u001b[0;32m--> 212\u001b[0;31m             \u001b[0mself\u001b[0m\u001b[0;34m.\u001b[0m\u001b[0m_with_events\u001b[0m\u001b[0;34m(\u001b[0m\u001b[0mself\u001b[0m\u001b[0;34m.\u001b[0m\u001b[0m_do_epoch\u001b[0m\u001b[0;34m,\u001b[0m \u001b[0;34m'epoch'\u001b[0m\u001b[0;34m,\u001b[0m \u001b[0mCancelEpochException\u001b[0m\u001b[0;34m)\u001b[0m\u001b[0;34m\u001b[0m\u001b[0;34m\u001b[0m\u001b[0m\n\u001b[0m\u001b[1;32m    213\u001b[0m \u001b[0;34m\u001b[0m\u001b[0m\n\u001b[1;32m    214\u001b[0m     \u001b[0;32mdef\u001b[0m \u001b[0mfit\u001b[0m\u001b[0;34m(\u001b[0m\u001b[0mself\u001b[0m\u001b[0;34m,\u001b[0m \u001b[0mn_epoch\u001b[0m\u001b[0;34m,\u001b[0m \u001b[0mlr\u001b[0m\u001b[0;34m=\u001b[0m\u001b[0;32mNone\u001b[0m\u001b[0;34m,\u001b[0m \u001b[0mwd\u001b[0m\u001b[0;34m=\u001b[0m\u001b[0;32mNone\u001b[0m\u001b[0;34m,\u001b[0m \u001b[0mcbs\u001b[0m\u001b[0;34m=\u001b[0m\u001b[0;32mNone\u001b[0m\u001b[0;34m,\u001b[0m \u001b[0mreset_opt\u001b[0m\u001b[0;34m=\u001b[0m\u001b[0;32mFalse\u001b[0m\u001b[0;34m)\u001b[0m\u001b[0;34m:\u001b[0m\u001b[0;34m\u001b[0m\u001b[0;34m\u001b[0m\u001b[0m\n",
      "\u001b[0;32m~/anaconda3/envs/project/lib/python3.9/site-packages/fastai/learner.py\u001b[0m in \u001b[0;36m_with_events\u001b[0;34m(self, f, event_type, ex, final)\u001b[0m\n\u001b[1;32m    161\u001b[0m \u001b[0;34m\u001b[0m\u001b[0m\n\u001b[1;32m    162\u001b[0m     \u001b[0;32mdef\u001b[0m \u001b[0m_with_events\u001b[0m\u001b[0;34m(\u001b[0m\u001b[0mself\u001b[0m\u001b[0;34m,\u001b[0m \u001b[0mf\u001b[0m\u001b[0;34m,\u001b[0m \u001b[0mevent_type\u001b[0m\u001b[0;34m,\u001b[0m \u001b[0mex\u001b[0m\u001b[0;34m,\u001b[0m \u001b[0mfinal\u001b[0m\u001b[0;34m=\u001b[0m\u001b[0mnoop\u001b[0m\u001b[0;34m)\u001b[0m\u001b[0;34m:\u001b[0m\u001b[0;34m\u001b[0m\u001b[0;34m\u001b[0m\u001b[0m\n\u001b[0;32m--> 163\u001b[0;31m         \u001b[0;32mtry\u001b[0m\u001b[0;34m:\u001b[0m \u001b[0mself\u001b[0m\u001b[0;34m(\u001b[0m\u001b[0;34mf'before_{event_type}'\u001b[0m\u001b[0;34m)\u001b[0m\u001b[0;34m;\u001b[0m  \u001b[0mf\u001b[0m\u001b[0;34m(\u001b[0m\u001b[0;34m)\u001b[0m\u001b[0;34m\u001b[0m\u001b[0;34m\u001b[0m\u001b[0m\n\u001b[0m\u001b[1;32m    164\u001b[0m         \u001b[0;32mexcept\u001b[0m \u001b[0mex\u001b[0m\u001b[0;34m:\u001b[0m \u001b[0mself\u001b[0m\u001b[0;34m(\u001b[0m\u001b[0;34mf'after_cancel_{event_type}'\u001b[0m\u001b[0;34m)\u001b[0m\u001b[0;34m\u001b[0m\u001b[0;34m\u001b[0m\u001b[0m\n\u001b[1;32m    165\u001b[0m         \u001b[0mself\u001b[0m\u001b[0;34m(\u001b[0m\u001b[0;34mf'after_{event_type}'\u001b[0m\u001b[0;34m)\u001b[0m\u001b[0;34m;\u001b[0m  \u001b[0mfinal\u001b[0m\u001b[0;34m(\u001b[0m\u001b[0;34m)\u001b[0m\u001b[0;34m\u001b[0m\u001b[0;34m\u001b[0m\u001b[0m\n",
      "\u001b[0;32m~/anaconda3/envs/project/lib/python3.9/site-packages/fastai/learner.py\u001b[0m in \u001b[0;36m_do_epoch\u001b[0;34m(self)\u001b[0m\n\u001b[1;32m    204\u001b[0m \u001b[0;34m\u001b[0m\u001b[0m\n\u001b[1;32m    205\u001b[0m     \u001b[0;32mdef\u001b[0m \u001b[0m_do_epoch\u001b[0m\u001b[0;34m(\u001b[0m\u001b[0mself\u001b[0m\u001b[0;34m)\u001b[0m\u001b[0;34m:\u001b[0m\u001b[0;34m\u001b[0m\u001b[0;34m\u001b[0m\u001b[0m\n\u001b[0;32m--> 206\u001b[0;31m         \u001b[0mself\u001b[0m\u001b[0;34m.\u001b[0m\u001b[0m_do_epoch_train\u001b[0m\u001b[0;34m(\u001b[0m\u001b[0;34m)\u001b[0m\u001b[0;34m\u001b[0m\u001b[0;34m\u001b[0m\u001b[0m\n\u001b[0m\u001b[1;32m    207\u001b[0m         \u001b[0mself\u001b[0m\u001b[0;34m.\u001b[0m\u001b[0m_do_epoch_validate\u001b[0m\u001b[0;34m(\u001b[0m\u001b[0;34m)\u001b[0m\u001b[0;34m\u001b[0m\u001b[0;34m\u001b[0m\u001b[0m\n\u001b[1;32m    208\u001b[0m \u001b[0;34m\u001b[0m\u001b[0m\n",
      "\u001b[0;32m~/anaconda3/envs/project/lib/python3.9/site-packages/fastai/learner.py\u001b[0m in \u001b[0;36m_do_epoch_train\u001b[0;34m(self)\u001b[0m\n\u001b[1;32m    196\u001b[0m     \u001b[0;32mdef\u001b[0m \u001b[0m_do_epoch_train\u001b[0m\u001b[0;34m(\u001b[0m\u001b[0mself\u001b[0m\u001b[0;34m)\u001b[0m\u001b[0;34m:\u001b[0m\u001b[0;34m\u001b[0m\u001b[0;34m\u001b[0m\u001b[0m\n\u001b[1;32m    197\u001b[0m         \u001b[0mself\u001b[0m\u001b[0;34m.\u001b[0m\u001b[0mdl\u001b[0m \u001b[0;34m=\u001b[0m \u001b[0mself\u001b[0m\u001b[0;34m.\u001b[0m\u001b[0mdls\u001b[0m\u001b[0;34m.\u001b[0m\u001b[0mtrain\u001b[0m\u001b[0;34m\u001b[0m\u001b[0;34m\u001b[0m\u001b[0m\n\u001b[0;32m--> 198\u001b[0;31m         \u001b[0mself\u001b[0m\u001b[0;34m.\u001b[0m\u001b[0m_with_events\u001b[0m\u001b[0;34m(\u001b[0m\u001b[0mself\u001b[0m\u001b[0;34m.\u001b[0m\u001b[0mall_batches\u001b[0m\u001b[0;34m,\u001b[0m \u001b[0;34m'train'\u001b[0m\u001b[0;34m,\u001b[0m \u001b[0mCancelTrainException\u001b[0m\u001b[0;34m)\u001b[0m\u001b[0;34m\u001b[0m\u001b[0;34m\u001b[0m\u001b[0m\n\u001b[0m\u001b[1;32m    199\u001b[0m \u001b[0;34m\u001b[0m\u001b[0m\n\u001b[1;32m    200\u001b[0m     \u001b[0;32mdef\u001b[0m \u001b[0m_do_epoch_validate\u001b[0m\u001b[0;34m(\u001b[0m\u001b[0mself\u001b[0m\u001b[0;34m,\u001b[0m \u001b[0mds_idx\u001b[0m\u001b[0;34m=\u001b[0m\u001b[0;36m1\u001b[0m\u001b[0;34m,\u001b[0m \u001b[0mdl\u001b[0m\u001b[0;34m=\u001b[0m\u001b[0;32mNone\u001b[0m\u001b[0;34m)\u001b[0m\u001b[0;34m:\u001b[0m\u001b[0;34m\u001b[0m\u001b[0;34m\u001b[0m\u001b[0m\n",
      "\u001b[0;32m~/anaconda3/envs/project/lib/python3.9/site-packages/fastai/learner.py\u001b[0m in \u001b[0;36m_with_events\u001b[0;34m(self, f, event_type, ex, final)\u001b[0m\n\u001b[1;32m    161\u001b[0m \u001b[0;34m\u001b[0m\u001b[0m\n\u001b[1;32m    162\u001b[0m     \u001b[0;32mdef\u001b[0m \u001b[0m_with_events\u001b[0m\u001b[0;34m(\u001b[0m\u001b[0mself\u001b[0m\u001b[0;34m,\u001b[0m \u001b[0mf\u001b[0m\u001b[0;34m,\u001b[0m \u001b[0mevent_type\u001b[0m\u001b[0;34m,\u001b[0m \u001b[0mex\u001b[0m\u001b[0;34m,\u001b[0m \u001b[0mfinal\u001b[0m\u001b[0;34m=\u001b[0m\u001b[0mnoop\u001b[0m\u001b[0;34m)\u001b[0m\u001b[0;34m:\u001b[0m\u001b[0;34m\u001b[0m\u001b[0;34m\u001b[0m\u001b[0m\n\u001b[0;32m--> 163\u001b[0;31m         \u001b[0;32mtry\u001b[0m\u001b[0;34m:\u001b[0m \u001b[0mself\u001b[0m\u001b[0;34m(\u001b[0m\u001b[0;34mf'before_{event_type}'\u001b[0m\u001b[0;34m)\u001b[0m\u001b[0;34m;\u001b[0m  \u001b[0mf\u001b[0m\u001b[0;34m(\u001b[0m\u001b[0;34m)\u001b[0m\u001b[0;34m\u001b[0m\u001b[0;34m\u001b[0m\u001b[0m\n\u001b[0m\u001b[1;32m    164\u001b[0m         \u001b[0;32mexcept\u001b[0m \u001b[0mex\u001b[0m\u001b[0;34m:\u001b[0m \u001b[0mself\u001b[0m\u001b[0;34m(\u001b[0m\u001b[0;34mf'after_cancel_{event_type}'\u001b[0m\u001b[0;34m)\u001b[0m\u001b[0;34m\u001b[0m\u001b[0;34m\u001b[0m\u001b[0m\n\u001b[1;32m    165\u001b[0m         \u001b[0mself\u001b[0m\u001b[0;34m(\u001b[0m\u001b[0;34mf'after_{event_type}'\u001b[0m\u001b[0;34m)\u001b[0m\u001b[0;34m;\u001b[0m  \u001b[0mfinal\u001b[0m\u001b[0;34m(\u001b[0m\u001b[0;34m)\u001b[0m\u001b[0;34m\u001b[0m\u001b[0;34m\u001b[0m\u001b[0m\n",
      "\u001b[0;32m~/anaconda3/envs/project/lib/python3.9/site-packages/fastai/learner.py\u001b[0m in \u001b[0;36mall_batches\u001b[0;34m(self)\u001b[0m\n\u001b[1;32m    167\u001b[0m     \u001b[0;32mdef\u001b[0m \u001b[0mall_batches\u001b[0m\u001b[0;34m(\u001b[0m\u001b[0mself\u001b[0m\u001b[0;34m)\u001b[0m\u001b[0;34m:\u001b[0m\u001b[0;34m\u001b[0m\u001b[0;34m\u001b[0m\u001b[0m\n\u001b[1;32m    168\u001b[0m         \u001b[0mself\u001b[0m\u001b[0;34m.\u001b[0m\u001b[0mn_iter\u001b[0m \u001b[0;34m=\u001b[0m \u001b[0mlen\u001b[0m\u001b[0;34m(\u001b[0m\u001b[0mself\u001b[0m\u001b[0;34m.\u001b[0m\u001b[0mdl\u001b[0m\u001b[0;34m)\u001b[0m\u001b[0;34m\u001b[0m\u001b[0;34m\u001b[0m\u001b[0m\n\u001b[0;32m--> 169\u001b[0;31m         \u001b[0;32mfor\u001b[0m \u001b[0mo\u001b[0m \u001b[0;32min\u001b[0m \u001b[0menumerate\u001b[0m\u001b[0;34m(\u001b[0m\u001b[0mself\u001b[0m\u001b[0;34m.\u001b[0m\u001b[0mdl\u001b[0m\u001b[0;34m)\u001b[0m\u001b[0;34m:\u001b[0m \u001b[0mself\u001b[0m\u001b[0;34m.\u001b[0m\u001b[0mone_batch\u001b[0m\u001b[0;34m(\u001b[0m\u001b[0;34m*\u001b[0m\u001b[0mo\u001b[0m\u001b[0;34m)\u001b[0m\u001b[0;34m\u001b[0m\u001b[0;34m\u001b[0m\u001b[0m\n\u001b[0m\u001b[1;32m    170\u001b[0m \u001b[0;34m\u001b[0m\u001b[0m\n\u001b[1;32m    171\u001b[0m     \u001b[0;32mdef\u001b[0m \u001b[0m_do_one_batch\u001b[0m\u001b[0;34m(\u001b[0m\u001b[0mself\u001b[0m\u001b[0;34m)\u001b[0m\u001b[0;34m:\u001b[0m\u001b[0;34m\u001b[0m\u001b[0;34m\u001b[0m\u001b[0m\n",
      "\u001b[0;32m~/anaconda3/envs/project/lib/python3.9/site-packages/fastai/learner.py\u001b[0m in \u001b[0;36mone_batch\u001b[0;34m(self, i, b)\u001b[0m\n\u001b[1;32m    192\u001b[0m         \u001b[0mb\u001b[0m \u001b[0;34m=\u001b[0m \u001b[0mself\u001b[0m\u001b[0;34m.\u001b[0m\u001b[0m_set_device\u001b[0m\u001b[0;34m(\u001b[0m\u001b[0mb\u001b[0m\u001b[0;34m)\u001b[0m\u001b[0;34m\u001b[0m\u001b[0;34m\u001b[0m\u001b[0m\n\u001b[1;32m    193\u001b[0m         \u001b[0mself\u001b[0m\u001b[0;34m.\u001b[0m\u001b[0m_split\u001b[0m\u001b[0;34m(\u001b[0m\u001b[0mb\u001b[0m\u001b[0;34m)\u001b[0m\u001b[0;34m\u001b[0m\u001b[0;34m\u001b[0m\u001b[0m\n\u001b[0;32m--> 194\u001b[0;31m         \u001b[0mself\u001b[0m\u001b[0;34m.\u001b[0m\u001b[0m_with_events\u001b[0m\u001b[0;34m(\u001b[0m\u001b[0mself\u001b[0m\u001b[0;34m.\u001b[0m\u001b[0m_do_one_batch\u001b[0m\u001b[0;34m,\u001b[0m \u001b[0;34m'batch'\u001b[0m\u001b[0;34m,\u001b[0m \u001b[0mCancelBatchException\u001b[0m\u001b[0;34m)\u001b[0m\u001b[0;34m\u001b[0m\u001b[0;34m\u001b[0m\u001b[0m\n\u001b[0m\u001b[1;32m    195\u001b[0m \u001b[0;34m\u001b[0m\u001b[0m\n\u001b[1;32m    196\u001b[0m     \u001b[0;32mdef\u001b[0m \u001b[0m_do_epoch_train\u001b[0m\u001b[0;34m(\u001b[0m\u001b[0mself\u001b[0m\u001b[0;34m)\u001b[0m\u001b[0;34m:\u001b[0m\u001b[0;34m\u001b[0m\u001b[0;34m\u001b[0m\u001b[0m\n",
      "\u001b[0;32m~/anaconda3/envs/project/lib/python3.9/site-packages/fastai/learner.py\u001b[0m in \u001b[0;36m_with_events\u001b[0;34m(self, f, event_type, ex, final)\u001b[0m\n\u001b[1;32m    161\u001b[0m \u001b[0;34m\u001b[0m\u001b[0m\n\u001b[1;32m    162\u001b[0m     \u001b[0;32mdef\u001b[0m \u001b[0m_with_events\u001b[0m\u001b[0;34m(\u001b[0m\u001b[0mself\u001b[0m\u001b[0;34m,\u001b[0m \u001b[0mf\u001b[0m\u001b[0;34m,\u001b[0m \u001b[0mevent_type\u001b[0m\u001b[0;34m,\u001b[0m \u001b[0mex\u001b[0m\u001b[0;34m,\u001b[0m \u001b[0mfinal\u001b[0m\u001b[0;34m=\u001b[0m\u001b[0mnoop\u001b[0m\u001b[0;34m)\u001b[0m\u001b[0;34m:\u001b[0m\u001b[0;34m\u001b[0m\u001b[0;34m\u001b[0m\u001b[0m\n\u001b[0;32m--> 163\u001b[0;31m         \u001b[0;32mtry\u001b[0m\u001b[0;34m:\u001b[0m \u001b[0mself\u001b[0m\u001b[0;34m(\u001b[0m\u001b[0;34mf'before_{event_type}'\u001b[0m\u001b[0;34m)\u001b[0m\u001b[0;34m;\u001b[0m  \u001b[0mf\u001b[0m\u001b[0;34m(\u001b[0m\u001b[0;34m)\u001b[0m\u001b[0;34m\u001b[0m\u001b[0;34m\u001b[0m\u001b[0m\n\u001b[0m\u001b[1;32m    164\u001b[0m         \u001b[0;32mexcept\u001b[0m \u001b[0mex\u001b[0m\u001b[0;34m:\u001b[0m \u001b[0mself\u001b[0m\u001b[0;34m(\u001b[0m\u001b[0;34mf'after_cancel_{event_type}'\u001b[0m\u001b[0;34m)\u001b[0m\u001b[0;34m\u001b[0m\u001b[0;34m\u001b[0m\u001b[0m\n\u001b[1;32m    165\u001b[0m         \u001b[0mself\u001b[0m\u001b[0;34m(\u001b[0m\u001b[0;34mf'after_{event_type}'\u001b[0m\u001b[0;34m)\u001b[0m\u001b[0;34m;\u001b[0m  \u001b[0mfinal\u001b[0m\u001b[0;34m(\u001b[0m\u001b[0;34m)\u001b[0m\u001b[0;34m\u001b[0m\u001b[0;34m\u001b[0m\u001b[0m\n",
      "\u001b[0;32m~/anaconda3/envs/project/lib/python3.9/site-packages/fastai/learner.py\u001b[0m in \u001b[0;36m_do_one_batch\u001b[0;34m(self)\u001b[0m\n\u001b[1;32m    170\u001b[0m \u001b[0;34m\u001b[0m\u001b[0m\n\u001b[1;32m    171\u001b[0m     \u001b[0;32mdef\u001b[0m \u001b[0m_do_one_batch\u001b[0m\u001b[0;34m(\u001b[0m\u001b[0mself\u001b[0m\u001b[0;34m)\u001b[0m\u001b[0;34m:\u001b[0m\u001b[0;34m\u001b[0m\u001b[0;34m\u001b[0m\u001b[0m\n\u001b[0;32m--> 172\u001b[0;31m         \u001b[0mself\u001b[0m\u001b[0;34m.\u001b[0m\u001b[0mpred\u001b[0m \u001b[0;34m=\u001b[0m \u001b[0mself\u001b[0m\u001b[0;34m.\u001b[0m\u001b[0mmodel\u001b[0m\u001b[0;34m(\u001b[0m\u001b[0;34m*\u001b[0m\u001b[0mself\u001b[0m\u001b[0;34m.\u001b[0m\u001b[0mxb\u001b[0m\u001b[0;34m)\u001b[0m\u001b[0;34m\u001b[0m\u001b[0;34m\u001b[0m\u001b[0m\n\u001b[0m\u001b[1;32m    173\u001b[0m         \u001b[0mself\u001b[0m\u001b[0;34m(\u001b[0m\u001b[0;34m'after_pred'\u001b[0m\u001b[0;34m)\u001b[0m\u001b[0;34m\u001b[0m\u001b[0;34m\u001b[0m\u001b[0m\n\u001b[1;32m    174\u001b[0m         \u001b[0;32mif\u001b[0m \u001b[0mlen\u001b[0m\u001b[0;34m(\u001b[0m\u001b[0mself\u001b[0m\u001b[0;34m.\u001b[0m\u001b[0myb\u001b[0m\u001b[0;34m)\u001b[0m\u001b[0;34m:\u001b[0m\u001b[0;34m\u001b[0m\u001b[0;34m\u001b[0m\u001b[0m\n",
      "\u001b[0;32m~/anaconda3/envs/project/lib/python3.9/site-packages/torch/nn/modules/module.py\u001b[0m in \u001b[0;36m_call_impl\u001b[0;34m(self, *input, **kwargs)\u001b[0m\n\u001b[1;32m   1100\u001b[0m         if not (self._backward_hooks or self._forward_hooks or self._forward_pre_hooks or _global_backward_hooks\n\u001b[1;32m   1101\u001b[0m                 or _global_forward_hooks or _global_forward_pre_hooks):\n\u001b[0;32m-> 1102\u001b[0;31m             \u001b[0;32mreturn\u001b[0m \u001b[0mforward_call\u001b[0m\u001b[0;34m(\u001b[0m\u001b[0;34m*\u001b[0m\u001b[0minput\u001b[0m\u001b[0;34m,\u001b[0m \u001b[0;34m**\u001b[0m\u001b[0mkwargs\u001b[0m\u001b[0;34m)\u001b[0m\u001b[0;34m\u001b[0m\u001b[0;34m\u001b[0m\u001b[0m\n\u001b[0m\u001b[1;32m   1103\u001b[0m         \u001b[0;31m# Do not call functions when jit is used\u001b[0m\u001b[0;34m\u001b[0m\u001b[0;34m\u001b[0m\u001b[0m\n\u001b[1;32m   1104\u001b[0m         \u001b[0mfull_backward_hooks\u001b[0m\u001b[0;34m,\u001b[0m \u001b[0mnon_full_backward_hooks\u001b[0m \u001b[0;34m=\u001b[0m \u001b[0;34m[\u001b[0m\u001b[0;34m]\u001b[0m\u001b[0;34m,\u001b[0m \u001b[0;34m[\u001b[0m\u001b[0;34m]\u001b[0m\u001b[0;34m\u001b[0m\u001b[0;34m\u001b[0m\u001b[0m\n",
      "\u001b[0;32m~/anaconda3/envs/project/lib/python3.9/site-packages/torch/nn/modules/container.py\u001b[0m in \u001b[0;36mforward\u001b[0;34m(self, input)\u001b[0m\n\u001b[1;32m    139\u001b[0m     \u001b[0;32mdef\u001b[0m \u001b[0mforward\u001b[0m\u001b[0;34m(\u001b[0m\u001b[0mself\u001b[0m\u001b[0;34m,\u001b[0m \u001b[0minput\u001b[0m\u001b[0;34m)\u001b[0m\u001b[0;34m:\u001b[0m\u001b[0;34m\u001b[0m\u001b[0;34m\u001b[0m\u001b[0m\n\u001b[1;32m    140\u001b[0m         \u001b[0;32mfor\u001b[0m \u001b[0mmodule\u001b[0m \u001b[0;32min\u001b[0m \u001b[0mself\u001b[0m\u001b[0;34m:\u001b[0m\u001b[0;34m\u001b[0m\u001b[0;34m\u001b[0m\u001b[0m\n\u001b[0;32m--> 141\u001b[0;31m             \u001b[0minput\u001b[0m \u001b[0;34m=\u001b[0m \u001b[0mmodule\u001b[0m\u001b[0;34m(\u001b[0m\u001b[0minput\u001b[0m\u001b[0;34m)\u001b[0m\u001b[0;34m\u001b[0m\u001b[0;34m\u001b[0m\u001b[0m\n\u001b[0m\u001b[1;32m    142\u001b[0m         \u001b[0;32mreturn\u001b[0m \u001b[0minput\u001b[0m\u001b[0;34m\u001b[0m\u001b[0;34m\u001b[0m\u001b[0m\n\u001b[1;32m    143\u001b[0m \u001b[0;34m\u001b[0m\u001b[0m\n",
      "\u001b[0;32m~/anaconda3/envs/project/lib/python3.9/site-packages/torch/nn/modules/module.py\u001b[0m in \u001b[0;36m_call_impl\u001b[0;34m(self, *input, **kwargs)\u001b[0m\n\u001b[1;32m   1100\u001b[0m         if not (self._backward_hooks or self._forward_hooks or self._forward_pre_hooks or _global_backward_hooks\n\u001b[1;32m   1101\u001b[0m                 or _global_forward_hooks or _global_forward_pre_hooks):\n\u001b[0;32m-> 1102\u001b[0;31m             \u001b[0;32mreturn\u001b[0m \u001b[0mforward_call\u001b[0m\u001b[0;34m(\u001b[0m\u001b[0;34m*\u001b[0m\u001b[0minput\u001b[0m\u001b[0;34m,\u001b[0m \u001b[0;34m**\u001b[0m\u001b[0mkwargs\u001b[0m\u001b[0;34m)\u001b[0m\u001b[0;34m\u001b[0m\u001b[0;34m\u001b[0m\u001b[0m\n\u001b[0m\u001b[1;32m   1103\u001b[0m         \u001b[0;31m# Do not call functions when jit is used\u001b[0m\u001b[0;34m\u001b[0m\u001b[0;34m\u001b[0m\u001b[0m\n\u001b[1;32m   1104\u001b[0m         \u001b[0mfull_backward_hooks\u001b[0m\u001b[0;34m,\u001b[0m \u001b[0mnon_full_backward_hooks\u001b[0m \u001b[0;34m=\u001b[0m \u001b[0;34m[\u001b[0m\u001b[0;34m]\u001b[0m\u001b[0;34m,\u001b[0m \u001b[0;34m[\u001b[0m\u001b[0;34m]\u001b[0m\u001b[0;34m\u001b[0m\u001b[0;34m\u001b[0m\u001b[0m\n",
      "\u001b[0;32m~/anaconda3/envs/project/lib/python3.9/site-packages/fastai/text/models/core.py\u001b[0m in \u001b[0;36mforward\u001b[0;34m(self, input)\u001b[0m\n\u001b[1;32m     76\u001b[0m             \u001b[0;31m#Note: this expects that sequence really begins on a round multiple of bptt\u001b[0m\u001b[0;34m\u001b[0m\u001b[0;34m\u001b[0m\u001b[0m\n\u001b[1;32m     77\u001b[0m             \u001b[0mreal_bs\u001b[0m \u001b[0;34m=\u001b[0m \u001b[0;34m(\u001b[0m\u001b[0minput\u001b[0m\u001b[0;34m[\u001b[0m\u001b[0;34m:\u001b[0m\u001b[0;34m,\u001b[0m\u001b[0mi\u001b[0m\u001b[0;34m]\u001b[0m \u001b[0;34m!=\u001b[0m \u001b[0mself\u001b[0m\u001b[0;34m.\u001b[0m\u001b[0mpad_idx\u001b[0m\u001b[0;34m)\u001b[0m\u001b[0;34m.\u001b[0m\u001b[0mlong\u001b[0m\u001b[0;34m(\u001b[0m\u001b[0;34m)\u001b[0m\u001b[0;34m.\u001b[0m\u001b[0msum\u001b[0m\u001b[0;34m(\u001b[0m\u001b[0;34m)\u001b[0m\u001b[0;34m\u001b[0m\u001b[0;34m\u001b[0m\u001b[0m\n\u001b[0;32m---> 78\u001b[0;31m             \u001b[0mo\u001b[0m \u001b[0;34m=\u001b[0m \u001b[0mself\u001b[0m\u001b[0;34m.\u001b[0m\u001b[0mmodule\u001b[0m\u001b[0;34m(\u001b[0m\u001b[0minput\u001b[0m\u001b[0;34m[\u001b[0m\u001b[0;34m:\u001b[0m\u001b[0mreal_bs\u001b[0m\u001b[0;34m,\u001b[0m\u001b[0mi\u001b[0m\u001b[0;34m:\u001b[0m \u001b[0mmin\u001b[0m\u001b[0;34m(\u001b[0m\u001b[0mi\u001b[0m\u001b[0;34m+\u001b[0m\u001b[0mself\u001b[0m\u001b[0;34m.\u001b[0m\u001b[0mbptt\u001b[0m\u001b[0;34m,\u001b[0m \u001b[0msl\u001b[0m\u001b[0;34m)\u001b[0m\u001b[0;34m]\u001b[0m\u001b[0;34m)\u001b[0m\u001b[0;34m\u001b[0m\u001b[0;34m\u001b[0m\u001b[0m\n\u001b[0m\u001b[1;32m     79\u001b[0m             \u001b[0;32mif\u001b[0m \u001b[0mself\u001b[0m\u001b[0;34m.\u001b[0m\u001b[0mmax_len\u001b[0m \u001b[0;32mis\u001b[0m \u001b[0;32mNone\u001b[0m \u001b[0;32mor\u001b[0m \u001b[0msl\u001b[0m\u001b[0;34m-\u001b[0m\u001b[0mi\u001b[0m \u001b[0;34m<=\u001b[0m \u001b[0mself\u001b[0m\u001b[0;34m.\u001b[0m\u001b[0mmax_len\u001b[0m\u001b[0;34m:\u001b[0m\u001b[0;34m\u001b[0m\u001b[0;34m\u001b[0m\u001b[0m\n\u001b[1;32m     80\u001b[0m                 \u001b[0mouts\u001b[0m\u001b[0;34m.\u001b[0m\u001b[0mappend\u001b[0m\u001b[0;34m(\u001b[0m\u001b[0mo\u001b[0m\u001b[0;34m)\u001b[0m\u001b[0;34m\u001b[0m\u001b[0;34m\u001b[0m\u001b[0m\n",
      "\u001b[0;32m~/anaconda3/envs/project/lib/python3.9/site-packages/torch/nn/modules/module.py\u001b[0m in \u001b[0;36m_call_impl\u001b[0;34m(self, *input, **kwargs)\u001b[0m\n\u001b[1;32m   1100\u001b[0m         if not (self._backward_hooks or self._forward_hooks or self._forward_pre_hooks or _global_backward_hooks\n\u001b[1;32m   1101\u001b[0m                 or _global_forward_hooks or _global_forward_pre_hooks):\n\u001b[0;32m-> 1102\u001b[0;31m             \u001b[0;32mreturn\u001b[0m \u001b[0mforward_call\u001b[0m\u001b[0;34m(\u001b[0m\u001b[0;34m*\u001b[0m\u001b[0minput\u001b[0m\u001b[0;34m,\u001b[0m \u001b[0;34m**\u001b[0m\u001b[0mkwargs\u001b[0m\u001b[0;34m)\u001b[0m\u001b[0;34m\u001b[0m\u001b[0;34m\u001b[0m\u001b[0m\n\u001b[0m\u001b[1;32m   1103\u001b[0m         \u001b[0;31m# Do not call functions when jit is used\u001b[0m\u001b[0;34m\u001b[0m\u001b[0;34m\u001b[0m\u001b[0m\n\u001b[1;32m   1104\u001b[0m         \u001b[0mfull_backward_hooks\u001b[0m\u001b[0;34m,\u001b[0m \u001b[0mnon_full_backward_hooks\u001b[0m \u001b[0;34m=\u001b[0m \u001b[0;34m[\u001b[0m\u001b[0;34m]\u001b[0m\u001b[0;34m,\u001b[0m \u001b[0;34m[\u001b[0m\u001b[0;34m]\u001b[0m\u001b[0;34m\u001b[0m\u001b[0;34m\u001b[0m\u001b[0m\n",
      "\u001b[0;32m~/anaconda3/envs/project/lib/python3.9/site-packages/fastai/text/models/awdlstm.py\u001b[0m in \u001b[0;36mforward\u001b[0;34m(self, inp, from_embeds)\u001b[0m\n\u001b[1;32m    103\u001b[0m         \u001b[0mnew_hidden\u001b[0m \u001b[0;34m=\u001b[0m \u001b[0;34m[\u001b[0m\u001b[0;34m]\u001b[0m\u001b[0;34m\u001b[0m\u001b[0;34m\u001b[0m\u001b[0m\n\u001b[1;32m    104\u001b[0m         \u001b[0;32mfor\u001b[0m \u001b[0ml\u001b[0m\u001b[0;34m,\u001b[0m \u001b[0;34m(\u001b[0m\u001b[0mrnn\u001b[0m\u001b[0;34m,\u001b[0m\u001b[0mhid_dp\u001b[0m\u001b[0;34m)\u001b[0m \u001b[0;32min\u001b[0m \u001b[0menumerate\u001b[0m\u001b[0;34m(\u001b[0m\u001b[0mzip\u001b[0m\u001b[0;34m(\u001b[0m\u001b[0mself\u001b[0m\u001b[0;34m.\u001b[0m\u001b[0mrnns\u001b[0m\u001b[0;34m,\u001b[0m \u001b[0mself\u001b[0m\u001b[0;34m.\u001b[0m\u001b[0mhidden_dps\u001b[0m\u001b[0;34m)\u001b[0m\u001b[0;34m)\u001b[0m\u001b[0;34m:\u001b[0m\u001b[0;34m\u001b[0m\u001b[0;34m\u001b[0m\u001b[0m\n\u001b[0;32m--> 105\u001b[0;31m             \u001b[0moutput\u001b[0m\u001b[0;34m,\u001b[0m \u001b[0mnew_h\u001b[0m \u001b[0;34m=\u001b[0m \u001b[0mrnn\u001b[0m\u001b[0;34m(\u001b[0m\u001b[0moutput\u001b[0m\u001b[0;34m,\u001b[0m \u001b[0mself\u001b[0m\u001b[0;34m.\u001b[0m\u001b[0mhidden\u001b[0m\u001b[0;34m[\u001b[0m\u001b[0ml\u001b[0m\u001b[0;34m]\u001b[0m\u001b[0;34m)\u001b[0m\u001b[0;34m\u001b[0m\u001b[0;34m\u001b[0m\u001b[0m\n\u001b[0m\u001b[1;32m    106\u001b[0m             \u001b[0mnew_hidden\u001b[0m\u001b[0;34m.\u001b[0m\u001b[0mappend\u001b[0m\u001b[0;34m(\u001b[0m\u001b[0mnew_h\u001b[0m\u001b[0;34m)\u001b[0m\u001b[0;34m\u001b[0m\u001b[0;34m\u001b[0m\u001b[0m\n\u001b[1;32m    107\u001b[0m             \u001b[0;32mif\u001b[0m \u001b[0ml\u001b[0m \u001b[0;34m!=\u001b[0m \u001b[0mself\u001b[0m\u001b[0;34m.\u001b[0m\u001b[0mn_layers\u001b[0m \u001b[0;34m-\u001b[0m \u001b[0;36m1\u001b[0m\u001b[0;34m:\u001b[0m \u001b[0moutput\u001b[0m \u001b[0;34m=\u001b[0m \u001b[0mhid_dp\u001b[0m\u001b[0;34m(\u001b[0m\u001b[0moutput\u001b[0m\u001b[0;34m)\u001b[0m\u001b[0;34m\u001b[0m\u001b[0;34m\u001b[0m\u001b[0m\n",
      "\u001b[0;32m~/anaconda3/envs/project/lib/python3.9/site-packages/torch/nn/modules/module.py\u001b[0m in \u001b[0;36m_call_impl\u001b[0;34m(self, *input, **kwargs)\u001b[0m\n\u001b[1;32m   1100\u001b[0m         if not (self._backward_hooks or self._forward_hooks or self._forward_pre_hooks or _global_backward_hooks\n\u001b[1;32m   1101\u001b[0m                 or _global_forward_hooks or _global_forward_pre_hooks):\n\u001b[0;32m-> 1102\u001b[0;31m             \u001b[0;32mreturn\u001b[0m \u001b[0mforward_call\u001b[0m\u001b[0;34m(\u001b[0m\u001b[0;34m*\u001b[0m\u001b[0minput\u001b[0m\u001b[0;34m,\u001b[0m \u001b[0;34m**\u001b[0m\u001b[0mkwargs\u001b[0m\u001b[0;34m)\u001b[0m\u001b[0;34m\u001b[0m\u001b[0;34m\u001b[0m\u001b[0m\n\u001b[0m\u001b[1;32m   1103\u001b[0m         \u001b[0;31m# Do not call functions when jit is used\u001b[0m\u001b[0;34m\u001b[0m\u001b[0;34m\u001b[0m\u001b[0m\n\u001b[1;32m   1104\u001b[0m         \u001b[0mfull_backward_hooks\u001b[0m\u001b[0;34m,\u001b[0m \u001b[0mnon_full_backward_hooks\u001b[0m \u001b[0;34m=\u001b[0m \u001b[0;34m[\u001b[0m\u001b[0;34m]\u001b[0m\u001b[0;34m,\u001b[0m \u001b[0;34m[\u001b[0m\u001b[0;34m]\u001b[0m\u001b[0;34m\u001b[0m\u001b[0;34m\u001b[0m\u001b[0m\n",
      "\u001b[0;32m~/anaconda3/envs/project/lib/python3.9/site-packages/fastai/text/models/awdlstm.py\u001b[0m in \u001b[0;36mforward\u001b[0;34m(self, *args)\u001b[0m\n\u001b[1;32m     50\u001b[0m             \u001b[0;31m# To avoid the warning that comes because the weights aren't flattened.\u001b[0m\u001b[0;34m\u001b[0m\u001b[0;34m\u001b[0m\u001b[0m\n\u001b[1;32m     51\u001b[0m             \u001b[0mwarnings\u001b[0m\u001b[0;34m.\u001b[0m\u001b[0msimplefilter\u001b[0m\u001b[0;34m(\u001b[0m\u001b[0;34m\"ignore\"\u001b[0m\u001b[0;34m,\u001b[0m \u001b[0mcategory\u001b[0m\u001b[0;34m=\u001b[0m\u001b[0mUserWarning\u001b[0m\u001b[0;34m)\u001b[0m\u001b[0;34m\u001b[0m\u001b[0;34m\u001b[0m\u001b[0m\n\u001b[0;32m---> 52\u001b[0;31m             \u001b[0;32mreturn\u001b[0m \u001b[0mself\u001b[0m\u001b[0;34m.\u001b[0m\u001b[0mmodule\u001b[0m\u001b[0;34m(\u001b[0m\u001b[0;34m*\u001b[0m\u001b[0margs\u001b[0m\u001b[0;34m)\u001b[0m\u001b[0;34m\u001b[0m\u001b[0;34m\u001b[0m\u001b[0m\n\u001b[0m\u001b[1;32m     53\u001b[0m \u001b[0;34m\u001b[0m\u001b[0m\n\u001b[1;32m     54\u001b[0m     \u001b[0;32mdef\u001b[0m \u001b[0mreset\u001b[0m\u001b[0;34m(\u001b[0m\u001b[0mself\u001b[0m\u001b[0;34m)\u001b[0m\u001b[0;34m:\u001b[0m\u001b[0;34m\u001b[0m\u001b[0;34m\u001b[0m\u001b[0m\n",
      "\u001b[0;32m~/anaconda3/envs/project/lib/python3.9/site-packages/torch/nn/modules/module.py\u001b[0m in \u001b[0;36m_call_impl\u001b[0;34m(self, *input, **kwargs)\u001b[0m\n\u001b[1;32m   1100\u001b[0m         if not (self._backward_hooks or self._forward_hooks or self._forward_pre_hooks or _global_backward_hooks\n\u001b[1;32m   1101\u001b[0m                 or _global_forward_hooks or _global_forward_pre_hooks):\n\u001b[0;32m-> 1102\u001b[0;31m             \u001b[0;32mreturn\u001b[0m \u001b[0mforward_call\u001b[0m\u001b[0;34m(\u001b[0m\u001b[0;34m*\u001b[0m\u001b[0minput\u001b[0m\u001b[0;34m,\u001b[0m \u001b[0;34m**\u001b[0m\u001b[0mkwargs\u001b[0m\u001b[0;34m)\u001b[0m\u001b[0;34m\u001b[0m\u001b[0;34m\u001b[0m\u001b[0m\n\u001b[0m\u001b[1;32m   1103\u001b[0m         \u001b[0;31m# Do not call functions when jit is used\u001b[0m\u001b[0;34m\u001b[0m\u001b[0;34m\u001b[0m\u001b[0m\n\u001b[1;32m   1104\u001b[0m         \u001b[0mfull_backward_hooks\u001b[0m\u001b[0;34m,\u001b[0m \u001b[0mnon_full_backward_hooks\u001b[0m \u001b[0;34m=\u001b[0m \u001b[0;34m[\u001b[0m\u001b[0;34m]\u001b[0m\u001b[0;34m,\u001b[0m \u001b[0;34m[\u001b[0m\u001b[0;34m]\u001b[0m\u001b[0;34m\u001b[0m\u001b[0;34m\u001b[0m\u001b[0m\n",
      "\u001b[0;32m~/anaconda3/envs/project/lib/python3.9/site-packages/torch/nn/modules/rnn.py\u001b[0m in \u001b[0;36mforward\u001b[0;34m(self, input, hx)\u001b[0m\n\u001b[1;32m    689\u001b[0m         \u001b[0mself\u001b[0m\u001b[0;34m.\u001b[0m\u001b[0mcheck_forward_args\u001b[0m\u001b[0;34m(\u001b[0m\u001b[0minput\u001b[0m\u001b[0;34m,\u001b[0m \u001b[0mhx\u001b[0m\u001b[0;34m,\u001b[0m \u001b[0mbatch_sizes\u001b[0m\u001b[0;34m)\u001b[0m\u001b[0;34m\u001b[0m\u001b[0;34m\u001b[0m\u001b[0m\n\u001b[1;32m    690\u001b[0m         \u001b[0;32mif\u001b[0m \u001b[0mbatch_sizes\u001b[0m \u001b[0;32mis\u001b[0m \u001b[0;32mNone\u001b[0m\u001b[0;34m:\u001b[0m\u001b[0;34m\u001b[0m\u001b[0;34m\u001b[0m\u001b[0m\n\u001b[0;32m--> 691\u001b[0;31m             result = _VF.lstm(input, hx, self._flat_weights, self.bias, self.num_layers,\n\u001b[0m\u001b[1;32m    692\u001b[0m                               self.dropout, self.training, self.bidirectional, self.batch_first)\n\u001b[1;32m    693\u001b[0m         \u001b[0;32melse\u001b[0m\u001b[0;34m:\u001b[0m\u001b[0;34m\u001b[0m\u001b[0;34m\u001b[0m\u001b[0m\n",
      "\u001b[0;32m~/anaconda3/envs/project/lib/python3.9/site-packages/fastai/torch_core.py\u001b[0m in \u001b[0;36m__torch_function__\u001b[0;34m(self, func, types, args, kwargs)\u001b[0m\n\u001b[1;32m    338\u001b[0m         \u001b[0mconvert\u001b[0m\u001b[0;34m=\u001b[0m\u001b[0;32mFalse\u001b[0m\u001b[0;34m\u001b[0m\u001b[0;34m\u001b[0m\u001b[0m\n\u001b[1;32m    339\u001b[0m         \u001b[0;32mif\u001b[0m \u001b[0m_torch_handled\u001b[0m\u001b[0;34m(\u001b[0m\u001b[0margs\u001b[0m\u001b[0;34m,\u001b[0m \u001b[0mself\u001b[0m\u001b[0;34m.\u001b[0m\u001b[0m_opt\u001b[0m\u001b[0;34m,\u001b[0m \u001b[0mfunc\u001b[0m\u001b[0;34m)\u001b[0m\u001b[0;34m:\u001b[0m \u001b[0mconvert\u001b[0m\u001b[0;34m,\u001b[0m\u001b[0mtypes\u001b[0m \u001b[0;34m=\u001b[0m \u001b[0mtype\u001b[0m\u001b[0;34m(\u001b[0m\u001b[0mself\u001b[0m\u001b[0;34m)\u001b[0m\u001b[0;34m,\u001b[0m\u001b[0;34m(\u001b[0m\u001b[0mtorch\u001b[0m\u001b[0;34m.\u001b[0m\u001b[0mTensor\u001b[0m\u001b[0;34m,\u001b[0m\u001b[0;34m)\u001b[0m\u001b[0;34m\u001b[0m\u001b[0;34m\u001b[0m\u001b[0m\n\u001b[0;32m--> 340\u001b[0;31m         \u001b[0mres\u001b[0m \u001b[0;34m=\u001b[0m \u001b[0msuper\u001b[0m\u001b[0;34m(\u001b[0m\u001b[0;34m)\u001b[0m\u001b[0;34m.\u001b[0m\u001b[0m__torch_function__\u001b[0m\u001b[0;34m(\u001b[0m\u001b[0mfunc\u001b[0m\u001b[0;34m,\u001b[0m \u001b[0mtypes\u001b[0m\u001b[0;34m,\u001b[0m \u001b[0margs\u001b[0m\u001b[0;34m=\u001b[0m\u001b[0margs\u001b[0m\u001b[0;34m,\u001b[0m \u001b[0mkwargs\u001b[0m\u001b[0;34m=\u001b[0m\u001b[0mkwargs\u001b[0m\u001b[0;34m)\u001b[0m\u001b[0;34m\u001b[0m\u001b[0;34m\u001b[0m\u001b[0m\n\u001b[0m\u001b[1;32m    341\u001b[0m         \u001b[0;32mif\u001b[0m \u001b[0mconvert\u001b[0m\u001b[0;34m:\u001b[0m \u001b[0mres\u001b[0m \u001b[0;34m=\u001b[0m \u001b[0mconvert\u001b[0m\u001b[0;34m(\u001b[0m\u001b[0mres\u001b[0m\u001b[0;34m)\u001b[0m\u001b[0;34m\u001b[0m\u001b[0;34m\u001b[0m\u001b[0m\n\u001b[1;32m    342\u001b[0m         \u001b[0;32mif\u001b[0m \u001b[0misinstance\u001b[0m\u001b[0;34m(\u001b[0m\u001b[0mres\u001b[0m\u001b[0;34m,\u001b[0m \u001b[0mTensorBase\u001b[0m\u001b[0;34m)\u001b[0m\u001b[0;34m:\u001b[0m \u001b[0mres\u001b[0m\u001b[0;34m.\u001b[0m\u001b[0mset_meta\u001b[0m\u001b[0;34m(\u001b[0m\u001b[0mself\u001b[0m\u001b[0;34m,\u001b[0m \u001b[0mas_copy\u001b[0m\u001b[0;34m=\u001b[0m\u001b[0;32mTrue\u001b[0m\u001b[0;34m)\u001b[0m\u001b[0;34m\u001b[0m\u001b[0;34m\u001b[0m\u001b[0m\n",
      "\u001b[0;32m~/anaconda3/envs/project/lib/python3.9/site-packages/torch/_tensor.py\u001b[0m in \u001b[0;36m__torch_function__\u001b[0;34m(cls, func, types, args, kwargs)\u001b[0m\n\u001b[1;32m   1049\u001b[0m \u001b[0;34m\u001b[0m\u001b[0m\n\u001b[1;32m   1050\u001b[0m         \u001b[0;32mwith\u001b[0m \u001b[0m_C\u001b[0m\u001b[0;34m.\u001b[0m\u001b[0mDisableTorchFunction\u001b[0m\u001b[0;34m(\u001b[0m\u001b[0;34m)\u001b[0m\u001b[0;34m:\u001b[0m\u001b[0;34m\u001b[0m\u001b[0;34m\u001b[0m\u001b[0m\n\u001b[0;32m-> 1051\u001b[0;31m             \u001b[0mret\u001b[0m \u001b[0;34m=\u001b[0m \u001b[0mfunc\u001b[0m\u001b[0;34m(\u001b[0m\u001b[0;34m*\u001b[0m\u001b[0margs\u001b[0m\u001b[0;34m,\u001b[0m \u001b[0;34m**\u001b[0m\u001b[0mkwargs\u001b[0m\u001b[0;34m)\u001b[0m\u001b[0;34m\u001b[0m\u001b[0;34m\u001b[0m\u001b[0m\n\u001b[0m\u001b[1;32m   1052\u001b[0m             \u001b[0;32mif\u001b[0m \u001b[0mfunc\u001b[0m \u001b[0;32min\u001b[0m \u001b[0mget_default_nowrap_functions\u001b[0m\u001b[0;34m(\u001b[0m\u001b[0;34m)\u001b[0m\u001b[0;34m:\u001b[0m\u001b[0;34m\u001b[0m\u001b[0;34m\u001b[0m\u001b[0m\n\u001b[1;32m   1053\u001b[0m                 \u001b[0;32mreturn\u001b[0m \u001b[0mret\u001b[0m\u001b[0;34m\u001b[0m\u001b[0;34m\u001b[0m\u001b[0m\n",
      "\u001b[0;31mKeyboardInterrupt\u001b[0m: "
     ]
    }
   ],
   "source": [
    "learn.freeze_to(-2)\n",
    "learn.fit_one_cycle(1, slice(1e-2/(2.6**4),1e-2),cbs=[EarlyStoppingCallback(monitor='f1_score', min_delta=0.01, patience=3)])"
   ]
  },
  {
   "cell_type": "code",
   "execution_count": null,
   "id": "92919bbf",
   "metadata": {
    "scrolled": true
   },
   "outputs": [],
   "source": [
    "learn.freeze_to(-3)\n",
    "learn.fit_one_cycle(1, slice(5e-3/(2.6**4),5e-3),cbs=[EarlyStoppingCallback(monitor='f1_score', min_delta=0.01, patience=3)])"
   ]
  },
  {
   "cell_type": "code",
   "execution_count": null,
   "id": "25b34a0e",
   "metadata": {},
   "outputs": [],
   "source": [
    "import gc\n",
    "# del variables\n",
    "gc.collect()\n",
    "torch.cuda.empty_cache()"
   ]
  },
  {
   "cell_type": "code",
   "execution_count": null,
   "id": "bc6ffe7d",
   "metadata": {},
   "outputs": [],
   "source": [
    "learn.unfreeze()\n",
    "learn.fit_one_cycle(10, slice(1e-3/(2.6**4),1e-3),cbs=[EarlyStoppingCallback(monitor='f1_score', min_delta=0.01, patience=3)])"
   ]
  },
  {
   "cell_type": "code",
   "execution_count": null,
   "id": "10fb0e54",
   "metadata": {},
   "outputs": [],
   "source": [
    "learn.predict('A #Hindu MLA was stripped naked and beaten brutally in #Congress ruled #Punjab by so called farmers of #FarmersProtest.  Imagine the same, if had happened to a Sikh Or Muslim MLA or individual in a #BJP ruled state.  I know, you cant even imagine that...  Desh jal gaya hota')"
   ]
  },
  {
   "cell_type": "code",
   "execution_count": null,
   "id": "64e82a7a",
   "metadata": {},
   "outputs": [],
   "source": [
    "learn.predict('Breaking Mobile tower = \\'Modi\\' s Public Development\\'. 😂🤣Jio Bad boy, truth is slipping out of your tongue! 😝  Roads blocked & red fort indent, by the govt.   Trains- Rights of protest.   Opposition support-Democracy (only bit left)   #MonthsOfDelhiProtest  #FarmersProtest')"
   ]
  },
  {
   "cell_type": "code",
   "execution_count": null,
   "id": "11bb23d4",
   "metadata": {},
   "outputs": [],
   "source": [
    "learn.predict('It\\'s very hard to commute from Delhi to Ghaziabad daily due to roads blocked by farmers..   Till when common ppl will bear this ?? #Farmersprotest #Borderkhalikaro')"
   ]
  },
  {
   "cell_type": "code",
   "execution_count": null,
   "id": "f3f64d3b",
   "metadata": {},
   "outputs": [],
   "source": [
    "learn.predict('An elderly farmer beaten by police in Rohtak. This protest has seen too much blood & tears of innocent protestors and yet they remain resilient  #FarmersProtest  🚜🌾 ')"
   ]
  },
  {
   "cell_type": "code",
   "execution_count": null,
   "id": "4aa01ae1",
   "metadata": {},
   "outputs": [],
   "source": [
    "learn.predict('Shame on that bloody government that it is not listening the voice of poor farmers of this country  #FarmersProtest')"
   ]
  },
  {
   "cell_type": "code",
   "execution_count": null,
   "id": "8b1e3728",
   "metadata": {},
   "outputs": [],
   "source": [
    "learn.predict('It\\'s easy to feel helpless-like you can\\'t fight the tide. But remember: small actions can have a huge impact,one person like u can inspire others to action #FarmersProtest   ::')"
   ]
  },
  {
   "cell_type": "code",
   "execution_count": null,
   "id": "cade4130",
   "metadata": {},
   "outputs": [],
   "source": [
    "learn.predict('It\\'s third time I\\'ve felt such pain in this #FarmersProtest but it\\'s part of the revolution. We\\'ve to be strong and have to support each other like family. Maybe, youth and intellectual people should come forward. Please, don\\'t waste your time, think what we can? #Lashkar_e_RSS ')"
   ]
  },
  {
   "cell_type": "code",
   "execution_count": null,
   "id": "657d7577",
   "metadata": {},
   "outputs": [],
   "source": [
    "# learn.predict('support the farmers. ')"
   ]
  },
  {
   "cell_type": "code",
   "execution_count": null,
   "id": "f463bb11",
   "metadata": {},
   "outputs": [],
   "source": [
    "learn.predict('This is how India treats those that feed their country.  #किसान_अब_दिल्ली_फतह_करेगा  #FarmersProtest ')"
   ]
  },
  {
   "cell_type": "code",
   "execution_count": null,
   "id": "a227b06d",
   "metadata": {},
   "outputs": [],
   "source": [
    "learn.predict('Few antisocial & anti national elements already #FarmersProtestHijacked  They demand #Khalistan show involvement of #ISI & #PFI as well  We don\\'t let them to make another #ShaheenBagh   Block #Delhi #BharatBandhOnDecember This is not #FarmersProtest  #SayNoToAnarchy ')"
   ]
  },
  {
   "cell_type": "code",
   "execution_count": null,
   "id": "968ccac6",
   "metadata": {},
   "outputs": [],
   "source": [
    "learn.predict('#FarmersProtest is going global as  extends support to farmers.  Don\\'t be surprised if  writes an article against  …')"
   ]
  },
  {
   "cell_type": "code",
   "execution_count": null,
   "id": "cf03362f",
   "metadata": {},
   "outputs": [],
   "source": []
  },
  {
   "cell_type": "code",
   "execution_count": null,
   "id": "bf76002e",
   "metadata": {},
   "outputs": [],
   "source": [
    "learn.predict('Bank unions lend support to farmers\\' agitation against new farm laws  #FarmersProtest  #FarmLaws')"
   ]
  },
  {
   "cell_type": "code",
   "execution_count": null,
   "id": "f16a14ff",
   "metadata": {},
   "outputs": [],
   "source": [
    "learn.predict('you must be a ‘brave’ man to attack elderly hard working productive citizens of our country. It’s a shame that apart from cowardice you and  are unable to comprehend the implications of trouble in a border state. #FarmersProtest #FarmersDilliChalo')"
   ]
  },
  {
   "cell_type": "code",
   "execution_count": null,
   "id": "52e45063",
   "metadata": {},
   "outputs": [],
   "source": [
    "learn.predict('Farmer is backbone of our nation And entire Nation depends on them.  Govt should treat them well bcz Our existence is completely depends on them 🙏 #FarmersProtest   ')"
   ]
  },
  {
   "cell_type": "code",
   "execution_count": null,
   "id": "f302df11",
   "metadata": {},
   "outputs": [],
   "source": [
    "learn.save('classfication_model_majority_positive')"
   ]
  },
  {
   "cell_type": "code",
   "execution_count": null,
   "id": "daa51928",
   "metadata": {},
   "outputs": [],
   "source": [
    "learn.export(path/'stance_prediction_model.pkl')"
   ]
  },
  {
   "cell_type": "code",
   "execution_count": null,
   "id": "7c1ac0ce",
   "metadata": {},
   "outputs": [],
   "source": []
  }
 ],
 "metadata": {
  "kernelspec": {
   "display_name": "Python 3 (ipykernel)",
   "language": "python",
   "name": "python3"
  },
  "language_info": {
   "codemirror_mode": {
    "name": "ipython",
    "version": 3
   },
   "file_extension": ".py",
   "mimetype": "text/x-python",
   "name": "python",
   "nbconvert_exporter": "python",
   "pygments_lexer": "ipython3",
   "version": "3.9.7"
  }
 },
 "nbformat": 4,
 "nbformat_minor": 5
}
