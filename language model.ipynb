{
 "cells": [
  {
   "cell_type": "code",
   "execution_count": 1,
   "id": "2dbb6a41",
   "metadata": {},
   "outputs": [],
   "source": [
    "# conda install fastai\n"
   ]
  },
  {
   "cell_type": "code",
   "execution_count": 1,
   "id": "f5cac855",
   "metadata": {},
   "outputs": [],
   "source": [
    "from fastai import *\n",
    "import fastai\n",
    "from fastai.text.all import *\n",
    "# from fastai.text import *\n",
    "# from fastai.test_utils import *\n",
    "from pathlib import Path\n",
    "import pandas as pd\n",
    "import numpy as np\n",
    "import re"
   ]
  },
  {
   "cell_type": "code",
   "execution_count": 2,
   "id": "e1fd1ef5",
   "metadata": {},
   "outputs": [
    {
     "data": {
      "text/plain": [
       "True"
      ]
     },
     "execution_count": 2,
     "metadata": {},
     "output_type": "execute_result"
    }
   ],
   "source": [
    "import torch\n",
    "torch.cuda.is_available()\n",
    "# fastai.__version__"
   ]
  },
  {
   "cell_type": "code",
   "execution_count": 3,
   "id": "1265afc5",
   "metadata": {},
   "outputs": [],
   "source": [
    "path = Path('./data')\n",
    "\n",
    "df = pd.read_csv(path/'final_cleaned_data.csv')"
   ]
  },
  {
   "cell_type": "code",
   "execution_count": 4,
   "id": "a5ca7170",
   "metadata": {},
   "outputs": [],
   "source": [
    "bs = 20"
   ]
  },
  {
   "cell_type": "code",
   "execution_count": 5,
   "id": "63f0c18e",
   "metadata": {},
   "outputs": [
    {
     "data": {
      "text/html": [
       "<div>\n",
       "<style scoped>\n",
       "    .dataframe tbody tr th:only-of-type {\n",
       "        vertical-align: middle;\n",
       "    }\n",
       "\n",
       "    .dataframe tbody tr th {\n",
       "        vertical-align: top;\n",
       "    }\n",
       "\n",
       "    .dataframe thead th {\n",
       "        text-align: right;\n",
       "    }\n",
       "</style>\n",
       "<table border=\"1\" class=\"dataframe\">\n",
       "  <thead>\n",
       "    <tr style=\"text-align: right;\">\n",
       "      <th></th>\n",
       "      <th>Unnamed: 0</th>\n",
       "      <th>text</th>\n",
       "    </tr>\n",
       "  </thead>\n",
       "  <tbody>\n",
       "    <tr>\n",
       "      <th>0</th>\n",
       "      <td>0</td>\n",
       "      <td>Supporting farmers means supporting our country #StopHateAgainstFarmers #FarmersProtest</td>\n",
       "    </tr>\n",
       "    <tr>\n",
       "      <th>1</th>\n",
       "      <td>1</td>\n",
       "      <td>Support farmers if you are related to food #StopHateAgainstFarmers #FarmersProtest</td>\n",
       "    </tr>\n",
       "    <tr>\n",
       "      <th>2</th>\n",
       "      <td>2</td>\n",
       "      <td>#StopHateAgainstFarmers support #FarmersProtest by pressurising got. to accept farmer's genuine demand.</td>\n",
       "    </tr>\n",
       "    <tr>\n",
       "      <th>3</th>\n",
       "      <td>3</td>\n",
       "      <td>You hate farmers I hate you,  if you love them I love you! ;)   #StopHateAgainstFarmers  #FarmersProtest</td>\n",
       "    </tr>\n",
       "    <tr>\n",
       "      <th>4</th>\n",
       "      <td>4</td>\n",
       "      <td>They can't be farmers. Looks like Gundas are having good time. They seem to be violence thirsty goons. #FarmersProtest …</td>\n",
       "    </tr>\n",
       "  </tbody>\n",
       "</table>\n",
       "</div>"
      ],
      "text/plain": [
       "   Unnamed: 0  \\\n",
       "0           0   \n",
       "1           1   \n",
       "2           2   \n",
       "3           3   \n",
       "4           4   \n",
       "\n",
       "                                                                                                                       text  \n",
       "0                                  Supporting farmers means supporting our country #StopHateAgainstFarmers #FarmersProtest   \n",
       "1                                       Support farmers if you are related to food #StopHateAgainstFarmers #FarmersProtest   \n",
       "2                   #StopHateAgainstFarmers support #FarmersProtest by pressurising got. to accept farmer's genuine demand.  \n",
       "3                  You hate farmers I hate you,  if you love them I love you! ;)   #StopHateAgainstFarmers  #FarmersProtest  \n",
       "4  They can't be farmers. Looks like Gundas are having good time. They seem to be violence thirsty goons. #FarmersProtest …  "
      ]
     },
     "execution_count": 5,
     "metadata": {},
     "output_type": "execute_result"
    }
   ],
   "source": [
    "df.head()"
   ]
  },
  {
   "cell_type": "code",
   "execution_count": 6,
   "id": "f6e1c2c8",
   "metadata": {},
   "outputs": [],
   "source": [
    "df=df.iloc[:, 1:]"
   ]
  },
  {
   "cell_type": "code",
   "execution_count": 7,
   "id": "a98ab07d",
   "metadata": {
    "scrolled": true
   },
   "outputs": [
    {
     "data": {
      "text/html": [
       "<div>\n",
       "<style scoped>\n",
       "    .dataframe tbody tr th:only-of-type {\n",
       "        vertical-align: middle;\n",
       "    }\n",
       "\n",
       "    .dataframe tbody tr th {\n",
       "        vertical-align: top;\n",
       "    }\n",
       "\n",
       "    .dataframe thead th {\n",
       "        text-align: right;\n",
       "    }\n",
       "</style>\n",
       "<table border=\"1\" class=\"dataframe\">\n",
       "  <thead>\n",
       "    <tr style=\"text-align: right;\">\n",
       "      <th></th>\n",
       "      <th>text</th>\n",
       "    </tr>\n",
       "  </thead>\n",
       "  <tbody>\n",
       "    <tr>\n",
       "      <th>0</th>\n",
       "      <td>Supporting farmers means supporting our country #StopHateAgainstFarmers #FarmersProtest</td>\n",
       "    </tr>\n",
       "    <tr>\n",
       "      <th>1</th>\n",
       "      <td>Support farmers if you are related to food #StopHateAgainstFarmers #FarmersProtest</td>\n",
       "    </tr>\n",
       "    <tr>\n",
       "      <th>2</th>\n",
       "      <td>#StopHateAgainstFarmers support #FarmersProtest by pressurising got. to accept farmer's genuine demand.</td>\n",
       "    </tr>\n",
       "    <tr>\n",
       "      <th>3</th>\n",
       "      <td>You hate farmers I hate you,  if you love them I love you! ;)   #StopHateAgainstFarmers  #FarmersProtest</td>\n",
       "    </tr>\n",
       "    <tr>\n",
       "      <th>4</th>\n",
       "      <td>They can't be farmers. Looks like Gundas are having good time. They seem to be violence thirsty goons. #FarmersProtest …</td>\n",
       "    </tr>\n",
       "  </tbody>\n",
       "</table>\n",
       "</div>"
      ],
      "text/plain": [
       "                                                                                                                       text\n",
       "0                                  Supporting farmers means supporting our country #StopHateAgainstFarmers #FarmersProtest \n",
       "1                                       Support farmers if you are related to food #StopHateAgainstFarmers #FarmersProtest \n",
       "2                   #StopHateAgainstFarmers support #FarmersProtest by pressurising got. to accept farmer's genuine demand.\n",
       "3                  You hate farmers I hate you,  if you love them I love you! ;)   #StopHateAgainstFarmers  #FarmersProtest\n",
       "4  They can't be farmers. Looks like Gundas are having good time. They seem to be violence thirsty goons. #FarmersProtest …"
      ]
     },
     "execution_count": 7,
     "metadata": {},
     "output_type": "execute_result"
    }
   ],
   "source": [
    "df.head()"
   ]
  },
  {
   "cell_type": "code",
   "execution_count": 9,
   "id": "3a870048",
   "metadata": {},
   "outputs": [],
   "source": [
    "# df = df.sample(n=200000, random_state=30)"
   ]
  },
  {
   "cell_type": "code",
   "execution_count": 10,
   "id": "8649e0dd",
   "metadata": {},
   "outputs": [],
   "source": [
    "# !conda install --file requirements.txt\n"
   ]
  },
  {
   "cell_type": "code",
   "execution_count": 8,
   "id": "156fa21e",
   "metadata": {},
   "outputs": [
    {
     "name": "stdout",
     "output_type": "stream",
     "text": [
      "2.5.3\n"
     ]
    }
   ],
   "source": [
    "print(fastai.__version__)"
   ]
  },
  {
   "cell_type": "code",
   "execution_count": 9,
   "id": "6d859812",
   "metadata": {},
   "outputs": [
    {
     "data": {
      "text/html": [
       "<div>\n",
       "<style scoped>\n",
       "    .dataframe tbody tr th:only-of-type {\n",
       "        vertical-align: middle;\n",
       "    }\n",
       "\n",
       "    .dataframe tbody tr th {\n",
       "        vertical-align: top;\n",
       "    }\n",
       "\n",
       "    .dataframe thead th {\n",
       "        text-align: right;\n",
       "    }\n",
       "</style>\n",
       "<table border=\"1\" class=\"dataframe\">\n",
       "  <thead>\n",
       "    <tr style=\"text-align: right;\">\n",
       "      <th></th>\n",
       "      <th>text</th>\n",
       "      <th>is_valid</th>\n",
       "    </tr>\n",
       "  </thead>\n",
       "  <tbody>\n",
       "    <tr>\n",
       "      <th>0</th>\n",
       "      <td>Supporting farmers means supporting our country #StopHateAgainstFarmers #FarmersProtest</td>\n",
       "      <td>False</td>\n",
       "    </tr>\n",
       "    <tr>\n",
       "      <th>1</th>\n",
       "      <td>Support farmers if you are related to food #StopHateAgainstFarmers #FarmersProtest</td>\n",
       "      <td>False</td>\n",
       "    </tr>\n",
       "    <tr>\n",
       "      <th>2</th>\n",
       "      <td>#StopHateAgainstFarmers support #FarmersProtest by pressurising got. to accept farmer's genuine demand.</td>\n",
       "      <td>False</td>\n",
       "    </tr>\n",
       "    <tr>\n",
       "      <th>3</th>\n",
       "      <td>You hate farmers I hate you,  if you love them I love you! ;)   #StopHateAgainstFarmers  #FarmersProtest</td>\n",
       "      <td>False</td>\n",
       "    </tr>\n",
       "    <tr>\n",
       "      <th>4</th>\n",
       "      <td>They can't be farmers. Looks like Gundas are having good time. They seem to be violence thirsty goons. #FarmersProtest …</td>\n",
       "      <td>False</td>\n",
       "    </tr>\n",
       "  </tbody>\n",
       "</table>\n",
       "</div>"
      ],
      "text/plain": [
       "                                                                                                                       text  \\\n",
       "0                                  Supporting farmers means supporting our country #StopHateAgainstFarmers #FarmersProtest    \n",
       "1                                       Support farmers if you are related to food #StopHateAgainstFarmers #FarmersProtest    \n",
       "2                   #StopHateAgainstFarmers support #FarmersProtest by pressurising got. to accept farmer's genuine demand.   \n",
       "3                  You hate farmers I hate you,  if you love them I love you! ;)   #StopHateAgainstFarmers  #FarmersProtest   \n",
       "4  They can't be farmers. Looks like Gundas are having good time. They seem to be violence thirsty goons. #FarmersProtest …   \n",
       "\n",
       "   is_valid  \n",
       "0     False  \n",
       "1     False  \n",
       "2     False  \n",
       "3     False  \n",
       "4     False  "
      ]
     },
     "execution_count": 9,
     "metadata": {},
     "output_type": "execute_result"
    }
   ],
   "source": [
    "valid = np.random.choice([False,True], len(df['text']), p= [0.9, 0.1])\n",
    "df['is_valid'] = valid\n",
    "df.head()"
   ]
  },
  {
   "cell_type": "code",
   "execution_count": 10,
   "id": "d6b0155f",
   "metadata": {},
   "outputs": [
    {
     "data": {
      "text/html": [],
      "text/plain": [
       "<IPython.core.display.HTML object>"
      ]
     },
     "metadata": {},
     "output_type": "display_data"
    },
    {
     "data": {
      "text/html": [
       "<table border=\"1\" class=\"dataframe\">\n",
       "  <thead>\n",
       "    <tr style=\"text-align: right;\">\n",
       "      <th></th>\n",
       "      <th>text</th>\n",
       "      <th>text_</th>\n",
       "    </tr>\n",
       "  </thead>\n",
       "  <tbody>\n",
       "    <tr>\n",
       "      <th>0</th>\n",
       "      <td>xxbos xxmaj haryana farmers hit back after xxup cm xxup ml xxmaj khattar links # farmersprotest to terrorism and claims ones ' protesting are not from our state ' # xxunk # anti_farmer_bjp # takebackfarmlaws _ xxunk xxbos xxmaj thanks for showing your concern # farmersprotest xxbos xxmaj very well said 🙏 # farmersprotest xxrep 3 🚜 🌾 🌽 🙏 ✊ xxbos # modiglobaldisaster # modibuildbridgesnotwalls thanks for your much needed support</td>\n",
       "      <td>xxmaj haryana farmers hit back after xxup cm xxup ml xxmaj khattar links # farmersprotest to terrorism and claims ones ' protesting are not from our state ' # xxunk # anti_farmer_bjp # takebackfarmlaws _ xxunk xxbos xxmaj thanks for showing your concern # farmersprotest xxbos xxmaj very well said 🙏 # farmersprotest xxrep 3 🚜 🌾 🌽 🙏 ✊ xxbos # modiglobaldisaster # modibuildbridgesnotwalls thanks for your much needed support thanks</td>\n",
       "    </tr>\n",
       "    <tr>\n",
       "      <th>1</th>\n",
       "      <td>to hear your thoughts on the # farmersprotest here on xxmaj for those of you who do n’t know , rami is a major advocate for social injustice and is very active on xxmaj instagram : xxunk _ xxbos xxmaj farmers are protesting peacefully for months now keep supporting # farmersprotest xxbos xxmaj important announcement n xxmaj clarification by xxup skm # farmersprotest xxbos # farmersprotest # boycottjio # whothehellisgodse # किसान_एकता_जिन्दाबाद</td>\n",
       "      <td>hear your thoughts on the # farmersprotest here on xxmaj for those of you who do n’t know , rami is a major advocate for social injustice and is very active on xxmaj instagram : xxunk _ xxbos xxmaj farmers are protesting peacefully for months now keep supporting # farmersprotest xxbos xxmaj important announcement n xxmaj clarification by xxup skm # farmersprotest xxbos # farmersprotest # boycottjio # whothehellisgodse # किसान_एकता_जिन्दाबाद #</td>\n",
       "    </tr>\n",
       "    <tr>\n",
       "      <th>2</th>\n",
       "      <td>xxmaj question everything . # farmersprotest # nofarmersnofood xxmaj can you outsmart a troll ? xxunk / sta … xxbos # farmersdayingmodienjoying more than farmers have already given their life for # farmersprotest . is enjoying dances and still have n’t given a single statement . xxmaj he ’s such a ruthless dictator . # shameonmodigovt xxbos xxmaj hahaha it looks like you are already suffering from xxmaj xxunk from consuming cow</td>\n",
       "      <td>question everything . # farmersprotest # nofarmersnofood xxmaj can you outsmart a troll ? xxunk / sta … xxbos # farmersdayingmodienjoying more than farmers have already given their life for # farmersprotest . is enjoying dances and still have n’t given a single statement . xxmaj he ’s such a ruthless dictator . # shameonmodigovt xxbos xxmaj hahaha it looks like you are already suffering from xxmaj xxunk from consuming cow dung</td>\n",
       "    </tr>\n",
       "    <tr>\n",
       "      <th>3</th>\n",
       "      <td>ca n’t sleep ) at xxmaj delhi xxmaj borders in this bone chilling winter . xxmaj government is xxmaj arrogant , xxmaj judiciary is mum , xxmaj media ( fourth pillar ) is calling it picnic . is xxmaj democracy so xxmaj cruel &amp; xxmaj insensitive ? # farmersprotest … xxbos # farmersprotest # anyone who support the farmers faces xxup fir . xxmaj just find a solution and listen to farmers</td>\n",
       "      <td>n’t sleep ) at xxmaj delhi xxmaj borders in this bone chilling winter . xxmaj government is xxmaj arrogant , xxmaj judiciary is mum , xxmaj media ( fourth pillar ) is calling it picnic . is xxmaj democracy so xxmaj cruel &amp; xxmaj insensitive ? # farmersprotest … xxbos # farmersprotest # anyone who support the farmers faces xxup fir . xxmaj just find a solution and listen to farmers grievances</td>\n",
       "    </tr>\n",
       "    <tr>\n",
       "      <th>4</th>\n",
       "      <td>farmacts in # xxmaj abeyance in t / o twts to ji is xxup needed now ! xxbos xxmaj we support our xxmaj farmers ! ! # fencinglikechinapak # farmersprotest … xxbos xxmaj we xxmaj united xxmaj for xxmaj farmers xxmaj we are xxup one # farmersabovereligioushate # farmersprotest xxbos xxmaj godi xxmaj media need to watch reality of xxmaj farmers xxmaj protest and xxmaj women xxmaj day at xxmaj delhi xxmaj</td>\n",
       "      <td>in # xxmaj abeyance in t / o twts to ji is xxup needed now ! xxbos xxmaj we support our xxmaj farmers ! ! # fencinglikechinapak # farmersprotest … xxbos xxmaj we xxmaj united xxmaj for xxmaj farmers xxmaj we are xxup one # farmersabovereligioushate # farmersprotest xxbos xxmaj godi xxmaj media need to watch reality of xxmaj farmers xxmaj protest and xxmaj women xxmaj day at xxmaj delhi xxmaj borders</td>\n",
       "    </tr>\n",
       "    <tr>\n",
       "      <th>5</th>\n",
       "      <td>xxmaj farm xxmaj bills 📷 : kisaan_kaafila ( on xxmaj instagram ) # farmersprotest # kisaanmajdoorektazindabad # istandwithfarmers xxbos xxmaj if any part of your brain works properly then you will understand that issue is not about farmer but more to do with middlemen . # farmersprotest # congressbetrayedindia xxbos xxmaj keep supporting this hashtag # farmersprotest xxbos xxmaj the xxmaj real xxmaj condition of xxmaj middle xxmaj class in xxmaj india</td>\n",
       "      <td>farm xxmaj bills 📷 : kisaan_kaafila ( on xxmaj instagram ) # farmersprotest # kisaanmajdoorektazindabad # istandwithfarmers xxbos xxmaj if any part of your brain works properly then you will understand that issue is not about farmer but more to do with middlemen . # farmersprotest # congressbetrayedindia xxbos xxmaj keep supporting this hashtag # farmersprotest xxbos xxmaj the xxmaj real xxmaj condition of xxmaj middle xxmaj class in xxmaj india .</td>\n",
       "    </tr>\n",
       "  </tbody>\n",
       "</table>"
      ],
      "text/plain": [
       "<IPython.core.display.HTML object>"
      ]
     },
     "metadata": {},
     "output_type": "display_data"
    }
   ],
   "source": [
    "# from lang_model import *\n",
    "# data_lm = lang_model(df, path, 'text', bs)\n",
    "data_lm = DataBlock(blocks=TextBlock.from_df('text', is_lm=True),\n",
    "                    get_x=ColReader('text'),\n",
    "                    splitter=ColSplitter())\n",
    "dls = data_lm.dataloaders(df, bs=bs, seq_len=72)\n",
    "dls.show_batch(max_n=6)\n"
   ]
  },
  {
   "cell_type": "code",
   "execution_count": null,
   "id": "86d805e5",
   "metadata": {},
   "outputs": [],
   "source": []
  },
  {
   "cell_type": "code",
   "execution_count": 11,
   "id": "bf935791",
   "metadata": {},
   "outputs": [],
   "source": [
    "learn = language_model_learner(dls, AWD_LSTM, metrics=accuracy,drop_mult=0.3)"
   ]
  },
  {
   "cell_type": "code",
   "execution_count": 14,
   "id": "bd0ace7f",
   "metadata": {},
   "outputs": [],
   "source": [
    "\n",
    "# data_lm = (TextList.from_csv(csv_name='final_cleaned_data.csv', path=path, cols='text')\n",
    "#            #We may have other temp folders that contain text files so we only keep what's in train and test\n",
    "#             .split_by_rand_pct(0.1)\n",
    "#            #We randomly split and keep 10% (10,000 reviews) for validation\n",
    "#             .label_for_lm()           \n",
    "#            #We want to do a language model so we label accordingly\n",
    "#             .databunch(bs=bs))\n",
    "# data_lm.save('data_lm.pkl')"
   ]
  },
  {
   "cell_type": "code",
   "execution_count": 12,
   "id": "73df0dc8",
   "metadata": {},
   "outputs": [],
   "source": [
    "import gc\n",
    "# del variables\n",
    "gc.collect()\n",
    "torch.cuda.empty_cache()"
   ]
  },
  {
   "cell_type": "code",
   "execution_count": null,
   "id": "d21eb9b2",
   "metadata": {},
   "outputs": [],
   "source": []
  },
  {
   "cell_type": "code",
   "execution_count": 13,
   "id": "d4336eba",
   "metadata": {},
   "outputs": [
    {
     "data": {
      "text/html": [],
      "text/plain": [
       "<IPython.core.display.HTML object>"
      ]
     },
     "metadata": {},
     "output_type": "display_data"
    },
    {
     "data": {
      "text/plain": [
       "SuggestedLRs(valley=0.0020892962347716093)"
      ]
     },
     "execution_count": 13,
     "metadata": {},
     "output_type": "execute_result"
    },
    {
     "data": {
      "image/png": "[encoded data removed]",
      "text/plain": [
       "<Figure size 432x288 with 1 Axes>"
      ]
     },
     "metadata": {
      "needs_background": "light"
     },
     "output_type": "display_data"
    }
   ],
   "source": [
    "learn.lr_find()\n",
    "# learn.recorder.plot(skip_end=15)"
   ]
  },
  {
   "cell_type": "code",
   "execution_count": 17,
   "id": "ba7b9b26",
   "metadata": {},
   "outputs": [],
   "source": [
    "# lrs,moms = learn.recorder.,learn.recorder.hps['mom']"
   ]
  },
  {
   "cell_type": "code",
   "execution_count": 14,
   "id": "13a2cb74",
   "metadata": {},
   "outputs": [
    {
     "data": {
      "text/html": [
       "<table border=\"1\" class=\"dataframe\">\n",
       "  <thead>\n",
       "    <tr style=\"text-align: left;\">\n",
       "      <th>epoch</th>\n",
       "      <th>train_loss</th>\n",
       "      <th>valid_loss</th>\n",
       "      <th>accuracy</th>\n",
       "      <th>time</th>\n",
       "    </tr>\n",
       "  </thead>\n",
       "  <tbody>\n",
       "    <tr>\n",
       "      <td>0</td>\n",
       "      <td>3.780380</td>\n",
       "      <td>3.633222</td>\n",
       "      <td>0.355888</td>\n",
       "      <td>1:47:55</td>\n",
       "    </tr>\n",
       "  </tbody>\n",
       "</table>"
      ],
      "text/plain": [
       "<IPython.core.display.HTML object>"
      ]
     },
     "metadata": {},
     "output_type": "display_data"
    }
   ],
   "source": [
    "learn.fit_one_cycle(1, 0.0020892962347716093, moms=(0.8,0.75, 0.7))"
   ]
  },
  {
   "cell_type": "code",
   "execution_count": 15,
   "id": "b7a30120",
   "metadata": {},
   "outputs": [
    {
     "data": {
      "text/plain": [
       "Path('models/fit_head.pth')"
      ]
     },
     "execution_count": 15,
     "metadata": {},
     "output_type": "execute_result"
    }
   ],
   "source": [
    "learn.save('fit_head')"
   ]
  },
  {
   "cell_type": "code",
   "execution_count": 16,
   "id": "d477c248",
   "metadata": {},
   "outputs": [
    {
     "data": {
      "text/plain": [
       "<fastai.text.learner.LMLearner at 0x7f2427741d60>"
      ]
     },
     "execution_count": 16,
     "metadata": {},
     "output_type": "execute_result"
    }
   ],
   "source": [
    "learn.load('fit_head')"
   ]
  },
  {
   "cell_type": "code",
   "execution_count": 17,
   "id": "14c8d4f1",
   "metadata": {},
   "outputs": [],
   "source": [
    "learn.unfreeze()"
   ]
  },
  {
   "cell_type": "code",
   "execution_count": 18,
   "id": "cada211f",
   "metadata": {},
   "outputs": [
    {
     "data": {
      "text/html": [
       "<table border=\"1\" class=\"dataframe\">\n",
       "  <thead>\n",
       "    <tr style=\"text-align: left;\">\n",
       "      <th>epoch</th>\n",
       "      <th>train_loss</th>\n",
       "      <th>valid_loss</th>\n",
       "      <th>accuracy</th>\n",
       "      <th>time</th>\n",
       "    </tr>\n",
       "  </thead>\n",
       "  <tbody>\n",
       "    <tr>\n",
       "      <td>0</td>\n",
       "      <td>3.485758</td>\n",
       "      <td>3.418579</td>\n",
       "      <td>0.384397</td>\n",
       "      <td>2:03:51</td>\n",
       "    </tr>\n",
       "    <tr>\n",
       "      <td>1</td>\n",
       "      <td>3.364655</td>\n",
       "      <td>3.255469</td>\n",
       "      <td>0.409624</td>\n",
       "      <td>2:03:36</td>\n",
       "    </tr>\n",
       "    <tr>\n",
       "      <td>2</td>\n",
       "      <td>3.219054</td>\n",
       "      <td>3.158205</td>\n",
       "      <td>0.424908</td>\n",
       "      <td>2:03:31</td>\n",
       "    </tr>\n",
       "    <tr>\n",
       "      <td>3</td>\n",
       "      <td>3.105550</td>\n",
       "      <td>3.104273</td>\n",
       "      <td>0.434011</td>\n",
       "      <td>2:03:31</td>\n",
       "    </tr>\n",
       "    <tr>\n",
       "      <td>4</td>\n",
       "      <td>3.089722</td>\n",
       "      <td>3.066870</td>\n",
       "      <td>0.440533</td>\n",
       "      <td>2:03:30</td>\n",
       "    </tr>\n",
       "    <tr>\n",
       "      <td>5</td>\n",
       "      <td>3.027117</td>\n",
       "      <td>3.041426</td>\n",
       "      <td>0.444992</td>\n",
       "      <td>2:03:29</td>\n",
       "    </tr>\n",
       "    <tr>\n",
       "      <td>6</td>\n",
       "      <td>2.953732</td>\n",
       "      <td>3.025707</td>\n",
       "      <td>0.447964</td>\n",
       "      <td>2:03:32</td>\n",
       "    </tr>\n",
       "    <tr>\n",
       "      <td>7</td>\n",
       "      <td>2.952369</td>\n",
       "      <td>3.014702</td>\n",
       "      <td>0.450352</td>\n",
       "      <td>2:03:34</td>\n",
       "    </tr>\n",
       "  </tbody>\n",
       "</table>"
      ],
      "text/plain": [
       "<IPython.core.display.HTML object>"
      ]
     },
     "metadata": {},
     "output_type": "display_data"
    },
    {
     "name": "stdout",
     "output_type": "stream",
     "text": [
      "Better model found at epoch 0 with accuracy value: 0.38439738750457764.\n",
      "Better model found at epoch 1 with accuracy value: 0.4096237123012543.\n",
      "Better model found at epoch 2 with accuracy value: 0.4249083399772644.\n",
      "Better model found at epoch 4 with accuracy value: 0.4405326843261719.\n",
      "No improvement since epoch 4: early stopping\n"
     ]
    }
   ],
   "source": [
    "learn.fit_one_cycle(10, 0.00020892962347716093,cbs=[EarlyStoppingCallback(monitor='accuracy', min_delta=0.01, patience=3),SaveModelCallback(monitor='accuracy', min_delta=0.01)], moms=(0.8,0.75,0.7))"
   ]
  },
  {
   "cell_type": "code",
   "execution_count": 19,
   "id": "d1db4079",
   "metadata": {},
   "outputs": [
    {
     "data": {
      "text/plain": [
       "Path('models/fine_tuned.pth')"
      ]
     },
     "execution_count": 19,
     "metadata": {},
     "output_type": "execute_result"
    }
   ],
   "source": [
    "learn.save('fine_tuned')"
   ]
  },
  {
   "cell_type": "code",
   "execution_count": 20,
   "id": "4dcb3ba1",
   "metadata": {},
   "outputs": [
    {
     "data": {
      "text/plain": [
       "<fastai.text.learner.LMLearner at 0x7f2427741d60>"
      ]
     },
     "execution_count": 20,
     "metadata": {},
     "output_type": "execute_result"
    }
   ],
   "source": [
    "learn.load('fine_tuned')"
   ]
  },
  {
   "cell_type": "code",
   "execution_count": 21,
   "id": "17f0ba90",
   "metadata": {},
   "outputs": [
    {
     "data": {
      "text/html": [],
      "text/plain": [
       "<IPython.core.display.HTML object>"
      ]
     },
     "metadata": {},
     "output_type": "display_data"
    },
    {
     "data": {
      "text/plain": [
       "'covidiots style of this # BJP # farmersprotest … a water overlooked but despite facing storms , are still penniless , what are their demands prabhu , increased land ache cases hu punjab . # tomarrepealonlysolution # farmersprotest'"
      ]
     },
     "execution_count": 21,
     "metadata": {},
     "output_type": "execute_result"
    }
   ],
   "source": [
    "learn.predict('covidiots', n_words=40)"
   ]
  },
  {
   "cell_type": "code",
   "execution_count": null,
   "id": "9aec28e2",
   "metadata": {},
   "outputs": [],
   "source": []
  }
 ],
 "metadata": {
  "kernelspec": {
   "display_name": "Python 3 (ipykernel)",
   "language": "python",
   "name": "python3"
  },
  "language_info": {
   "codemirror_mode": {
    "name": "ipython",
    "version": 3
   },
   "file_extension": ".py",
   "mimetype": "text/x-python",
   "name": "python",
   "nbconvert_exporter": "python",
   "pygments_lexer": "ipython3",
   "version": "3.9.7"
  }
 },
 "nbformat": 4,
 "nbformat_minor": 5
}
